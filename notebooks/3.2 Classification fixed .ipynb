{
 "cells": [
  {
   "cell_type": "code",
   "execution_count": 2,
   "metadata": {},
   "outputs": [],
   "source": [
    "from sklearn.ensemble import RandomForestClassifier\n",
    "import sklearn.metrics\n",
    "import pandas as pd\n",
    "import numpy as np\n",
    "np.random.seed(0)\n",
    "from sklearn.model_selection import GridSearchCV, StratifiedKFold  # , cross_val_score\n",
    "from sklearn.metrics import make_scorer, accuracy_score, precision_score, recall_score, f1_score, precision_recall_fscore_support, confusion_matrix  # , classification_report\n",
    "from sklearn.model_selection import train_test_split\n",
    "\n",
    "from sklearn.metrics import precision_recall_curve\n",
    "import matplotlib.pyplot as plt\n",
    "from sklearn.metrics import average_precision_score\n",
    "from scipy import integrate\n"
   ]
  },
  {
   "cell_type": "code",
   "execution_count": 3,
   "metadata": {},
   "outputs": [],
   "source": [
    "DATA_PATH = '../data/features/'\n",
    "\n",
    "tran_train = pd.read_pickle(DATA_PATH + \"Ttrain_fixedOS.pickle\")\n",
    "tran_test = pd.read_pickle(DATA_PATH + \"Ttest_fixedOS.pickle\")\n",
    "ntran = pd.read_pickle(DATA_PATH + \"NT_fixedOS.pickle\")"
   ]
  },
  {
   "cell_type": "code",
   "execution_count": null,
   "metadata": {},
   "outputs": [],
   "source": []
  },
  {
   "cell_type": "code",
   "execution_count": 3,
   "metadata": {},
   "outputs": [
    {
     "data": {
      "text/html": [
       "<div>\n",
       "<style scoped>\n",
       "    .dataframe tbody tr th:only-of-type {\n",
       "        vertical-align: middle;\n",
       "    }\n",
       "\n",
       "    .dataframe tbody tr th {\n",
       "        vertical-align: top;\n",
       "    }\n",
       "\n",
       "    .dataframe thead th {\n",
       "        text-align: right;\n",
       "    }\n",
       "</style>\n",
       "<table border=\"1\" class=\"dataframe\">\n",
       "  <thead>\n",
       "    <tr style=\"text-align: right;\">\n",
       "      <th></th>\n",
       "      <th></th>\n",
       "      <th>Class</th>\n",
       "      <th>ObsCount</th>\n",
       "      <th>amplitude</th>\n",
       "      <th>beyond1st</th>\n",
       "      <th>flux_percentile_ratio_mid20</th>\n",
       "      <th>flux_percentile_ratio_mid35</th>\n",
       "      <th>flux_percentile_ratio_mid50</th>\n",
       "      <th>flux_percentile_ratio_mid65</th>\n",
       "      <th>flux_percentile_ratio_mid80</th>\n",
       "      <th>kurtosis</th>\n",
       "      <th>...</th>\n",
       "      <th>poly3_t3</th>\n",
       "      <th>poly4_t1</th>\n",
       "      <th>poly4_t2</th>\n",
       "      <th>poly4_t3</th>\n",
       "      <th>poly4_t4</th>\n",
       "      <th>skew</th>\n",
       "      <th>small_kurtosis</th>\n",
       "      <th>std</th>\n",
       "      <th>stetson_j</th>\n",
       "      <th>stetson_k</th>\n",
       "    </tr>\n",
       "    <tr>\n",
       "      <th>ID</th>\n",
       "      <th>copy_num</th>\n",
       "      <th></th>\n",
       "      <th></th>\n",
       "      <th></th>\n",
       "      <th></th>\n",
       "      <th></th>\n",
       "      <th></th>\n",
       "      <th></th>\n",
       "      <th></th>\n",
       "      <th></th>\n",
       "      <th></th>\n",
       "      <th></th>\n",
       "      <th></th>\n",
       "      <th></th>\n",
       "      <th></th>\n",
       "      <th></th>\n",
       "      <th></th>\n",
       "      <th></th>\n",
       "      <th></th>\n",
       "      <th></th>\n",
       "      <th></th>\n",
       "      <th></th>\n",
       "    </tr>\n",
       "  </thead>\n",
       "  <tbody>\n",
       "    <tr>\n",
       "      <th>CataID1121048016765</th>\n",
       "      <th>0</th>\n",
       "      <td>non-transient</td>\n",
       "      <td>37</td>\n",
       "      <td>1.325</td>\n",
       "      <td>0.270270</td>\n",
       "      <td>0.085689</td>\n",
       "      <td>0.139318</td>\n",
       "      <td>0.186693</td>\n",
       "      <td>0.273474</td>\n",
       "      <td>0.379936</td>\n",
       "      <td>0.806118</td>\n",
       "      <td>...</td>\n",
       "      <td>9.275549e-12</td>\n",
       "      <td>-0.000078</td>\n",
       "      <td>5.795073e-09</td>\n",
       "      <td>1.657338e-10</td>\n",
       "      <td>1.347946e-13</td>\n",
       "      <td>-0.121108</td>\n",
       "      <td>-3.267227</td>\n",
       "      <td>0.520336</td>\n",
       "      <td>-0.213986</td>\n",
       "      <td>0.658328</td>\n",
       "    </tr>\n",
       "    <tr>\n",
       "      <th>CataID1121048016959</th>\n",
       "      <th>0</th>\n",
       "      <td>non-transient</td>\n",
       "      <td>162</td>\n",
       "      <td>1.285</td>\n",
       "      <td>0.333333</td>\n",
       "      <td>0.121476</td>\n",
       "      <td>0.216808</td>\n",
       "      <td>0.321775</td>\n",
       "      <td>0.543173</td>\n",
       "      <td>0.720385</td>\n",
       "      <td>-0.216866</td>\n",
       "      <td>...</td>\n",
       "      <td>5.519138e-11</td>\n",
       "      <td>-0.000104</td>\n",
       "      <td>1.175388e-07</td>\n",
       "      <td>5.420264e-11</td>\n",
       "      <td>-1.443238e-15</td>\n",
       "      <td>-0.027053</td>\n",
       "      <td>-3.056722</td>\n",
       "      <td>0.497320</td>\n",
       "      <td>0.158238</td>\n",
       "      <td>0.711336</td>\n",
       "    </tr>\n",
       "    <tr>\n",
       "      <th>CataID1112021056668</th>\n",
       "      <th>0</th>\n",
       "      <td>non-transient</td>\n",
       "      <td>25</td>\n",
       "      <td>1.090</td>\n",
       "      <td>0.440000</td>\n",
       "      <td>0.074063</td>\n",
       "      <td>0.118072</td>\n",
       "      <td>0.167083</td>\n",
       "      <td>0.239397</td>\n",
       "      <td>0.649333</td>\n",
       "      <td>-0.578216</td>\n",
       "      <td>...</td>\n",
       "      <td>-2.461033e-10</td>\n",
       "      <td>0.000196</td>\n",
       "      <td>2.293719e-07</td>\n",
       "      <td>-2.428915e-10</td>\n",
       "      <td>3.115327e-14</td>\n",
       "      <td>-0.402302</td>\n",
       "      <td>-3.415020</td>\n",
       "      <td>0.617377</td>\n",
       "      <td>-0.326482</td>\n",
       "      <td>0.714699</td>\n",
       "    </tr>\n",
       "    <tr>\n",
       "      <th>CataID1112021056680</th>\n",
       "      <th>0</th>\n",
       "      <td>non-transient</td>\n",
       "      <td>342</td>\n",
       "      <td>0.770</td>\n",
       "      <td>0.201754</td>\n",
       "      <td>0.089792</td>\n",
       "      <td>0.222260</td>\n",
       "      <td>0.329158</td>\n",
       "      <td>0.509584</td>\n",
       "      <td>0.750055</td>\n",
       "      <td>4.943506</td>\n",
       "      <td>...</td>\n",
       "      <td>3.174950e-11</td>\n",
       "      <td>-0.000015</td>\n",
       "      <td>1.679038e-08</td>\n",
       "      <td>2.447224e-11</td>\n",
       "      <td>-1.943614e-14</td>\n",
       "      <td>1.654544</td>\n",
       "      <td>-3.026575</td>\n",
       "      <td>0.211430</td>\n",
       "      <td>0.096149</td>\n",
       "      <td>0.745172</td>\n",
       "    </tr>\n",
       "    <tr>\n",
       "      <th>CataID1112021056719</th>\n",
       "      <th>0</th>\n",
       "      <td>non-transient</td>\n",
       "      <td>368</td>\n",
       "      <td>0.210</td>\n",
       "      <td>0.271739</td>\n",
       "      <td>0.131166</td>\n",
       "      <td>0.262401</td>\n",
       "      <td>0.393776</td>\n",
       "      <td>0.525359</td>\n",
       "      <td>0.789431</td>\n",
       "      <td>1.958833</td>\n",
       "      <td>...</td>\n",
       "      <td>-1.345298e-12</td>\n",
       "      <td>0.000005</td>\n",
       "      <td>-3.588746e-08</td>\n",
       "      <td>2.733594e-12</td>\n",
       "      <td>1.793104e-14</td>\n",
       "      <td>-0.325084</td>\n",
       "      <td>-3.024680</td>\n",
       "      <td>0.049496</td>\n",
       "      <td>0.060285</td>\n",
       "      <td>0.769558</td>\n",
       "    </tr>\n",
       "  </tbody>\n",
       "</table>\n",
       "<p>5 rows × 32 columns</p>\n",
       "</div>"
      ],
      "text/plain": [
       "                                      Class  ObsCount  amplitude  beyond1st  \\\n",
       "ID                  copy_num                                                  \n",
       "CataID1121048016765 0         non-transient        37      1.325   0.270270   \n",
       "CataID1121048016959 0         non-transient       162      1.285   0.333333   \n",
       "CataID1112021056668 0         non-transient        25      1.090   0.440000   \n",
       "CataID1112021056680 0         non-transient       342      0.770   0.201754   \n",
       "CataID1112021056719 0         non-transient       368      0.210   0.271739   \n",
       "\n",
       "                              flux_percentile_ratio_mid20  \\\n",
       "ID                  copy_num                                \n",
       "CataID1121048016765 0                            0.085689   \n",
       "CataID1121048016959 0                            0.121476   \n",
       "CataID1112021056668 0                            0.074063   \n",
       "CataID1112021056680 0                            0.089792   \n",
       "CataID1112021056719 0                            0.131166   \n",
       "\n",
       "                              flux_percentile_ratio_mid35  \\\n",
       "ID                  copy_num                                \n",
       "CataID1121048016765 0                            0.139318   \n",
       "CataID1121048016959 0                            0.216808   \n",
       "CataID1112021056668 0                            0.118072   \n",
       "CataID1112021056680 0                            0.222260   \n",
       "CataID1112021056719 0                            0.262401   \n",
       "\n",
       "                              flux_percentile_ratio_mid50  \\\n",
       "ID                  copy_num                                \n",
       "CataID1121048016765 0                            0.186693   \n",
       "CataID1121048016959 0                            0.321775   \n",
       "CataID1112021056668 0                            0.167083   \n",
       "CataID1112021056680 0                            0.329158   \n",
       "CataID1112021056719 0                            0.393776   \n",
       "\n",
       "                              flux_percentile_ratio_mid65  \\\n",
       "ID                  copy_num                                \n",
       "CataID1121048016765 0                            0.273474   \n",
       "CataID1121048016959 0                            0.543173   \n",
       "CataID1112021056668 0                            0.239397   \n",
       "CataID1112021056680 0                            0.509584   \n",
       "CataID1112021056719 0                            0.525359   \n",
       "\n",
       "                              flux_percentile_ratio_mid80  kurtosis  \\\n",
       "ID                  copy_num                                          \n",
       "CataID1121048016765 0                            0.379936  0.806118   \n",
       "CataID1121048016959 0                            0.720385 -0.216866   \n",
       "CataID1112021056668 0                            0.649333 -0.578216   \n",
       "CataID1112021056680 0                            0.750055  4.943506   \n",
       "CataID1112021056719 0                            0.789431  1.958833   \n",
       "\n",
       "                                ...          poly3_t3  poly4_t1      poly4_t2  \\\n",
       "ID                  copy_num    ...                                             \n",
       "CataID1121048016765 0           ...      9.275549e-12 -0.000078  5.795073e-09   \n",
       "CataID1121048016959 0           ...      5.519138e-11 -0.000104  1.175388e-07   \n",
       "CataID1112021056668 0           ...     -2.461033e-10  0.000196  2.293719e-07   \n",
       "CataID1112021056680 0           ...      3.174950e-11 -0.000015  1.679038e-08   \n",
       "CataID1112021056719 0           ...     -1.345298e-12  0.000005 -3.588746e-08   \n",
       "\n",
       "                                  poly4_t3      poly4_t4      skew  \\\n",
       "ID                  copy_num                                         \n",
       "CataID1121048016765 0         1.657338e-10  1.347946e-13 -0.121108   \n",
       "CataID1121048016959 0         5.420264e-11 -1.443238e-15 -0.027053   \n",
       "CataID1112021056668 0        -2.428915e-10  3.115327e-14 -0.402302   \n",
       "CataID1112021056680 0         2.447224e-11 -1.943614e-14  1.654544   \n",
       "CataID1112021056719 0         2.733594e-12  1.793104e-14 -0.325084   \n",
       "\n",
       "                              small_kurtosis       std  stetson_j  stetson_k  \n",
       "ID                  copy_num                                                  \n",
       "CataID1121048016765 0              -3.267227  0.520336  -0.213986   0.658328  \n",
       "CataID1121048016959 0              -3.056722  0.497320   0.158238   0.711336  \n",
       "CataID1112021056668 0              -3.415020  0.617377  -0.326482   0.714699  \n",
       "CataID1112021056680 0              -3.026575  0.211430   0.096149   0.745172  \n",
       "CataID1112021056719 0              -3.024680  0.049496   0.060285   0.769558  \n",
       "\n",
       "[5 rows x 32 columns]"
      ]
     },
     "execution_count": 3,
     "metadata": {},
     "output_type": "execute_result"
    }
   ],
   "source": [
    "ntran.head()\n"
   ]
  },
  {
   "cell_type": "code",
   "execution_count": 4,
   "metadata": {},
   "outputs": [
    {
     "name": "stdout",
     "output_type": "stream",
     "text": [
      "30\n",
      "['amplitude' 'beyond1st' 'flux_percentile_ratio_mid20'\n",
      " 'flux_percentile_ratio_mid35' 'flux_percentile_ratio_mid50'\n",
      " 'flux_percentile_ratio_mid65' 'flux_percentile_ratio_mid80' 'kurtosis'\n",
      " 'max_slope' 'median_absolute_deviation' 'median_buffer_range_percentage'\n",
      " 'pair_slope_trend' 'pair_slope_trend_last_30' 'percent_amplitude'\n",
      " 'percent_difference_flux_percentile' 'poly1_t1' 'poly2_t1' 'poly2_t2'\n",
      " 'poly3_t1' 'poly3_t2' 'poly3_t3' 'poly4_t1' 'poly4_t2' 'poly4_t3'\n",
      " 'poly4_t4' 'skew' 'small_kurtosis' 'std' 'stetson_j' 'stetson_k']\n"
     ]
    }
   ],
   "source": [
    "feats = np.array(ntran.columns[2:])\n",
    "print(len(feats))\n",
    "print(feats)"
   ]
  },
  {
   "cell_type": "markdown",
   "metadata": {},
   "source": [
    "# Binary classification"
   ]
  },
  {
   "cell_type": "code",
   "execution_count": 7,
   "metadata": {},
   "outputs": [],
   "source": [
    "tran_train['target'] = list(map(lambda x: 1 if x!='non-transient' else 0, tran_train.Class))\n",
    "tran_test['target'] = list(map(lambda x: 1 if x!='non-transient' else 0, tran_test.Class))\n",
    "ntran['target'] = list(map(lambda x: 1 if x!='non-transient' else 0, ntran.Class))"
   ]
  },
  {
   "cell_type": "code",
   "execution_count": 12,
   "metadata": {},
   "outputs": [
    {
     "name": "stdout",
     "output_type": "stream",
     "text": [
      "15193\n",
      "35310\n",
      "1059\n"
     ]
    }
   ],
   "source": [
    "print(ntran.shape[0])\n",
    "print(tran_train.shape[0])\n",
    "print(tran_test.shape[0])"
   ]
  },
  {
   "cell_type": "code",
   "execution_count": 13,
   "metadata": {},
   "outputs": [],
   "source": [
    "nttrain,nttest = train_test_split(ntran,test_size=0.25)\n",
    "all_train = pd.concat([tran_train,nttrain])\n",
    "all_test = pd.concat([tran_test,nttest])"
   ]
  },
  {
   "cell_type": "code",
   "execution_count": 14,
   "metadata": {},
   "outputs": [
    {
     "data": {
      "text/plain": [
       "RandomForestClassifier(bootstrap=True, class_weight='balanced',\n",
       "            criterion='gini', max_depth=None, max_features='auto',\n",
       "            max_leaf_nodes=None, min_impurity_decrease=0.0,\n",
       "            min_impurity_split=None, min_samples_leaf=1,\n",
       "            min_samples_split=2, min_weight_fraction_leaf=0.0,\n",
       "            n_estimators=50, n_jobs=1, oob_score=False, random_state=0,\n",
       "            verbose=0, warm_start=False)"
      ]
     },
     "execution_count": 14,
     "metadata": {},
     "output_type": "execute_result"
    }
   ],
   "source": [
    "clf = RandomForestClassifier(n_estimators=50,random_state=0, class_weight='balanced')\n",
    "clf.fit(all_train[feats], all_train.target)"
   ]
  },
  {
   "cell_type": "code",
   "execution_count": 15,
   "metadata": {},
   "outputs": [
    {
     "name": "stdout",
     "output_type": "stream",
     "text": [
      "0.8696883852691218\n"
     ]
    }
   ],
   "source": [
    "from sklearn.metrics import recall_score\n",
    "print(recall_score(all_test.target,clf.predict(all_test[feats])))"
   ]
  },
  {
   "cell_type": "markdown",
   "metadata": {},
   "source": [
    "# 8-class classification\n"
   ]
  },
  {
   "cell_type": "code",
   "execution_count": 4,
   "metadata": {},
   "outputs": [],
   "source": [
    "labels = ['SN', 'CV', 'AGN', 'HPM', 'Blazar', 'Flare']\n",
    "\n",
    "ntranTrain,ntranTest = train_test_split(ntran,test_size=0.25)\n",
    "\n",
    "\n",
    "tran_train.loc[~tran_train.Class.isin(labels), ['Class']] = 'Other'\n",
    "tran_test.loc[~tran_test.Class.isin(labels), ['Class']] = 'Other'\n"
   ]
  },
  {
   "cell_type": "code",
   "execution_count": 5,
   "metadata": {},
   "outputs": [],
   "source": [
    "all_train =pd.concat([ntranTrain,tran_train])\n",
    "all_test =pd.concat([ntranTest,tran_test])"
   ]
  },
  {
   "cell_type": "code",
   "execution_count": 6,
   "metadata": {},
   "outputs": [
    {
     "data": {
      "text/plain": [
       "non-transient    11394\n",
       "SN               10956\n",
       "Other             7755\n",
       "CV                7007\n",
       "AGN               3355\n",
       "HPM               2552\n",
       "Blazar            2046\n",
       "Flare             1639\n",
       "Name: Class, dtype: int64"
      ]
     },
     "execution_count": 6,
     "metadata": {},
     "output_type": "execute_result"
    }
   ],
   "source": [
    "all_train.Class.value_counts()"
   ]
  },
  {
   "cell_type": "markdown",
   "metadata": {},
   "source": [
    "## Balance the classes"
   ]
  },
  {
   "cell_type": "code",
   "execution_count": 27,
   "metadata": {},
   "outputs": [],
   "source": [
    "g = all_train.groupby('Class')\n",
    "g=g.apply(lambda x: x.sample(g.size().min()).reset_index(drop=True))\n",
    "all_train= g"
   ]
  },
  {
   "cell_type": "code",
   "execution_count": 30,
   "metadata": {},
   "outputs": [],
   "source": [
    "def manualFact(lab):\n",
    "    labels = ['SN', 'CV', 'AGN', 'HPM', 'Blazar', 'Flare','Other','non-transient']\n",
    "    return labels.index(lab)"
   ]
  },
  {
   "cell_type": "code",
   "execution_count": 35,
   "metadata": {},
   "outputs": [],
   "source": [
    "all_train['target'] = list(map(lambda x: manualFact(x),all_train['Class']))\n",
    "all_test['target'] = list(map(lambda x: manualFact(x),all_test['Class']))"
   ]
  },
  {
   "cell_type": "code",
   "execution_count": 37,
   "metadata": {},
   "outputs": [
    {
     "name": "stdout",
     "output_type": "stream",
     "text": [
      "30\n",
      "['amplitude' 'beyond1st' 'flux_percentile_ratio_mid20'\n",
      " 'flux_percentile_ratio_mid35' 'flux_percentile_ratio_mid50'\n",
      " 'flux_percentile_ratio_mid65' 'flux_percentile_ratio_mid80' 'kurtosis'\n",
      " 'max_slope' 'median_absolute_deviation' 'median_buffer_range_percentage'\n",
      " 'pair_slope_trend' 'pair_slope_trend_last_30' 'percent_amplitude'\n",
      " 'percent_difference_flux_percentile' 'poly1_t1' 'poly2_t1' 'poly2_t2'\n",
      " 'poly3_t1' 'poly3_t2' 'poly3_t3' 'poly4_t1' 'poly4_t2' 'poly4_t3'\n",
      " 'poly4_t4' 'skew' 'small_kurtosis' 'std' 'stetson_j' 'stetson_k']\n"
     ]
    }
   ],
   "source": [
    "feats = np.array(ntran.columns[2:])\n",
    "print(len(feats))\n",
    "print(feats)"
   ]
  },
  {
   "cell_type": "code",
   "execution_count": 1,
   "metadata": {},
   "outputs": [],
   "source": [
    "def rf():\n",
    "    params = {\n",
    "        'n_estimators': [200, 700],\n",
    "        'max_features': ['auto', 'sqrt', 'log2']\n",
    "    }\n",
    "    return RandomForestClassifier(random_state=0, class_weight='balanced'), params\n",
    "def scorers():\n",
    "    scoring = {'accuracy': make_scorer(accuracy_score),\n",
    "               'precision': make_scorer(precision_score, average='weighted'),\n",
    "               'recall': make_scorer(recall_score, average='weighted'),\n",
    "               'f1_score': make_scorer(f1_score, average='weighted')\n",
    "               }\n",
    "    return scoring"
   ]
  },
  {
   "cell_type": "code",
   "execution_count": 2,
   "metadata": {},
   "outputs": [
    {
     "ename": "NameError",
     "evalue": "name 'RandomForestClassifier' is not defined",
     "output_type": "error",
     "traceback": [
      "\u001b[0;31m---------------------------------------------------------------------------\u001b[0m",
      "\u001b[0;31mNameError\u001b[0m                                 Traceback (most recent call last)",
      "\u001b[0;32m<ipython-input-2-692564b9cae0>\u001b[0m in \u001b[0;36m<module>\u001b[0;34m()\u001b[0m\n\u001b[0;32m----> 1\u001b[0;31m \u001b[0mmodel\u001b[0m\u001b[0;34m,\u001b[0m\u001b[0mparams\u001b[0m \u001b[0;34m=\u001b[0m \u001b[0mrf\u001b[0m\u001b[0;34m(\u001b[0m\u001b[0;34m)\u001b[0m\u001b[0;34m\u001b[0m\u001b[0m\n\u001b[0m\u001b[1;32m      2\u001b[0m \u001b[0;34m\u001b[0m\u001b[0m\n\u001b[1;32m      3\u001b[0m grid_search = GridSearchCV(model, params, cv=StratifiedKFold(2), scoring=scorers(),\n\u001b[1;32m      4\u001b[0m                                refit='f1_score', return_train_score=True,verbose=100)\n\u001b[1;32m      5\u001b[0m \u001b[0mgrid_search\u001b[0m\u001b[0;34m.\u001b[0m\u001b[0mfit\u001b[0m\u001b[0;34m(\u001b[0m\u001b[0mall_train\u001b[0m\u001b[0;34m[\u001b[0m\u001b[0mfeats\u001b[0m\u001b[0;34m]\u001b[0m\u001b[0;34m,\u001b[0m \u001b[0mall_train\u001b[0m\u001b[0;34m.\u001b[0m\u001b[0mtarget\u001b[0m\u001b[0;34m)\u001b[0m\u001b[0;34m\u001b[0m\u001b[0m\n",
      "\u001b[0;32m<ipython-input-1-27bba7deaefc>\u001b[0m in \u001b[0;36mrf\u001b[0;34m()\u001b[0m\n\u001b[1;32m      4\u001b[0m \u001b[0;31m#         'max_features': ['auto', 'sqrt', 'log2']\u001b[0m\u001b[0;34m\u001b[0m\u001b[0;34m\u001b[0m\u001b[0m\n\u001b[1;32m      5\u001b[0m     }\n\u001b[0;32m----> 6\u001b[0;31m     \u001b[0;32mreturn\u001b[0m \u001b[0mRandomForestClassifier\u001b[0m\u001b[0;34m(\u001b[0m\u001b[0mrandom_state\u001b[0m\u001b[0;34m=\u001b[0m\u001b[0;36m0\u001b[0m\u001b[0;34m,\u001b[0m \u001b[0mclass_weight\u001b[0m\u001b[0;34m=\u001b[0m\u001b[0;34m'balanced'\u001b[0m\u001b[0;34m)\u001b[0m\u001b[0;34m,\u001b[0m \u001b[0mparams\u001b[0m\u001b[0;34m\u001b[0m\u001b[0m\n\u001b[0m\u001b[1;32m      7\u001b[0m \u001b[0;32mdef\u001b[0m \u001b[0mscorers\u001b[0m\u001b[0;34m(\u001b[0m\u001b[0;34m)\u001b[0m\u001b[0;34m:\u001b[0m\u001b[0;34m\u001b[0m\u001b[0m\n\u001b[1;32m      8\u001b[0m     scoring = {'accuracy': make_scorer(accuracy_score),\n",
      "\u001b[0;31mNameError\u001b[0m: name 'RandomForestClassifier' is not defined"
     ]
    }
   ],
   "source": [
    "model,params = rf()\n",
    "\n",
    "grid_search = GridSearchCV(model, params, cv=StratifiedKFold(2), scoring=scorers(),\n",
    "                               refit='f1_score', return_train_score=True,verbose=100)\n",
    "grid_search.fit(all_train[feats], all_train.target)\n",
    "# Copy classifier\n",
    "clf = grid_search"
   ]
  },
  {
   "cell_type": "code",
   "execution_count": 43,
   "metadata": {},
   "outputs": [
    {
     "name": "stdout",
     "output_type": "stream",
     "text": [
      "(0.8411730571014187, 0.753190613421161, 0.7866815054637516, None)\n"
     ]
    }
   ],
   "source": [
    "scores = precision_recall_fscore_support(\n",
    "        all_test.target, clf.predict(all_test[feats]), average='weighted')\n",
    "print(scores)"
   ]
  },
  {
   "cell_type": "code",
   "execution_count": 44,
   "metadata": {},
   "outputs": [
    {
     "data": {
      "text/html": [
       "<div>\n",
       "<style scoped>\n",
       "    .dataframe tbody tr th:only-of-type {\n",
       "        vertical-align: middle;\n",
       "    }\n",
       "\n",
       "    .dataframe tbody tr th {\n",
       "        vertical-align: top;\n",
       "    }\n",
       "\n",
       "    .dataframe thead th {\n",
       "        text-align: right;\n",
       "    }\n",
       "</style>\n",
       "<table border=\"1\" class=\"dataframe\">\n",
       "  <thead>\n",
       "    <tr style=\"text-align: right;\">\n",
       "      <th>target</th>\n",
       "      <th>0</th>\n",
       "      <th>1</th>\n",
       "      <th>2</th>\n",
       "      <th>3</th>\n",
       "      <th>4</th>\n",
       "      <th>5</th>\n",
       "      <th>6</th>\n",
       "      <th>7</th>\n",
       "    </tr>\n",
       "    <tr>\n",
       "      <th>row_0</th>\n",
       "      <th></th>\n",
       "      <th></th>\n",
       "      <th></th>\n",
       "      <th></th>\n",
       "      <th></th>\n",
       "      <th></th>\n",
       "      <th></th>\n",
       "      <th></th>\n",
       "    </tr>\n",
       "  </thead>\n",
       "  <tbody>\n",
       "    <tr>\n",
       "      <th>0</th>\n",
       "      <td>148</td>\n",
       "      <td>22</td>\n",
       "      <td>2</td>\n",
       "      <td>1</td>\n",
       "      <td>8</td>\n",
       "      <td>4</td>\n",
       "      <td>39</td>\n",
       "      <td>135</td>\n",
       "    </tr>\n",
       "    <tr>\n",
       "      <th>1</th>\n",
       "      <td>21</td>\n",
       "      <td>170</td>\n",
       "      <td>0</td>\n",
       "      <td>1</td>\n",
       "      <td>7</td>\n",
       "      <td>2</td>\n",
       "      <td>17</td>\n",
       "      <td>37</td>\n",
       "    </tr>\n",
       "    <tr>\n",
       "      <th>2</th>\n",
       "      <td>6</td>\n",
       "      <td>2</td>\n",
       "      <td>90</td>\n",
       "      <td>0</td>\n",
       "      <td>4</td>\n",
       "      <td>0</td>\n",
       "      <td>22</td>\n",
       "      <td>33</td>\n",
       "    </tr>\n",
       "    <tr>\n",
       "      <th>3</th>\n",
       "      <td>3</td>\n",
       "      <td>0</td>\n",
       "      <td>0</td>\n",
       "      <td>69</td>\n",
       "      <td>0</td>\n",
       "      <td>0</td>\n",
       "      <td>1</td>\n",
       "      <td>177</td>\n",
       "    </tr>\n",
       "    <tr>\n",
       "      <th>4</th>\n",
       "      <td>15</td>\n",
       "      <td>9</td>\n",
       "      <td>7</td>\n",
       "      <td>0</td>\n",
       "      <td>23</td>\n",
       "      <td>0</td>\n",
       "      <td>15</td>\n",
       "      <td>5</td>\n",
       "    </tr>\n",
       "    <tr>\n",
       "      <th>5</th>\n",
       "      <td>15</td>\n",
       "      <td>2</td>\n",
       "      <td>1</td>\n",
       "      <td>0</td>\n",
       "      <td>1</td>\n",
       "      <td>27</td>\n",
       "      <td>5</td>\n",
       "      <td>245</td>\n",
       "    </tr>\n",
       "    <tr>\n",
       "      <th>6</th>\n",
       "      <td>38</td>\n",
       "      <td>13</td>\n",
       "      <td>7</td>\n",
       "      <td>0</td>\n",
       "      <td>5</td>\n",
       "      <td>3</td>\n",
       "      <td>91</td>\n",
       "      <td>126</td>\n",
       "    </tr>\n",
       "    <tr>\n",
       "      <th>7</th>\n",
       "      <td>51</td>\n",
       "      <td>7</td>\n",
       "      <td>13</td>\n",
       "      <td>3</td>\n",
       "      <td>3</td>\n",
       "      <td>22</td>\n",
       "      <td>44</td>\n",
       "      <td>3041</td>\n",
       "    </tr>\n",
       "  </tbody>\n",
       "</table>\n",
       "</div>"
      ],
      "text/plain": [
       "target    0    1   2   3   4   5   6     7\n",
       "row_0                                     \n",
       "0       148   22   2   1   8   4  39   135\n",
       "1        21  170   0   1   7   2  17    37\n",
       "2         6    2  90   0   4   0  22    33\n",
       "3         3    0   0  69   0   0   1   177\n",
       "4        15    9   7   0  23   0  15     5\n",
       "5        15    2   1   0   1  27   5   245\n",
       "6        38   13   7   0   5   3  91   126\n",
       "7        51    7  13   3   3  22  44  3041"
      ]
     },
     "execution_count": 44,
     "metadata": {},
     "output_type": "execute_result"
    }
   ],
   "source": [
    "pd.crosstab(clf.predict(all_test[feats]), all_test.target)"
   ]
  },
  {
   "cell_type": "code",
   "execution_count": null,
   "metadata": {},
   "outputs": [],
   "source": [
    "all_test.target"
   ]
  }
 ],
 "metadata": {
  "kernelspec": {
   "display_name": "Python 3",
   "language": "python",
   "name": "python3"
  },
  "language_info": {
   "codemirror_mode": {
    "name": "ipython",
    "version": 3
   },
   "file_extension": ".py",
   "mimetype": "text/x-python",
   "name": "python",
   "nbconvert_exporter": "python",
   "pygments_lexer": "ipython3",
   "version": "3.6.4"
  }
 },
 "nbformat": 4,
 "nbformat_minor": 2
}
