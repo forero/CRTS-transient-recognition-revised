{
 "cells": [
  {
   "cell_type": "code",
   "execution_count": 10,
   "metadata": {},
   "outputs": [],
   "source": [
    "from sklearn.ensemble import RandomForestClassifier\n",
    "import sklearn.metrics\n",
    "import pandas as pd\n",
    "import numpy as np\n",
    "np.random.seed(0)\n",
    "from sklearn.model_selection import GridSearchCV, StratifiedKFold  # , cross_val_score\n",
    "from sklearn.metrics import make_scorer, accuracy_score, precision_score, recall_score, f1_score, precision_recall_fscore_support, confusion_matrix  # , classification_report\n",
    "from sklearn.model_selection import train_test_split\n",
    "\n",
    "from sklearn.metrics import precision_recall_curve\n",
    "import matplotlib.pyplot as plt\n",
    "from sklearn.metrics import average_precision_score\n",
    "from scipy import integrate\n",
    "from sklearn.metrics import recall_score\n",
    "from sklearn.metrics import precision_recall_fscore_support,make_scorer\n"
   ]
  },
  {
   "cell_type": "code",
   "execution_count": 11,
   "metadata": {},
   "outputs": [],
   "source": [
    "DATA_PATH = '../data/features/'\n",
    "\n",
    "tran = pd.read_pickle(DATA_PATH + \"T.pickle\")\n",
    "ntran = pd.read_pickle(DATA_PATH + \"NT.pickle\")"
   ]
  },
  {
   "cell_type": "code",
   "execution_count": 12,
   "metadata": {},
   "outputs": [
    {
     "name": "stdout",
     "output_type": "stream",
     "text": [
      "62152\n",
      "19462\n"
     ]
    }
   ],
   "source": [
    "print(tran.shape[0]+ntran.shape[0])\n",
    "print(tran[tran.index.get_level_values(\"copy_num\")==0].shape[0]+ntran.shape[0])"
   ]
  },
  {
   "cell_type": "code",
   "execution_count": 13,
   "metadata": {},
   "outputs": [
    {
     "data": {
      "text/html": [
       "<div>\n",
       "<style scoped>\n",
       "    .dataframe tbody tr th:only-of-type {\n",
       "        vertical-align: middle;\n",
       "    }\n",
       "\n",
       "    .dataframe tbody tr th {\n",
       "        vertical-align: top;\n",
       "    }\n",
       "\n",
       "    .dataframe thead th {\n",
       "        text-align: right;\n",
       "    }\n",
       "</style>\n",
       "<table border=\"1\" class=\"dataframe\">\n",
       "  <thead>\n",
       "    <tr style=\"text-align: right;\">\n",
       "      <th></th>\n",
       "      <th></th>\n",
       "      <th>Class</th>\n",
       "      <th>ObsCount</th>\n",
       "      <th>amplitude</th>\n",
       "      <th>beyond1st</th>\n",
       "      <th>flux_percentile_ratio_mid20</th>\n",
       "      <th>flux_percentile_ratio_mid35</th>\n",
       "      <th>flux_percentile_ratio_mid50</th>\n",
       "      <th>flux_percentile_ratio_mid65</th>\n",
       "      <th>flux_percentile_ratio_mid80</th>\n",
       "      <th>kurtosis</th>\n",
       "      <th>...</th>\n",
       "      <th>poly3_t3</th>\n",
       "      <th>poly4_t1</th>\n",
       "      <th>poly4_t2</th>\n",
       "      <th>poly4_t3</th>\n",
       "      <th>poly4_t4</th>\n",
       "      <th>skew</th>\n",
       "      <th>small_kurtosis</th>\n",
       "      <th>std</th>\n",
       "      <th>stetson_j</th>\n",
       "      <th>stetson_k</th>\n",
       "    </tr>\n",
       "    <tr>\n",
       "      <th>ID</th>\n",
       "      <th>copy_num</th>\n",
       "      <th></th>\n",
       "      <th></th>\n",
       "      <th></th>\n",
       "      <th></th>\n",
       "      <th></th>\n",
       "      <th></th>\n",
       "      <th></th>\n",
       "      <th></th>\n",
       "      <th></th>\n",
       "      <th></th>\n",
       "      <th></th>\n",
       "      <th></th>\n",
       "      <th></th>\n",
       "      <th></th>\n",
       "      <th></th>\n",
       "      <th></th>\n",
       "      <th></th>\n",
       "      <th></th>\n",
       "      <th></th>\n",
       "      <th></th>\n",
       "      <th></th>\n",
       "    </tr>\n",
       "  </thead>\n",
       "  <tbody>\n",
       "    <tr>\n",
       "      <th>CataID3033022002583</th>\n",
       "      <th>0</th>\n",
       "      <td>non-transient</td>\n",
       "      <td>26</td>\n",
       "      <td>0.735</td>\n",
       "      <td>0.346154</td>\n",
       "      <td>0.127315</td>\n",
       "      <td>0.205024</td>\n",
       "      <td>0.305707</td>\n",
       "      <td>0.490865</td>\n",
       "      <td>0.867210</td>\n",
       "      <td>-0.863844</td>\n",
       "      <td>...</td>\n",
       "      <td>-4.381506e-11</td>\n",
       "      <td>0.000071</td>\n",
       "      <td>3.879196e-07</td>\n",
       "      <td>2.814693e-11</td>\n",
       "      <td>-8.962333e-14</td>\n",
       "      <td>-0.323662</td>\n",
       "      <td>-3.396739</td>\n",
       "      <td>0.418429</td>\n",
       "      <td>-0.030355</td>\n",
       "      <td>0.808361</td>\n",
       "    </tr>\n",
       "    <tr>\n",
       "      <th>CataID3047011003844</th>\n",
       "      <th>0</th>\n",
       "      <td>non-transient</td>\n",
       "      <td>155</td>\n",
       "      <td>1.095</td>\n",
       "      <td>0.296774</td>\n",
       "      <td>0.108153</td>\n",
       "      <td>0.190941</td>\n",
       "      <td>0.279280</td>\n",
       "      <td>0.445071</td>\n",
       "      <td>0.671028</td>\n",
       "      <td>1.114974</td>\n",
       "      <td>...</td>\n",
       "      <td>1.064017e-10</td>\n",
       "      <td>-0.000227</td>\n",
       "      <td>9.092593e-08</td>\n",
       "      <td>2.125542e-10</td>\n",
       "      <td>-1.177270e-13</td>\n",
       "      <td>0.360834</td>\n",
       "      <td>-3.059340</td>\n",
       "      <td>0.368006</td>\n",
       "      <td>0.116535</td>\n",
       "      <td>0.750544</td>\n",
       "    </tr>\n",
       "    <tr>\n",
       "      <th>CataID3047011003855</th>\n",
       "      <th>0</th>\n",
       "      <td>non-transient</td>\n",
       "      <td>170</td>\n",
       "      <td>1.085</td>\n",
       "      <td>0.258824</td>\n",
       "      <td>0.133967</td>\n",
       "      <td>0.212753</td>\n",
       "      <td>0.344202</td>\n",
       "      <td>0.523757</td>\n",
       "      <td>0.743903</td>\n",
       "      <td>1.874279</td>\n",
       "      <td>...</td>\n",
       "      <td>1.183648e-10</td>\n",
       "      <td>-0.000132</td>\n",
       "      <td>-1.976342e-07</td>\n",
       "      <td>8.569407e-11</td>\n",
       "      <td>3.401031e-14</td>\n",
       "      <td>0.007305</td>\n",
       "      <td>-3.053999</td>\n",
       "      <td>0.299632</td>\n",
       "      <td>0.063073</td>\n",
       "      <td>0.721548</td>\n",
       "    </tr>\n",
       "    <tr>\n",
       "      <th>CataID3039011002658</th>\n",
       "      <th>0</th>\n",
       "      <td>non-transient</td>\n",
       "      <td>246</td>\n",
       "      <td>0.470</td>\n",
       "      <td>0.146341</td>\n",
       "      <td>0.131166</td>\n",
       "      <td>0.199049</td>\n",
       "      <td>0.331865</td>\n",
       "      <td>0.473950</td>\n",
       "      <td>0.731653</td>\n",
       "      <td>32.978695</td>\n",
       "      <td>...</td>\n",
       "      <td>-1.966459e-12</td>\n",
       "      <td>-0.000029</td>\n",
       "      <td>3.271956e-08</td>\n",
       "      <td>2.593368e-12</td>\n",
       "      <td>-4.841826e-15</td>\n",
       "      <td>3.637046</td>\n",
       "      <td>-3.037088</td>\n",
       "      <td>0.071074</td>\n",
       "      <td>0.157681</td>\n",
       "      <td>0.724867</td>\n",
       "    </tr>\n",
       "    <tr>\n",
       "      <th>CataID3039010019034</th>\n",
       "      <th>0</th>\n",
       "      <td>non-transient</td>\n",
       "      <td>41</td>\n",
       "      <td>0.980</td>\n",
       "      <td>0.463415</td>\n",
       "      <td>0.103206</td>\n",
       "      <td>0.207452</td>\n",
       "      <td>0.250963</td>\n",
       "      <td>0.286646</td>\n",
       "      <td>0.777099</td>\n",
       "      <td>-0.396448</td>\n",
       "      <td>...</td>\n",
       "      <td>-1.044907e-10</td>\n",
       "      <td>0.000071</td>\n",
       "      <td>-4.613608e-07</td>\n",
       "      <td>-1.297451e-10</td>\n",
       "      <td>2.273128e-13</td>\n",
       "      <td>-0.439782</td>\n",
       "      <td>-3.238866</td>\n",
       "      <td>0.476747</td>\n",
       "      <td>-0.001186</td>\n",
       "      <td>0.728520</td>\n",
       "    </tr>\n",
       "  </tbody>\n",
       "</table>\n",
       "<p>5 rows × 32 columns</p>\n",
       "</div>"
      ],
      "text/plain": [
       "                                      Class  ObsCount  amplitude  beyond1st  \\\n",
       "ID                  copy_num                                                  \n",
       "CataID3033022002583 0         non-transient        26      0.735   0.346154   \n",
       "CataID3047011003844 0         non-transient       155      1.095   0.296774   \n",
       "CataID3047011003855 0         non-transient       170      1.085   0.258824   \n",
       "CataID3039011002658 0         non-transient       246      0.470   0.146341   \n",
       "CataID3039010019034 0         non-transient        41      0.980   0.463415   \n",
       "\n",
       "                              flux_percentile_ratio_mid20  \\\n",
       "ID                  copy_num                                \n",
       "CataID3033022002583 0                            0.127315   \n",
       "CataID3047011003844 0                            0.108153   \n",
       "CataID3047011003855 0                            0.133967   \n",
       "CataID3039011002658 0                            0.131166   \n",
       "CataID3039010019034 0                            0.103206   \n",
       "\n",
       "                              flux_percentile_ratio_mid35  \\\n",
       "ID                  copy_num                                \n",
       "CataID3033022002583 0                            0.205024   \n",
       "CataID3047011003844 0                            0.190941   \n",
       "CataID3047011003855 0                            0.212753   \n",
       "CataID3039011002658 0                            0.199049   \n",
       "CataID3039010019034 0                            0.207452   \n",
       "\n",
       "                              flux_percentile_ratio_mid50  \\\n",
       "ID                  copy_num                                \n",
       "CataID3033022002583 0                            0.305707   \n",
       "CataID3047011003844 0                            0.279280   \n",
       "CataID3047011003855 0                            0.344202   \n",
       "CataID3039011002658 0                            0.331865   \n",
       "CataID3039010019034 0                            0.250963   \n",
       "\n",
       "                              flux_percentile_ratio_mid65  \\\n",
       "ID                  copy_num                                \n",
       "CataID3033022002583 0                            0.490865   \n",
       "CataID3047011003844 0                            0.445071   \n",
       "CataID3047011003855 0                            0.523757   \n",
       "CataID3039011002658 0                            0.473950   \n",
       "CataID3039010019034 0                            0.286646   \n",
       "\n",
       "                              flux_percentile_ratio_mid80   kurtosis  \\\n",
       "ID                  copy_num                                           \n",
       "CataID3033022002583 0                            0.867210  -0.863844   \n",
       "CataID3047011003844 0                            0.671028   1.114974   \n",
       "CataID3047011003855 0                            0.743903   1.874279   \n",
       "CataID3039011002658 0                            0.731653  32.978695   \n",
       "CataID3039010019034 0                            0.777099  -0.396448   \n",
       "\n",
       "                                ...          poly3_t3  poly4_t1      poly4_t2  \\\n",
       "ID                  copy_num    ...                                             \n",
       "CataID3033022002583 0           ...     -4.381506e-11  0.000071  3.879196e-07   \n",
       "CataID3047011003844 0           ...      1.064017e-10 -0.000227  9.092593e-08   \n",
       "CataID3047011003855 0           ...      1.183648e-10 -0.000132 -1.976342e-07   \n",
       "CataID3039011002658 0           ...     -1.966459e-12 -0.000029  3.271956e-08   \n",
       "CataID3039010019034 0           ...     -1.044907e-10  0.000071 -4.613608e-07   \n",
       "\n",
       "                                  poly4_t3      poly4_t4      skew  \\\n",
       "ID                  copy_num                                         \n",
       "CataID3033022002583 0         2.814693e-11 -8.962333e-14 -0.323662   \n",
       "CataID3047011003844 0         2.125542e-10 -1.177270e-13  0.360834   \n",
       "CataID3047011003855 0         8.569407e-11  3.401031e-14  0.007305   \n",
       "CataID3039011002658 0         2.593368e-12 -4.841826e-15  3.637046   \n",
       "CataID3039010019034 0        -1.297451e-10  2.273128e-13 -0.439782   \n",
       "\n",
       "                              small_kurtosis       std  stetson_j  stetson_k  \n",
       "ID                  copy_num                                                  \n",
       "CataID3033022002583 0              -3.396739  0.418429  -0.030355   0.808361  \n",
       "CataID3047011003844 0              -3.059340  0.368006   0.116535   0.750544  \n",
       "CataID3047011003855 0              -3.053999  0.299632   0.063073   0.721548  \n",
       "CataID3039011002658 0              -3.037088  0.071074   0.157681   0.724867  \n",
       "CataID3039010019034 0              -3.238866  0.476747  -0.001186   0.728520  \n",
       "\n",
       "[5 rows x 32 columns]"
      ]
     },
     "execution_count": 13,
     "metadata": {},
     "output_type": "execute_result"
    }
   ],
   "source": [
    "ntran.tail()\n"
   ]
  },
  {
   "cell_type": "code",
   "execution_count": 14,
   "metadata": {},
   "outputs": [
    {
     "name": "stdout",
     "output_type": "stream",
     "text": [
      "30\n",
      "['amplitude' 'beyond1st' 'flux_percentile_ratio_mid20'\n",
      " 'flux_percentile_ratio_mid35' 'flux_percentile_ratio_mid50'\n",
      " 'flux_percentile_ratio_mid65' 'flux_percentile_ratio_mid80' 'kurtosis'\n",
      " 'max_slope' 'median_absolute_deviation' 'median_buffer_range_percentage'\n",
      " 'pair_slope_trend' 'pair_slope_trend_last_30' 'percent_amplitude'\n",
      " 'percent_difference_flux_percentile' 'poly1_t1' 'poly2_t1' 'poly2_t2'\n",
      " 'poly3_t1' 'poly3_t2' 'poly3_t3' 'poly4_t1' 'poly4_t2' 'poly4_t3'\n",
      " 'poly4_t4' 'skew' 'small_kurtosis' 'std' 'stetson_j' 'stetson_k']\n"
     ]
    }
   ],
   "source": [
    "feats = np.array(tran.columns[2:])\n",
    "print(len(feats))\n",
    "print(feats)"
   ]
  },
  {
   "cell_type": "code",
   "execution_count": 15,
   "metadata": {},
   "outputs": [],
   "source": [
    "alldf = pd.concat([tran,ntran])"
   ]
  },
  {
   "cell_type": "code",
   "execution_count": 16,
   "metadata": {},
   "outputs": [],
   "source": [
    "def splitTrainTest(dataframe):\n",
    "    test = pd.DataFrame(columns = [\"ID\",\"copy_num\"]+list(dataframe.columns))\n",
    "    test = test.set_index([\"ID\",\"copy_num\"])\n",
    "\n",
    "    train = pd.DataFrame(columns = [\"ID\",\"copy_num\"]+list(dataframe.columns))\n",
    "    train = train.set_index([\"ID\",\"copy_num\"])\n",
    "    for uClass in dataframe.Class.unique():\n",
    "        classDf = dataframe[dataframe.Class == uClass]\n",
    "        \n",
    "        #ids unicos \n",
    "        ids = classDf.index.get_level_values('ID').unique()\n",
    "\n",
    "        # escoger aleatoriamente 25% de los indices\n",
    "\n",
    "        testInd = np.random.choice(ids, int(0.25*len(ids)),replace=False)\n",
    "\n",
    "        #sacar dataframes\n",
    "        test = pd.concat([test,classDf[classDf.index.get_level_values('ID').isin(testInd)]])\n",
    "        \n",
    "        train = pd.concat([train,classDf[~classDf.index.get_level_values('ID').isin(testInd)]])\n",
    "\n",
    "    return train,test\n"
   ]
  },
  {
   "cell_type": "code",
   "execution_count": 17,
   "metadata": {},
   "outputs": [],
   "source": [
    "def balance(df):\n",
    "#     g = df.groupby('Class')\n",
    "#     g=g.apply(lambda x: x.sample(g.size().min()).reset_index(drop=True))\n",
    "    minNum = np.inf\n",
    "    for classElem in df.Class.unique():\n",
    "        numElems = len(df[df.Class==classElem])\n",
    "        if(numElems<minNum):\n",
    "            minNum=numElems\n",
    "            \n",
    "    ans = pd.DataFrame(columns = [\"ID\",\"copy_num\"]+list(df.columns))\n",
    "    ans = ans.set_index([\"ID\",\"copy_num\"])\n",
    "    for classElem in df.Class.unique():\n",
    "        ans = pd.concat([ans,df[df.Class==classElem].sample(n=minNum)])\n",
    "    return ans"
   ]
  },
  {
   "cell_type": "markdown",
   "metadata": {},
   "source": [
    "# --------\n",
    "# With Grid Search"
   ]
  },
  {
   "cell_type": "markdown",
   "metadata": {},
   "source": [
    "## Oversampling"
   ]
  },
  {
   "cell_type": "code",
   "execution_count": 18,
   "metadata": {},
   "outputs": [],
   "source": [
    "def rf():\n",
    "    params = {\n",
    "        'n_estimators': [200, 700],\n",
    "        'max_features': ['auto', 'sqrt', 'log2']\n",
    "    }\n",
    "    return RandomForestClassifier(random_state=0, class_weight='balanced'), params\n",
    "def scorers():\n",
    "    scoring = {'accuracy': make_scorer(accuracy_score),\n",
    "               'precision': make_scorer(precision_score, average='weighted'),\n",
    "               'recall': make_scorer(recall_score, average='weighted'),\n",
    "               'f1_score': make_scorer(f1_score, average='weighted')\n",
    "               }\n",
    "    return scoring"
   ]
  },
  {
   "cell_type": "code",
   "execution_count": 19,
   "metadata": {},
   "outputs": [],
   "source": [
    "oversampling = alldf.copy()\n",
    "# oversampling = noOversampling[noOversampling.index.get_level_values('copy_num')==0]\n",
    "\n",
    "oversampling = oversampling.sample(frac=1)\n",
    "\n",
    "\n",
    "\n",
    "oversampling.Class = list(map(lambda x: 'non-transient' if x=='non-transient' else 'transient', oversampling.Class))\n",
    "\n",
    "oversampling['target'] = list(map(lambda x: 1 if x=='transient' else 0, oversampling.Class))"
   ]
  },
  {
   "cell_type": "code",
   "execution_count": 20,
   "metadata": {},
   "outputs": [
    {
     "name": "stdout",
     "output_type": "stream",
     "text": [
      "0.00%Fitting 2 folds for each of 6 candidates, totalling 12 fits\n",
      "[CV] max_features=auto, n_estimators=200 .............................\n",
      "[CV]  max_features=auto, n_estimators=200, accuracy=0.9154966654966655, precision=0.9158369588018237, recall=0.9154966654966655, f1_score=0.9154793739821832, total=   8.8s\n",
      "[Parallel(n_jobs=1)]: Done   1 out of   1 | elapsed:   10.1s remaining:    0.0s\n",
      "[CV] max_features=auto, n_estimators=200 .............................\n",
      "[CV]  max_features=auto, n_estimators=200, accuracy=0.9232051957170441, precision=0.9235779428460904, recall=0.9232051957170441, f1_score=0.9231882972086489, total=   8.8s\n",
      "[Parallel(n_jobs=1)]: Done   2 out of   2 | elapsed:   20.0s remaining:    0.0s\n",
      "[CV] max_features=auto, n_estimators=700 .............................\n",
      "[CV]  max_features=auto, n_estimators=700, accuracy=0.9163741663741664, precision=0.916698634048296, recall=0.9163741663741664, f1_score=0.9163578841256903, total=  31.0s\n",
      "[Parallel(n_jobs=1)]: Done   3 out of   3 | elapsed:   55.6s remaining:    0.0s\n",
      "[CV] max_features=auto, n_estimators=700 .............................\n",
      "[CV]  max_features=auto, n_estimators=700, accuracy=0.924082850623135, precision=0.924421817306307, recall=0.924082850623135, f1_score=0.9240676896898831, total=  36.1s\n",
      "[Parallel(n_jobs=1)]: Done   4 out of   4 | elapsed:  1.6min remaining:    0.0s\n",
      "[CV] max_features=sqrt, n_estimators=200 .............................\n",
      "[CV]  max_features=sqrt, n_estimators=200, accuracy=0.9154966654966655, precision=0.9158369588018237, recall=0.9154966654966655, f1_score=0.9154793739821832, total=  10.1s\n",
      "[Parallel(n_jobs=1)]: Done   5 out of   5 | elapsed:  1.8min remaining:    0.0s\n",
      "[CV] max_features=sqrt, n_estimators=200 .............................\n",
      "[CV]  max_features=sqrt, n_estimators=200, accuracy=0.9232051957170441, precision=0.9235779428460904, recall=0.9232051957170441, f1_score=0.9231882972086489, total=  10.7s\n",
      "[Parallel(n_jobs=1)]: Done   6 out of   6 | elapsed:  2.0min remaining:    0.0s\n",
      "[CV] max_features=sqrt, n_estimators=700 .............................\n",
      "[CV]  max_features=sqrt, n_estimators=700, accuracy=0.9163741663741664, precision=0.916698634048296, recall=0.9163741663741664, f1_score=0.9163578841256903, total=  35.4s\n",
      "[Parallel(n_jobs=1)]: Done   7 out of   7 | elapsed:  2.7min remaining:    0.0s\n",
      "[CV] max_features=sqrt, n_estimators=700 .............................\n",
      "[CV]  max_features=sqrt, n_estimators=700, accuracy=0.924082850623135, precision=0.924421817306307, recall=0.924082850623135, f1_score=0.9240676896898831, total=  31.2s\n",
      "[Parallel(n_jobs=1)]: Done   8 out of   8 | elapsed:  3.3min remaining:    0.0s\n",
      "[CV] max_features=log2, n_estimators=200 .............................\n",
      "[CV]  max_features=log2, n_estimators=200, accuracy=0.9155844155844156, precision=0.9159812910428425, recall=0.9155844155844156, f1_score=0.9155642761771143, total=   7.0s\n",
      "[Parallel(n_jobs=1)]: Done   9 out of   9 | elapsed:  3.4min remaining:    0.0s\n",
      "[CV] max_features=log2, n_estimators=200 .............................\n",
      "[CV]  max_features=log2, n_estimators=200, accuracy=0.9230296647358259, precision=0.9233677896143213, recall=0.9230296647358259, f1_score=0.9230142934774882, total=   7.1s\n",
      "[Parallel(n_jobs=1)]: Done  10 out of  10 | elapsed:  3.5min remaining:    0.0s\n",
      "[CV] max_features=log2, n_estimators=700 .............................\n",
      "[CV]  max_features=log2, n_estimators=700, accuracy=0.9165496665496665, precision=0.9169340057079395, recall=0.9165496665496665, f1_score=0.9165304305173226, total=  27.3s\n",
      "[Parallel(n_jobs=1)]: Done  11 out of  11 | elapsed:  4.1min remaining:    0.0s\n",
      "[CV] max_features=log2, n_estimators=700 .............................\n",
      "[CV]  max_features=log2, n_estimators=700, accuracy=0.9242583816043531, precision=0.9245974885883046, recall=0.9242583816043531, f1_score=0.9242432557252822, total=  31.4s\n",
      "[Parallel(n_jobs=1)]: Done  12 out of  12 | elapsed:  4.6min remaining:    0.0s\n",
      "[Parallel(n_jobs=1)]: Done  12 out of  12 | elapsed:  4.6min finished\n"
     ]
    }
   ],
   "source": [
    "recall_scores = []\n",
    "iterations = 1\n",
    "for i in range(iterations):\n",
    "    print(\"\\r\"+\"{:.2f}%\".format(i*100/iterations), end = \"\")\n",
    "    \n",
    "    #split train test class by class\n",
    "    all_train,all_test = splitTrainTest(oversampling)\n",
    "    \n",
    "    #balance the train set\n",
    "    all_train= balance(all_train)\n",
    "    \n",
    "   \n",
    "\n",
    "    #train indices\n",
    "    trainIdx = all_train.index.get_level_values(\"ID\").unique()\n",
    "   \n",
    "    #remove originals that may have oversampled copies in train\n",
    "    all_test = all_test[~all_test.index.get_level_values(\"ID\").isin(trainIdx)]\n",
    "    all_test = all_test[all_test.index.get_level_values('copy_num')==0]\n",
    "    #balance test\n",
    "#     all_test= balance(all_test)\n",
    "    \n",
    "    #format stuff\n",
    "    all_train.target= all_train.target.astype('int')\n",
    "    all_test.target= all_test.target.astype('int')\n",
    "    \n",
    "    model,params = rf()\n",
    "    grid_search = GridSearchCV(model, params, cv=StratifiedKFold(2), scoring=scorers(),\n",
    "                               refit='f1_score', return_train_score=True,verbose=100)\n",
    "    grid_search.fit(all_train[feats], all_train.target)\n",
    "    # Copy classifier\n",
    "    clf = grid_search\n",
    "    \n",
    "#     clf = RandomForestClassifier(n_estimators=200,random_state=0, class_weight='balanced')\n",
    "#     clf.fit(all_train[feats], all_train.target)\n",
    "\n",
    "#     print(type(all_test.target.unique()[0]))\n",
    "#     print(type(np.unique(clf.predict(all_test[feats]))[0]))\n",
    "#     recall_scores.append(recall_score(all_test.target,clf.predict(all_test[feats]).astype(int)))\n",
    "\n",
    "    scores = precision_recall_fscore_support(\n",
    "            all_test.target, clf.predict(all_test[feats]), average='weighted')\n",
    "#     print(scores)\n",
    "    recall_scores.append(scores)"
   ]
  },
  {
   "cell_type": "code",
   "execution_count": 21,
   "metadata": {},
   "outputs": [
    {
     "name": "stdout",
     "output_type": "stream",
     "text": [
      "[[0.9083247687564234 0.9083247687564234 0.9083247687564234 None]]\n",
      "0.9083247687564234\n",
      "0.9083247687564234\n",
      "0.9083247687564234\n"
     ]
    }
   ],
   "source": [
    "recall_scoresnp = np.array(recall_scores)\n",
    "# print(recall_scoresnp[:,1])\n",
    "print(recall_scoresnp)\n",
    "print(np.mean(recall_scoresnp[:,0]))\n",
    "print(np.mean(recall_scoresnp[:,1]))\n",
    "print(np.mean(recall_scoresnp[:,2]))"
   ]
  },
  {
   "cell_type": "code",
   "execution_count": 22,
   "metadata": {},
   "outputs": [],
   "source": [
    "importances = clf.best_estimator_.feature_importances_*100\n",
    "featsCopy = feats.copy()\n",
    "\n",
    "Y = list(importances)\n",
    "X = list(featsCopy)\n",
    "\n",
    "yx = list(zip(Y, X))\n",
    "\n",
    "yx.sort()\n",
    "# yx = yx[::-1]\n",
    "yx = yx[::-1]\n",
    "\n",
    "\n",
    "\n",
    "x_sorted = [x for y, x in yx]\n",
    "y_sorted = [y for y, x in yx]\n"
   ]
  },
  {
   "cell_type": "code",
   "execution_count": 23,
   "metadata": {},
   "outputs": [],
   "source": [
    "x_sorted = ['stetson_j', 'std', 'mad', 'amp', 'poly2_t1', 'poly1_t1', 'skew', 'poly3_t1', 'sk', 'poly4_t1', 'stetson_k', 'mbrp', 'p_amp', 'pdfp', 'poly3_t2', 'max_slope', 'poly4_t2', 'poly2_t2', 'beyond1st', 'kurtosis', 'pst', 'fpr35', 'fpr50', 'fpr65', 'fpr20', 'fpr80', 'pst_last30', 'poly3_t3', 'poly4_t3', 'poly4_t4']"
   ]
  },
  {
   "cell_type": "code",
   "execution_count": 24,
   "metadata": {},
   "outputs": [
    {
     "name": "stdout",
     "output_type": "stream",
     "text": [
      "[16.611797243979876, 10.282490813927247, 8.306060257310056, 8.038016077408413, 4.751316994865583, 4.406536422291163, 3.528703807096395, 3.3354507173013497, 3.055701566483336, 2.877704959542439, 2.8131861003575067, 2.7558166796495844, 2.706139769816172, 2.624443713586394, 2.58984764070684, 2.335469604348862, 2.2196730938278075, 1.924270508936345, 1.8641893096974955, 1.8249818359662895, 1.7206835205467976, 1.3738811460096196, 1.3682149074279129, 1.306008341428286, 1.2590348863099172, 1.2530088956381906, 1.149904630767722, 0.7102350041620815, 0.6196366854397151, 0.38759486517061154]\n"
     ]
    }
   ],
   "source": [
    "print(y_sorted)"
   ]
  },
  {
   "cell_type": "markdown",
   "metadata": {},
   "source": [
    "[15.72849733944256, 11.150070539446048, 8.42215072564238, 7.407351992416815, 4.845910426335853, 4.256691233036531, 3.6588195385861946, 3.651284109484555, 3.1326995064991046, 3.106528466430507, 2.94966028691206, 2.807060171422182, 2.74142508837281, 2.3787315295843894, 2.3707007227010957, 2.3690705255374684, 2.2312914235594685, 2.026957727222971, 1.8921768486054023, 1.8384820942862874, 1.7698026340513473, 1.389955090954588, 1.3259733015781356, 1.3027401774784904, 1.2313473679485951, 1.2167131860020388, 1.136730020215245, 0.7420409677231921, 0.4762804011863404, 0.4428565573373464]"
   ]
  },
  {
   "cell_type": "code",
   "execution_count": 25,
   "metadata": {},
   "outputs": [
    {
     "name": "stderr",
     "output_type": "stream",
     "text": [
      "/home/mauro/anaconda3/lib/python3.6/site-packages/matplotlib/font_manager.py:1320: UserWarning: findfont: Font family ['Times New Roman'] not found. Falling back to DejaVu Sans\n",
      "  (prop.get_family(), self.defaultFamily[fontext]))\n"
     ]
    },
    {
     "data": {
      "image/png": "[encoded data removed]",
      "text/plain": [
       "<matplotlib.figure.Figure at 0x7f0eea5c06d8>"
      ]
     },
     "metadata": {},
     "output_type": "display_data"
    }
   ],
   "source": [
    "\n",
    "\n",
    "plt.rcParams[\"font.family\"] = \"Times New Roman\"\n",
    "fig = plt.figure(figsize=(14,8))\n",
    "plt.gcf().subplots_adjust(bottom=0.15)\n",
    "plt.bar(np.arange(len(y_sorted)), y_sorted,edgecolor='black',color='firebrick')\n",
    "plt.xticks(np.arange(len(y_sorted)), x_sorted,rotation='vertical')\n",
    "plt.xlabel('Features')\n",
    "plt.ylabel('Feature importance(%)')\n",
    "plt.title(\"Binary Classification\")\n",
    "plt.savefig(\"binFeatImportance.pdf\")"
   ]
  },
  {
   "cell_type": "code",
   "execution_count": null,
   "metadata": {},
   "outputs": [],
   "source": []
  },
  {
   "cell_type": "code",
   "execution_count": 26,
   "metadata": {},
   "outputs": [
    {
     "data": {
      "text/plain": [
       "4865"
      ]
     },
     "execution_count": 26,
     "metadata": {},
     "output_type": "execute_result"
    }
   ],
   "source": [
    "len(all_test['target'])"
   ]
  },
  {
   "cell_type": "code",
   "execution_count": 27,
   "metadata": {},
   "outputs": [
    {
     "data": {
      "text/plain": [
       "3798"
      ]
     },
     "execution_count": 27,
     "metadata": {},
     "output_type": "execute_result"
    }
   ],
   "source": [
    "4865-sum(all_test['target'])"
   ]
  },
  {
   "cell_type": "code",
   "execution_count": 28,
   "metadata": {},
   "outputs": [
    {
     "data": {
      "text/plain": [
       "1067"
      ]
     },
     "execution_count": 28,
     "metadata": {},
     "output_type": "execute_result"
    }
   ],
   "source": [
    "4865-37981067"
   ]
  },
  {
   "cell_type": "code",
   "execution_count": 17,
   "metadata": {},
   "outputs": [],
   "source": [
    "from sklearn.metrics import confusion_matrix"
   ]
  },
  {
   "cell_type": "code",
   "execution_count": 29,
   "metadata": {},
   "outputs": [
    {
     "data": {
      "text/plain": [
       "array([[3575,  223],\n",
       "       [ 223,  844]])"
      ]
     },
     "execution_count": 29,
     "metadata": {},
     "output_type": "execute_result"
    }
   ],
   "source": [
    "confusion_matrix(all_test.target, clf.predict(all_test[feats])).transpose()"
   ]
  },
  {
   "cell_type": "code",
   "execution_count": 30,
   "metadata": {},
   "outputs": [],
   "source": [
    "precisionNon = 3575/(3575+223)\n",
    "recallNon = 3575/(3575+223)\n",
    "precisionT = 844/(844+223)\n",
    "recallT = 844/(844+223)"
   ]
  },
  {
   "cell_type": "code",
   "execution_count": 40,
   "metadata": {},
   "outputs": [
    {
     "data": {
      "text/plain": [
       "0.7910028116213683"
      ]
     },
     "execution_count": 40,
     "metadata": {},
     "output_type": "execute_result"
    }
   ],
   "source": [
    "recallT"
   ]
  },
  {
   "cell_type": "code",
   "execution_count": 33,
   "metadata": {},
   "outputs": [],
   "source": [
    "def fMeasure(precision,recall):\n",
    "    return 2*precision*recall/(precision+recall)"
   ]
  },
  {
   "cell_type": "code",
   "execution_count": 41,
   "metadata": {},
   "outputs": [
    {
     "data": {
      "text/plain": [
       "0.7910028116213683"
      ]
     },
     "execution_count": 41,
     "metadata": {},
     "output_type": "execute_result"
    }
   ],
   "source": [
    "fMeasure(precisionNon,recallNon)"
   ]
  },
  {
   "cell_type": "code",
   "execution_count": null,
   "metadata": {},
   "outputs": [],
   "source": []
  },
  {
   "cell_type": "code",
   "execution_count": null,
   "metadata": {},
   "outputs": [],
   "source": []
  },
  {
   "cell_type": "code",
   "execution_count": 59,
   "metadata": {},
   "outputs": [
    {
     "data": {
      "text/plain": [
       "Text(0.5,0,'Recall scores')"
      ]
     },
     "execution_count": 59,
     "metadata": {},
     "output_type": "execute_result"
    },
    {
     "data": {
      "image/png": "[encoded data removed]",
      "text/plain": [
       "<matplotlib.figure.Figure at 0x7f2eb70b4630>"
      ]
     },
     "metadata": {},
     "output_type": "display_data"
    }
   ],
   "source": [
    "mean = np.mean(recall_scoresnp[:,1])\n",
    "plt.hist(recall_scoresnp[:,1],density=True)\n",
    "plt.plot([mean,mean],[0,1750],c='black',linestyle='--',label='mean={:.4f}'.format(mean))\n",
    "plt.legend()\n",
    "plt.title(\"No-Oversampling, N=100\")\n",
    "plt.xlabel('Recall scores')"
   ]
  },
  {
   "cell_type": "markdown",
   "metadata": {},
   "source": [
    "# 8-Class clasification"
   ]
  },
  {
   "cell_type": "markdown",
   "metadata": {},
   "source": [
    "# With grid-search"
   ]
  },
  {
   "cell_type": "markdown",
   "metadata": {},
   "source": [
    "## With oversampling"
   ]
  },
  {
   "cell_type": "code",
   "execution_count": 43,
   "metadata": {},
   "outputs": [],
   "source": [
    "labels = ['SN', 'CV', 'AGN', 'HPM', 'Blazar', 'Flare']\n",
    "tran8 = tran.copy()\n",
    "tran8.loc[~tran8.Class.isin(labels), ['Class']] = 'Other'\n",
    "ntran8 = ntran.copy()\n",
    "\n",
    "\n",
    "\n",
    "\n",
    "all8 = pd.concat([tran8,ntran8])\n",
    "\n",
    "def manualFact(lab):\n",
    "    labels = ['SN', 'CV', 'AGN', 'HPM', 'Blazar', 'Flare','Other','non-transient']\n",
    "    return labels.index(lab)\n",
    "\n",
    "all8['target'] = list(map(lambda x: manualFact(x),all8['Class']))\n",
    "\n",
    "\n",
    "oversampling = all8.copy()\n",
    "# oversampling = oversampling[oversampling.index.get_level_values('copy_num')==0]\n",
    "\n",
    "oversampling = oversampling.sample(frac=1)\n",
    "\n",
    "# oversampling.Class = list(map(lambda x: 'non-transient' if x=='non-transient' else 'transient', oversampling.Class))\n",
    "\n",
    "# oversampling['target'] = list(map(lambda x: 1 if x=='transient' else 0, oversampling.Class))"
   ]
  },
  {
   "cell_type": "code",
   "execution_count": 44,
   "metadata": {},
   "outputs": [
    {
     "name": "stdout",
     "output_type": "stream",
     "text": [
      "0.00%Fitting 2 folds for each of 6 candidates, totalling 12 fits\n",
      "[CV] max_features=auto, n_estimators=200 .............................\n",
      "[CV]  max_features=auto, n_estimators=200, accuracy=0.7807400932400932, precision=0.7776501988090797, recall=0.7807400932400932, f1_score=0.7783526865733041, total=   5.3s\n",
      "[Parallel(n_jobs=1)]: Done   1 out of   1 | elapsed:    6.1s remaining:    0.0s\n",
      "[CV] max_features=auto, n_estimators=200 .............................\n",
      "[CV]  max_features=auto, n_estimators=200, accuracy=0.787004662004662, precision=0.7848435462039264, recall=0.787004662004662, f1_score=0.7848054759502749, total=   5.2s\n",
      "[Parallel(n_jobs=1)]: Done   2 out of   2 | elapsed:   12.1s remaining:    0.0s\n",
      "[CV] max_features=auto, n_estimators=700 .............................\n",
      "[CV]  max_features=auto, n_estimators=700, accuracy=0.7837995337995338, precision=0.7815089418566237, recall=0.7837995337995338, f1_score=0.7817711076966197, total=  18.5s\n",
      "[Parallel(n_jobs=1)]: Done   3 out of   3 | elapsed:   33.4s remaining:    0.0s\n",
      "[CV] max_features=auto, n_estimators=700 .............................\n",
      "[CV]  max_features=auto, n_estimators=700, accuracy=0.7896270396270396, precision=0.7874783186031105, recall=0.7896270396270396, f1_score=0.7875870516453366, total=  18.1s\n",
      "[Parallel(n_jobs=1)]: Done   4 out of   4 | elapsed:   54.7s remaining:    0.0s\n",
      "[CV] max_features=sqrt, n_estimators=200 .............................\n",
      "[CV]  max_features=sqrt, n_estimators=200, accuracy=0.7807400932400932, precision=0.7776501988090797, recall=0.7807400932400932, f1_score=0.7783526865733041, total=   5.5s\n",
      "[Parallel(n_jobs=1)]: Done   5 out of   5 | elapsed:  1.0min remaining:    0.0s\n",
      "[CV] max_features=sqrt, n_estimators=200 .............................\n",
      "[CV]  max_features=sqrt, n_estimators=200, accuracy=0.787004662004662, precision=0.7848435462039264, recall=0.787004662004662, f1_score=0.7848054759502749, total=   5.2s\n",
      "[Parallel(n_jobs=1)]: Done   6 out of   6 | elapsed:  1.1min remaining:    0.0s\n",
      "[CV] max_features=sqrt, n_estimators=700 .............................\n",
      "[CV]  max_features=sqrt, n_estimators=700, accuracy=0.7837995337995338, precision=0.7815089418566237, recall=0.7837995337995338, f1_score=0.7817711076966197, total=  18.5s\n",
      "[Parallel(n_jobs=1)]: Done   7 out of   7 | elapsed:  1.5min remaining:    0.0s\n",
      "[CV] max_features=sqrt, n_estimators=700 .............................\n",
      "[CV]  max_features=sqrt, n_estimators=700, accuracy=0.7896270396270396, precision=0.7874783186031105, recall=0.7896270396270396, f1_score=0.7875870516453366, total=  20.6s\n",
      "[Parallel(n_jobs=1)]: Done   8 out of   8 | elapsed:  1.9min remaining:    0.0s\n",
      "[CV] max_features=log2, n_estimators=200 .............................\n",
      "[CV]  max_features=log2, n_estimators=200, accuracy=0.7785547785547785, precision=0.7757247089747211, recall=0.7785547785547785, f1_score=0.776261429165473, total=   5.3s\n",
      "[Parallel(n_jobs=1)]: Done   9 out of   9 | elapsed:  2.0min remaining:    0.0s\n",
      "[CV] max_features=log2, n_estimators=200 .............................\n",
      "[CV]  max_features=log2, n_estimators=200, accuracy=0.7833624708624709, precision=0.7807112749837136, recall=0.7833624708624709, f1_score=0.7809401263402833, total=   5.0s\n",
      "[Parallel(n_jobs=1)]: Done  10 out of  10 | elapsed:  2.1min remaining:    0.0s\n",
      "[CV] max_features=log2, n_estimators=700 .............................\n",
      "[CV]  max_features=log2, n_estimators=700, accuracy=0.7773892773892774, precision=0.7746691227053284, recall=0.7773892773892774, f1_score=0.7750756210837365, total=  15.7s\n",
      "[Parallel(n_jobs=1)]: Done  11 out of  11 | elapsed:  2.4min remaining:    0.0s\n",
      "[CV] max_features=log2, n_estimators=700 .............................\n",
      "[CV]  max_features=log2, n_estimators=700, accuracy=0.7829254079254079, precision=0.7800947052437865, recall=0.7829254079254079, f1_score=0.7805332852150338, total=  15.6s\n",
      "[Parallel(n_jobs=1)]: Done  12 out of  12 | elapsed:  2.7min remaining:    0.0s\n",
      "[Parallel(n_jobs=1)]: Done  12 out of  12 | elapsed:  2.7min finished\n",
      "['-', '-', '-', '-', '-', '-', '-', '-', '-', '-', '-', '-', '-', '-', '-', '-', '-', '-', '-', '-', '-', '-', '-', '-', '-', '-', '-', '-', '-', '-']\n",
      "(0.8509473142441479, 0.7593582887700535, 0.7945319236328715, None)\n",
      "['-', '-', '-', '-', '-', '-', '-', '-', '-', '-', '-', '-', '-', '-', '-', '-', '-', '-', '-', '-', '-', '-', '-', '-', '-', '-', '-', '-', '-', '-']\n"
     ]
    }
   ],
   "source": [
    "recall_scores = []\n",
    "iterations = 1\n",
    "for i in range(iterations):\n",
    "    print(\"\\r\"+\"{:.2f}%\".format(i*100/iterations), end = \"\")\n",
    "    \n",
    "    #split train test class by class\n",
    "    all_train,all_test = splitTrainTest(oversampling)\n",
    "    \n",
    "    #balance the train set\n",
    "    all_train= balance(all_train)\n",
    "    \n",
    "   \n",
    "\n",
    "    #train indices\n",
    "    trainIdx = all_train.index.get_level_values(\"ID\").unique()\n",
    "   \n",
    "    #remove originals that may have oversampled copies in train\n",
    "    all_test = all_test[~all_test.index.get_level_values(\"ID\").isin(trainIdx)]\n",
    "    all_test = all_test[all_test.index.get_level_values('copy_num')==0]\n",
    "    #balance test\n",
    "    \n",
    "    \n",
    "    #format stuff\n",
    "    all_train.target= all_train.target.astype('int')\n",
    "    all_test.target= all_test.target.astype('int')\n",
    "    \n",
    "    model,params = rf()\n",
    "    grid_search = GridSearchCV(model, params, cv=StratifiedKFold(2), scoring=scorers(),\n",
    "                               refit='f1_score', return_train_score=True,verbose=100)\n",
    "    grid_search.fit(all_train[feats], all_train.target)\n",
    "    # Copy classifier\n",
    "    clf = grid_search\n",
    "    \n",
    "#     clf = RandomForestClassifier(n_estimators=200,random_state=0, class_weight='balanced')\n",
    "#     clf.fit(all_train[feats], all_train.target)\n",
    "\n",
    "#     print(type(all_test.target.unique()[0]))\n",
    "#     print(type(np.unique(clf.predict(all_test[feats]))[0]))\n",
    "#     recall_scores.append(recall_score(all_test.target,clf.predict(all_test[feats]).astype(int)))\n",
    "\n",
    "    scores = precision_recall_fscore_support(\n",
    "            all_test.target, clf.predict(all_test[feats]), average='weighted')\n",
    "    print(['-']*30)\n",
    "    print(scores)\n",
    "    print(['-']*30)\n",
    "    \n",
    "#     print(scores)\n",
    "    recall_scores.append(scores)"
   ]
  },
  {
   "cell_type": "code",
   "execution_count": 57,
   "metadata": {},
   "outputs": [
    {
     "data": {
      "text/plain": [
       "[(0.6687374895890404, 0.6671122994652406, 0.6652714080526803, None)]"
      ]
     },
     "execution_count": 57,
     "metadata": {},
     "output_type": "execute_result"
    }
   ],
   "source": [
    "recall_scores"
   ]
  },
  {
   "cell_type": "code",
   "execution_count": 58,
   "metadata": {},
   "outputs": [
    {
     "name": "stdout",
     "output_type": "stream",
     "text": [
      "[[299  64   7   0  89  21  75  15]\n",
      " [ 42 387   0   0  38  18  53   2]\n",
      " [ 14  16 423   3  58   4  65   6]\n",
      " [  5   5   0 498   0   4  10  30]\n",
      " [ 24  27  44   0 290   9  37   0]\n",
      " [ 43   8  18   1  13 392  35  34]\n",
      " [ 84  46  48   3  71  24 253  22]\n",
      " [ 50   8  21  56   2  89  33 452]]\n"
     ]
    }
   ],
   "source": [
    "confMatr = confusion_matrix(all_test.target, clf.predict(all_test[feats])).transpose()\n",
    "print(confMatr)\n",
    "# 'SN', 'CV', 'AGN', 'HPM', 'Blazar', 'Flare','Other','non-transient']"
   ]
  },
  {
   "cell_type": "code",
   "execution_count": 59,
   "metadata": {},
   "outputs": [
    {
     "name": "stdout",
     "output_type": "stream",
     "text": [
      "[299  64   7   0  89  21  75  15]\n"
     ]
    }
   ],
   "source": [
    "print(confMatr[0,:])"
   ]
  },
  {
   "cell_type": "code",
   "execution_count": 61,
   "metadata": {},
   "outputs": [],
   "source": [
    "newMatr = []\n",
    "for i in range(len(confMatr)):\n",
    "    prec = confMatr[i][i]/(sum(confMatr[i,:]))\n",
    "    rec = confMatr[i][i]/(sum(confMatr[:,i]))\n",
    "    newMatr.append([prec,rec,fMeasure(prec,rec),sum(confMatr[:,i])])"
   ]
  },
  {
   "cell_type": "code",
   "execution_count": 62,
   "metadata": {},
   "outputs": [
    {
     "data": {
      "text/plain": [
       "[[0.5245614035087719, 0.5329768270944741, 0.5287356321839081, 561],\n",
       " [0.7166666666666667, 0.6898395721925134, 0.7029972752043597, 561],\n",
       " [0.7181663837011885, 0.7540106951871658, 0.7356521739130435, 561],\n",
       " [0.9021739130434783, 0.8877005347593583, 0.894878706199461, 561],\n",
       " [0.6728538283062645, 0.5169340463458111, 0.5846774193548387, 561],\n",
       " [0.7205882352941176, 0.6987522281639929, 0.7095022624434388, 561],\n",
       " [0.4591651542649728, 0.45098039215686275, 0.4550359712230216, 561],\n",
       " [0.6357243319268636, 0.8057040998217468, 0.7106918238993712, 561]]"
      ]
     },
     "execution_count": 62,
     "metadata": {},
     "output_type": "execute_result"
    }
   ],
   "source": [
    "newMatr"
   ]
  },
  {
   "cell_type": "code",
   "execution_count": 63,
   "metadata": {},
   "outputs": [
    {
     "data": {
      "text/plain": [
       "4488"
      ]
     },
     "execution_count": 63,
     "metadata": {},
     "output_type": "execute_result"
    }
   ],
   "source": [
    "561*8"
   ]
  },
  {
   "cell_type": "code",
   "execution_count": null,
   "metadata": {},
   "outputs": [],
   "source": [
    "prin(recall_scores[:,0])"
   ]
  },
  {
   "cell_type": "code",
   "execution_count": 79,
   "metadata": {},
   "outputs": [
    {
     "data": {
      "text/plain": [
       "Text(0.5,0,'Recall scores')"
      ]
     },
     "execution_count": 79,
     "metadata": {},
     "output_type": "execute_result"
    },
    {
     "data": {
      "image/png": "[encoded data removed]",
      "text/plain": [
       "<matplotlib.figure.Figure at 0x7f2eb8b3d198>"
      ]
     },
     "metadata": {},
     "output_type": "display_data"
    }
   ],
   "source": [
    "recall_scoresnp = np.array(recall_scores)\n",
    "mean = np.mean(recall_scoresnp[:,1])\n",
    "plt.hist(recall_scoresnp[:,1],density=True)\n",
    "plt.plot([mean,mean],[0,1750],c='black',linestyle='--',label='mean={:.4f}'.format(mean))\n",
    "plt.legend()\n",
    "plt.title(\"No-Oversampling, N=100\")\n",
    "plt.xlabel('Recall scores')"
   ]
  },
  {
   "cell_type": "code",
   "execution_count": 137,
   "metadata": {},
   "outputs": [],
   "source": [
    "importances = clf.best_estimator_.feature_importances_*100\n",
    "featsCopy = feats.copy()\n",
    "\n",
    "Y = list(importances)\n",
    "X = list(featsCopy)\n",
    "\n",
    "yx = list(zip(Y, X))\n",
    "\n",
    "yx.sort()\n",
    "# yx = yx[::-1]\n",
    "yx = yx[::-1]\n",
    "\n",
    "\n",
    "\n",
    "x_sorted = [x for y, x in yx]\n",
    "y_sorted = [y for y, x in yx]\n"
   ]
  },
  {
   "cell_type": "code",
   "execution_count": 142,
   "metadata": {},
   "outputs": [],
   "source": [
    "x_sorted= ['stetson_j', 'sk', 'std', 'mad', 'poly2_t1', 'amp', 'p_amp', 'poly1_t1', 'pdfp', 'stetson_k', 'poly3_t1', 'max_slope', 'skew', 'poly4_t1', 'mbrp', 'kurtosis', 'fpr35', 'fpr20', 'fpr50', 'poly4_t2', 'beyond1st', 'pst_last30', 'fpr65', 'fpr80', 'pst', 'poly3_t2', 'poly2_t2', 'poly4_t3', 'poly3_t3', 'poly4_t4']"
   ]
  },
  {
   "cell_type": "code",
   "execution_count": 151,
   "metadata": {},
   "outputs": [
    {
     "name": "stdout",
     "output_type": "stream",
     "text": [
      "[8.574116054977369, 7.366270440695763, 6.476563826087944, 6.157664438852631, 5.230425155871289, 5.18984007523864, 5.161951278916753, 4.902587796617194, 4.134958419379865, 3.8187012190017944, 3.4155000480668183, 3.3741302109976696, 3.3210996926979384, 3.184676409056053, 2.8377083989278984, 2.6536311793252394, 2.5202381312336155, 2.4435521502026814, 2.3318983179279775, 2.2124406004339603, 2.166664465046709, 2.1359716376155022, 2.1214341656023183, 1.9046675235163644, 1.8876588414451996, 1.8849228519350014, 1.4587838553582608, 0.5014180032146563, 0.33831492357990944, 0.2922098881769914]\n"
     ]
    }
   ],
   "source": [
    "print(y_sorted)"
   ]
  },
  {
   "cell_type": "markdown",
   "metadata": {},
   "source": [
    "\n",
    "[8.574116054977369, 7.366270440695763, 6.476563826087944, 6.157664438852631, 5.230425155871289, 5.18984007523864, 5.161951278916753, 4.902587796617194, 4.134958419379865, 3.8187012190017944, 3.4155000480668183, 3.3741302109976696, 3.3210996926979384, 3.184676409056053, 2.8377083989278984, 2.6536311793252394, 2.5202381312336155, 2.4435521502026814, 2.3318983179279775, 2.2124406004339603, 2.166664465046709, 2.1359716376155022, 2.1214341656023183, 1.9046675235163644, 1.8876588414451996, 1.8849228519350014, 1.4587838553582608, 0.5014180032146563, 0.33831492357990944, 0.2922098881769914]"
   ]
  },
  {
   "cell_type": "code",
   "execution_count": 149,
   "metadata": {},
   "outputs": [
    {
     "name": "stderr",
     "output_type": "stream",
     "text": [
      "/home/mauro/anaconda3/lib/python3.6/site-packages/matplotlib/font_manager.py:1320: UserWarning: findfont: Font family ['Times New Roman'] not found. Falling back to DejaVu Sans\n",
      "  (prop.get_family(), self.defaultFamily[fontext]))\n"
     ]
    },
    {
     "data": {
      "image/png": "[encoded data removed]",
      "text/plain": [
       "<matplotlib.figure.Figure at 0x7ff39dcf9978>"
      ]
     },
     "metadata": {},
     "output_type": "display_data"
    }
   ],
   "source": [
    "# from matplotlib.font_manager import FontProperties\n",
    "# font = FontProperties()\n",
    "# font.set_family('sans-serif')\n",
    "# font.set_style('normal')\n",
    "\n",
    "plt.rcParams[\"font.family\"] = \"Times New Roman\"\n",
    "fig = plt.figure(figsize=(14,8))\n",
    "plt.gcf().subplots_adjust(bottom=0.15)\n",
    "plt.bar(np.arange(len(y_sorted)), y_sorted,edgecolor='black',color='#008000')\n",
    "plt.xticks(np.arange(len(y_sorted)), x_sorted,rotation='vertical')\n",
    "plt.xlabel('Features')\n",
    "plt.ylabel('Feature importance(%)')\n",
    "plt.title(\"8-Class Classification\")\n",
    "plt.savefig(\"8clasFeatImportance.pdf\")"
   ]
  },
  {
   "cell_type": "code",
   "execution_count": null,
   "metadata": {},
   "outputs": [],
   "source": []
  }
 ],
 "metadata": {
  "kernelspec": {
   "display_name": "Python 3",
   "language": "python",
   "name": "python3"
  },
  "language_info": {
   "codemirror_mode": {
    "name": "ipython",
    "version": 3
   },
   "file_extension": ".py",
   "mimetype": "text/x-python",
   "name": "python",
   "nbconvert_exporter": "python",
   "pygments_lexer": "ipython3",
   "version": "3.6.4"
  }
 },
 "nbformat": 4,
 "nbformat_minor": 2
}
