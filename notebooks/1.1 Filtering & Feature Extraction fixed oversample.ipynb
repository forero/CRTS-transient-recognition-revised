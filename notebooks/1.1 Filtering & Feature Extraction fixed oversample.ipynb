{
 "cells": [
  {
   "cell_type": "code",
   "execution_count": 15,
   "metadata": {},
   "outputs": [],
   "source": [
    "%reload_ext autoreload\n",
    "%autoreload 2"
   ]
  },
  {
   "cell_type": "code",
   "execution_count": 16,
   "metadata": {},
   "outputs": [],
   "source": [
    "DATA_PATH = '../data/'\n",
    "LIGHTCURVES_PATH = DATA_PATH + 'lightcurves/'\n",
    "FEATURES_PATH = DATA_PATH + 'features/'"
   ]
  },
  {
   "cell_type": "code",
   "execution_count": 17,
   "metadata": {
    "scrolled": true
   },
   "outputs": [],
   "source": [
    "import numpy as np\n",
    "import pandas as pd\n",
    "import measurements, extract\n",
    "import matplotlib.pyplot as plt\n",
    "import inputs2"
   ]
  },
  {
   "cell_type": "code",
   "execution_count": 18,
   "metadata": {},
   "outputs": [],
   "source": [
    "def unique_ids_list(df_lcs):\n",
    "    return df_lcs.index.get_level_values('ID').unique().format()\n",
    "\n",
    "def print_num_ids_shape(df_lcs):\n",
    "    unique_ids = unique_ids_list(df_lcs)\n",
    "    print('Num IDs: {}  Shape: {}'.format(len(unique_ids), df_lcs.shape))"
   ]
  },
  {
   "cell_type": "markdown",
   "metadata": {},
   "source": [
    "#### Import"
   ]
  },
  {
   "cell_type": "markdown",
   "metadata": {},
   "source": [
    "Import __transient__ catalogue"
   ]
  },
  {
   "cell_type": "code",
   "execution_count": 19,
   "metadata": {},
   "outputs": [],
   "source": [
    "df_cat = inputs2.load_transient_catalog()"
   ]
  },
  {
   "cell_type": "markdown",
   "metadata": {},
   "source": [
    "Import __transient__ lightcurves"
   ]
  },
  {
   "cell_type": "code",
   "execution_count": 20,
   "metadata": {
    "scrolled": true
   },
   "outputs": [
    {
     "name": "stdout",
     "output_type": "stream",
     "text": [
      "Num IDs: 4869  Shape: (440469, 3)\n"
     ]
    }
   ],
   "source": [
    "filename = 'transient_lightcurves_clean.pickle'\n",
    "indir = LIGHTCURVES_PATH; filepath = indir + filename\n",
    "df_transient_noclass = pd.read_pickle(filepath)\n",
    "print_num_ids_shape(df_transient_noclass)"
   ]
  },
  {
   "cell_type": "markdown",
   "metadata": {},
   "source": [
    "Import __non-transient__ light curves"
   ]
  },
  {
   "cell_type": "code",
   "execution_count": 21,
   "metadata": {},
   "outputs": [
    {
     "name": "stdout",
     "output_type": "stream",
     "text": [
      "Num IDs: 16940  Shape: (1802695, 3)\n"
     ]
    }
   ],
   "source": [
    "filename = 'nontransient_lightcurves_clean.pickle'\n",
    "indir = LIGHTCURVES_PATH; filepath = indir + filename\n",
    "df_nont = pd.read_pickle(filepath)\n",
    "print_num_ids_shape(df_nont)"
   ]
  },
  {
   "cell_type": "markdown",
   "metadata": {},
   "source": [
    "#### Add class"
   ]
  },
  {
   "cell_type": "markdown",
   "metadata": {},
   "source": [
    "__Transient__"
   ]
  },
  {
   "cell_type": "code",
   "execution_count": 22,
   "metadata": {},
   "outputs": [],
   "source": [
    "df_tra = df_transient_noclass.join(df_cat, how='inner')"
   ]
  },
  {
   "cell_type": "markdown",
   "metadata": {},
   "source": [
    "__Non-Transient__"
   ]
  },
  {
   "cell_type": "code",
   "execution_count": 23,
   "metadata": {},
   "outputs": [],
   "source": [
    "df_nont['class'] = 'non-transient'"
   ]
  },
  {
   "cell_type": "markdown",
   "metadata": {},
   "source": [
    "#### Filter"
   ]
  },
  {
   "cell_type": "code",
   "execution_count": 24,
   "metadata": {},
   "outputs": [],
   "source": [
    "def filter_light_curves(df_lcs, min_obs):\n",
    "    df_count = df_lcs.groupby('ID', as_index=True).count()\n",
    "    df_count['ObsCount'] = df_count['Mag']\n",
    "    df_count = df_count[['ObsCount']]\n",
    "    df_lcs_with_counts = df_lcs.join(df_count, how='inner')\n",
    "    # Remove objects with less than min_obs\n",
    "    df_filtered = df_lcs_with_counts[df_lcs_with_counts.ObsCount >= min_obs]\n",
    "#     # Remove ObsCount\n",
    "#     df_filtered = df_filtered.drop(['ObsCount'], axis=1)\n",
    "    return df_filtered\n",
    "\n",
    "def sample(df_lcs, num_samples):\n",
    "    # Set random seed\n",
    "    np.random.seed(42)\n",
    "    # Sample non-transient subset of same size as transients\n",
    "    IDs = np.random.choice(unique_ids_list(df_lcs), size=num_samples, replace=False)\n",
    "#     print(IDs); return\n",
    "    df_sampled = df_nont.loc[IDs]\n",
    "    return df_sampled"
   ]
  },
  {
   "cell_type": "markdown",
   "metadata": {},
   "source": [
    "Split train-test"
   ]
  },
  {
   "cell_type": "code",
   "execution_count": 25,
   "metadata": {},
   "outputs": [
    {
     "name": "stdout",
     "output_type": "stream",
     "text": [
      "0.745505359060456\n",
      "0.254494640939544\n"
     ]
    }
   ],
   "source": [
    "uniqueIds = df_tra.index.get_level_values('ID').unique()\n",
    "trainIds = np.random.choice(uniqueIds,int(len(uniqueIds)*0.75),replace=False)\n",
    "boolIndexTrain = df_tra.index.get_level_values('ID').isin(trainIds)\n",
    "df_tra_5_train = df_tra[boolIndexTrain]\n",
    "df_tra_5_test = df_tra[~boolIndexTrain]\n",
    "print(len(df_tra_5_train)/len(df_tra))\n",
    "print(len(df_tra_5_test)/len(df_tra))"
   ]
  },
  {
   "cell_type": "markdown",
   "metadata": {},
   "source": [
    "Filter __transient__ light curves"
   ]
  },
  {
   "cell_type": "code",
   "execution_count": 26,
   "metadata": {},
   "outputs": [
    {
     "name": "stdout",
     "output_type": "stream",
     "text": [
      "Num IDs: 3210  Shape: (327236, 5)\n",
      "Num IDs: 1059  Shape: (111661, 5)\n"
     ]
    }
   ],
   "source": [
    "df_tra_5_train = filter_light_curves(df_tra_5_train, 5)\n",
    "df_tra_5_test = filter_light_curves(df_tra_5_test, 5)\n",
    "print_num_ids_shape(df_tra_5_train)\n",
    "print_num_ids_shape(df_tra_5_test)\n",
    "\n",
    "del df_tra\n"
   ]
  },
  {
   "cell_type": "markdown",
   "metadata": {},
   "source": [
    "Filter __non-transient__ lightcurves"
   ]
  },
  {
   "cell_type": "code",
   "execution_count": 27,
   "metadata": {},
   "outputs": [
    {
     "name": "stdout",
     "output_type": "stream",
     "text": [
      "Num IDs: 15193  Shape: (1798465, 5)\n"
     ]
    }
   ],
   "source": [
    "df_nont_5 = filter_light_curves(df_nont, 5)\n",
    "print_num_ids_shape(df_nont_5)"
   ]
  },
  {
   "cell_type": "markdown",
   "metadata": {},
   "source": [
    "#### Oversample"
   ]
  },
  {
   "cell_type": "code",
   "execution_count": 28,
   "metadata": {},
   "outputs": [],
   "source": [
    "def oversample(df_lcs, copies=0):\n",
    "    df_oversample = df_lcs.copy()\n",
    "    df_oversample['copy_num'] = 0\n",
    "    for i in range(1, copies+1):\n",
    "        df_temp = df_lcs.copy()\n",
    "        df_temp['copy_num'] = i\n",
    "        df_temp['Mag'] = np.random.normal(df_lcs.Mag, df_lcs.Magerr)\n",
    "        df_oversample = df_oversample.append(df_temp)\n",
    "        \n",
    "    df_oversample = df_oversample.set_index(['copy_num'], append=True)\n",
    "    return df_oversample"
   ]
  },
  {
   "cell_type": "markdown",
   "metadata": {},
   "source": [
    "Oversample __transient__ light curves"
   ]
  },
  {
   "cell_type": "code",
   "execution_count": 29,
   "metadata": {},
   "outputs": [
    {
     "name": "stdout",
     "output_type": "stream",
     "text": [
      "Num IDs: 3210  Shape: (3599596, 5)\n",
      "Num IDs: 1059  Shape: (111661, 5)\n"
     ]
    }
   ],
   "source": [
    "df_tra_5_os_train = oversample(df_tra_5_train, 10)\n",
    "df_tra_5_os_test = oversample(df_tra_5_test, 0)\n",
    "print_num_ids_shape(df_tra_5_os_train)\n",
    "print_num_ids_shape(df_tra_5_os_test)\n",
    "\n",
    "del df_tra_5_train\n",
    "del df_tra_5_test"
   ]
  },
  {
   "cell_type": "markdown",
   "metadata": {},
   "source": [
    "\"Oversample\" __nontransient__ light curves"
   ]
  },
  {
   "cell_type": "code",
   "execution_count": 30,
   "metadata": {
    "scrolled": true
   },
   "outputs": [
    {
     "name": "stdout",
     "output_type": "stream",
     "text": [
      "Num IDs: 15193  Shape: (1798465, 5)\n"
     ]
    }
   ],
   "source": [
    "df_nont_5_os = oversample(df_nont_5, 0)\n",
    "print_num_ids_shape(df_nont_5)\n",
    "\n",
    "del df_nont_5"
   ]
  },
  {
   "cell_type": "markdown",
   "metadata": {},
   "source": [
    "#### Feature Extraction"
   ]
  },
  {
   "cell_type": "code",
   "execution_count": 33,
   "metadata": {},
   "outputs": [],
   "source": [
    "def extract_features(df_lcs):\n",
    "    # Extract num_copy list\n",
    "    num_copy_list = df_lcs.index.get_level_values('copy_num').unique()    \n",
    "    num_copies = len(num_copy_list)\n",
    "    \n",
    "    # Extract IDs list\n",
    "    unique_ids_list = df_lcs.index.get_level_values('ID').unique()\n",
    "    num_ids = len(unique_ids_list)\n",
    "\n",
    "    # Create empty feature dict\n",
    "    feats_dict = extract.feature_dict(30)\n",
    "    feats_dict['ObsCount'] = []\n",
    "    feats_dict['Class'] = []\n",
    "    # Add 'ID' and 'copy_num' index lists\n",
    "    index_id_list = []\n",
    "    index_copy_num_list = []\n",
    "    \n",
    "    num_objects = num_ids*num_copies\n",
    "    for num_copy in num_copy_list:\n",
    "        for i, obj_id in enumerate(unique_ids_list):\n",
    "            # Print status\n",
    "            current_object_i = (num_copy+1)*i\n",
    "            if(current_object_i%int(num_objects/10) == 0):\n",
    "                print(current_object_i, '/', num_objects)\n",
    "            # Get current object light curve\n",
    "            df_object = df_lcs.loc[obj_id,:,num_copy]\n",
    "            # Get features\n",
    "            obj_feats = extract.features(df_object, feats_dict)\n",
    "            # Append features\n",
    "            for k,v in obj_feats.items():\n",
    "                feats_dict[k].append(obj_feats[k])\n",
    "            # Append Indexes\n",
    "            index_id_list.append(obj_id)\n",
    "            index_copy_num_list.append(num_copy)\n",
    "            # Append class and obs_count\n",
    "            assert(len(df_object['class'].unique()) == 1)\n",
    "            assert(len(df_object['ObsCount'].unique()) == 1)\n",
    "            assert(df_object['ObsCount'].unique()[0] == df_object.shape[0])\n",
    "            feats_dict['Class'].append(df_object['class'].unique()[0])\n",
    "            feats_dict['ObsCount'].append(df_object.shape[0])\n",
    "            \n",
    "            \n",
    "    # Create feature dataframe\n",
    "    df_feats = pd.DataFrame(feats_dict).set_index([index_id_list,index_copy_num_list])\n",
    "    df_feats.index.names = ['ID', 'copy_num']\n",
    "    return df_feats\n",
    "\n",
    "def save_features(df_feats, filename):\n",
    "    outdir = FEATURES_PATH\n",
    "    filename_raw = '{}.pickle'\n",
    "    filename = filename_raw.format(filename)\n",
    "    assert(df_feats.shape[1]==32) # 30 + ['num_obs'+'class']\n",
    "    df_feats.to_pickle(outdir + filename)"
   ]
  },
  {
   "cell_type": "markdown",
   "metadata": {},
   "source": [
    "#### Generate Features"
   ]
  },
  {
   "cell_type": "code",
   "execution_count": 34,
   "metadata": {},
   "outputs": [],
   "source": [
    "def generate_features(df_all, transient, min_obs,filename):\n",
    "    obj_type = 'T' if transient else 'NT'\n",
    "    # Generate features based on light curves\n",
    "    df_feats = extract_features(df_all)\n",
    "    # Save features\n",
    "    save_features(df_feats, filename)\n",
    "    # Log Finished\n",
    "    print('Finished task type={} obs={}'.format(obj_type, min_obs) )\n",
    "    return df_feats"
   ]
  },
  {
   "cell_type": "markdown",
   "metadata": {},
   "source": [
    "Generate features __transient__ light curves"
   ]
  },
  {
   "cell_type": "code",
   "execution_count": 35,
   "metadata": {
    "scrolled": true
   },
   "outputs": [
    {
     "name": "stdout",
     "output_type": "stream",
     "text": [
      "0 / 35310\n"
     ]
    },
    {
     "name": "stderr",
     "output_type": "stream",
     "text": [
      "/home/mauro/Documents/U/monitoriaInv/verifyResults/crts-transient-recognition/notebooks/measurements.py:220: RankWarning: Polyfit may be poorly conditioned\n",
      "  p4 = np.polyfit(x, y, 4)\n",
      "/home/mauro/Documents/U/monitoriaInv/verifyResults/crts-transient-recognition/notebooks/measurements.py:220: RankWarning: Polyfit may be poorly conditioned\n",
      "  p4 = np.polyfit(x, y, 4)\n",
      "/home/mauro/Documents/U/monitoriaInv/verifyResults/crts-transient-recognition/notebooks/measurements.py:220: RankWarning: Polyfit may be poorly conditioned\n",
      "  p4 = np.polyfit(x, y, 4)\n",
      "/home/mauro/Documents/U/monitoriaInv/verifyResults/crts-transient-recognition/notebooks/measurements.py:220: RankWarning: Polyfit may be poorly conditioned\n",
      "  p4 = np.polyfit(x, y, 4)\n",
      "/home/mauro/Documents/U/monitoriaInv/verifyResults/crts-transient-recognition/notebooks/measurements.py:220: RankWarning: Polyfit may be poorly conditioned\n",
      "  p4 = np.polyfit(x, y, 4)\n",
      "/home/mauro/Documents/U/monitoriaInv/verifyResults/crts-transient-recognition/notebooks/measurements.py:220: RankWarning: Polyfit may be poorly conditioned\n",
      "  p4 = np.polyfit(x, y, 4)\n",
      "/home/mauro/Documents/U/monitoriaInv/verifyResults/crts-transient-recognition/notebooks/measurements.py:220: RankWarning: Polyfit may be poorly conditioned\n",
      "  p4 = np.polyfit(x, y, 4)\n",
      "/home/mauro/Documents/U/monitoriaInv/verifyResults/crts-transient-recognition/notebooks/measurements.py:220: RankWarning: Polyfit may be poorly conditioned\n",
      "  p4 = np.polyfit(x, y, 4)\n",
      "/home/mauro/Documents/U/monitoriaInv/verifyResults/crts-transient-recognition/notebooks/measurements.py:220: RankWarning: Polyfit may be poorly conditioned\n",
      "  p4 = np.polyfit(x, y, 4)\n",
      "/home/mauro/Documents/U/monitoriaInv/verifyResults/crts-transient-recognition/notebooks/measurements.py:220: RankWarning: Polyfit may be poorly conditioned\n",
      "  p4 = np.polyfit(x, y, 4)\n",
      "/home/mauro/Documents/U/monitoriaInv/verifyResults/crts-transient-recognition/notebooks/measurements.py:220: RankWarning: Polyfit may be poorly conditioned\n",
      "  p4 = np.polyfit(x, y, 4)\n",
      "/home/mauro/Documents/U/monitoriaInv/verifyResults/crts-transient-recognition/notebooks/measurements.py:220: RankWarning: Polyfit may be poorly conditioned\n",
      "  p4 = np.polyfit(x, y, 4)\n",
      "/home/mauro/Documents/U/monitoriaInv/verifyResults/crts-transient-recognition/notebooks/measurements.py:220: RankWarning: Polyfit may be poorly conditioned\n",
      "  p4 = np.polyfit(x, y, 4)\n",
      "/home/mauro/Documents/U/monitoriaInv/verifyResults/crts-transient-recognition/notebooks/measurements.py:220: RankWarning: Polyfit may be poorly conditioned\n",
      "  p4 = np.polyfit(x, y, 4)\n",
      "/home/mauro/Documents/U/monitoriaInv/verifyResults/crts-transient-recognition/notebooks/measurements.py:220: RankWarning: Polyfit may be poorly conditioned\n",
      "  p4 = np.polyfit(x, y, 4)\n",
      "/home/mauro/Documents/U/monitoriaInv/verifyResults/crts-transient-recognition/notebooks/measurements.py:220: RankWarning: Polyfit may be poorly conditioned\n",
      "  p4 = np.polyfit(x, y, 4)\n",
      "/home/mauro/Documents/U/monitoriaInv/verifyResults/crts-transient-recognition/notebooks/measurements.py:220: RankWarning: Polyfit may be poorly conditioned\n",
      "  p4 = np.polyfit(x, y, 4)\n",
      "/home/mauro/Documents/U/monitoriaInv/verifyResults/crts-transient-recognition/notebooks/measurements.py:220: RankWarning: Polyfit may be poorly conditioned\n",
      "  p4 = np.polyfit(x, y, 4)\n",
      "/home/mauro/Documents/U/monitoriaInv/verifyResults/crts-transient-recognition/notebooks/measurements.py:220: RankWarning: Polyfit may be poorly conditioned\n",
      "  p4 = np.polyfit(x, y, 4)\n",
      "/home/mauro/Documents/U/monitoriaInv/verifyResults/crts-transient-recognition/notebooks/measurements.py:220: RankWarning: Polyfit may be poorly conditioned\n",
      "  p4 = np.polyfit(x, y, 4)\n",
      "/home/mauro/Documents/U/monitoriaInv/verifyResults/crts-transient-recognition/notebooks/measurements.py:220: RankWarning: Polyfit may be poorly conditioned\n",
      "  p4 = np.polyfit(x, y, 4)\n",
      "/home/mauro/Documents/U/monitoriaInv/verifyResults/crts-transient-recognition/notebooks/measurements.py:220: RankWarning: Polyfit may be poorly conditioned\n",
      "  p4 = np.polyfit(x, y, 4)\n",
      "/home/mauro/Documents/U/monitoriaInv/verifyResults/crts-transient-recognition/notebooks/measurements.py:220: RankWarning: Polyfit may be poorly conditioned\n",
      "  p4 = np.polyfit(x, y, 4)\n",
      "/home/mauro/Documents/U/monitoriaInv/verifyResults/crts-transient-recognition/notebooks/measurements.py:220: RankWarning: Polyfit may be poorly conditioned\n",
      "  p4 = np.polyfit(x, y, 4)\n",
      "/home/mauro/Documents/U/monitoriaInv/verifyResults/crts-transient-recognition/notebooks/measurements.py:220: RankWarning: Polyfit may be poorly conditioned\n",
      "  p4 = np.polyfit(x, y, 4)\n",
      "/home/mauro/Documents/U/monitoriaInv/verifyResults/crts-transient-recognition/notebooks/measurements.py:220: RankWarning: Polyfit may be poorly conditioned\n",
      "  p4 = np.polyfit(x, y, 4)\n",
      "/home/mauro/Documents/U/monitoriaInv/verifyResults/crts-transient-recognition/notebooks/measurements.py:220: RankWarning: Polyfit may be poorly conditioned\n",
      "  p4 = np.polyfit(x, y, 4)\n",
      "/home/mauro/Documents/U/monitoriaInv/verifyResults/crts-transient-recognition/notebooks/measurements.py:220: RankWarning: Polyfit may be poorly conditioned\n",
      "  p4 = np.polyfit(x, y, 4)\n",
      "/home/mauro/Documents/U/monitoriaInv/verifyResults/crts-transient-recognition/notebooks/measurements.py:220: RankWarning: Polyfit may be poorly conditioned\n",
      "  p4 = np.polyfit(x, y, 4)\n",
      "/home/mauro/Documents/U/monitoriaInv/verifyResults/crts-transient-recognition/notebooks/measurements.py:220: RankWarning: Polyfit may be poorly conditioned\n",
      "  p4 = np.polyfit(x, y, 4)\n",
      "/home/mauro/Documents/U/monitoriaInv/verifyResults/crts-transient-recognition/notebooks/measurements.py:220: RankWarning: Polyfit may be poorly conditioned\n",
      "  p4 = np.polyfit(x, y, 4)\n",
      "/home/mauro/Documents/U/monitoriaInv/verifyResults/crts-transient-recognition/notebooks/measurements.py:220: RankWarning: Polyfit may be poorly conditioned\n",
      "  p4 = np.polyfit(x, y, 4)\n",
      "/home/mauro/Documents/U/monitoriaInv/verifyResults/crts-transient-recognition/notebooks/measurements.py:220: RankWarning: Polyfit may be poorly conditioned\n",
      "  p4 = np.polyfit(x, y, 4)\n",
      "/home/mauro/Documents/U/monitoriaInv/verifyResults/crts-transient-recognition/notebooks/measurements.py:220: RankWarning: Polyfit may be poorly conditioned\n",
      "  p4 = np.polyfit(x, y, 4)\n",
      "/home/mauro/Documents/U/monitoriaInv/verifyResults/crts-transient-recognition/notebooks/measurements.py:220: RankWarning: Polyfit may be poorly conditioned\n",
      "  p4 = np.polyfit(x, y, 4)\n",
      "/home/mauro/Documents/U/monitoriaInv/verifyResults/crts-transient-recognition/notebooks/measurements.py:220: RankWarning: Polyfit may be poorly conditioned\n",
      "  p4 = np.polyfit(x, y, 4)\n",
      "/home/mauro/Documents/U/monitoriaInv/verifyResults/crts-transient-recognition/notebooks/measurements.py:220: RankWarning: Polyfit may be poorly conditioned\n",
      "  p4 = np.polyfit(x, y, 4)\n",
      "/home/mauro/Documents/U/monitoriaInv/verifyResults/crts-transient-recognition/notebooks/measurements.py:220: RankWarning: Polyfit may be poorly conditioned\n",
      "  p4 = np.polyfit(x, y, 4)\n",
      "/home/mauro/Documents/U/monitoriaInv/verifyResults/crts-transient-recognition/notebooks/measurements.py:220: RankWarning: Polyfit may be poorly conditioned\n",
      "  p4 = np.polyfit(x, y, 4)\n",
      "/home/mauro/Documents/U/monitoriaInv/verifyResults/crts-transient-recognition/notebooks/measurements.py:220: RankWarning: Polyfit may be poorly conditioned\n",
      "  p4 = np.polyfit(x, y, 4)\n",
      "/home/mauro/Documents/U/monitoriaInv/verifyResults/crts-transient-recognition/notebooks/measurements.py:220: RankWarning: Polyfit may be poorly conditioned\n",
      "  p4 = np.polyfit(x, y, 4)\n",
      "/home/mauro/Documents/U/monitoriaInv/verifyResults/crts-transient-recognition/notebooks/measurements.py:220: RankWarning: Polyfit may be poorly conditioned\n",
      "  p4 = np.polyfit(x, y, 4)\n",
      "/home/mauro/Documents/U/monitoriaInv/verifyResults/crts-transient-recognition/notebooks/measurements.py:220: RankWarning: Polyfit may be poorly conditioned\n",
      "  p4 = np.polyfit(x, y, 4)\n"
     ]
    },
    {
     "name": "stdout",
     "output_type": "stream",
     "text": [
      "0 / 35310\n"
     ]
    },
    {
     "name": "stderr",
     "output_type": "stream",
     "text": [
      "/home/mauro/Documents/U/monitoriaInv/verifyResults/crts-transient-recognition/notebooks/measurements.py:220: RankWarning: Polyfit may be poorly conditioned\n",
      "  p4 = np.polyfit(x, y, 4)\n",
      "/home/mauro/Documents/U/monitoriaInv/verifyResults/crts-transient-recognition/notebooks/measurements.py:220: RankWarning: Polyfit may be poorly conditioned\n",
      "  p4 = np.polyfit(x, y, 4)\n",
      "/home/mauro/Documents/U/monitoriaInv/verifyResults/crts-transient-recognition/notebooks/measurements.py:220: RankWarning: Polyfit may be poorly conditioned\n",
      "  p4 = np.polyfit(x, y, 4)\n",
      "/home/mauro/Documents/U/monitoriaInv/verifyResults/crts-transient-recognition/notebooks/measurements.py:220: RankWarning: Polyfit may be poorly conditioned\n",
      "  p4 = np.polyfit(x, y, 4)\n",
      "/home/mauro/Documents/U/monitoriaInv/verifyResults/crts-transient-recognition/notebooks/measurements.py:220: RankWarning: Polyfit may be poorly conditioned\n",
      "  p4 = np.polyfit(x, y, 4)\n",
      "/home/mauro/Documents/U/monitoriaInv/verifyResults/crts-transient-recognition/notebooks/measurements.py:220: RankWarning: Polyfit may be poorly conditioned\n",
      "  p4 = np.polyfit(x, y, 4)\n",
      "/home/mauro/Documents/U/monitoriaInv/verifyResults/crts-transient-recognition/notebooks/measurements.py:220: RankWarning: Polyfit may be poorly conditioned\n",
      "  p4 = np.polyfit(x, y, 4)\n",
      "/home/mauro/Documents/U/monitoriaInv/verifyResults/crts-transient-recognition/notebooks/measurements.py:220: RankWarning: Polyfit may be poorly conditioned\n",
      "  p4 = np.polyfit(x, y, 4)\n",
      "/home/mauro/Documents/U/monitoriaInv/verifyResults/crts-transient-recognition/notebooks/measurements.py:220: RankWarning: Polyfit may be poorly conditioned\n",
      "  p4 = np.polyfit(x, y, 4)\n",
      "/home/mauro/Documents/U/monitoriaInv/verifyResults/crts-transient-recognition/notebooks/measurements.py:220: RankWarning: Polyfit may be poorly conditioned\n",
      "  p4 = np.polyfit(x, y, 4)\n",
      "/home/mauro/Documents/U/monitoriaInv/verifyResults/crts-transient-recognition/notebooks/measurements.py:220: RankWarning: Polyfit may be poorly conditioned\n",
      "  p4 = np.polyfit(x, y, 4)\n",
      "/home/mauro/Documents/U/monitoriaInv/verifyResults/crts-transient-recognition/notebooks/measurements.py:220: RankWarning: Polyfit may be poorly conditioned\n",
      "  p4 = np.polyfit(x, y, 4)\n",
      "/home/mauro/Documents/U/monitoriaInv/verifyResults/crts-transient-recognition/notebooks/measurements.py:220: RankWarning: Polyfit may be poorly conditioned\n",
      "  p4 = np.polyfit(x, y, 4)\n",
      "/home/mauro/Documents/U/monitoriaInv/verifyResults/crts-transient-recognition/notebooks/measurements.py:220: RankWarning: Polyfit may be poorly conditioned\n",
      "  p4 = np.polyfit(x, y, 4)\n",
      "/home/mauro/Documents/U/monitoriaInv/verifyResults/crts-transient-recognition/notebooks/measurements.py:220: RankWarning: Polyfit may be poorly conditioned\n",
      "  p4 = np.polyfit(x, y, 4)\n",
      "/home/mauro/Documents/U/monitoriaInv/verifyResults/crts-transient-recognition/notebooks/measurements.py:220: RankWarning: Polyfit may be poorly conditioned\n",
      "  p4 = np.polyfit(x, y, 4)\n",
      "/home/mauro/Documents/U/monitoriaInv/verifyResults/crts-transient-recognition/notebooks/measurements.py:220: RankWarning: Polyfit may be poorly conditioned\n",
      "  p4 = np.polyfit(x, y, 4)\n",
      "/home/mauro/Documents/U/monitoriaInv/verifyResults/crts-transient-recognition/notebooks/measurements.py:220: RankWarning: Polyfit may be poorly conditioned\n",
      "  p4 = np.polyfit(x, y, 4)\n",
      "/home/mauro/Documents/U/monitoriaInv/verifyResults/crts-transient-recognition/notebooks/measurements.py:220: RankWarning: Polyfit may be poorly conditioned\n",
      "  p4 = np.polyfit(x, y, 4)\n",
      "/home/mauro/Documents/U/monitoriaInv/verifyResults/crts-transient-recognition/notebooks/measurements.py:220: RankWarning: Polyfit may be poorly conditioned\n",
      "  p4 = np.polyfit(x, y, 4)\n",
      "/home/mauro/Documents/U/monitoriaInv/verifyResults/crts-transient-recognition/notebooks/measurements.py:220: RankWarning: Polyfit may be poorly conditioned\n",
      "  p4 = np.polyfit(x, y, 4)\n",
      "/home/mauro/Documents/U/monitoriaInv/verifyResults/crts-transient-recognition/notebooks/measurements.py:220: RankWarning: Polyfit may be poorly conditioned\n",
      "  p4 = np.polyfit(x, y, 4)\n",
      "/home/mauro/Documents/U/monitoriaInv/verifyResults/crts-transient-recognition/notebooks/measurements.py:220: RankWarning: Polyfit may be poorly conditioned\n",
      "  p4 = np.polyfit(x, y, 4)\n",
      "/home/mauro/Documents/U/monitoriaInv/verifyResults/crts-transient-recognition/notebooks/measurements.py:220: RankWarning: Polyfit may be poorly conditioned\n",
      "  p4 = np.polyfit(x, y, 4)\n",
      "/home/mauro/Documents/U/monitoriaInv/verifyResults/crts-transient-recognition/notebooks/measurements.py:220: RankWarning: Polyfit may be poorly conditioned\n",
      "  p4 = np.polyfit(x, y, 4)\n",
      "/home/mauro/Documents/U/monitoriaInv/verifyResults/crts-transient-recognition/notebooks/measurements.py:220: RankWarning: Polyfit may be poorly conditioned\n",
      "  p4 = np.polyfit(x, y, 4)\n",
      "/home/mauro/Documents/U/monitoriaInv/verifyResults/crts-transient-recognition/notebooks/measurements.py:220: RankWarning: Polyfit may be poorly conditioned\n",
      "  p4 = np.polyfit(x, y, 4)\n",
      "/home/mauro/Documents/U/monitoriaInv/verifyResults/crts-transient-recognition/notebooks/measurements.py:220: RankWarning: Polyfit may be poorly conditioned\n",
      "  p4 = np.polyfit(x, y, 4)\n",
      "/home/mauro/Documents/U/monitoriaInv/verifyResults/crts-transient-recognition/notebooks/measurements.py:220: RankWarning: Polyfit may be poorly conditioned\n",
      "  p4 = np.polyfit(x, y, 4)\n",
      "/home/mauro/Documents/U/monitoriaInv/verifyResults/crts-transient-recognition/notebooks/measurements.py:220: RankWarning: Polyfit may be poorly conditioned\n",
      "  p4 = np.polyfit(x, y, 4)\n",
      "/home/mauro/Documents/U/monitoriaInv/verifyResults/crts-transient-recognition/notebooks/measurements.py:220: RankWarning: Polyfit may be poorly conditioned\n",
      "  p4 = np.polyfit(x, y, 4)\n",
      "/home/mauro/Documents/U/monitoriaInv/verifyResults/crts-transient-recognition/notebooks/measurements.py:220: RankWarning: Polyfit may be poorly conditioned\n",
      "  p4 = np.polyfit(x, y, 4)\n",
      "/home/mauro/Documents/U/monitoriaInv/verifyResults/crts-transient-recognition/notebooks/measurements.py:220: RankWarning: Polyfit may be poorly conditioned\n",
      "  p4 = np.polyfit(x, y, 4)\n",
      "/home/mauro/Documents/U/monitoriaInv/verifyResults/crts-transient-recognition/notebooks/measurements.py:220: RankWarning: Polyfit may be poorly conditioned\n",
      "  p4 = np.polyfit(x, y, 4)\n",
      "/home/mauro/Documents/U/monitoriaInv/verifyResults/crts-transient-recognition/notebooks/measurements.py:220: RankWarning: Polyfit may be poorly conditioned\n",
      "  p4 = np.polyfit(x, y, 4)\n",
      "/home/mauro/Documents/U/monitoriaInv/verifyResults/crts-transient-recognition/notebooks/measurements.py:220: RankWarning: Polyfit may be poorly conditioned\n",
      "  p4 = np.polyfit(x, y, 4)\n",
      "/home/mauro/Documents/U/monitoriaInv/verifyResults/crts-transient-recognition/notebooks/measurements.py:220: RankWarning: Polyfit may be poorly conditioned\n",
      "  p4 = np.polyfit(x, y, 4)\n",
      "/home/mauro/Documents/U/monitoriaInv/verifyResults/crts-transient-recognition/notebooks/measurements.py:220: RankWarning: Polyfit may be poorly conditioned\n",
      "  p4 = np.polyfit(x, y, 4)\n",
      "/home/mauro/Documents/U/monitoriaInv/verifyResults/crts-transient-recognition/notebooks/measurements.py:220: RankWarning: Polyfit may be poorly conditioned\n",
      "  p4 = np.polyfit(x, y, 4)\n",
      "/home/mauro/Documents/U/monitoriaInv/verifyResults/crts-transient-recognition/notebooks/measurements.py:220: RankWarning: Polyfit may be poorly conditioned\n",
      "  p4 = np.polyfit(x, y, 4)\n",
      "/home/mauro/Documents/U/monitoriaInv/verifyResults/crts-transient-recognition/notebooks/measurements.py:220: RankWarning: Polyfit may be poorly conditioned\n",
      "  p4 = np.polyfit(x, y, 4)\n",
      "/home/mauro/Documents/U/monitoriaInv/verifyResults/crts-transient-recognition/notebooks/measurements.py:220: RankWarning: Polyfit may be poorly conditioned\n",
      "  p4 = np.polyfit(x, y, 4)\n",
      "/home/mauro/Documents/U/monitoriaInv/verifyResults/crts-transient-recognition/notebooks/measurements.py:220: RankWarning: Polyfit may be poorly conditioned\n",
      "  p4 = np.polyfit(x, y, 4)\n"
     ]
    },
    {
     "name": "stdout",
     "output_type": "stream",
     "text": [
      "0 / 35310\n",
      "3531 / 35310\n"
     ]
    },
    {
     "name": "stderr",
     "output_type": "stream",
     "text": [
      "/home/mauro/Documents/U/monitoriaInv/verifyResults/crts-transient-recognition/notebooks/measurements.py:220: RankWarning: Polyfit may be poorly conditioned\n",
      "  p4 = np.polyfit(x, y, 4)\n",
      "/home/mauro/Documents/U/monitoriaInv/verifyResults/crts-transient-recognition/notebooks/measurements.py:220: RankWarning: Polyfit may be poorly conditioned\n",
      "  p4 = np.polyfit(x, y, 4)\n",
      "/home/mauro/Documents/U/monitoriaInv/verifyResults/crts-transient-recognition/notebooks/measurements.py:220: RankWarning: Polyfit may be poorly conditioned\n",
      "  p4 = np.polyfit(x, y, 4)\n",
      "/home/mauro/Documents/U/monitoriaInv/verifyResults/crts-transient-recognition/notebooks/measurements.py:220: RankWarning: Polyfit may be poorly conditioned\n",
      "  p4 = np.polyfit(x, y, 4)\n",
      "/home/mauro/Documents/U/monitoriaInv/verifyResults/crts-transient-recognition/notebooks/measurements.py:220: RankWarning: Polyfit may be poorly conditioned\n",
      "  p4 = np.polyfit(x, y, 4)\n",
      "/home/mauro/Documents/U/monitoriaInv/verifyResults/crts-transient-recognition/notebooks/measurements.py:220: RankWarning: Polyfit may be poorly conditioned\n",
      "  p4 = np.polyfit(x, y, 4)\n",
      "/home/mauro/Documents/U/monitoriaInv/verifyResults/crts-transient-recognition/notebooks/measurements.py:220: RankWarning: Polyfit may be poorly conditioned\n",
      "  p4 = np.polyfit(x, y, 4)\n",
      "/home/mauro/Documents/U/monitoriaInv/verifyResults/crts-transient-recognition/notebooks/measurements.py:220: RankWarning: Polyfit may be poorly conditioned\n",
      "  p4 = np.polyfit(x, y, 4)\n",
      "/home/mauro/Documents/U/monitoriaInv/verifyResults/crts-transient-recognition/notebooks/measurements.py:220: RankWarning: Polyfit may be poorly conditioned\n",
      "  p4 = np.polyfit(x, y, 4)\n",
      "/home/mauro/Documents/U/monitoriaInv/verifyResults/crts-transient-recognition/notebooks/measurements.py:220: RankWarning: Polyfit may be poorly conditioned\n",
      "  p4 = np.polyfit(x, y, 4)\n",
      "/home/mauro/Documents/U/monitoriaInv/verifyResults/crts-transient-recognition/notebooks/measurements.py:220: RankWarning: Polyfit may be poorly conditioned\n",
      "  p4 = np.polyfit(x, y, 4)\n",
      "/home/mauro/Documents/U/monitoriaInv/verifyResults/crts-transient-recognition/notebooks/measurements.py:220: RankWarning: Polyfit may be poorly conditioned\n",
      "  p4 = np.polyfit(x, y, 4)\n",
      "/home/mauro/Documents/U/monitoriaInv/verifyResults/crts-transient-recognition/notebooks/measurements.py:220: RankWarning: Polyfit may be poorly conditioned\n",
      "  p4 = np.polyfit(x, y, 4)\n",
      "/home/mauro/Documents/U/monitoriaInv/verifyResults/crts-transient-recognition/notebooks/measurements.py:220: RankWarning: Polyfit may be poorly conditioned\n",
      "  p4 = np.polyfit(x, y, 4)\n",
      "/home/mauro/Documents/U/monitoriaInv/verifyResults/crts-transient-recognition/notebooks/measurements.py:220: RankWarning: Polyfit may be poorly conditioned\n",
      "  p4 = np.polyfit(x, y, 4)\n",
      "/home/mauro/Documents/U/monitoriaInv/verifyResults/crts-transient-recognition/notebooks/measurements.py:220: RankWarning: Polyfit may be poorly conditioned\n",
      "  p4 = np.polyfit(x, y, 4)\n",
      "/home/mauro/Documents/U/monitoriaInv/verifyResults/crts-transient-recognition/notebooks/measurements.py:220: RankWarning: Polyfit may be poorly conditioned\n",
      "  p4 = np.polyfit(x, y, 4)\n",
      "/home/mauro/Documents/U/monitoriaInv/verifyResults/crts-transient-recognition/notebooks/measurements.py:220: RankWarning: Polyfit may be poorly conditioned\n",
      "  p4 = np.polyfit(x, y, 4)\n",
      "/home/mauro/Documents/U/monitoriaInv/verifyResults/crts-transient-recognition/notebooks/measurements.py:220: RankWarning: Polyfit may be poorly conditioned\n",
      "  p4 = np.polyfit(x, y, 4)\n",
      "/home/mauro/Documents/U/monitoriaInv/verifyResults/crts-transient-recognition/notebooks/measurements.py:220: RankWarning: Polyfit may be poorly conditioned\n",
      "  p4 = np.polyfit(x, y, 4)\n",
      "/home/mauro/Documents/U/monitoriaInv/verifyResults/crts-transient-recognition/notebooks/measurements.py:220: RankWarning: Polyfit may be poorly conditioned\n",
      "  p4 = np.polyfit(x, y, 4)\n",
      "/home/mauro/Documents/U/monitoriaInv/verifyResults/crts-transient-recognition/notebooks/measurements.py:220: RankWarning: Polyfit may be poorly conditioned\n",
      "  p4 = np.polyfit(x, y, 4)\n",
      "/home/mauro/Documents/U/monitoriaInv/verifyResults/crts-transient-recognition/notebooks/measurements.py:220: RankWarning: Polyfit may be poorly conditioned\n",
      "  p4 = np.polyfit(x, y, 4)\n",
      "/home/mauro/Documents/U/monitoriaInv/verifyResults/crts-transient-recognition/notebooks/measurements.py:220: RankWarning: Polyfit may be poorly conditioned\n",
      "  p4 = np.polyfit(x, y, 4)\n"
     ]
    },
    {
     "name": "stdout",
     "output_type": "stream",
     "text": [
      "7062 / 35310\n"
     ]
    },
    {
     "name": "stderr",
     "output_type": "stream",
     "text": [
      "/home/mauro/Documents/U/monitoriaInv/verifyResults/crts-transient-recognition/notebooks/measurements.py:220: RankWarning: Polyfit may be poorly conditioned\n",
      "  p4 = np.polyfit(x, y, 4)\n",
      "/home/mauro/Documents/U/monitoriaInv/verifyResults/crts-transient-recognition/notebooks/measurements.py:220: RankWarning: Polyfit may be poorly conditioned\n",
      "  p4 = np.polyfit(x, y, 4)\n",
      "/home/mauro/Documents/U/monitoriaInv/verifyResults/crts-transient-recognition/notebooks/measurements.py:220: RankWarning: Polyfit may be poorly conditioned\n",
      "  p4 = np.polyfit(x, y, 4)\n",
      "/home/mauro/Documents/U/monitoriaInv/verifyResults/crts-transient-recognition/notebooks/measurements.py:220: RankWarning: Polyfit may be poorly conditioned\n",
      "  p4 = np.polyfit(x, y, 4)\n",
      "/home/mauro/Documents/U/monitoriaInv/verifyResults/crts-transient-recognition/notebooks/measurements.py:220: RankWarning: Polyfit may be poorly conditioned\n",
      "  p4 = np.polyfit(x, y, 4)\n",
      "/home/mauro/Documents/U/monitoriaInv/verifyResults/crts-transient-recognition/notebooks/measurements.py:220: RankWarning: Polyfit may be poorly conditioned\n",
      "  p4 = np.polyfit(x, y, 4)\n",
      "/home/mauro/Documents/U/monitoriaInv/verifyResults/crts-transient-recognition/notebooks/measurements.py:220: RankWarning: Polyfit may be poorly conditioned\n",
      "  p4 = np.polyfit(x, y, 4)\n",
      "/home/mauro/Documents/U/monitoriaInv/verifyResults/crts-transient-recognition/notebooks/measurements.py:220: RankWarning: Polyfit may be poorly conditioned\n",
      "  p4 = np.polyfit(x, y, 4)\n",
      "/home/mauro/Documents/U/monitoriaInv/verifyResults/crts-transient-recognition/notebooks/measurements.py:220: RankWarning: Polyfit may be poorly conditioned\n",
      "  p4 = np.polyfit(x, y, 4)\n",
      "/home/mauro/Documents/U/monitoriaInv/verifyResults/crts-transient-recognition/notebooks/measurements.py:220: RankWarning: Polyfit may be poorly conditioned\n",
      "  p4 = np.polyfit(x, y, 4)\n",
      "/home/mauro/Documents/U/monitoriaInv/verifyResults/crts-transient-recognition/notebooks/measurements.py:220: RankWarning: Polyfit may be poorly conditioned\n",
      "  p4 = np.polyfit(x, y, 4)\n",
      "/home/mauro/Documents/U/monitoriaInv/verifyResults/crts-transient-recognition/notebooks/measurements.py:220: RankWarning: Polyfit may be poorly conditioned\n",
      "  p4 = np.polyfit(x, y, 4)\n",
      "/home/mauro/Documents/U/monitoriaInv/verifyResults/crts-transient-recognition/notebooks/measurements.py:220: RankWarning: Polyfit may be poorly conditioned\n",
      "  p4 = np.polyfit(x, y, 4)\n",
      "/home/mauro/Documents/U/monitoriaInv/verifyResults/crts-transient-recognition/notebooks/measurements.py:220: RankWarning: Polyfit may be poorly conditioned\n",
      "  p4 = np.polyfit(x, y, 4)\n",
      "/home/mauro/Documents/U/monitoriaInv/verifyResults/crts-transient-recognition/notebooks/measurements.py:220: RankWarning: Polyfit may be poorly conditioned\n",
      "  p4 = np.polyfit(x, y, 4)\n",
      "/home/mauro/Documents/U/monitoriaInv/verifyResults/crts-transient-recognition/notebooks/measurements.py:220: RankWarning: Polyfit may be poorly conditioned\n",
      "  p4 = np.polyfit(x, y, 4)\n",
      "/home/mauro/Documents/U/monitoriaInv/verifyResults/crts-transient-recognition/notebooks/measurements.py:220: RankWarning: Polyfit may be poorly conditioned\n",
      "  p4 = np.polyfit(x, y, 4)\n",
      "/home/mauro/Documents/U/monitoriaInv/verifyResults/crts-transient-recognition/notebooks/measurements.py:220: RankWarning: Polyfit may be poorly conditioned\n",
      "  p4 = np.polyfit(x, y, 4)\n",
      "/home/mauro/Documents/U/monitoriaInv/verifyResults/crts-transient-recognition/notebooks/measurements.py:220: RankWarning: Polyfit may be poorly conditioned\n",
      "  p4 = np.polyfit(x, y, 4)\n"
     ]
    },
    {
     "name": "stdout",
     "output_type": "stream",
     "text": [
      "0 / 35310\n"
     ]
    },
    {
     "name": "stderr",
     "output_type": "stream",
     "text": [
      "/home/mauro/Documents/U/monitoriaInv/verifyResults/crts-transient-recognition/notebooks/measurements.py:220: RankWarning: Polyfit may be poorly conditioned\n",
      "  p4 = np.polyfit(x, y, 4)\n",
      "/home/mauro/Documents/U/monitoriaInv/verifyResults/crts-transient-recognition/notebooks/measurements.py:220: RankWarning: Polyfit may be poorly conditioned\n",
      "  p4 = np.polyfit(x, y, 4)\n",
      "/home/mauro/Documents/U/monitoriaInv/verifyResults/crts-transient-recognition/notebooks/measurements.py:220: RankWarning: Polyfit may be poorly conditioned\n",
      "  p4 = np.polyfit(x, y, 4)\n",
      "/home/mauro/Documents/U/monitoriaInv/verifyResults/crts-transient-recognition/notebooks/measurements.py:220: RankWarning: Polyfit may be poorly conditioned\n",
      "  p4 = np.polyfit(x, y, 4)\n",
      "/home/mauro/Documents/U/monitoriaInv/verifyResults/crts-transient-recognition/notebooks/measurements.py:220: RankWarning: Polyfit may be poorly conditioned\n",
      "  p4 = np.polyfit(x, y, 4)\n",
      "/home/mauro/Documents/U/monitoriaInv/verifyResults/crts-transient-recognition/notebooks/measurements.py:220: RankWarning: Polyfit may be poorly conditioned\n",
      "  p4 = np.polyfit(x, y, 4)\n",
      "/home/mauro/Documents/U/monitoriaInv/verifyResults/crts-transient-recognition/notebooks/measurements.py:220: RankWarning: Polyfit may be poorly conditioned\n",
      "  p4 = np.polyfit(x, y, 4)\n",
      "/home/mauro/Documents/U/monitoriaInv/verifyResults/crts-transient-recognition/notebooks/measurements.py:220: RankWarning: Polyfit may be poorly conditioned\n",
      "  p4 = np.polyfit(x, y, 4)\n",
      "/home/mauro/Documents/U/monitoriaInv/verifyResults/crts-transient-recognition/notebooks/measurements.py:220: RankWarning: Polyfit may be poorly conditioned\n",
      "  p4 = np.polyfit(x, y, 4)\n",
      "/home/mauro/Documents/U/monitoriaInv/verifyResults/crts-transient-recognition/notebooks/measurements.py:220: RankWarning: Polyfit may be poorly conditioned\n",
      "  p4 = np.polyfit(x, y, 4)\n",
      "/home/mauro/Documents/U/monitoriaInv/verifyResults/crts-transient-recognition/notebooks/measurements.py:220: RankWarning: Polyfit may be poorly conditioned\n",
      "  p4 = np.polyfit(x, y, 4)\n",
      "/home/mauro/Documents/U/monitoriaInv/verifyResults/crts-transient-recognition/notebooks/measurements.py:220: RankWarning: Polyfit may be poorly conditioned\n",
      "  p4 = np.polyfit(x, y, 4)\n",
      "/home/mauro/Documents/U/monitoriaInv/verifyResults/crts-transient-recognition/notebooks/measurements.py:220: RankWarning: Polyfit may be poorly conditioned\n",
      "  p4 = np.polyfit(x, y, 4)\n",
      "/home/mauro/Documents/U/monitoriaInv/verifyResults/crts-transient-recognition/notebooks/measurements.py:220: RankWarning: Polyfit may be poorly conditioned\n",
      "  p4 = np.polyfit(x, y, 4)\n",
      "/home/mauro/Documents/U/monitoriaInv/verifyResults/crts-transient-recognition/notebooks/measurements.py:220: RankWarning: Polyfit may be poorly conditioned\n",
      "  p4 = np.polyfit(x, y, 4)\n",
      "/home/mauro/Documents/U/monitoriaInv/verifyResults/crts-transient-recognition/notebooks/measurements.py:220: RankWarning: Polyfit may be poorly conditioned\n",
      "  p4 = np.polyfit(x, y, 4)\n",
      "/home/mauro/Documents/U/monitoriaInv/verifyResults/crts-transient-recognition/notebooks/measurements.py:220: RankWarning: Polyfit may be poorly conditioned\n",
      "  p4 = np.polyfit(x, y, 4)\n",
      "/home/mauro/Documents/U/monitoriaInv/verifyResults/crts-transient-recognition/notebooks/measurements.py:220: RankWarning: Polyfit may be poorly conditioned\n",
      "  p4 = np.polyfit(x, y, 4)\n",
      "/home/mauro/Documents/U/monitoriaInv/verifyResults/crts-transient-recognition/notebooks/measurements.py:220: RankWarning: Polyfit may be poorly conditioned\n",
      "  p4 = np.polyfit(x, y, 4)\n",
      "/home/mauro/Documents/U/monitoriaInv/verifyResults/crts-transient-recognition/notebooks/measurements.py:220: RankWarning: Polyfit may be poorly conditioned\n",
      "  p4 = np.polyfit(x, y, 4)\n",
      "/home/mauro/Documents/U/monitoriaInv/verifyResults/crts-transient-recognition/notebooks/measurements.py:220: RankWarning: Polyfit may be poorly conditioned\n",
      "  p4 = np.polyfit(x, y, 4)\n",
      "/home/mauro/Documents/U/monitoriaInv/verifyResults/crts-transient-recognition/notebooks/measurements.py:220: RankWarning: Polyfit may be poorly conditioned\n",
      "  p4 = np.polyfit(x, y, 4)\n",
      "/home/mauro/Documents/U/monitoriaInv/verifyResults/crts-transient-recognition/notebooks/measurements.py:220: RankWarning: Polyfit may be poorly conditioned\n",
      "  p4 = np.polyfit(x, y, 4)\n",
      "/home/mauro/Documents/U/monitoriaInv/verifyResults/crts-transient-recognition/notebooks/measurements.py:220: RankWarning: Polyfit may be poorly conditioned\n",
      "  p4 = np.polyfit(x, y, 4)\n",
      "/home/mauro/Documents/U/monitoriaInv/verifyResults/crts-transient-recognition/notebooks/measurements.py:220: RankWarning: Polyfit may be poorly conditioned\n",
      "  p4 = np.polyfit(x, y, 4)\n",
      "/home/mauro/Documents/U/monitoriaInv/verifyResults/crts-transient-recognition/notebooks/measurements.py:220: RankWarning: Polyfit may be poorly conditioned\n",
      "  p4 = np.polyfit(x, y, 4)\n",
      "/home/mauro/Documents/U/monitoriaInv/verifyResults/crts-transient-recognition/notebooks/measurements.py:220: RankWarning: Polyfit may be poorly conditioned\n",
      "  p4 = np.polyfit(x, y, 4)\n",
      "/home/mauro/Documents/U/monitoriaInv/verifyResults/crts-transient-recognition/notebooks/measurements.py:220: RankWarning: Polyfit may be poorly conditioned\n",
      "  p4 = np.polyfit(x, y, 4)\n",
      "/home/mauro/Documents/U/monitoriaInv/verifyResults/crts-transient-recognition/notebooks/measurements.py:220: RankWarning: Polyfit may be poorly conditioned\n",
      "  p4 = np.polyfit(x, y, 4)\n",
      "/home/mauro/Documents/U/monitoriaInv/verifyResults/crts-transient-recognition/notebooks/measurements.py:220: RankWarning: Polyfit may be poorly conditioned\n",
      "  p4 = np.polyfit(x, y, 4)\n",
      "/home/mauro/Documents/U/monitoriaInv/verifyResults/crts-transient-recognition/notebooks/measurements.py:220: RankWarning: Polyfit may be poorly conditioned\n",
      "  p4 = np.polyfit(x, y, 4)\n",
      "/home/mauro/Documents/U/monitoriaInv/verifyResults/crts-transient-recognition/notebooks/measurements.py:220: RankWarning: Polyfit may be poorly conditioned\n",
      "  p4 = np.polyfit(x, y, 4)\n",
      "/home/mauro/Documents/U/monitoriaInv/verifyResults/crts-transient-recognition/notebooks/measurements.py:220: RankWarning: Polyfit may be poorly conditioned\n",
      "  p4 = np.polyfit(x, y, 4)\n",
      "/home/mauro/Documents/U/monitoriaInv/verifyResults/crts-transient-recognition/notebooks/measurements.py:220: RankWarning: Polyfit may be poorly conditioned\n",
      "  p4 = np.polyfit(x, y, 4)\n",
      "/home/mauro/Documents/U/monitoriaInv/verifyResults/crts-transient-recognition/notebooks/measurements.py:220: RankWarning: Polyfit may be poorly conditioned\n",
      "  p4 = np.polyfit(x, y, 4)\n",
      "/home/mauro/Documents/U/monitoriaInv/verifyResults/crts-transient-recognition/notebooks/measurements.py:220: RankWarning: Polyfit may be poorly conditioned\n",
      "  p4 = np.polyfit(x, y, 4)\n",
      "/home/mauro/Documents/U/monitoriaInv/verifyResults/crts-transient-recognition/notebooks/measurements.py:220: RankWarning: Polyfit may be poorly conditioned\n",
      "  p4 = np.polyfit(x, y, 4)\n",
      "/home/mauro/Documents/U/monitoriaInv/verifyResults/crts-transient-recognition/notebooks/measurements.py:220: RankWarning: Polyfit may be poorly conditioned\n",
      "  p4 = np.polyfit(x, y, 4)\n",
      "/home/mauro/Documents/U/monitoriaInv/verifyResults/crts-transient-recognition/notebooks/measurements.py:220: RankWarning: Polyfit may be poorly conditioned\n",
      "  p4 = np.polyfit(x, y, 4)\n",
      "/home/mauro/Documents/U/monitoriaInv/verifyResults/crts-transient-recognition/notebooks/measurements.py:220: RankWarning: Polyfit may be poorly conditioned\n",
      "  p4 = np.polyfit(x, y, 4)\n",
      "/home/mauro/Documents/U/monitoriaInv/verifyResults/crts-transient-recognition/notebooks/measurements.py:220: RankWarning: Polyfit may be poorly conditioned\n",
      "  p4 = np.polyfit(x, y, 4)\n",
      "/home/mauro/Documents/U/monitoriaInv/verifyResults/crts-transient-recognition/notebooks/measurements.py:220: RankWarning: Polyfit may be poorly conditioned\n",
      "  p4 = np.polyfit(x, y, 4)\n",
      "/home/mauro/Documents/U/monitoriaInv/verifyResults/crts-transient-recognition/notebooks/measurements.py:220: RankWarning: Polyfit may be poorly conditioned\n",
      "  p4 = np.polyfit(x, y, 4)\n"
     ]
    },
    {
     "name": "stdout",
     "output_type": "stream",
     "text": [
      "0 / 35310\n"
     ]
    },
    {
     "name": "stderr",
     "output_type": "stream",
     "text": [
      "/home/mauro/Documents/U/monitoriaInv/verifyResults/crts-transient-recognition/notebooks/measurements.py:220: RankWarning: Polyfit may be poorly conditioned\n",
      "  p4 = np.polyfit(x, y, 4)\n",
      "/home/mauro/Documents/U/monitoriaInv/verifyResults/crts-transient-recognition/notebooks/measurements.py:220: RankWarning: Polyfit may be poorly conditioned\n",
      "  p4 = np.polyfit(x, y, 4)\n",
      "/home/mauro/Documents/U/monitoriaInv/verifyResults/crts-transient-recognition/notebooks/measurements.py:220: RankWarning: Polyfit may be poorly conditioned\n",
      "  p4 = np.polyfit(x, y, 4)\n",
      "/home/mauro/Documents/U/monitoriaInv/verifyResults/crts-transient-recognition/notebooks/measurements.py:220: RankWarning: Polyfit may be poorly conditioned\n",
      "  p4 = np.polyfit(x, y, 4)\n",
      "/home/mauro/Documents/U/monitoriaInv/verifyResults/crts-transient-recognition/notebooks/measurements.py:220: RankWarning: Polyfit may be poorly conditioned\n",
      "  p4 = np.polyfit(x, y, 4)\n",
      "/home/mauro/Documents/U/monitoriaInv/verifyResults/crts-transient-recognition/notebooks/measurements.py:220: RankWarning: Polyfit may be poorly conditioned\n",
      "  p4 = np.polyfit(x, y, 4)\n",
      "/home/mauro/Documents/U/monitoriaInv/verifyResults/crts-transient-recognition/notebooks/measurements.py:220: RankWarning: Polyfit may be poorly conditioned\n",
      "  p4 = np.polyfit(x, y, 4)\n",
      "/home/mauro/Documents/U/monitoriaInv/verifyResults/crts-transient-recognition/notebooks/measurements.py:220: RankWarning: Polyfit may be poorly conditioned\n",
      "  p4 = np.polyfit(x, y, 4)\n",
      "/home/mauro/Documents/U/monitoriaInv/verifyResults/crts-transient-recognition/notebooks/measurements.py:220: RankWarning: Polyfit may be poorly conditioned\n",
      "  p4 = np.polyfit(x, y, 4)\n",
      "/home/mauro/Documents/U/monitoriaInv/verifyResults/crts-transient-recognition/notebooks/measurements.py:220: RankWarning: Polyfit may be poorly conditioned\n",
      "  p4 = np.polyfit(x, y, 4)\n",
      "/home/mauro/Documents/U/monitoriaInv/verifyResults/crts-transient-recognition/notebooks/measurements.py:220: RankWarning: Polyfit may be poorly conditioned\n",
      "  p4 = np.polyfit(x, y, 4)\n",
      "/home/mauro/Documents/U/monitoriaInv/verifyResults/crts-transient-recognition/notebooks/measurements.py:220: RankWarning: Polyfit may be poorly conditioned\n",
      "  p4 = np.polyfit(x, y, 4)\n",
      "/home/mauro/Documents/U/monitoriaInv/verifyResults/crts-transient-recognition/notebooks/measurements.py:220: RankWarning: Polyfit may be poorly conditioned\n",
      "  p4 = np.polyfit(x, y, 4)\n",
      "/home/mauro/Documents/U/monitoriaInv/verifyResults/crts-transient-recognition/notebooks/measurements.py:220: RankWarning: Polyfit may be poorly conditioned\n",
      "  p4 = np.polyfit(x, y, 4)\n",
      "/home/mauro/Documents/U/monitoriaInv/verifyResults/crts-transient-recognition/notebooks/measurements.py:220: RankWarning: Polyfit may be poorly conditioned\n",
      "  p4 = np.polyfit(x, y, 4)\n",
      "/home/mauro/Documents/U/monitoriaInv/verifyResults/crts-transient-recognition/notebooks/measurements.py:220: RankWarning: Polyfit may be poorly conditioned\n",
      "  p4 = np.polyfit(x, y, 4)\n",
      "/home/mauro/Documents/U/monitoriaInv/verifyResults/crts-transient-recognition/notebooks/measurements.py:220: RankWarning: Polyfit may be poorly conditioned\n",
      "  p4 = np.polyfit(x, y, 4)\n",
      "/home/mauro/Documents/U/monitoriaInv/verifyResults/crts-transient-recognition/notebooks/measurements.py:220: RankWarning: Polyfit may be poorly conditioned\n",
      "  p4 = np.polyfit(x, y, 4)\n",
      "/home/mauro/Documents/U/monitoriaInv/verifyResults/crts-transient-recognition/notebooks/measurements.py:220: RankWarning: Polyfit may be poorly conditioned\n",
      "  p4 = np.polyfit(x, y, 4)\n",
      "/home/mauro/Documents/U/monitoriaInv/verifyResults/crts-transient-recognition/notebooks/measurements.py:220: RankWarning: Polyfit may be poorly conditioned\n",
      "  p4 = np.polyfit(x, y, 4)\n",
      "/home/mauro/Documents/U/monitoriaInv/verifyResults/crts-transient-recognition/notebooks/measurements.py:220: RankWarning: Polyfit may be poorly conditioned\n",
      "  p4 = np.polyfit(x, y, 4)\n",
      "/home/mauro/Documents/U/monitoriaInv/verifyResults/crts-transient-recognition/notebooks/measurements.py:220: RankWarning: Polyfit may be poorly conditioned\n",
      "  p4 = np.polyfit(x, y, 4)\n",
      "/home/mauro/Documents/U/monitoriaInv/verifyResults/crts-transient-recognition/notebooks/measurements.py:220: RankWarning: Polyfit may be poorly conditioned\n",
      "  p4 = np.polyfit(x, y, 4)\n",
      "/home/mauro/Documents/U/monitoriaInv/verifyResults/crts-transient-recognition/notebooks/measurements.py:220: RankWarning: Polyfit may be poorly conditioned\n",
      "  p4 = np.polyfit(x, y, 4)\n",
      "/home/mauro/Documents/U/monitoriaInv/verifyResults/crts-transient-recognition/notebooks/measurements.py:220: RankWarning: Polyfit may be poorly conditioned\n",
      "  p4 = np.polyfit(x, y, 4)\n",
      "/home/mauro/Documents/U/monitoriaInv/verifyResults/crts-transient-recognition/notebooks/measurements.py:220: RankWarning: Polyfit may be poorly conditioned\n",
      "  p4 = np.polyfit(x, y, 4)\n",
      "/home/mauro/Documents/U/monitoriaInv/verifyResults/crts-transient-recognition/notebooks/measurements.py:220: RankWarning: Polyfit may be poorly conditioned\n",
      "  p4 = np.polyfit(x, y, 4)\n",
      "/home/mauro/Documents/U/monitoriaInv/verifyResults/crts-transient-recognition/notebooks/measurements.py:220: RankWarning: Polyfit may be poorly conditioned\n",
      "  p4 = np.polyfit(x, y, 4)\n",
      "/home/mauro/Documents/U/monitoriaInv/verifyResults/crts-transient-recognition/notebooks/measurements.py:220: RankWarning: Polyfit may be poorly conditioned\n",
      "  p4 = np.polyfit(x, y, 4)\n",
      "/home/mauro/Documents/U/monitoriaInv/verifyResults/crts-transient-recognition/notebooks/measurements.py:220: RankWarning: Polyfit may be poorly conditioned\n",
      "  p4 = np.polyfit(x, y, 4)\n",
      "/home/mauro/Documents/U/monitoriaInv/verifyResults/crts-transient-recognition/notebooks/measurements.py:220: RankWarning: Polyfit may be poorly conditioned\n",
      "  p4 = np.polyfit(x, y, 4)\n",
      "/home/mauro/Documents/U/monitoriaInv/verifyResults/crts-transient-recognition/notebooks/measurements.py:220: RankWarning: Polyfit may be poorly conditioned\n",
      "  p4 = np.polyfit(x, y, 4)\n",
      "/home/mauro/Documents/U/monitoriaInv/verifyResults/crts-transient-recognition/notebooks/measurements.py:220: RankWarning: Polyfit may be poorly conditioned\n",
      "  p4 = np.polyfit(x, y, 4)\n",
      "/home/mauro/Documents/U/monitoriaInv/verifyResults/crts-transient-recognition/notebooks/measurements.py:220: RankWarning: Polyfit may be poorly conditioned\n",
      "  p4 = np.polyfit(x, y, 4)\n",
      "/home/mauro/Documents/U/monitoriaInv/verifyResults/crts-transient-recognition/notebooks/measurements.py:220: RankWarning: Polyfit may be poorly conditioned\n",
      "  p4 = np.polyfit(x, y, 4)\n",
      "/home/mauro/Documents/U/monitoriaInv/verifyResults/crts-transient-recognition/notebooks/measurements.py:220: RankWarning: Polyfit may be poorly conditioned\n",
      "  p4 = np.polyfit(x, y, 4)\n",
      "/home/mauro/Documents/U/monitoriaInv/verifyResults/crts-transient-recognition/notebooks/measurements.py:220: RankWarning: Polyfit may be poorly conditioned\n",
      "  p4 = np.polyfit(x, y, 4)\n",
      "/home/mauro/Documents/U/monitoriaInv/verifyResults/crts-transient-recognition/notebooks/measurements.py:220: RankWarning: Polyfit may be poorly conditioned\n",
      "  p4 = np.polyfit(x, y, 4)\n",
      "/home/mauro/Documents/U/monitoriaInv/verifyResults/crts-transient-recognition/notebooks/measurements.py:220: RankWarning: Polyfit may be poorly conditioned\n",
      "  p4 = np.polyfit(x, y, 4)\n",
      "/home/mauro/Documents/U/monitoriaInv/verifyResults/crts-transient-recognition/notebooks/measurements.py:220: RankWarning: Polyfit may be poorly conditioned\n",
      "  p4 = np.polyfit(x, y, 4)\n",
      "/home/mauro/Documents/U/monitoriaInv/verifyResults/crts-transient-recognition/notebooks/measurements.py:220: RankWarning: Polyfit may be poorly conditioned\n",
      "  p4 = np.polyfit(x, y, 4)\n",
      "/home/mauro/Documents/U/monitoriaInv/verifyResults/crts-transient-recognition/notebooks/measurements.py:220: RankWarning: Polyfit may be poorly conditioned\n",
      "  p4 = np.polyfit(x, y, 4)\n",
      "/home/mauro/Documents/U/monitoriaInv/verifyResults/crts-transient-recognition/notebooks/measurements.py:220: RankWarning: Polyfit may be poorly conditioned\n",
      "  p4 = np.polyfit(x, y, 4)\n"
     ]
    },
    {
     "name": "stdout",
     "output_type": "stream",
     "text": [
      "0 / 35310\n",
      "7062 / 35310\n"
     ]
    },
    {
     "name": "stderr",
     "output_type": "stream",
     "text": [
      "/home/mauro/Documents/U/monitoriaInv/verifyResults/crts-transient-recognition/notebooks/measurements.py:220: RankWarning: Polyfit may be poorly conditioned\n",
      "  p4 = np.polyfit(x, y, 4)\n",
      "/home/mauro/Documents/U/monitoriaInv/verifyResults/crts-transient-recognition/notebooks/measurements.py:220: RankWarning: Polyfit may be poorly conditioned\n",
      "  p4 = np.polyfit(x, y, 4)\n",
      "/home/mauro/Documents/U/monitoriaInv/verifyResults/crts-transient-recognition/notebooks/measurements.py:220: RankWarning: Polyfit may be poorly conditioned\n",
      "  p4 = np.polyfit(x, y, 4)\n",
      "/home/mauro/Documents/U/monitoriaInv/verifyResults/crts-transient-recognition/notebooks/measurements.py:220: RankWarning: Polyfit may be poorly conditioned\n",
      "  p4 = np.polyfit(x, y, 4)\n",
      "/home/mauro/Documents/U/monitoriaInv/verifyResults/crts-transient-recognition/notebooks/measurements.py:220: RankWarning: Polyfit may be poorly conditioned\n",
      "  p4 = np.polyfit(x, y, 4)\n",
      "/home/mauro/Documents/U/monitoriaInv/verifyResults/crts-transient-recognition/notebooks/measurements.py:220: RankWarning: Polyfit may be poorly conditioned\n",
      "  p4 = np.polyfit(x, y, 4)\n",
      "/home/mauro/Documents/U/monitoriaInv/verifyResults/crts-transient-recognition/notebooks/measurements.py:220: RankWarning: Polyfit may be poorly conditioned\n",
      "  p4 = np.polyfit(x, y, 4)\n",
      "/home/mauro/Documents/U/monitoriaInv/verifyResults/crts-transient-recognition/notebooks/measurements.py:220: RankWarning: Polyfit may be poorly conditioned\n",
      "  p4 = np.polyfit(x, y, 4)\n",
      "/home/mauro/Documents/U/monitoriaInv/verifyResults/crts-transient-recognition/notebooks/measurements.py:220: RankWarning: Polyfit may be poorly conditioned\n",
      "  p4 = np.polyfit(x, y, 4)\n",
      "/home/mauro/Documents/U/monitoriaInv/verifyResults/crts-transient-recognition/notebooks/measurements.py:220: RankWarning: Polyfit may be poorly conditioned\n",
      "  p4 = np.polyfit(x, y, 4)\n",
      "/home/mauro/Documents/U/monitoriaInv/verifyResults/crts-transient-recognition/notebooks/measurements.py:220: RankWarning: Polyfit may be poorly conditioned\n",
      "  p4 = np.polyfit(x, y, 4)\n",
      "/home/mauro/Documents/U/monitoriaInv/verifyResults/crts-transient-recognition/notebooks/measurements.py:220: RankWarning: Polyfit may be poorly conditioned\n",
      "  p4 = np.polyfit(x, y, 4)\n",
      "/home/mauro/Documents/U/monitoriaInv/verifyResults/crts-transient-recognition/notebooks/measurements.py:220: RankWarning: Polyfit may be poorly conditioned\n",
      "  p4 = np.polyfit(x, y, 4)\n",
      "/home/mauro/Documents/U/monitoriaInv/verifyResults/crts-transient-recognition/notebooks/measurements.py:220: RankWarning: Polyfit may be poorly conditioned\n",
      "  p4 = np.polyfit(x, y, 4)\n",
      "/home/mauro/Documents/U/monitoriaInv/verifyResults/crts-transient-recognition/notebooks/measurements.py:220: RankWarning: Polyfit may be poorly conditioned\n",
      "  p4 = np.polyfit(x, y, 4)\n",
      "/home/mauro/Documents/U/monitoriaInv/verifyResults/crts-transient-recognition/notebooks/measurements.py:220: RankWarning: Polyfit may be poorly conditioned\n",
      "  p4 = np.polyfit(x, y, 4)\n",
      "/home/mauro/Documents/U/monitoriaInv/verifyResults/crts-transient-recognition/notebooks/measurements.py:220: RankWarning: Polyfit may be poorly conditioned\n",
      "  p4 = np.polyfit(x, y, 4)\n",
      "/home/mauro/Documents/U/monitoriaInv/verifyResults/crts-transient-recognition/notebooks/measurements.py:220: RankWarning: Polyfit may be poorly conditioned\n",
      "  p4 = np.polyfit(x, y, 4)\n",
      "/home/mauro/Documents/U/monitoriaInv/verifyResults/crts-transient-recognition/notebooks/measurements.py:220: RankWarning: Polyfit may be poorly conditioned\n",
      "  p4 = np.polyfit(x, y, 4)\n",
      "/home/mauro/Documents/U/monitoriaInv/verifyResults/crts-transient-recognition/notebooks/measurements.py:220: RankWarning: Polyfit may be poorly conditioned\n",
      "  p4 = np.polyfit(x, y, 4)\n",
      "/home/mauro/Documents/U/monitoriaInv/verifyResults/crts-transient-recognition/notebooks/measurements.py:220: RankWarning: Polyfit may be poorly conditioned\n",
      "  p4 = np.polyfit(x, y, 4)\n",
      "/home/mauro/Documents/U/monitoriaInv/verifyResults/crts-transient-recognition/notebooks/measurements.py:220: RankWarning: Polyfit may be poorly conditioned\n",
      "  p4 = np.polyfit(x, y, 4)\n",
      "/home/mauro/Documents/U/monitoriaInv/verifyResults/crts-transient-recognition/notebooks/measurements.py:220: RankWarning: Polyfit may be poorly conditioned\n",
      "  p4 = np.polyfit(x, y, 4)\n",
      "/home/mauro/Documents/U/monitoriaInv/verifyResults/crts-transient-recognition/notebooks/measurements.py:220: RankWarning: Polyfit may be poorly conditioned\n",
      "  p4 = np.polyfit(x, y, 4)\n"
     ]
    },
    {
     "name": "stdout",
     "output_type": "stream",
     "text": [
      "14124 / 35310\n"
     ]
    },
    {
     "name": "stderr",
     "output_type": "stream",
     "text": [
      "/home/mauro/Documents/U/monitoriaInv/verifyResults/crts-transient-recognition/notebooks/measurements.py:220: RankWarning: Polyfit may be poorly conditioned\n",
      "  p4 = np.polyfit(x, y, 4)\n",
      "/home/mauro/Documents/U/monitoriaInv/verifyResults/crts-transient-recognition/notebooks/measurements.py:220: RankWarning: Polyfit may be poorly conditioned\n",
      "  p4 = np.polyfit(x, y, 4)\n",
      "/home/mauro/Documents/U/monitoriaInv/verifyResults/crts-transient-recognition/notebooks/measurements.py:220: RankWarning: Polyfit may be poorly conditioned\n",
      "  p4 = np.polyfit(x, y, 4)\n",
      "/home/mauro/Documents/U/monitoriaInv/verifyResults/crts-transient-recognition/notebooks/measurements.py:220: RankWarning: Polyfit may be poorly conditioned\n",
      "  p4 = np.polyfit(x, y, 4)\n",
      "/home/mauro/Documents/U/monitoriaInv/verifyResults/crts-transient-recognition/notebooks/measurements.py:220: RankWarning: Polyfit may be poorly conditioned\n",
      "  p4 = np.polyfit(x, y, 4)\n",
      "/home/mauro/Documents/U/monitoriaInv/verifyResults/crts-transient-recognition/notebooks/measurements.py:220: RankWarning: Polyfit may be poorly conditioned\n",
      "  p4 = np.polyfit(x, y, 4)\n",
      "/home/mauro/Documents/U/monitoriaInv/verifyResults/crts-transient-recognition/notebooks/measurements.py:220: RankWarning: Polyfit may be poorly conditioned\n",
      "  p4 = np.polyfit(x, y, 4)\n",
      "/home/mauro/Documents/U/monitoriaInv/verifyResults/crts-transient-recognition/notebooks/measurements.py:220: RankWarning: Polyfit may be poorly conditioned\n",
      "  p4 = np.polyfit(x, y, 4)\n",
      "/home/mauro/Documents/U/monitoriaInv/verifyResults/crts-transient-recognition/notebooks/measurements.py:220: RankWarning: Polyfit may be poorly conditioned\n",
      "  p4 = np.polyfit(x, y, 4)\n",
      "/home/mauro/Documents/U/monitoriaInv/verifyResults/crts-transient-recognition/notebooks/measurements.py:220: RankWarning: Polyfit may be poorly conditioned\n",
      "  p4 = np.polyfit(x, y, 4)\n",
      "/home/mauro/Documents/U/monitoriaInv/verifyResults/crts-transient-recognition/notebooks/measurements.py:220: RankWarning: Polyfit may be poorly conditioned\n",
      "  p4 = np.polyfit(x, y, 4)\n",
      "/home/mauro/Documents/U/monitoriaInv/verifyResults/crts-transient-recognition/notebooks/measurements.py:220: RankWarning: Polyfit may be poorly conditioned\n",
      "  p4 = np.polyfit(x, y, 4)\n",
      "/home/mauro/Documents/U/monitoriaInv/verifyResults/crts-transient-recognition/notebooks/measurements.py:220: RankWarning: Polyfit may be poorly conditioned\n",
      "  p4 = np.polyfit(x, y, 4)\n",
      "/home/mauro/Documents/U/monitoriaInv/verifyResults/crts-transient-recognition/notebooks/measurements.py:220: RankWarning: Polyfit may be poorly conditioned\n",
      "  p4 = np.polyfit(x, y, 4)\n",
      "/home/mauro/Documents/U/monitoriaInv/verifyResults/crts-transient-recognition/notebooks/measurements.py:220: RankWarning: Polyfit may be poorly conditioned\n",
      "  p4 = np.polyfit(x, y, 4)\n",
      "/home/mauro/Documents/U/monitoriaInv/verifyResults/crts-transient-recognition/notebooks/measurements.py:220: RankWarning: Polyfit may be poorly conditioned\n",
      "  p4 = np.polyfit(x, y, 4)\n",
      "/home/mauro/Documents/U/monitoriaInv/verifyResults/crts-transient-recognition/notebooks/measurements.py:220: RankWarning: Polyfit may be poorly conditioned\n",
      "  p4 = np.polyfit(x, y, 4)\n",
      "/home/mauro/Documents/U/monitoriaInv/verifyResults/crts-transient-recognition/notebooks/measurements.py:220: RankWarning: Polyfit may be poorly conditioned\n",
      "  p4 = np.polyfit(x, y, 4)\n",
      "/home/mauro/Documents/U/monitoriaInv/verifyResults/crts-transient-recognition/notebooks/measurements.py:220: RankWarning: Polyfit may be poorly conditioned\n",
      "  p4 = np.polyfit(x, y, 4)\n"
     ]
    },
    {
     "name": "stdout",
     "output_type": "stream",
     "text": [
      "0 / 35310\n"
     ]
    },
    {
     "name": "stderr",
     "output_type": "stream",
     "text": [
      "/home/mauro/Documents/U/monitoriaInv/verifyResults/crts-transient-recognition/notebooks/measurements.py:220: RankWarning: Polyfit may be poorly conditioned\n",
      "  p4 = np.polyfit(x, y, 4)\n",
      "/home/mauro/Documents/U/monitoriaInv/verifyResults/crts-transient-recognition/notebooks/measurements.py:220: RankWarning: Polyfit may be poorly conditioned\n",
      "  p4 = np.polyfit(x, y, 4)\n",
      "/home/mauro/Documents/U/monitoriaInv/verifyResults/crts-transient-recognition/notebooks/measurements.py:220: RankWarning: Polyfit may be poorly conditioned\n",
      "  p4 = np.polyfit(x, y, 4)\n",
      "/home/mauro/Documents/U/monitoriaInv/verifyResults/crts-transient-recognition/notebooks/measurements.py:220: RankWarning: Polyfit may be poorly conditioned\n",
      "  p4 = np.polyfit(x, y, 4)\n",
      "/home/mauro/Documents/U/monitoriaInv/verifyResults/crts-transient-recognition/notebooks/measurements.py:220: RankWarning: Polyfit may be poorly conditioned\n",
      "  p4 = np.polyfit(x, y, 4)\n",
      "/home/mauro/Documents/U/monitoriaInv/verifyResults/crts-transient-recognition/notebooks/measurements.py:220: RankWarning: Polyfit may be poorly conditioned\n",
      "  p4 = np.polyfit(x, y, 4)\n",
      "/home/mauro/Documents/U/monitoriaInv/verifyResults/crts-transient-recognition/notebooks/measurements.py:220: RankWarning: Polyfit may be poorly conditioned\n",
      "  p4 = np.polyfit(x, y, 4)\n",
      "/home/mauro/Documents/U/monitoriaInv/verifyResults/crts-transient-recognition/notebooks/measurements.py:220: RankWarning: Polyfit may be poorly conditioned\n",
      "  p4 = np.polyfit(x, y, 4)\n",
      "/home/mauro/Documents/U/monitoriaInv/verifyResults/crts-transient-recognition/notebooks/measurements.py:220: RankWarning: Polyfit may be poorly conditioned\n",
      "  p4 = np.polyfit(x, y, 4)\n",
      "/home/mauro/Documents/U/monitoriaInv/verifyResults/crts-transient-recognition/notebooks/measurements.py:220: RankWarning: Polyfit may be poorly conditioned\n",
      "  p4 = np.polyfit(x, y, 4)\n",
      "/home/mauro/Documents/U/monitoriaInv/verifyResults/crts-transient-recognition/notebooks/measurements.py:220: RankWarning: Polyfit may be poorly conditioned\n",
      "  p4 = np.polyfit(x, y, 4)\n",
      "/home/mauro/Documents/U/monitoriaInv/verifyResults/crts-transient-recognition/notebooks/measurements.py:220: RankWarning: Polyfit may be poorly conditioned\n",
      "  p4 = np.polyfit(x, y, 4)\n",
      "/home/mauro/Documents/U/monitoriaInv/verifyResults/crts-transient-recognition/notebooks/measurements.py:220: RankWarning: Polyfit may be poorly conditioned\n",
      "  p4 = np.polyfit(x, y, 4)\n",
      "/home/mauro/Documents/U/monitoriaInv/verifyResults/crts-transient-recognition/notebooks/measurements.py:220: RankWarning: Polyfit may be poorly conditioned\n",
      "  p4 = np.polyfit(x, y, 4)\n",
      "/home/mauro/Documents/U/monitoriaInv/verifyResults/crts-transient-recognition/notebooks/measurements.py:220: RankWarning: Polyfit may be poorly conditioned\n",
      "  p4 = np.polyfit(x, y, 4)\n",
      "/home/mauro/Documents/U/monitoriaInv/verifyResults/crts-transient-recognition/notebooks/measurements.py:220: RankWarning: Polyfit may be poorly conditioned\n",
      "  p4 = np.polyfit(x, y, 4)\n",
      "/home/mauro/Documents/U/monitoriaInv/verifyResults/crts-transient-recognition/notebooks/measurements.py:220: RankWarning: Polyfit may be poorly conditioned\n",
      "  p4 = np.polyfit(x, y, 4)\n",
      "/home/mauro/Documents/U/monitoriaInv/verifyResults/crts-transient-recognition/notebooks/measurements.py:220: RankWarning: Polyfit may be poorly conditioned\n",
      "  p4 = np.polyfit(x, y, 4)\n",
      "/home/mauro/Documents/U/monitoriaInv/verifyResults/crts-transient-recognition/notebooks/measurements.py:220: RankWarning: Polyfit may be poorly conditioned\n",
      "  p4 = np.polyfit(x, y, 4)\n",
      "/home/mauro/Documents/U/monitoriaInv/verifyResults/crts-transient-recognition/notebooks/measurements.py:220: RankWarning: Polyfit may be poorly conditioned\n",
      "  p4 = np.polyfit(x, y, 4)\n",
      "/home/mauro/Documents/U/monitoriaInv/verifyResults/crts-transient-recognition/notebooks/measurements.py:220: RankWarning: Polyfit may be poorly conditioned\n",
      "  p4 = np.polyfit(x, y, 4)\n",
      "/home/mauro/Documents/U/monitoriaInv/verifyResults/crts-transient-recognition/notebooks/measurements.py:220: RankWarning: Polyfit may be poorly conditioned\n",
      "  p4 = np.polyfit(x, y, 4)\n",
      "/home/mauro/Documents/U/monitoriaInv/verifyResults/crts-transient-recognition/notebooks/measurements.py:220: RankWarning: Polyfit may be poorly conditioned\n",
      "  p4 = np.polyfit(x, y, 4)\n",
      "/home/mauro/Documents/U/monitoriaInv/verifyResults/crts-transient-recognition/notebooks/measurements.py:220: RankWarning: Polyfit may be poorly conditioned\n",
      "  p4 = np.polyfit(x, y, 4)\n",
      "/home/mauro/Documents/U/monitoriaInv/verifyResults/crts-transient-recognition/notebooks/measurements.py:220: RankWarning: Polyfit may be poorly conditioned\n",
      "  p4 = np.polyfit(x, y, 4)\n",
      "/home/mauro/Documents/U/monitoriaInv/verifyResults/crts-transient-recognition/notebooks/measurements.py:220: RankWarning: Polyfit may be poorly conditioned\n",
      "  p4 = np.polyfit(x, y, 4)\n",
      "/home/mauro/Documents/U/monitoriaInv/verifyResults/crts-transient-recognition/notebooks/measurements.py:220: RankWarning: Polyfit may be poorly conditioned\n",
      "  p4 = np.polyfit(x, y, 4)\n",
      "/home/mauro/Documents/U/monitoriaInv/verifyResults/crts-transient-recognition/notebooks/measurements.py:220: RankWarning: Polyfit may be poorly conditioned\n",
      "  p4 = np.polyfit(x, y, 4)\n",
      "/home/mauro/Documents/U/monitoriaInv/verifyResults/crts-transient-recognition/notebooks/measurements.py:220: RankWarning: Polyfit may be poorly conditioned\n",
      "  p4 = np.polyfit(x, y, 4)\n",
      "/home/mauro/Documents/U/monitoriaInv/verifyResults/crts-transient-recognition/notebooks/measurements.py:220: RankWarning: Polyfit may be poorly conditioned\n",
      "  p4 = np.polyfit(x, y, 4)\n",
      "/home/mauro/Documents/U/monitoriaInv/verifyResults/crts-transient-recognition/notebooks/measurements.py:220: RankWarning: Polyfit may be poorly conditioned\n",
      "  p4 = np.polyfit(x, y, 4)\n",
      "/home/mauro/Documents/U/monitoriaInv/verifyResults/crts-transient-recognition/notebooks/measurements.py:220: RankWarning: Polyfit may be poorly conditioned\n",
      "  p4 = np.polyfit(x, y, 4)\n",
      "/home/mauro/Documents/U/monitoriaInv/verifyResults/crts-transient-recognition/notebooks/measurements.py:220: RankWarning: Polyfit may be poorly conditioned\n",
      "  p4 = np.polyfit(x, y, 4)\n",
      "/home/mauro/Documents/U/monitoriaInv/verifyResults/crts-transient-recognition/notebooks/measurements.py:220: RankWarning: Polyfit may be poorly conditioned\n",
      "  p4 = np.polyfit(x, y, 4)\n",
      "/home/mauro/Documents/U/monitoriaInv/verifyResults/crts-transient-recognition/notebooks/measurements.py:220: RankWarning: Polyfit may be poorly conditioned\n",
      "  p4 = np.polyfit(x, y, 4)\n",
      "/home/mauro/Documents/U/monitoriaInv/verifyResults/crts-transient-recognition/notebooks/measurements.py:220: RankWarning: Polyfit may be poorly conditioned\n",
      "  p4 = np.polyfit(x, y, 4)\n",
      "/home/mauro/Documents/U/monitoriaInv/verifyResults/crts-transient-recognition/notebooks/measurements.py:220: RankWarning: Polyfit may be poorly conditioned\n",
      "  p4 = np.polyfit(x, y, 4)\n",
      "/home/mauro/Documents/U/monitoriaInv/verifyResults/crts-transient-recognition/notebooks/measurements.py:220: RankWarning: Polyfit may be poorly conditioned\n",
      "  p4 = np.polyfit(x, y, 4)\n",
      "/home/mauro/Documents/U/monitoriaInv/verifyResults/crts-transient-recognition/notebooks/measurements.py:220: RankWarning: Polyfit may be poorly conditioned\n",
      "  p4 = np.polyfit(x, y, 4)\n",
      "/home/mauro/Documents/U/monitoriaInv/verifyResults/crts-transient-recognition/notebooks/measurements.py:220: RankWarning: Polyfit may be poorly conditioned\n",
      "  p4 = np.polyfit(x, y, 4)\n",
      "/home/mauro/Documents/U/monitoriaInv/verifyResults/crts-transient-recognition/notebooks/measurements.py:220: RankWarning: Polyfit may be poorly conditioned\n",
      "  p4 = np.polyfit(x, y, 4)\n",
      "/home/mauro/Documents/U/monitoriaInv/verifyResults/crts-transient-recognition/notebooks/measurements.py:220: RankWarning: Polyfit may be poorly conditioned\n",
      "  p4 = np.polyfit(x, y, 4)\n",
      "/home/mauro/Documents/U/monitoriaInv/verifyResults/crts-transient-recognition/notebooks/measurements.py:220: RankWarning: Polyfit may be poorly conditioned\n",
      "  p4 = np.polyfit(x, y, 4)\n"
     ]
    },
    {
     "name": "stdout",
     "output_type": "stream",
     "text": [
      "0 / 35310\n"
     ]
    },
    {
     "name": "stderr",
     "output_type": "stream",
     "text": [
      "/home/mauro/Documents/U/monitoriaInv/verifyResults/crts-transient-recognition/notebooks/measurements.py:220: RankWarning: Polyfit may be poorly conditioned\n",
      "  p4 = np.polyfit(x, y, 4)\n",
      "/home/mauro/Documents/U/monitoriaInv/verifyResults/crts-transient-recognition/notebooks/measurements.py:220: RankWarning: Polyfit may be poorly conditioned\n",
      "  p4 = np.polyfit(x, y, 4)\n",
      "/home/mauro/Documents/U/monitoriaInv/verifyResults/crts-transient-recognition/notebooks/measurements.py:220: RankWarning: Polyfit may be poorly conditioned\n",
      "  p4 = np.polyfit(x, y, 4)\n",
      "/home/mauro/Documents/U/monitoriaInv/verifyResults/crts-transient-recognition/notebooks/measurements.py:220: RankWarning: Polyfit may be poorly conditioned\n",
      "  p4 = np.polyfit(x, y, 4)\n",
      "/home/mauro/Documents/U/monitoriaInv/verifyResults/crts-transient-recognition/notebooks/measurements.py:220: RankWarning: Polyfit may be poorly conditioned\n",
      "  p4 = np.polyfit(x, y, 4)\n",
      "/home/mauro/Documents/U/monitoriaInv/verifyResults/crts-transient-recognition/notebooks/measurements.py:220: RankWarning: Polyfit may be poorly conditioned\n",
      "  p4 = np.polyfit(x, y, 4)\n",
      "/home/mauro/Documents/U/monitoriaInv/verifyResults/crts-transient-recognition/notebooks/measurements.py:220: RankWarning: Polyfit may be poorly conditioned\n",
      "  p4 = np.polyfit(x, y, 4)\n",
      "/home/mauro/Documents/U/monitoriaInv/verifyResults/crts-transient-recognition/notebooks/measurements.py:220: RankWarning: Polyfit may be poorly conditioned\n",
      "  p4 = np.polyfit(x, y, 4)\n",
      "/home/mauro/Documents/U/monitoriaInv/verifyResults/crts-transient-recognition/notebooks/measurements.py:220: RankWarning: Polyfit may be poorly conditioned\n",
      "  p4 = np.polyfit(x, y, 4)\n",
      "/home/mauro/Documents/U/monitoriaInv/verifyResults/crts-transient-recognition/notebooks/measurements.py:220: RankWarning: Polyfit may be poorly conditioned\n",
      "  p4 = np.polyfit(x, y, 4)\n",
      "/home/mauro/Documents/U/monitoriaInv/verifyResults/crts-transient-recognition/notebooks/measurements.py:220: RankWarning: Polyfit may be poorly conditioned\n",
      "  p4 = np.polyfit(x, y, 4)\n",
      "/home/mauro/Documents/U/monitoriaInv/verifyResults/crts-transient-recognition/notebooks/measurements.py:220: RankWarning: Polyfit may be poorly conditioned\n",
      "  p4 = np.polyfit(x, y, 4)\n",
      "/home/mauro/Documents/U/monitoriaInv/verifyResults/crts-transient-recognition/notebooks/measurements.py:220: RankWarning: Polyfit may be poorly conditioned\n",
      "  p4 = np.polyfit(x, y, 4)\n",
      "/home/mauro/Documents/U/monitoriaInv/verifyResults/crts-transient-recognition/notebooks/measurements.py:220: RankWarning: Polyfit may be poorly conditioned\n",
      "  p4 = np.polyfit(x, y, 4)\n",
      "/home/mauro/Documents/U/monitoriaInv/verifyResults/crts-transient-recognition/notebooks/measurements.py:220: RankWarning: Polyfit may be poorly conditioned\n",
      "  p4 = np.polyfit(x, y, 4)\n",
      "/home/mauro/Documents/U/monitoriaInv/verifyResults/crts-transient-recognition/notebooks/measurements.py:220: RankWarning: Polyfit may be poorly conditioned\n",
      "  p4 = np.polyfit(x, y, 4)\n",
      "/home/mauro/Documents/U/monitoriaInv/verifyResults/crts-transient-recognition/notebooks/measurements.py:220: RankWarning: Polyfit may be poorly conditioned\n",
      "  p4 = np.polyfit(x, y, 4)\n",
      "/home/mauro/Documents/U/monitoriaInv/verifyResults/crts-transient-recognition/notebooks/measurements.py:220: RankWarning: Polyfit may be poorly conditioned\n",
      "  p4 = np.polyfit(x, y, 4)\n",
      "/home/mauro/Documents/U/monitoriaInv/verifyResults/crts-transient-recognition/notebooks/measurements.py:220: RankWarning: Polyfit may be poorly conditioned\n",
      "  p4 = np.polyfit(x, y, 4)\n",
      "/home/mauro/Documents/U/monitoriaInv/verifyResults/crts-transient-recognition/notebooks/measurements.py:220: RankWarning: Polyfit may be poorly conditioned\n",
      "  p4 = np.polyfit(x, y, 4)\n",
      "/home/mauro/Documents/U/monitoriaInv/verifyResults/crts-transient-recognition/notebooks/measurements.py:220: RankWarning: Polyfit may be poorly conditioned\n",
      "  p4 = np.polyfit(x, y, 4)\n",
      "/home/mauro/Documents/U/monitoriaInv/verifyResults/crts-transient-recognition/notebooks/measurements.py:220: RankWarning: Polyfit may be poorly conditioned\n",
      "  p4 = np.polyfit(x, y, 4)\n",
      "/home/mauro/Documents/U/monitoriaInv/verifyResults/crts-transient-recognition/notebooks/measurements.py:220: RankWarning: Polyfit may be poorly conditioned\n",
      "  p4 = np.polyfit(x, y, 4)\n",
      "/home/mauro/Documents/U/monitoriaInv/verifyResults/crts-transient-recognition/notebooks/measurements.py:220: RankWarning: Polyfit may be poorly conditioned\n",
      "  p4 = np.polyfit(x, y, 4)\n",
      "/home/mauro/Documents/U/monitoriaInv/verifyResults/crts-transient-recognition/notebooks/measurements.py:220: RankWarning: Polyfit may be poorly conditioned\n",
      "  p4 = np.polyfit(x, y, 4)\n",
      "/home/mauro/Documents/U/monitoriaInv/verifyResults/crts-transient-recognition/notebooks/measurements.py:220: RankWarning: Polyfit may be poorly conditioned\n",
      "  p4 = np.polyfit(x, y, 4)\n",
      "/home/mauro/Documents/U/monitoriaInv/verifyResults/crts-transient-recognition/notebooks/measurements.py:220: RankWarning: Polyfit may be poorly conditioned\n",
      "  p4 = np.polyfit(x, y, 4)\n",
      "/home/mauro/Documents/U/monitoriaInv/verifyResults/crts-transient-recognition/notebooks/measurements.py:220: RankWarning: Polyfit may be poorly conditioned\n",
      "  p4 = np.polyfit(x, y, 4)\n",
      "/home/mauro/Documents/U/monitoriaInv/verifyResults/crts-transient-recognition/notebooks/measurements.py:220: RankWarning: Polyfit may be poorly conditioned\n",
      "  p4 = np.polyfit(x, y, 4)\n",
      "/home/mauro/Documents/U/monitoriaInv/verifyResults/crts-transient-recognition/notebooks/measurements.py:220: RankWarning: Polyfit may be poorly conditioned\n",
      "  p4 = np.polyfit(x, y, 4)\n",
      "/home/mauro/Documents/U/monitoriaInv/verifyResults/crts-transient-recognition/notebooks/measurements.py:220: RankWarning: Polyfit may be poorly conditioned\n",
      "  p4 = np.polyfit(x, y, 4)\n",
      "/home/mauro/Documents/U/monitoriaInv/verifyResults/crts-transient-recognition/notebooks/measurements.py:220: RankWarning: Polyfit may be poorly conditioned\n",
      "  p4 = np.polyfit(x, y, 4)\n",
      "/home/mauro/Documents/U/monitoriaInv/verifyResults/crts-transient-recognition/notebooks/measurements.py:220: RankWarning: Polyfit may be poorly conditioned\n",
      "  p4 = np.polyfit(x, y, 4)\n",
      "/home/mauro/Documents/U/monitoriaInv/verifyResults/crts-transient-recognition/notebooks/measurements.py:220: RankWarning: Polyfit may be poorly conditioned\n",
      "  p4 = np.polyfit(x, y, 4)\n",
      "/home/mauro/Documents/U/monitoriaInv/verifyResults/crts-transient-recognition/notebooks/measurements.py:220: RankWarning: Polyfit may be poorly conditioned\n",
      "  p4 = np.polyfit(x, y, 4)\n",
      "/home/mauro/Documents/U/monitoriaInv/verifyResults/crts-transient-recognition/notebooks/measurements.py:220: RankWarning: Polyfit may be poorly conditioned\n",
      "  p4 = np.polyfit(x, y, 4)\n",
      "/home/mauro/Documents/U/monitoriaInv/verifyResults/crts-transient-recognition/notebooks/measurements.py:220: RankWarning: Polyfit may be poorly conditioned\n",
      "  p4 = np.polyfit(x, y, 4)\n",
      "/home/mauro/Documents/U/monitoriaInv/verifyResults/crts-transient-recognition/notebooks/measurements.py:220: RankWarning: Polyfit may be poorly conditioned\n",
      "  p4 = np.polyfit(x, y, 4)\n",
      "/home/mauro/Documents/U/monitoriaInv/verifyResults/crts-transient-recognition/notebooks/measurements.py:220: RankWarning: Polyfit may be poorly conditioned\n",
      "  p4 = np.polyfit(x, y, 4)\n",
      "/home/mauro/Documents/U/monitoriaInv/verifyResults/crts-transient-recognition/notebooks/measurements.py:220: RankWarning: Polyfit may be poorly conditioned\n",
      "  p4 = np.polyfit(x, y, 4)\n",
      "/home/mauro/Documents/U/monitoriaInv/verifyResults/crts-transient-recognition/notebooks/measurements.py:220: RankWarning: Polyfit may be poorly conditioned\n",
      "  p4 = np.polyfit(x, y, 4)\n",
      "/home/mauro/Documents/U/monitoriaInv/verifyResults/crts-transient-recognition/notebooks/measurements.py:220: RankWarning: Polyfit may be poorly conditioned\n",
      "  p4 = np.polyfit(x, y, 4)\n",
      "/home/mauro/Documents/U/monitoriaInv/verifyResults/crts-transient-recognition/notebooks/measurements.py:220: RankWarning: Polyfit may be poorly conditioned\n",
      "  p4 = np.polyfit(x, y, 4)\n"
     ]
    },
    {
     "name": "stdout",
     "output_type": "stream",
     "text": [
      "0 / 35310\n",
      "10593 / 35310\n"
     ]
    },
    {
     "name": "stderr",
     "output_type": "stream",
     "text": [
      "/home/mauro/Documents/U/monitoriaInv/verifyResults/crts-transient-recognition/notebooks/measurements.py:220: RankWarning: Polyfit may be poorly conditioned\n",
      "  p4 = np.polyfit(x, y, 4)\n",
      "/home/mauro/Documents/U/monitoriaInv/verifyResults/crts-transient-recognition/notebooks/measurements.py:220: RankWarning: Polyfit may be poorly conditioned\n",
      "  p4 = np.polyfit(x, y, 4)\n",
      "/home/mauro/Documents/U/monitoriaInv/verifyResults/crts-transient-recognition/notebooks/measurements.py:220: RankWarning: Polyfit may be poorly conditioned\n",
      "  p4 = np.polyfit(x, y, 4)\n",
      "/home/mauro/Documents/U/monitoriaInv/verifyResults/crts-transient-recognition/notebooks/measurements.py:220: RankWarning: Polyfit may be poorly conditioned\n",
      "  p4 = np.polyfit(x, y, 4)\n",
      "/home/mauro/Documents/U/monitoriaInv/verifyResults/crts-transient-recognition/notebooks/measurements.py:220: RankWarning: Polyfit may be poorly conditioned\n",
      "  p4 = np.polyfit(x, y, 4)\n",
      "/home/mauro/Documents/U/monitoriaInv/verifyResults/crts-transient-recognition/notebooks/measurements.py:220: RankWarning: Polyfit may be poorly conditioned\n",
      "  p4 = np.polyfit(x, y, 4)\n",
      "/home/mauro/Documents/U/monitoriaInv/verifyResults/crts-transient-recognition/notebooks/measurements.py:220: RankWarning: Polyfit may be poorly conditioned\n",
      "  p4 = np.polyfit(x, y, 4)\n",
      "/home/mauro/Documents/U/monitoriaInv/verifyResults/crts-transient-recognition/notebooks/measurements.py:220: RankWarning: Polyfit may be poorly conditioned\n",
      "  p4 = np.polyfit(x, y, 4)\n",
      "/home/mauro/Documents/U/monitoriaInv/verifyResults/crts-transient-recognition/notebooks/measurements.py:220: RankWarning: Polyfit may be poorly conditioned\n",
      "  p4 = np.polyfit(x, y, 4)\n",
      "/home/mauro/Documents/U/monitoriaInv/verifyResults/crts-transient-recognition/notebooks/measurements.py:220: RankWarning: Polyfit may be poorly conditioned\n",
      "  p4 = np.polyfit(x, y, 4)\n",
      "/home/mauro/Documents/U/monitoriaInv/verifyResults/crts-transient-recognition/notebooks/measurements.py:220: RankWarning: Polyfit may be poorly conditioned\n",
      "  p4 = np.polyfit(x, y, 4)\n",
      "/home/mauro/Documents/U/monitoriaInv/verifyResults/crts-transient-recognition/notebooks/measurements.py:220: RankWarning: Polyfit may be poorly conditioned\n",
      "  p4 = np.polyfit(x, y, 4)\n",
      "/home/mauro/Documents/U/monitoriaInv/verifyResults/crts-transient-recognition/notebooks/measurements.py:220: RankWarning: Polyfit may be poorly conditioned\n",
      "  p4 = np.polyfit(x, y, 4)\n",
      "/home/mauro/Documents/U/monitoriaInv/verifyResults/crts-transient-recognition/notebooks/measurements.py:220: RankWarning: Polyfit may be poorly conditioned\n",
      "  p4 = np.polyfit(x, y, 4)\n",
      "/home/mauro/Documents/U/monitoriaInv/verifyResults/crts-transient-recognition/notebooks/measurements.py:220: RankWarning: Polyfit may be poorly conditioned\n",
      "  p4 = np.polyfit(x, y, 4)\n",
      "/home/mauro/Documents/U/monitoriaInv/verifyResults/crts-transient-recognition/notebooks/measurements.py:220: RankWarning: Polyfit may be poorly conditioned\n",
      "  p4 = np.polyfit(x, y, 4)\n",
      "/home/mauro/Documents/U/monitoriaInv/verifyResults/crts-transient-recognition/notebooks/measurements.py:220: RankWarning: Polyfit may be poorly conditioned\n",
      "  p4 = np.polyfit(x, y, 4)\n",
      "/home/mauro/Documents/U/monitoriaInv/verifyResults/crts-transient-recognition/notebooks/measurements.py:220: RankWarning: Polyfit may be poorly conditioned\n",
      "  p4 = np.polyfit(x, y, 4)\n",
      "/home/mauro/Documents/U/monitoriaInv/verifyResults/crts-transient-recognition/notebooks/measurements.py:220: RankWarning: Polyfit may be poorly conditioned\n",
      "  p4 = np.polyfit(x, y, 4)\n",
      "/home/mauro/Documents/U/monitoriaInv/verifyResults/crts-transient-recognition/notebooks/measurements.py:220: RankWarning: Polyfit may be poorly conditioned\n",
      "  p4 = np.polyfit(x, y, 4)\n",
      "/home/mauro/Documents/U/monitoriaInv/verifyResults/crts-transient-recognition/notebooks/measurements.py:220: RankWarning: Polyfit may be poorly conditioned\n",
      "  p4 = np.polyfit(x, y, 4)\n",
      "/home/mauro/Documents/U/monitoriaInv/verifyResults/crts-transient-recognition/notebooks/measurements.py:220: RankWarning: Polyfit may be poorly conditioned\n",
      "  p4 = np.polyfit(x, y, 4)\n",
      "/home/mauro/Documents/U/monitoriaInv/verifyResults/crts-transient-recognition/notebooks/measurements.py:220: RankWarning: Polyfit may be poorly conditioned\n",
      "  p4 = np.polyfit(x, y, 4)\n",
      "/home/mauro/Documents/U/monitoriaInv/verifyResults/crts-transient-recognition/notebooks/measurements.py:220: RankWarning: Polyfit may be poorly conditioned\n",
      "  p4 = np.polyfit(x, y, 4)\n"
     ]
    },
    {
     "name": "stdout",
     "output_type": "stream",
     "text": [
      "21186 / 35310\n"
     ]
    },
    {
     "name": "stderr",
     "output_type": "stream",
     "text": [
      "/home/mauro/Documents/U/monitoriaInv/verifyResults/crts-transient-recognition/notebooks/measurements.py:220: RankWarning: Polyfit may be poorly conditioned\n",
      "  p4 = np.polyfit(x, y, 4)\n",
      "/home/mauro/Documents/U/monitoriaInv/verifyResults/crts-transient-recognition/notebooks/measurements.py:220: RankWarning: Polyfit may be poorly conditioned\n",
      "  p4 = np.polyfit(x, y, 4)\n",
      "/home/mauro/Documents/U/monitoriaInv/verifyResults/crts-transient-recognition/notebooks/measurements.py:220: RankWarning: Polyfit may be poorly conditioned\n",
      "  p4 = np.polyfit(x, y, 4)\n",
      "/home/mauro/Documents/U/monitoriaInv/verifyResults/crts-transient-recognition/notebooks/measurements.py:220: RankWarning: Polyfit may be poorly conditioned\n",
      "  p4 = np.polyfit(x, y, 4)\n",
      "/home/mauro/Documents/U/monitoriaInv/verifyResults/crts-transient-recognition/notebooks/measurements.py:220: RankWarning: Polyfit may be poorly conditioned\n",
      "  p4 = np.polyfit(x, y, 4)\n",
      "/home/mauro/Documents/U/monitoriaInv/verifyResults/crts-transient-recognition/notebooks/measurements.py:220: RankWarning: Polyfit may be poorly conditioned\n",
      "  p4 = np.polyfit(x, y, 4)\n",
      "/home/mauro/Documents/U/monitoriaInv/verifyResults/crts-transient-recognition/notebooks/measurements.py:220: RankWarning: Polyfit may be poorly conditioned\n",
      "  p4 = np.polyfit(x, y, 4)\n",
      "/home/mauro/Documents/U/monitoriaInv/verifyResults/crts-transient-recognition/notebooks/measurements.py:220: RankWarning: Polyfit may be poorly conditioned\n",
      "  p4 = np.polyfit(x, y, 4)\n",
      "/home/mauro/Documents/U/monitoriaInv/verifyResults/crts-transient-recognition/notebooks/measurements.py:220: RankWarning: Polyfit may be poorly conditioned\n",
      "  p4 = np.polyfit(x, y, 4)\n",
      "/home/mauro/Documents/U/monitoriaInv/verifyResults/crts-transient-recognition/notebooks/measurements.py:220: RankWarning: Polyfit may be poorly conditioned\n",
      "  p4 = np.polyfit(x, y, 4)\n",
      "/home/mauro/Documents/U/monitoriaInv/verifyResults/crts-transient-recognition/notebooks/measurements.py:220: RankWarning: Polyfit may be poorly conditioned\n",
      "  p4 = np.polyfit(x, y, 4)\n",
      "/home/mauro/Documents/U/monitoriaInv/verifyResults/crts-transient-recognition/notebooks/measurements.py:220: RankWarning: Polyfit may be poorly conditioned\n",
      "  p4 = np.polyfit(x, y, 4)\n",
      "/home/mauro/Documents/U/monitoriaInv/verifyResults/crts-transient-recognition/notebooks/measurements.py:220: RankWarning: Polyfit may be poorly conditioned\n",
      "  p4 = np.polyfit(x, y, 4)\n",
      "/home/mauro/Documents/U/monitoriaInv/verifyResults/crts-transient-recognition/notebooks/measurements.py:220: RankWarning: Polyfit may be poorly conditioned\n",
      "  p4 = np.polyfit(x, y, 4)\n",
      "/home/mauro/Documents/U/monitoriaInv/verifyResults/crts-transient-recognition/notebooks/measurements.py:220: RankWarning: Polyfit may be poorly conditioned\n",
      "  p4 = np.polyfit(x, y, 4)\n",
      "/home/mauro/Documents/U/monitoriaInv/verifyResults/crts-transient-recognition/notebooks/measurements.py:220: RankWarning: Polyfit may be poorly conditioned\n",
      "  p4 = np.polyfit(x, y, 4)\n",
      "/home/mauro/Documents/U/monitoriaInv/verifyResults/crts-transient-recognition/notebooks/measurements.py:220: RankWarning: Polyfit may be poorly conditioned\n",
      "  p4 = np.polyfit(x, y, 4)\n",
      "/home/mauro/Documents/U/monitoriaInv/verifyResults/crts-transient-recognition/notebooks/measurements.py:220: RankWarning: Polyfit may be poorly conditioned\n",
      "  p4 = np.polyfit(x, y, 4)\n",
      "/home/mauro/Documents/U/monitoriaInv/verifyResults/crts-transient-recognition/notebooks/measurements.py:220: RankWarning: Polyfit may be poorly conditioned\n",
      "  p4 = np.polyfit(x, y, 4)\n"
     ]
    },
    {
     "name": "stdout",
     "output_type": "stream",
     "text": [
      "0 / 35310\n"
     ]
    },
    {
     "name": "stderr",
     "output_type": "stream",
     "text": [
      "/home/mauro/Documents/U/monitoriaInv/verifyResults/crts-transient-recognition/notebooks/measurements.py:220: RankWarning: Polyfit may be poorly conditioned\n",
      "  p4 = np.polyfit(x, y, 4)\n",
      "/home/mauro/Documents/U/monitoriaInv/verifyResults/crts-transient-recognition/notebooks/measurements.py:220: RankWarning: Polyfit may be poorly conditioned\n",
      "  p4 = np.polyfit(x, y, 4)\n",
      "/home/mauro/Documents/U/monitoriaInv/verifyResults/crts-transient-recognition/notebooks/measurements.py:220: RankWarning: Polyfit may be poorly conditioned\n",
      "  p4 = np.polyfit(x, y, 4)\n",
      "/home/mauro/Documents/U/monitoriaInv/verifyResults/crts-transient-recognition/notebooks/measurements.py:220: RankWarning: Polyfit may be poorly conditioned\n",
      "  p4 = np.polyfit(x, y, 4)\n",
      "/home/mauro/Documents/U/monitoriaInv/verifyResults/crts-transient-recognition/notebooks/measurements.py:220: RankWarning: Polyfit may be poorly conditioned\n",
      "  p4 = np.polyfit(x, y, 4)\n",
      "/home/mauro/Documents/U/monitoriaInv/verifyResults/crts-transient-recognition/notebooks/measurements.py:220: RankWarning: Polyfit may be poorly conditioned\n",
      "  p4 = np.polyfit(x, y, 4)\n",
      "/home/mauro/Documents/U/monitoriaInv/verifyResults/crts-transient-recognition/notebooks/measurements.py:220: RankWarning: Polyfit may be poorly conditioned\n",
      "  p4 = np.polyfit(x, y, 4)\n",
      "/home/mauro/Documents/U/monitoriaInv/verifyResults/crts-transient-recognition/notebooks/measurements.py:220: RankWarning: Polyfit may be poorly conditioned\n",
      "  p4 = np.polyfit(x, y, 4)\n",
      "/home/mauro/Documents/U/monitoriaInv/verifyResults/crts-transient-recognition/notebooks/measurements.py:220: RankWarning: Polyfit may be poorly conditioned\n",
      "  p4 = np.polyfit(x, y, 4)\n",
      "/home/mauro/Documents/U/monitoriaInv/verifyResults/crts-transient-recognition/notebooks/measurements.py:220: RankWarning: Polyfit may be poorly conditioned\n",
      "  p4 = np.polyfit(x, y, 4)\n",
      "/home/mauro/Documents/U/monitoriaInv/verifyResults/crts-transient-recognition/notebooks/measurements.py:220: RankWarning: Polyfit may be poorly conditioned\n",
      "  p4 = np.polyfit(x, y, 4)\n",
      "/home/mauro/Documents/U/monitoriaInv/verifyResults/crts-transient-recognition/notebooks/measurements.py:220: RankWarning: Polyfit may be poorly conditioned\n",
      "  p4 = np.polyfit(x, y, 4)\n",
      "/home/mauro/Documents/U/monitoriaInv/verifyResults/crts-transient-recognition/notebooks/measurements.py:220: RankWarning: Polyfit may be poorly conditioned\n",
      "  p4 = np.polyfit(x, y, 4)\n",
      "/home/mauro/Documents/U/monitoriaInv/verifyResults/crts-transient-recognition/notebooks/measurements.py:220: RankWarning: Polyfit may be poorly conditioned\n",
      "  p4 = np.polyfit(x, y, 4)\n",
      "/home/mauro/Documents/U/monitoriaInv/verifyResults/crts-transient-recognition/notebooks/measurements.py:220: RankWarning: Polyfit may be poorly conditioned\n",
      "  p4 = np.polyfit(x, y, 4)\n",
      "/home/mauro/Documents/U/monitoriaInv/verifyResults/crts-transient-recognition/notebooks/measurements.py:220: RankWarning: Polyfit may be poorly conditioned\n",
      "  p4 = np.polyfit(x, y, 4)\n",
      "/home/mauro/Documents/U/monitoriaInv/verifyResults/crts-transient-recognition/notebooks/measurements.py:220: RankWarning: Polyfit may be poorly conditioned\n",
      "  p4 = np.polyfit(x, y, 4)\n",
      "/home/mauro/Documents/U/monitoriaInv/verifyResults/crts-transient-recognition/notebooks/measurements.py:220: RankWarning: Polyfit may be poorly conditioned\n",
      "  p4 = np.polyfit(x, y, 4)\n",
      "/home/mauro/Documents/U/monitoriaInv/verifyResults/crts-transient-recognition/notebooks/measurements.py:220: RankWarning: Polyfit may be poorly conditioned\n",
      "  p4 = np.polyfit(x, y, 4)\n",
      "/home/mauro/Documents/U/monitoriaInv/verifyResults/crts-transient-recognition/notebooks/measurements.py:220: RankWarning: Polyfit may be poorly conditioned\n",
      "  p4 = np.polyfit(x, y, 4)\n",
      "/home/mauro/Documents/U/monitoriaInv/verifyResults/crts-transient-recognition/notebooks/measurements.py:220: RankWarning: Polyfit may be poorly conditioned\n",
      "  p4 = np.polyfit(x, y, 4)\n",
      "/home/mauro/Documents/U/monitoriaInv/verifyResults/crts-transient-recognition/notebooks/measurements.py:220: RankWarning: Polyfit may be poorly conditioned\n",
      "  p4 = np.polyfit(x, y, 4)\n",
      "/home/mauro/Documents/U/monitoriaInv/verifyResults/crts-transient-recognition/notebooks/measurements.py:220: RankWarning: Polyfit may be poorly conditioned\n",
      "  p4 = np.polyfit(x, y, 4)\n",
      "/home/mauro/Documents/U/monitoriaInv/verifyResults/crts-transient-recognition/notebooks/measurements.py:220: RankWarning: Polyfit may be poorly conditioned\n",
      "  p4 = np.polyfit(x, y, 4)\n",
      "/home/mauro/Documents/U/monitoriaInv/verifyResults/crts-transient-recognition/notebooks/measurements.py:220: RankWarning: Polyfit may be poorly conditioned\n",
      "  p4 = np.polyfit(x, y, 4)\n",
      "/home/mauro/Documents/U/monitoriaInv/verifyResults/crts-transient-recognition/notebooks/measurements.py:220: RankWarning: Polyfit may be poorly conditioned\n",
      "  p4 = np.polyfit(x, y, 4)\n",
      "/home/mauro/Documents/U/monitoriaInv/verifyResults/crts-transient-recognition/notebooks/measurements.py:220: RankWarning: Polyfit may be poorly conditioned\n",
      "  p4 = np.polyfit(x, y, 4)\n",
      "/home/mauro/Documents/U/monitoriaInv/verifyResults/crts-transient-recognition/notebooks/measurements.py:220: RankWarning: Polyfit may be poorly conditioned\n",
      "  p4 = np.polyfit(x, y, 4)\n",
      "/home/mauro/Documents/U/monitoriaInv/verifyResults/crts-transient-recognition/notebooks/measurements.py:220: RankWarning: Polyfit may be poorly conditioned\n",
      "  p4 = np.polyfit(x, y, 4)\n",
      "/home/mauro/Documents/U/monitoriaInv/verifyResults/crts-transient-recognition/notebooks/measurements.py:220: RankWarning: Polyfit may be poorly conditioned\n",
      "  p4 = np.polyfit(x, y, 4)\n",
      "/home/mauro/Documents/U/monitoriaInv/verifyResults/crts-transient-recognition/notebooks/measurements.py:220: RankWarning: Polyfit may be poorly conditioned\n",
      "  p4 = np.polyfit(x, y, 4)\n",
      "/home/mauro/Documents/U/monitoriaInv/verifyResults/crts-transient-recognition/notebooks/measurements.py:220: RankWarning: Polyfit may be poorly conditioned\n",
      "  p4 = np.polyfit(x, y, 4)\n",
      "/home/mauro/Documents/U/monitoriaInv/verifyResults/crts-transient-recognition/notebooks/measurements.py:220: RankWarning: Polyfit may be poorly conditioned\n",
      "  p4 = np.polyfit(x, y, 4)\n",
      "/home/mauro/Documents/U/monitoriaInv/verifyResults/crts-transient-recognition/notebooks/measurements.py:220: RankWarning: Polyfit may be poorly conditioned\n",
      "  p4 = np.polyfit(x, y, 4)\n",
      "/home/mauro/Documents/U/monitoriaInv/verifyResults/crts-transient-recognition/notebooks/measurements.py:220: RankWarning: Polyfit may be poorly conditioned\n",
      "  p4 = np.polyfit(x, y, 4)\n",
      "/home/mauro/Documents/U/monitoriaInv/verifyResults/crts-transient-recognition/notebooks/measurements.py:220: RankWarning: Polyfit may be poorly conditioned\n",
      "  p4 = np.polyfit(x, y, 4)\n",
      "/home/mauro/Documents/U/monitoriaInv/verifyResults/crts-transient-recognition/notebooks/measurements.py:220: RankWarning: Polyfit may be poorly conditioned\n",
      "  p4 = np.polyfit(x, y, 4)\n",
      "/home/mauro/Documents/U/monitoriaInv/verifyResults/crts-transient-recognition/notebooks/measurements.py:220: RankWarning: Polyfit may be poorly conditioned\n",
      "  p4 = np.polyfit(x, y, 4)\n",
      "/home/mauro/Documents/U/monitoriaInv/verifyResults/crts-transient-recognition/notebooks/measurements.py:220: RankWarning: Polyfit may be poorly conditioned\n",
      "  p4 = np.polyfit(x, y, 4)\n",
      "/home/mauro/Documents/U/monitoriaInv/verifyResults/crts-transient-recognition/notebooks/measurements.py:220: RankWarning: Polyfit may be poorly conditioned\n",
      "  p4 = np.polyfit(x, y, 4)\n",
      "/home/mauro/Documents/U/monitoriaInv/verifyResults/crts-transient-recognition/notebooks/measurements.py:220: RankWarning: Polyfit may be poorly conditioned\n",
      "  p4 = np.polyfit(x, y, 4)\n",
      "/home/mauro/Documents/U/monitoriaInv/verifyResults/crts-transient-recognition/notebooks/measurements.py:220: RankWarning: Polyfit may be poorly conditioned\n",
      "  p4 = np.polyfit(x, y, 4)\n",
      "/home/mauro/Documents/U/monitoriaInv/verifyResults/crts-transient-recognition/notebooks/measurements.py:220: RankWarning: Polyfit may be poorly conditioned\n",
      "  p4 = np.polyfit(x, y, 4)\n"
     ]
    },
    {
     "name": "stdout",
     "output_type": "stream",
     "text": [
      "0 / 35310\n",
      "3531 / 35310\n",
      "7062 / 35310\n",
      "10593 / 35310\n",
      "14124 / 35310\n",
      "17655 / 35310\n"
     ]
    },
    {
     "name": "stderr",
     "output_type": "stream",
     "text": [
      "/home/mauro/Documents/U/monitoriaInv/verifyResults/crts-transient-recognition/notebooks/measurements.py:220: RankWarning: Polyfit may be poorly conditioned\n",
      "  p4 = np.polyfit(x, y, 4)\n",
      "/home/mauro/Documents/U/monitoriaInv/verifyResults/crts-transient-recognition/notebooks/measurements.py:220: RankWarning: Polyfit may be poorly conditioned\n",
      "  p4 = np.polyfit(x, y, 4)\n",
      "/home/mauro/Documents/U/monitoriaInv/verifyResults/crts-transient-recognition/notebooks/measurements.py:220: RankWarning: Polyfit may be poorly conditioned\n",
      "  p4 = np.polyfit(x, y, 4)\n",
      "/home/mauro/Documents/U/monitoriaInv/verifyResults/crts-transient-recognition/notebooks/measurements.py:220: RankWarning: Polyfit may be poorly conditioned\n",
      "  p4 = np.polyfit(x, y, 4)\n",
      "/home/mauro/Documents/U/monitoriaInv/verifyResults/crts-transient-recognition/notebooks/measurements.py:220: RankWarning: Polyfit may be poorly conditioned\n",
      "  p4 = np.polyfit(x, y, 4)\n",
      "/home/mauro/Documents/U/monitoriaInv/verifyResults/crts-transient-recognition/notebooks/measurements.py:220: RankWarning: Polyfit may be poorly conditioned\n",
      "  p4 = np.polyfit(x, y, 4)\n",
      "/home/mauro/Documents/U/monitoriaInv/verifyResults/crts-transient-recognition/notebooks/measurements.py:220: RankWarning: Polyfit may be poorly conditioned\n",
      "  p4 = np.polyfit(x, y, 4)\n"
     ]
    },
    {
     "name": "stdout",
     "output_type": "stream",
     "text": [
      "21186 / 35310\n"
     ]
    },
    {
     "name": "stderr",
     "output_type": "stream",
     "text": [
      "/home/mauro/Documents/U/monitoriaInv/verifyResults/crts-transient-recognition/notebooks/measurements.py:220: RankWarning: Polyfit may be poorly conditioned\n",
      "  p4 = np.polyfit(x, y, 4)\n",
      "/home/mauro/Documents/U/monitoriaInv/verifyResults/crts-transient-recognition/notebooks/measurements.py:220: RankWarning: Polyfit may be poorly conditioned\n",
      "  p4 = np.polyfit(x, y, 4)\n",
      "/home/mauro/Documents/U/monitoriaInv/verifyResults/crts-transient-recognition/notebooks/measurements.py:220: RankWarning: Polyfit may be poorly conditioned\n",
      "  p4 = np.polyfit(x, y, 4)\n",
      "/home/mauro/Documents/U/monitoriaInv/verifyResults/crts-transient-recognition/notebooks/measurements.py:220: RankWarning: Polyfit may be poorly conditioned\n",
      "  p4 = np.polyfit(x, y, 4)\n",
      "/home/mauro/Documents/U/monitoriaInv/verifyResults/crts-transient-recognition/notebooks/measurements.py:220: RankWarning: Polyfit may be poorly conditioned\n",
      "  p4 = np.polyfit(x, y, 4)\n",
      "/home/mauro/Documents/U/monitoriaInv/verifyResults/crts-transient-recognition/notebooks/measurements.py:220: RankWarning: Polyfit may be poorly conditioned\n",
      "  p4 = np.polyfit(x, y, 4)\n",
      "/home/mauro/Documents/U/monitoriaInv/verifyResults/crts-transient-recognition/notebooks/measurements.py:220: RankWarning: Polyfit may be poorly conditioned\n",
      "  p4 = np.polyfit(x, y, 4)\n",
      "/home/mauro/Documents/U/monitoriaInv/verifyResults/crts-transient-recognition/notebooks/measurements.py:220: RankWarning: Polyfit may be poorly conditioned\n",
      "  p4 = np.polyfit(x, y, 4)\n",
      "/home/mauro/Documents/U/monitoriaInv/verifyResults/crts-transient-recognition/notebooks/measurements.py:220: RankWarning: Polyfit may be poorly conditioned\n",
      "  p4 = np.polyfit(x, y, 4)\n",
      "/home/mauro/Documents/U/monitoriaInv/verifyResults/crts-transient-recognition/notebooks/measurements.py:220: RankWarning: Polyfit may be poorly conditioned\n",
      "  p4 = np.polyfit(x, y, 4)\n",
      "/home/mauro/Documents/U/monitoriaInv/verifyResults/crts-transient-recognition/notebooks/measurements.py:220: RankWarning: Polyfit may be poorly conditioned\n",
      "  p4 = np.polyfit(x, y, 4)\n",
      "/home/mauro/Documents/U/monitoriaInv/verifyResults/crts-transient-recognition/notebooks/measurements.py:220: RankWarning: Polyfit may be poorly conditioned\n",
      "  p4 = np.polyfit(x, y, 4)\n",
      "/home/mauro/Documents/U/monitoriaInv/verifyResults/crts-transient-recognition/notebooks/measurements.py:220: RankWarning: Polyfit may be poorly conditioned\n",
      "  p4 = np.polyfit(x, y, 4)\n",
      "/home/mauro/Documents/U/monitoriaInv/verifyResults/crts-transient-recognition/notebooks/measurements.py:220: RankWarning: Polyfit may be poorly conditioned\n",
      "  p4 = np.polyfit(x, y, 4)\n"
     ]
    },
    {
     "name": "stdout",
     "output_type": "stream",
     "text": [
      "24717 / 35310\n"
     ]
    },
    {
     "name": "stderr",
     "output_type": "stream",
     "text": [
      "/home/mauro/Documents/U/monitoriaInv/verifyResults/crts-transient-recognition/notebooks/measurements.py:220: RankWarning: Polyfit may be poorly conditioned\n",
      "  p4 = np.polyfit(x, y, 4)\n",
      "/home/mauro/Documents/U/monitoriaInv/verifyResults/crts-transient-recognition/notebooks/measurements.py:220: RankWarning: Polyfit may be poorly conditioned\n",
      "  p4 = np.polyfit(x, y, 4)\n",
      "/home/mauro/Documents/U/monitoriaInv/verifyResults/crts-transient-recognition/notebooks/measurements.py:220: RankWarning: Polyfit may be poorly conditioned\n",
      "  p4 = np.polyfit(x, y, 4)\n",
      "/home/mauro/Documents/U/monitoriaInv/verifyResults/crts-transient-recognition/notebooks/measurements.py:220: RankWarning: Polyfit may be poorly conditioned\n",
      "  p4 = np.polyfit(x, y, 4)\n",
      "/home/mauro/Documents/U/monitoriaInv/verifyResults/crts-transient-recognition/notebooks/measurements.py:220: RankWarning: Polyfit may be poorly conditioned\n",
      "  p4 = np.polyfit(x, y, 4)\n",
      "/home/mauro/Documents/U/monitoriaInv/verifyResults/crts-transient-recognition/notebooks/measurements.py:220: RankWarning: Polyfit may be poorly conditioned\n",
      "  p4 = np.polyfit(x, y, 4)\n",
      "/home/mauro/Documents/U/monitoriaInv/verifyResults/crts-transient-recognition/notebooks/measurements.py:220: RankWarning: Polyfit may be poorly conditioned\n",
      "  p4 = np.polyfit(x, y, 4)\n",
      "/home/mauro/Documents/U/monitoriaInv/verifyResults/crts-transient-recognition/notebooks/measurements.py:220: RankWarning: Polyfit may be poorly conditioned\n",
      "  p4 = np.polyfit(x, y, 4)\n"
     ]
    },
    {
     "name": "stdout",
     "output_type": "stream",
     "text": [
      "28248 / 35310\n"
     ]
    },
    {
     "name": "stderr",
     "output_type": "stream",
     "text": [
      "/home/mauro/Documents/U/monitoriaInv/verifyResults/crts-transient-recognition/notebooks/measurements.py:220: RankWarning: Polyfit may be poorly conditioned\n",
      "  p4 = np.polyfit(x, y, 4)\n",
      "/home/mauro/Documents/U/monitoriaInv/verifyResults/crts-transient-recognition/notebooks/measurements.py:220: RankWarning: Polyfit may be poorly conditioned\n",
      "  p4 = np.polyfit(x, y, 4)\n",
      "/home/mauro/Documents/U/monitoriaInv/verifyResults/crts-transient-recognition/notebooks/measurements.py:220: RankWarning: Polyfit may be poorly conditioned\n",
      "  p4 = np.polyfit(x, y, 4)\n",
      "/home/mauro/Documents/U/monitoriaInv/verifyResults/crts-transient-recognition/notebooks/measurements.py:220: RankWarning: Polyfit may be poorly conditioned\n",
      "  p4 = np.polyfit(x, y, 4)\n",
      "/home/mauro/Documents/U/monitoriaInv/verifyResults/crts-transient-recognition/notebooks/measurements.py:220: RankWarning: Polyfit may be poorly conditioned\n",
      "  p4 = np.polyfit(x, y, 4)\n",
      "/home/mauro/Documents/U/monitoriaInv/verifyResults/crts-transient-recognition/notebooks/measurements.py:220: RankWarning: Polyfit may be poorly conditioned\n",
      "  p4 = np.polyfit(x, y, 4)\n",
      "/home/mauro/Documents/U/monitoriaInv/verifyResults/crts-transient-recognition/notebooks/measurements.py:220: RankWarning: Polyfit may be poorly conditioned\n",
      "  p4 = np.polyfit(x, y, 4)\n"
     ]
    },
    {
     "name": "stdout",
     "output_type": "stream",
     "text": [
      "31779 / 35310\n"
     ]
    },
    {
     "name": "stderr",
     "output_type": "stream",
     "text": [
      "/home/mauro/Documents/U/monitoriaInv/verifyResults/crts-transient-recognition/notebooks/measurements.py:220: RankWarning: Polyfit may be poorly conditioned\n",
      "  p4 = np.polyfit(x, y, 4)\n",
      "/home/mauro/Documents/U/monitoriaInv/verifyResults/crts-transient-recognition/notebooks/measurements.py:220: RankWarning: Polyfit may be poorly conditioned\n",
      "  p4 = np.polyfit(x, y, 4)\n",
      "/home/mauro/Documents/U/monitoriaInv/verifyResults/crts-transient-recognition/notebooks/measurements.py:220: RankWarning: Polyfit may be poorly conditioned\n",
      "  p4 = np.polyfit(x, y, 4)\n",
      "/home/mauro/Documents/U/monitoriaInv/verifyResults/crts-transient-recognition/notebooks/measurements.py:220: RankWarning: Polyfit may be poorly conditioned\n",
      "  p4 = np.polyfit(x, y, 4)\n",
      "/home/mauro/Documents/U/monitoriaInv/verifyResults/crts-transient-recognition/notebooks/measurements.py:220: RankWarning: Polyfit may be poorly conditioned\n",
      "  p4 = np.polyfit(x, y, 4)\n",
      "/home/mauro/Documents/U/monitoriaInv/verifyResults/crts-transient-recognition/notebooks/measurements.py:220: RankWarning: Polyfit may be poorly conditioned\n",
      "  p4 = np.polyfit(x, y, 4)\n",
      "/home/mauro/Documents/U/monitoriaInv/verifyResults/crts-transient-recognition/notebooks/measurements.py:220: RankWarning: Polyfit may be poorly conditioned\n",
      "  p4 = np.polyfit(x, y, 4)\n"
     ]
    },
    {
     "name": "stdout",
     "output_type": "stream",
     "text": [
      "Finished task type=T obs=5\n",
      "---------------------\n",
      "DONE WITH Ttrain\n",
      "---------------------\n",
      "0 / 1059\n",
      "105 / 1059\n",
      "210 / 1059\n",
      "315 / 1059\n",
      "420 / 1059\n",
      "525 / 1059\n"
     ]
    },
    {
     "name": "stderr",
     "output_type": "stream",
     "text": [
      "/home/mauro/Documents/U/monitoriaInv/verifyResults/crts-transient-recognition/notebooks/measurements.py:220: RankWarning: Polyfit may be poorly conditioned\n",
      "  p4 = np.polyfit(x, y, 4)\n",
      "/home/mauro/Documents/U/monitoriaInv/verifyResults/crts-transient-recognition/notebooks/measurements.py:220: RankWarning: Polyfit may be poorly conditioned\n",
      "  p4 = np.polyfit(x, y, 4)\n",
      "/home/mauro/Documents/U/monitoriaInv/verifyResults/crts-transient-recognition/notebooks/measurements.py:220: RankWarning: Polyfit may be poorly conditioned\n",
      "  p4 = np.polyfit(x, y, 4)\n",
      "/home/mauro/Documents/U/monitoriaInv/verifyResults/crts-transient-recognition/notebooks/measurements.py:220: RankWarning: Polyfit may be poorly conditioned\n",
      "  p4 = np.polyfit(x, y, 4)\n",
      "/home/mauro/Documents/U/monitoriaInv/verifyResults/crts-transient-recognition/notebooks/measurements.py:220: RankWarning: Polyfit may be poorly conditioned\n",
      "  p4 = np.polyfit(x, y, 4)\n",
      "/home/mauro/Documents/U/monitoriaInv/verifyResults/crts-transient-recognition/notebooks/measurements.py:220: RankWarning: Polyfit may be poorly conditioned\n",
      "  p4 = np.polyfit(x, y, 4)\n"
     ]
    },
    {
     "name": "stdout",
     "output_type": "stream",
     "text": [
      "630 / 1059\n"
     ]
    },
    {
     "name": "stderr",
     "output_type": "stream",
     "text": [
      "/home/mauro/Documents/U/monitoriaInv/verifyResults/crts-transient-recognition/notebooks/measurements.py:220: RankWarning: Polyfit may be poorly conditioned\n",
      "  p4 = np.polyfit(x, y, 4)\n",
      "/home/mauro/Documents/U/monitoriaInv/verifyResults/crts-transient-recognition/notebooks/measurements.py:220: RankWarning: Polyfit may be poorly conditioned\n",
      "  p4 = np.polyfit(x, y, 4)\n"
     ]
    },
    {
     "name": "stdout",
     "output_type": "stream",
     "text": [
      "735 / 1059\n"
     ]
    },
    {
     "name": "stderr",
     "output_type": "stream",
     "text": [
      "/home/mauro/Documents/U/monitoriaInv/verifyResults/crts-transient-recognition/notebooks/measurements.py:220: RankWarning: Polyfit may be poorly conditioned\n",
      "  p4 = np.polyfit(x, y, 4)\n",
      "/home/mauro/Documents/U/monitoriaInv/verifyResults/crts-transient-recognition/notebooks/measurements.py:220: RankWarning: Polyfit may be poorly conditioned\n",
      "  p4 = np.polyfit(x, y, 4)\n",
      "/home/mauro/Documents/U/monitoriaInv/verifyResults/crts-transient-recognition/notebooks/measurements.py:220: RankWarning: Polyfit may be poorly conditioned\n",
      "  p4 = np.polyfit(x, y, 4)\n",
      "/home/mauro/Documents/U/monitoriaInv/verifyResults/crts-transient-recognition/notebooks/measurements.py:220: RankWarning: Polyfit may be poorly conditioned\n",
      "  p4 = np.polyfit(x, y, 4)\n",
      "/home/mauro/Documents/U/monitoriaInv/verifyResults/crts-transient-recognition/notebooks/measurements.py:220: RankWarning: Polyfit may be poorly conditioned\n",
      "  p4 = np.polyfit(x, y, 4)\n"
     ]
    },
    {
     "name": "stdout",
     "output_type": "stream",
     "text": [
      "840 / 1059\n"
     ]
    },
    {
     "name": "stderr",
     "output_type": "stream",
     "text": [
      "/home/mauro/Documents/U/monitoriaInv/verifyResults/crts-transient-recognition/notebooks/measurements.py:220: RankWarning: Polyfit may be poorly conditioned\n",
      "  p4 = np.polyfit(x, y, 4)\n"
     ]
    },
    {
     "name": "stdout",
     "output_type": "stream",
     "text": [
      "945 / 1059\n",
      "1050 / 1059\n",
      "Finished task type=T obs=5\n",
      "---------------------\n",
      "DONE WITH Ttest\n",
      "---------------------\n",
      "0 / 15193\n",
      "1519 / 15193\n",
      "3038 / 15193\n",
      "4557 / 15193\n",
      "6076 / 15193\n",
      "7595 / 15193\n"
     ]
    },
    {
     "name": "stderr",
     "output_type": "stream",
     "text": [
      "/home/mauro/Documents/U/monitoriaInv/verifyResults/crts-transient-recognition/notebooks/measurements.py:220: RankWarning: Polyfit may be poorly conditioned\n",
      "  p4 = np.polyfit(x, y, 4)\n",
      "/home/mauro/Documents/U/monitoriaInv/verifyResults/crts-transient-recognition/notebooks/measurements.py:220: RankWarning: Polyfit may be poorly conditioned\n",
      "  p4 = np.polyfit(x, y, 4)\n"
     ]
    },
    {
     "name": "stdout",
     "output_type": "stream",
     "text": [
      "9114 / 15193\n",
      "10633 / 15193\n",
      "12152 / 15193\n",
      "13671 / 15193\n"
     ]
    },
    {
     "name": "stderr",
     "output_type": "stream",
     "text": [
      "/home/mauro/Documents/U/monitoriaInv/verifyResults/crts-transient-recognition/notebooks/measurements.py:220: RankWarning: Polyfit may be poorly conditioned\n",
      "  p4 = np.polyfit(x, y, 4)\n"
     ]
    },
    {
     "name": "stdout",
     "output_type": "stream",
     "text": [
      "15190 / 15193\n",
      "Finished task type=NT obs=5\n",
      "---------------------\n",
      "DONE WITH NT\n",
      "---------------------\n"
     ]
    }
   ],
   "source": [
    "df_tra_feats_train = generate_features(df_tra_5_os_train, transient=True, min_obs=5,filename='Ttrain_fixedOS')\n",
    "print('---------------------')\n",
    "print('DONE WITH Ttrain')\n",
    "print('---------------------')\n",
    "df_tra_feats_test = generate_features(df_tra_5_os_test, transient=True, min_obs=5,filename='Ttest_fixedOS')\n",
    "print('---------------------')\n",
    "print('DONE WITH Ttest')\n",
    "print('---------------------')\n",
    "df_nont_feats = generate_features(df_nont_5_os, transient=False, min_obs=5,filename='NT_fixedOS')\n",
    "print('---------------------')\n",
    "print('DONE WITH NT')\n",
    "print('---------------------')"
   ]
  },
  {
   "cell_type": "code",
   "execution_count": null,
   "metadata": {},
   "outputs": [],
   "source": []
  }
 ],
 "metadata": {
  "kernelspec": {
   "display_name": "Python 3",
   "language": "python",
   "name": "python3"
  },
  "language_info": {
   "codemirror_mode": {
    "name": "ipython",
    "version": 3
   },
   "file_extension": ".py",
   "mimetype": "text/x-python",
   "name": "python",
   "nbconvert_exporter": "python",
   "pygments_lexer": "ipython3",
   "version": "3.6.4"
  }
 },
 "nbformat": 4,
 "nbformat_minor": 2
}
