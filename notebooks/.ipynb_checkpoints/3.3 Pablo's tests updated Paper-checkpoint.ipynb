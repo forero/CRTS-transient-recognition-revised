{
 "cells": [
  {
   "cell_type": "code",
   "execution_count": 1,
   "metadata": {},
   "outputs": [],
   "source": [
    "from sklearn.ensemble import RandomForestClassifier\n",
    "import sklearn.metrics\n",
    "import pandas as pd\n",
    "import numpy as np\n",
    "np.random.seed(0)\n",
    "from sklearn.model_selection import GridSearchCV, StratifiedKFold  # , cross_val_score\n",
    "from sklearn.metrics import make_scorer, accuracy_score, precision_score, recall_score, f1_score, precision_recall_fscore_support, confusion_matrix  # , classification_report\n",
    "from sklearn.model_selection import train_test_split\n",
    "\n",
    "from sklearn.metrics import precision_recall_curve\n",
    "import matplotlib.pyplot as plt\n",
    "from sklearn.metrics import average_precision_score\n",
    "from scipy import integrate\n",
    "from sklearn.metrics import recall_score\n",
    "from sklearn.metrics import precision_recall_fscore_support,make_scorer\n"
   ]
  },
  {
   "cell_type": "code",
   "execution_count": 2,
   "metadata": {},
   "outputs": [],
   "source": [
    "DATA_PATH = '../data/features/'\n",
    "\n",
    "tran = pd.read_pickle(DATA_PATH + \"T.pickle\")\n",
    "ntran = pd.read_pickle(DATA_PATH + \"NT.pickle\")"
   ]
  },
  {
   "cell_type": "code",
   "execution_count": 3,
   "metadata": {},
   "outputs": [
    {
     "name": "stdout",
     "output_type": "stream",
     "text": [
      "62152\n",
      "19462\n"
     ]
    }
   ],
   "source": [
    "print(tran.shape[0]+ntran.shape[0])\n",
    "print(tran[tran.index.get_level_values(\"copy_num\")==0].shape[0]+ntran.shape[0])"
   ]
  },
  {
   "cell_type": "code",
   "execution_count": 4,
   "metadata": {},
   "outputs": [
    {
     "data": {
      "text/html": [
       "<div>\n",
       "<style scoped>\n",
       "    .dataframe tbody tr th:only-of-type {\n",
       "        vertical-align: middle;\n",
       "    }\n",
       "\n",
       "    .dataframe tbody tr th {\n",
       "        vertical-align: top;\n",
       "    }\n",
       "\n",
       "    .dataframe thead th {\n",
       "        text-align: right;\n",
       "    }\n",
       "</style>\n",
       "<table border=\"1\" class=\"dataframe\">\n",
       "  <thead>\n",
       "    <tr style=\"text-align: right;\">\n",
       "      <th></th>\n",
       "      <th></th>\n",
       "      <th>Class</th>\n",
       "      <th>ObsCount</th>\n",
       "      <th>amplitude</th>\n",
       "      <th>beyond1st</th>\n",
       "      <th>flux_percentile_ratio_mid20</th>\n",
       "      <th>flux_percentile_ratio_mid35</th>\n",
       "      <th>flux_percentile_ratio_mid50</th>\n",
       "      <th>flux_percentile_ratio_mid65</th>\n",
       "      <th>flux_percentile_ratio_mid80</th>\n",
       "      <th>kurtosis</th>\n",
       "      <th>...</th>\n",
       "      <th>poly3_t3</th>\n",
       "      <th>poly4_t1</th>\n",
       "      <th>poly4_t2</th>\n",
       "      <th>poly4_t3</th>\n",
       "      <th>poly4_t4</th>\n",
       "      <th>skew</th>\n",
       "      <th>small_kurtosis</th>\n",
       "      <th>std</th>\n",
       "      <th>stetson_j</th>\n",
       "      <th>stetson_k</th>\n",
       "    </tr>\n",
       "    <tr>\n",
       "      <th>ID</th>\n",
       "      <th>copy_num</th>\n",
       "      <th></th>\n",
       "      <th></th>\n",
       "      <th></th>\n",
       "      <th></th>\n",
       "      <th></th>\n",
       "      <th></th>\n",
       "      <th></th>\n",
       "      <th></th>\n",
       "      <th></th>\n",
       "      <th></th>\n",
       "      <th></th>\n",
       "      <th></th>\n",
       "      <th></th>\n",
       "      <th></th>\n",
       "      <th></th>\n",
       "      <th></th>\n",
       "      <th></th>\n",
       "      <th></th>\n",
       "      <th></th>\n",
       "      <th></th>\n",
       "      <th></th>\n",
       "    </tr>\n",
       "  </thead>\n",
       "  <tbody>\n",
       "    <tr>\n",
       "      <th>CataID3033022002583</th>\n",
       "      <th>0</th>\n",
       "      <td>non-transient</td>\n",
       "      <td>26</td>\n",
       "      <td>0.735</td>\n",
       "      <td>0.346154</td>\n",
       "      <td>0.127315</td>\n",
       "      <td>0.205024</td>\n",
       "      <td>0.305707</td>\n",
       "      <td>0.490865</td>\n",
       "      <td>0.867210</td>\n",
       "      <td>-0.863844</td>\n",
       "      <td>...</td>\n",
       "      <td>-4.381506e-11</td>\n",
       "      <td>0.000071</td>\n",
       "      <td>3.879196e-07</td>\n",
       "      <td>2.814693e-11</td>\n",
       "      <td>-8.962333e-14</td>\n",
       "      <td>-0.323662</td>\n",
       "      <td>-3.396739</td>\n",
       "      <td>0.418429</td>\n",
       "      <td>-0.030355</td>\n",
       "      <td>0.808361</td>\n",
       "    </tr>\n",
       "    <tr>\n",
       "      <th>CataID3047011003844</th>\n",
       "      <th>0</th>\n",
       "      <td>non-transient</td>\n",
       "      <td>155</td>\n",
       "      <td>1.095</td>\n",
       "      <td>0.296774</td>\n",
       "      <td>0.108153</td>\n",
       "      <td>0.190941</td>\n",
       "      <td>0.279280</td>\n",
       "      <td>0.445071</td>\n",
       "      <td>0.671028</td>\n",
       "      <td>1.114974</td>\n",
       "      <td>...</td>\n",
       "      <td>1.064017e-10</td>\n",
       "      <td>-0.000227</td>\n",
       "      <td>9.092593e-08</td>\n",
       "      <td>2.125542e-10</td>\n",
       "      <td>-1.177270e-13</td>\n",
       "      <td>0.360834</td>\n",
       "      <td>-3.059340</td>\n",
       "      <td>0.368006</td>\n",
       "      <td>0.116535</td>\n",
       "      <td>0.750544</td>\n",
       "    </tr>\n",
       "    <tr>\n",
       "      <th>CataID3047011003855</th>\n",
       "      <th>0</th>\n",
       "      <td>non-transient</td>\n",
       "      <td>170</td>\n",
       "      <td>1.085</td>\n",
       "      <td>0.258824</td>\n",
       "      <td>0.133967</td>\n",
       "      <td>0.212753</td>\n",
       "      <td>0.344202</td>\n",
       "      <td>0.523757</td>\n",
       "      <td>0.743903</td>\n",
       "      <td>1.874279</td>\n",
       "      <td>...</td>\n",
       "      <td>1.183648e-10</td>\n",
       "      <td>-0.000132</td>\n",
       "      <td>-1.976342e-07</td>\n",
       "      <td>8.569407e-11</td>\n",
       "      <td>3.401031e-14</td>\n",
       "      <td>0.007305</td>\n",
       "      <td>-3.053999</td>\n",
       "      <td>0.299632</td>\n",
       "      <td>0.063073</td>\n",
       "      <td>0.721548</td>\n",
       "    </tr>\n",
       "    <tr>\n",
       "      <th>CataID3039011002658</th>\n",
       "      <th>0</th>\n",
       "      <td>non-transient</td>\n",
       "      <td>246</td>\n",
       "      <td>0.470</td>\n",
       "      <td>0.146341</td>\n",
       "      <td>0.131166</td>\n",
       "      <td>0.199049</td>\n",
       "      <td>0.331865</td>\n",
       "      <td>0.473950</td>\n",
       "      <td>0.731653</td>\n",
       "      <td>32.978695</td>\n",
       "      <td>...</td>\n",
       "      <td>-1.966459e-12</td>\n",
       "      <td>-0.000029</td>\n",
       "      <td>3.271956e-08</td>\n",
       "      <td>2.593368e-12</td>\n",
       "      <td>-4.841826e-15</td>\n",
       "      <td>3.637046</td>\n",
       "      <td>-3.037088</td>\n",
       "      <td>0.071074</td>\n",
       "      <td>0.157681</td>\n",
       "      <td>0.724867</td>\n",
       "    </tr>\n",
       "    <tr>\n",
       "      <th>CataID3039010019034</th>\n",
       "      <th>0</th>\n",
       "      <td>non-transient</td>\n",
       "      <td>41</td>\n",
       "      <td>0.980</td>\n",
       "      <td>0.463415</td>\n",
       "      <td>0.103206</td>\n",
       "      <td>0.207452</td>\n",
       "      <td>0.250963</td>\n",
       "      <td>0.286646</td>\n",
       "      <td>0.777099</td>\n",
       "      <td>-0.396448</td>\n",
       "      <td>...</td>\n",
       "      <td>-1.044907e-10</td>\n",
       "      <td>0.000071</td>\n",
       "      <td>-4.613608e-07</td>\n",
       "      <td>-1.297451e-10</td>\n",
       "      <td>2.273128e-13</td>\n",
       "      <td>-0.439782</td>\n",
       "      <td>-3.238866</td>\n",
       "      <td>0.476747</td>\n",
       "      <td>-0.001186</td>\n",
       "      <td>0.728520</td>\n",
       "    </tr>\n",
       "  </tbody>\n",
       "</table>\n",
       "<p>5 rows × 32 columns</p>\n",
       "</div>"
      ],
      "text/plain": [
       "                                      Class  ObsCount  amplitude  beyond1st  \\\n",
       "ID                  copy_num                                                  \n",
       "CataID3033022002583 0         non-transient        26      0.735   0.346154   \n",
       "CataID3047011003844 0         non-transient       155      1.095   0.296774   \n",
       "CataID3047011003855 0         non-transient       170      1.085   0.258824   \n",
       "CataID3039011002658 0         non-transient       246      0.470   0.146341   \n",
       "CataID3039010019034 0         non-transient        41      0.980   0.463415   \n",
       "\n",
       "                              flux_percentile_ratio_mid20  \\\n",
       "ID                  copy_num                                \n",
       "CataID3033022002583 0                            0.127315   \n",
       "CataID3047011003844 0                            0.108153   \n",
       "CataID3047011003855 0                            0.133967   \n",
       "CataID3039011002658 0                            0.131166   \n",
       "CataID3039010019034 0                            0.103206   \n",
       "\n",
       "                              flux_percentile_ratio_mid35  \\\n",
       "ID                  copy_num                                \n",
       "CataID3033022002583 0                            0.205024   \n",
       "CataID3047011003844 0                            0.190941   \n",
       "CataID3047011003855 0                            0.212753   \n",
       "CataID3039011002658 0                            0.199049   \n",
       "CataID3039010019034 0                            0.207452   \n",
       "\n",
       "                              flux_percentile_ratio_mid50  \\\n",
       "ID                  copy_num                                \n",
       "CataID3033022002583 0                            0.305707   \n",
       "CataID3047011003844 0                            0.279280   \n",
       "CataID3047011003855 0                            0.344202   \n",
       "CataID3039011002658 0                            0.331865   \n",
       "CataID3039010019034 0                            0.250963   \n",
       "\n",
       "                              flux_percentile_ratio_mid65  \\\n",
       "ID                  copy_num                                \n",
       "CataID3033022002583 0                            0.490865   \n",
       "CataID3047011003844 0                            0.445071   \n",
       "CataID3047011003855 0                            0.523757   \n",
       "CataID3039011002658 0                            0.473950   \n",
       "CataID3039010019034 0                            0.286646   \n",
       "\n",
       "                              flux_percentile_ratio_mid80   kurtosis  \\\n",
       "ID                  copy_num                                           \n",
       "CataID3033022002583 0                            0.867210  -0.863844   \n",
       "CataID3047011003844 0                            0.671028   1.114974   \n",
       "CataID3047011003855 0                            0.743903   1.874279   \n",
       "CataID3039011002658 0                            0.731653  32.978695   \n",
       "CataID3039010019034 0                            0.777099  -0.396448   \n",
       "\n",
       "                                ...          poly3_t3  poly4_t1      poly4_t2  \\\n",
       "ID                  copy_num    ...                                             \n",
       "CataID3033022002583 0           ...     -4.381506e-11  0.000071  3.879196e-07   \n",
       "CataID3047011003844 0           ...      1.064017e-10 -0.000227  9.092593e-08   \n",
       "CataID3047011003855 0           ...      1.183648e-10 -0.000132 -1.976342e-07   \n",
       "CataID3039011002658 0           ...     -1.966459e-12 -0.000029  3.271956e-08   \n",
       "CataID3039010019034 0           ...     -1.044907e-10  0.000071 -4.613608e-07   \n",
       "\n",
       "                                  poly4_t3      poly4_t4      skew  \\\n",
       "ID                  copy_num                                         \n",
       "CataID3033022002583 0         2.814693e-11 -8.962333e-14 -0.323662   \n",
       "CataID3047011003844 0         2.125542e-10 -1.177270e-13  0.360834   \n",
       "CataID3047011003855 0         8.569407e-11  3.401031e-14  0.007305   \n",
       "CataID3039011002658 0         2.593368e-12 -4.841826e-15  3.637046   \n",
       "CataID3039010019034 0        -1.297451e-10  2.273128e-13 -0.439782   \n",
       "\n",
       "                              small_kurtosis       std  stetson_j  stetson_k  \n",
       "ID                  copy_num                                                  \n",
       "CataID3033022002583 0              -3.396739  0.418429  -0.030355   0.808361  \n",
       "CataID3047011003844 0              -3.059340  0.368006   0.116535   0.750544  \n",
       "CataID3047011003855 0              -3.053999  0.299632   0.063073   0.721548  \n",
       "CataID3039011002658 0              -3.037088  0.071074   0.157681   0.724867  \n",
       "CataID3039010019034 0              -3.238866  0.476747  -0.001186   0.728520  \n",
       "\n",
       "[5 rows x 32 columns]"
      ]
     },
     "execution_count": 4,
     "metadata": {},
     "output_type": "execute_result"
    }
   ],
   "source": [
    "ntran.tail()\n"
   ]
  },
  {
   "cell_type": "code",
   "execution_count": 5,
   "metadata": {},
   "outputs": [
    {
     "name": "stdout",
     "output_type": "stream",
     "text": [
      "30\n",
      "['amplitude' 'beyond1st' 'flux_percentile_ratio_mid20'\n",
      " 'flux_percentile_ratio_mid35' 'flux_percentile_ratio_mid50'\n",
      " 'flux_percentile_ratio_mid65' 'flux_percentile_ratio_mid80' 'kurtosis'\n",
      " 'max_slope' 'median_absolute_deviation' 'median_buffer_range_percentage'\n",
      " 'pair_slope_trend' 'pair_slope_trend_last_30' 'percent_amplitude'\n",
      " 'percent_difference_flux_percentile' 'poly1_t1' 'poly2_t1' 'poly2_t2'\n",
      " 'poly3_t1' 'poly3_t2' 'poly3_t3' 'poly4_t1' 'poly4_t2' 'poly4_t3'\n",
      " 'poly4_t4' 'skew' 'small_kurtosis' 'std' 'stetson_j' 'stetson_k']\n"
     ]
    }
   ],
   "source": [
    "feats = np.array(tran.columns[2:])\n",
    "print(len(feats))\n",
    "print(feats)"
   ]
  },
  {
   "cell_type": "code",
   "execution_count": 6,
   "metadata": {},
   "outputs": [],
   "source": [
    "alldf = pd.concat([tran,ntran])"
   ]
  },
  {
   "cell_type": "markdown",
   "metadata": {},
   "source": [
    "# Without oversampling & not balancing test"
   ]
  },
  {
   "cell_type": "code",
   "execution_count": 4,
   "metadata": {},
   "outputs": [],
   "source": [
    "noOversampling = alldf.copy()\n",
    "noOversampling = noOversampling[noOversampling.index.get_level_values('copy_num')==0]\n",
    "\n",
    "noOversampling = noOversampling.sample(frac=1)"
   ]
  },
  {
   "cell_type": "markdown",
   "metadata": {},
   "source": [
    "## for binary case"
   ]
  },
  {
   "cell_type": "code",
   "execution_count": 90,
   "metadata": {},
   "outputs": [],
   "source": [
    "noOversampling.Class = list(map(lambda x: 'non-transient' if x=='non-transient' else 'transient', noOversampling.Class))"
   ]
  },
  {
   "cell_type": "code",
   "execution_count": 91,
   "metadata": {},
   "outputs": [],
   "source": [
    "noOversampling['target'] = list(map(lambda x: 1 if x=='transient' else 0, noOversampling.Class))"
   ]
  },
  {
   "cell_type": "code",
   "execution_count": 10,
   "metadata": {},
   "outputs": [],
   "source": [
    "def splitTrainTest(dataframe):\n",
    "    test = pd.DataFrame(columns = [\"ID\",\"copy_num\"]+list(dataframe.columns))\n",
    "    test = test.set_index([\"ID\",\"copy_num\"])\n",
    "\n",
    "    train = pd.DataFrame(columns = [\"ID\",\"copy_num\"]+list(dataframe.columns))\n",
    "    train = train.set_index([\"ID\",\"copy_num\"])\n",
    "    for uClass in dataframe.Class.unique():\n",
    "        classDf = dataframe[dataframe.Class == uClass]\n",
    "        \n",
    "        #ids unicos \n",
    "        ids = classDf.index.get_level_values('ID').unique()\n",
    "\n",
    "        # escoger aleatoriamente 25% de los indices\n",
    "\n",
    "        testInd = np.random.choice(ids, int(0.25*len(ids)),replace=False)\n",
    "\n",
    "        #sacar dataframes\n",
    "        test = pd.concat([test,classDf[classDf.index.get_level_values('ID').isin(testInd)]])\n",
    "        \n",
    "        train = pd.concat([train,classDf[~classDf.index.get_level_values('ID').isin(testInd)]])\n",
    "\n",
    "    return train,test\n"
   ]
  },
  {
   "cell_type": "code",
   "execution_count": 11,
   "metadata": {},
   "outputs": [],
   "source": [
    "def balance(df):\n",
    "#     g = df.groupby('Class')\n",
    "#     g=g.apply(lambda x: x.sample(g.size().min()).reset_index(drop=True))\n",
    "    minNum = np.inf\n",
    "    for classElem in df.Class.unique():\n",
    "        numElems = len(df[df.Class==classElem])\n",
    "        if(numElems<minNum):\n",
    "            minNum=numElems\n",
    "            \n",
    "    ans = pd.DataFrame(columns = [\"ID\",\"copy_num\"]+list(df.columns))\n",
    "    ans = ans.set_index([\"ID\",\"copy_num\"])\n",
    "    for classElem in df.Class.unique():\n",
    "        ans = pd.concat([ans,df[df.Class==classElem].sample(n=minNum)])\n",
    "    return ans"
   ]
  },
  {
   "cell_type": "code",
   "execution_count": 94,
   "metadata": {},
   "outputs": [
    {
     "name": "stdout",
     "output_type": "stream",
     "text": [
      "99.00%"
     ]
    }
   ],
   "source": [
    "recall_scores = []\n",
    "iterations = 100\n",
    "for i in range(iterations):\n",
    "    print(\"\\r\"+\"{:.2f}%\".format(i*100/iterations), end = \"\")\n",
    "    \n",
    "    #split train test class by class\n",
    "    all_train,all_test = splitTrainTest(noOversampling)\n",
    "    \n",
    "    #balance the train set\n",
    "    all_train= balance(all_train)\n",
    "    \n",
    "    #format stuff\n",
    "    all_train.target= all_train.target.astype('int')\n",
    "    all_test.target= all_test.target.astype('int')\n",
    "\n",
    "    #train indices\n",
    "    trainIdx = all_train.index.get_level_values(\"ID\").unique()\n",
    "   \n",
    "    #remove originals that may have oversampled copies in train\n",
    "    all_test = all_test[~all_test.index.get_level_values(\"ID\").isin(trainIdx)]\n",
    "    \n",
    "    \n",
    "    clf = RandomForestClassifier(n_estimators=50,random_state=0, class_weight='balanced')\n",
    "    clf.fit(all_train[feats], all_train.target)\n",
    "\n",
    "    \n",
    "    recall_scores.append(recall_score(all_test.target,clf.predict(all_test[feats])))"
   ]
  },
  {
   "cell_type": "code",
   "execution_count": 95,
   "metadata": {},
   "outputs": [
    {
     "data": {
      "text/plain": [
       "Text(0.5,0,'Recall scores')"
      ]
     },
     "execution_count": 95,
     "metadata": {},
     "output_type": "execute_result"
    },
    {
     "data": {
      "image/png": "[encoded data removed]",
      "text/plain": [
       "<matplotlib.figure.Figure at 0x7fec2c2d4eb8>"
      ]
     },
     "metadata": {},
     "output_type": "display_data"
    }
   ],
   "source": [
    "mean = np.mean(recall_scores)\n",
    "plt.hist(recall_scores,density=True,bins=10)\n",
    "plt.plot([mean,mean],[0,50],c='black',linestyle='--',label='mean={:.4f}'.format(mean))\n",
    "plt.legend()\n",
    "plt.title(\"No oversampling, N=100\")\n",
    "plt.xlabel('Recall scores')"
   ]
  },
  {
   "cell_type": "markdown",
   "metadata": {},
   "source": [
    "# WITH oversampling & not balancing test"
   ]
  },
  {
   "cell_type": "markdown",
   "metadata": {},
   "source": [
    "## Binary case"
   ]
  },
  {
   "cell_type": "code",
   "execution_count": 150,
   "metadata": {},
   "outputs": [],
   "source": [
    "oversampling = alldf.copy()\n",
    "# oversampling = noOversampling[noOversampling.index.get_level_values('copy_num')==0]\n",
    "\n",
    "oversampling = oversampling.sample(frac=1)\n",
    "\n",
    "\n",
    "\n",
    "oversampling.Class = list(map(lambda x: 'non-transient' if x=='non-transient' else 'transient', oversampling.Class))\n",
    "\n",
    "oversampling['target'] = list(map(lambda x: 1 if x=='transient' else 0, oversampling.Class))"
   ]
  },
  {
   "cell_type": "code",
   "execution_count": 154,
   "metadata": {},
   "outputs": [
    {
     "name": "stdout",
     "output_type": "stream",
     "text": [
      "4.00%"
     ]
    },
    {
     "ename": "KeyboardInterrupt",
     "evalue": "",
     "output_type": "error",
     "traceback": [
      "\u001b[0;31m---------------------------------------------------------------------------\u001b[0m",
      "\u001b[0;31mKeyboardInterrupt\u001b[0m                         Traceback (most recent call last)",
      "\u001b[0;32m<ipython-input-154-cad70a2914ab>\u001b[0m in \u001b[0;36m<module>\u001b[0;34m()\u001b[0m\n\u001b[1;32m     22\u001b[0m \u001b[0;34m\u001b[0m\u001b[0m\n\u001b[1;32m     23\u001b[0m     \u001b[0mclf\u001b[0m \u001b[0;34m=\u001b[0m \u001b[0mRandomForestClassifier\u001b[0m\u001b[0;34m(\u001b[0m\u001b[0mn_estimators\u001b[0m\u001b[0;34m=\u001b[0m\u001b[0;36m50\u001b[0m\u001b[0;34m,\u001b[0m\u001b[0mrandom_state\u001b[0m\u001b[0;34m=\u001b[0m\u001b[0;36m0\u001b[0m\u001b[0;34m,\u001b[0m \u001b[0mclass_weight\u001b[0m\u001b[0;34m=\u001b[0m\u001b[0;34m'balanced'\u001b[0m\u001b[0;34m)\u001b[0m\u001b[0;34m\u001b[0m\u001b[0m\n\u001b[0;32m---> 24\u001b[0;31m     \u001b[0mclf\u001b[0m\u001b[0;34m.\u001b[0m\u001b[0mfit\u001b[0m\u001b[0;34m(\u001b[0m\u001b[0mall_train\u001b[0m\u001b[0;34m[\u001b[0m\u001b[0mfeats\u001b[0m\u001b[0;34m]\u001b[0m\u001b[0;34m,\u001b[0m \u001b[0mall_train\u001b[0m\u001b[0;34m.\u001b[0m\u001b[0mtarget\u001b[0m\u001b[0;34m)\u001b[0m\u001b[0;34m\u001b[0m\u001b[0m\n\u001b[0m\u001b[1;32m     25\u001b[0m \u001b[0;31m#     print(type(all_test.target.unique()[0]))\u001b[0m\u001b[0;34m\u001b[0m\u001b[0;34m\u001b[0m\u001b[0m\n\u001b[1;32m     26\u001b[0m \u001b[0;31m#     print(type(np.unique(clf.predict(all_test[feats]))[0]))\u001b[0m\u001b[0;34m\u001b[0m\u001b[0;34m\u001b[0m\u001b[0m\n",
      "\u001b[0;32m~/anaconda3/lib/python3.6/site-packages/sklearn/ensemble/forest.py\u001b[0m in \u001b[0;36mfit\u001b[0;34m(self, X, y, sample_weight)\u001b[0m\n\u001b[1;32m    326\u001b[0m                     \u001b[0mt\u001b[0m\u001b[0;34m,\u001b[0m \u001b[0mself\u001b[0m\u001b[0;34m,\u001b[0m \u001b[0mX\u001b[0m\u001b[0;34m,\u001b[0m \u001b[0my\u001b[0m\u001b[0;34m,\u001b[0m \u001b[0msample_weight\u001b[0m\u001b[0;34m,\u001b[0m \u001b[0mi\u001b[0m\u001b[0;34m,\u001b[0m \u001b[0mlen\u001b[0m\u001b[0;34m(\u001b[0m\u001b[0mtrees\u001b[0m\u001b[0;34m)\u001b[0m\u001b[0;34m,\u001b[0m\u001b[0;34m\u001b[0m\u001b[0m\n\u001b[1;32m    327\u001b[0m                     verbose=self.verbose, class_weight=self.class_weight)\n\u001b[0;32m--> 328\u001b[0;31m                 for i, t in enumerate(trees))\n\u001b[0m\u001b[1;32m    329\u001b[0m \u001b[0;34m\u001b[0m\u001b[0m\n\u001b[1;32m    330\u001b[0m             \u001b[0;31m# Collect newly grown trees\u001b[0m\u001b[0;34m\u001b[0m\u001b[0;34m\u001b[0m\u001b[0m\n",
      "\u001b[0;32m~/anaconda3/lib/python3.6/site-packages/sklearn/externals/joblib/parallel.py\u001b[0m in \u001b[0;36m__call__\u001b[0;34m(self, iterable)\u001b[0m\n\u001b[1;32m    777\u001b[0m             \u001b[0;31m# was dispatched. In particular this covers the edge\u001b[0m\u001b[0;34m\u001b[0m\u001b[0;34m\u001b[0m\u001b[0m\n\u001b[1;32m    778\u001b[0m             \u001b[0;31m# case of Parallel used with an exhausted iterator.\u001b[0m\u001b[0;34m\u001b[0m\u001b[0;34m\u001b[0m\u001b[0m\n\u001b[0;32m--> 779\u001b[0;31m             \u001b[0;32mwhile\u001b[0m \u001b[0mself\u001b[0m\u001b[0;34m.\u001b[0m\u001b[0mdispatch_one_batch\u001b[0m\u001b[0;34m(\u001b[0m\u001b[0miterator\u001b[0m\u001b[0;34m)\u001b[0m\u001b[0;34m:\u001b[0m\u001b[0;34m\u001b[0m\u001b[0m\n\u001b[0m\u001b[1;32m    780\u001b[0m                 \u001b[0mself\u001b[0m\u001b[0;34m.\u001b[0m\u001b[0m_iterating\u001b[0m \u001b[0;34m=\u001b[0m \u001b[0;32mTrue\u001b[0m\u001b[0;34m\u001b[0m\u001b[0m\n\u001b[1;32m    781\u001b[0m             \u001b[0;32melse\u001b[0m\u001b[0;34m:\u001b[0m\u001b[0;34m\u001b[0m\u001b[0m\n",
      "\u001b[0;32m~/anaconda3/lib/python3.6/site-packages/sklearn/externals/joblib/parallel.py\u001b[0m in \u001b[0;36mdispatch_one_batch\u001b[0;34m(self, iterator)\u001b[0m\n\u001b[1;32m    623\u001b[0m                 \u001b[0;32mreturn\u001b[0m \u001b[0;32mFalse\u001b[0m\u001b[0;34m\u001b[0m\u001b[0m\n\u001b[1;32m    624\u001b[0m             \u001b[0;32melse\u001b[0m\u001b[0;34m:\u001b[0m\u001b[0;34m\u001b[0m\u001b[0m\n\u001b[0;32m--> 625\u001b[0;31m                 \u001b[0mself\u001b[0m\u001b[0;34m.\u001b[0m\u001b[0m_dispatch\u001b[0m\u001b[0;34m(\u001b[0m\u001b[0mtasks\u001b[0m\u001b[0;34m)\u001b[0m\u001b[0;34m\u001b[0m\u001b[0m\n\u001b[0m\u001b[1;32m    626\u001b[0m                 \u001b[0;32mreturn\u001b[0m \u001b[0;32mTrue\u001b[0m\u001b[0;34m\u001b[0m\u001b[0m\n\u001b[1;32m    627\u001b[0m \u001b[0;34m\u001b[0m\u001b[0m\n",
      "\u001b[0;32m~/anaconda3/lib/python3.6/site-packages/sklearn/externals/joblib/parallel.py\u001b[0m in \u001b[0;36m_dispatch\u001b[0;34m(self, batch)\u001b[0m\n\u001b[1;32m    586\u001b[0m         \u001b[0mdispatch_timestamp\u001b[0m \u001b[0;34m=\u001b[0m \u001b[0mtime\u001b[0m\u001b[0;34m.\u001b[0m\u001b[0mtime\u001b[0m\u001b[0;34m(\u001b[0m\u001b[0;34m)\u001b[0m\u001b[0;34m\u001b[0m\u001b[0m\n\u001b[1;32m    587\u001b[0m         \u001b[0mcb\u001b[0m \u001b[0;34m=\u001b[0m \u001b[0mBatchCompletionCallBack\u001b[0m\u001b[0;34m(\u001b[0m\u001b[0mdispatch_timestamp\u001b[0m\u001b[0;34m,\u001b[0m \u001b[0mlen\u001b[0m\u001b[0;34m(\u001b[0m\u001b[0mbatch\u001b[0m\u001b[0;34m)\u001b[0m\u001b[0;34m,\u001b[0m \u001b[0mself\u001b[0m\u001b[0;34m)\u001b[0m\u001b[0;34m\u001b[0m\u001b[0m\n\u001b[0;32m--> 588\u001b[0;31m         \u001b[0mjob\u001b[0m \u001b[0;34m=\u001b[0m \u001b[0mself\u001b[0m\u001b[0;34m.\u001b[0m\u001b[0m_backend\u001b[0m\u001b[0;34m.\u001b[0m\u001b[0mapply_async\u001b[0m\u001b[0;34m(\u001b[0m\u001b[0mbatch\u001b[0m\u001b[0;34m,\u001b[0m \u001b[0mcallback\u001b[0m\u001b[0;34m=\u001b[0m\u001b[0mcb\u001b[0m\u001b[0;34m)\u001b[0m\u001b[0;34m\u001b[0m\u001b[0m\n\u001b[0m\u001b[1;32m    589\u001b[0m         \u001b[0mself\u001b[0m\u001b[0;34m.\u001b[0m\u001b[0m_jobs\u001b[0m\u001b[0;34m.\u001b[0m\u001b[0mappend\u001b[0m\u001b[0;34m(\u001b[0m\u001b[0mjob\u001b[0m\u001b[0;34m)\u001b[0m\u001b[0;34m\u001b[0m\u001b[0m\n\u001b[1;32m    590\u001b[0m \u001b[0;34m\u001b[0m\u001b[0m\n",
      "\u001b[0;32m~/anaconda3/lib/python3.6/site-packages/sklearn/externals/joblib/_parallel_backends.py\u001b[0m in \u001b[0;36mapply_async\u001b[0;34m(self, func, callback)\u001b[0m\n\u001b[1;32m    109\u001b[0m     \u001b[0;32mdef\u001b[0m \u001b[0mapply_async\u001b[0m\u001b[0;34m(\u001b[0m\u001b[0mself\u001b[0m\u001b[0;34m,\u001b[0m \u001b[0mfunc\u001b[0m\u001b[0;34m,\u001b[0m \u001b[0mcallback\u001b[0m\u001b[0;34m=\u001b[0m\u001b[0;32mNone\u001b[0m\u001b[0;34m)\u001b[0m\u001b[0;34m:\u001b[0m\u001b[0;34m\u001b[0m\u001b[0m\n\u001b[1;32m    110\u001b[0m         \u001b[0;34m\"\"\"Schedule a func to be run\"\"\"\u001b[0m\u001b[0;34m\u001b[0m\u001b[0m\n\u001b[0;32m--> 111\u001b[0;31m         \u001b[0mresult\u001b[0m \u001b[0;34m=\u001b[0m \u001b[0mImmediateResult\u001b[0m\u001b[0;34m(\u001b[0m\u001b[0mfunc\u001b[0m\u001b[0;34m)\u001b[0m\u001b[0;34m\u001b[0m\u001b[0m\n\u001b[0m\u001b[1;32m    112\u001b[0m         \u001b[0;32mif\u001b[0m \u001b[0mcallback\u001b[0m\u001b[0;34m:\u001b[0m\u001b[0;34m\u001b[0m\u001b[0m\n\u001b[1;32m    113\u001b[0m             \u001b[0mcallback\u001b[0m\u001b[0;34m(\u001b[0m\u001b[0mresult\u001b[0m\u001b[0;34m)\u001b[0m\u001b[0;34m\u001b[0m\u001b[0m\n",
      "\u001b[0;32m~/anaconda3/lib/python3.6/site-packages/sklearn/externals/joblib/_parallel_backends.py\u001b[0m in \u001b[0;36m__init__\u001b[0;34m(self, batch)\u001b[0m\n\u001b[1;32m    330\u001b[0m         \u001b[0;31m# Don't delay the application, to avoid keeping the input\u001b[0m\u001b[0;34m\u001b[0m\u001b[0;34m\u001b[0m\u001b[0m\n\u001b[1;32m    331\u001b[0m         \u001b[0;31m# arguments in memory\u001b[0m\u001b[0;34m\u001b[0m\u001b[0;34m\u001b[0m\u001b[0m\n\u001b[0;32m--> 332\u001b[0;31m         \u001b[0mself\u001b[0m\u001b[0;34m.\u001b[0m\u001b[0mresults\u001b[0m \u001b[0;34m=\u001b[0m \u001b[0mbatch\u001b[0m\u001b[0;34m(\u001b[0m\u001b[0;34m)\u001b[0m\u001b[0;34m\u001b[0m\u001b[0m\n\u001b[0m\u001b[1;32m    333\u001b[0m \u001b[0;34m\u001b[0m\u001b[0m\n\u001b[1;32m    334\u001b[0m     \u001b[0;32mdef\u001b[0m \u001b[0mget\u001b[0m\u001b[0;34m(\u001b[0m\u001b[0mself\u001b[0m\u001b[0;34m)\u001b[0m\u001b[0;34m:\u001b[0m\u001b[0;34m\u001b[0m\u001b[0m\n",
      "\u001b[0;32m~/anaconda3/lib/python3.6/site-packages/sklearn/externals/joblib/parallel.py\u001b[0m in \u001b[0;36m__call__\u001b[0;34m(self)\u001b[0m\n\u001b[1;32m    129\u001b[0m \u001b[0;34m\u001b[0m\u001b[0m\n\u001b[1;32m    130\u001b[0m     \u001b[0;32mdef\u001b[0m \u001b[0m__call__\u001b[0m\u001b[0;34m(\u001b[0m\u001b[0mself\u001b[0m\u001b[0;34m)\u001b[0m\u001b[0;34m:\u001b[0m\u001b[0;34m\u001b[0m\u001b[0m\n\u001b[0;32m--> 131\u001b[0;31m         \u001b[0;32mreturn\u001b[0m \u001b[0;34m[\u001b[0m\u001b[0mfunc\u001b[0m\u001b[0;34m(\u001b[0m\u001b[0;34m*\u001b[0m\u001b[0margs\u001b[0m\u001b[0;34m,\u001b[0m \u001b[0;34m**\u001b[0m\u001b[0mkwargs\u001b[0m\u001b[0;34m)\u001b[0m \u001b[0;32mfor\u001b[0m \u001b[0mfunc\u001b[0m\u001b[0;34m,\u001b[0m \u001b[0margs\u001b[0m\u001b[0;34m,\u001b[0m \u001b[0mkwargs\u001b[0m \u001b[0;32min\u001b[0m \u001b[0mself\u001b[0m\u001b[0;34m.\u001b[0m\u001b[0mitems\u001b[0m\u001b[0;34m]\u001b[0m\u001b[0;34m\u001b[0m\u001b[0m\n\u001b[0m\u001b[1;32m    132\u001b[0m \u001b[0;34m\u001b[0m\u001b[0m\n\u001b[1;32m    133\u001b[0m     \u001b[0;32mdef\u001b[0m \u001b[0m__len__\u001b[0m\u001b[0;34m(\u001b[0m\u001b[0mself\u001b[0m\u001b[0;34m)\u001b[0m\u001b[0;34m:\u001b[0m\u001b[0;34m\u001b[0m\u001b[0m\n",
      "\u001b[0;32m~/anaconda3/lib/python3.6/site-packages/sklearn/externals/joblib/parallel.py\u001b[0m in \u001b[0;36m<listcomp>\u001b[0;34m(.0)\u001b[0m\n\u001b[1;32m    129\u001b[0m \u001b[0;34m\u001b[0m\u001b[0m\n\u001b[1;32m    130\u001b[0m     \u001b[0;32mdef\u001b[0m \u001b[0m__call__\u001b[0m\u001b[0;34m(\u001b[0m\u001b[0mself\u001b[0m\u001b[0;34m)\u001b[0m\u001b[0;34m:\u001b[0m\u001b[0;34m\u001b[0m\u001b[0m\n\u001b[0;32m--> 131\u001b[0;31m         \u001b[0;32mreturn\u001b[0m \u001b[0;34m[\u001b[0m\u001b[0mfunc\u001b[0m\u001b[0;34m(\u001b[0m\u001b[0;34m*\u001b[0m\u001b[0margs\u001b[0m\u001b[0;34m,\u001b[0m \u001b[0;34m**\u001b[0m\u001b[0mkwargs\u001b[0m\u001b[0;34m)\u001b[0m \u001b[0;32mfor\u001b[0m \u001b[0mfunc\u001b[0m\u001b[0;34m,\u001b[0m \u001b[0margs\u001b[0m\u001b[0;34m,\u001b[0m \u001b[0mkwargs\u001b[0m \u001b[0;32min\u001b[0m \u001b[0mself\u001b[0m\u001b[0;34m.\u001b[0m\u001b[0mitems\u001b[0m\u001b[0;34m]\u001b[0m\u001b[0;34m\u001b[0m\u001b[0m\n\u001b[0m\u001b[1;32m    132\u001b[0m \u001b[0;34m\u001b[0m\u001b[0m\n\u001b[1;32m    133\u001b[0m     \u001b[0;32mdef\u001b[0m \u001b[0m__len__\u001b[0m\u001b[0;34m(\u001b[0m\u001b[0mself\u001b[0m\u001b[0;34m)\u001b[0m\u001b[0;34m:\u001b[0m\u001b[0;34m\u001b[0m\u001b[0m\n",
      "\u001b[0;32m~/anaconda3/lib/python3.6/site-packages/sklearn/ensemble/forest.py\u001b[0m in \u001b[0;36m_parallel_build_trees\u001b[0;34m(tree, forest, X, y, sample_weight, tree_idx, n_trees, verbose, class_weight)\u001b[0m\n\u001b[1;32m    119\u001b[0m             \u001b[0mcurr_sample_weight\u001b[0m \u001b[0;34m*=\u001b[0m \u001b[0mcompute_sample_weight\u001b[0m\u001b[0;34m(\u001b[0m\u001b[0;34m'balanced'\u001b[0m\u001b[0;34m,\u001b[0m \u001b[0my\u001b[0m\u001b[0;34m,\u001b[0m \u001b[0mindices\u001b[0m\u001b[0;34m)\u001b[0m\u001b[0;34m\u001b[0m\u001b[0m\n\u001b[1;32m    120\u001b[0m \u001b[0;34m\u001b[0m\u001b[0m\n\u001b[0;32m--> 121\u001b[0;31m         \u001b[0mtree\u001b[0m\u001b[0;34m.\u001b[0m\u001b[0mfit\u001b[0m\u001b[0;34m(\u001b[0m\u001b[0mX\u001b[0m\u001b[0;34m,\u001b[0m \u001b[0my\u001b[0m\u001b[0;34m,\u001b[0m \u001b[0msample_weight\u001b[0m\u001b[0;34m=\u001b[0m\u001b[0mcurr_sample_weight\u001b[0m\u001b[0;34m,\u001b[0m \u001b[0mcheck_input\u001b[0m\u001b[0;34m=\u001b[0m\u001b[0;32mFalse\u001b[0m\u001b[0;34m)\u001b[0m\u001b[0;34m\u001b[0m\u001b[0m\n\u001b[0m\u001b[1;32m    122\u001b[0m     \u001b[0;32melse\u001b[0m\u001b[0;34m:\u001b[0m\u001b[0;34m\u001b[0m\u001b[0m\n\u001b[1;32m    123\u001b[0m         \u001b[0mtree\u001b[0m\u001b[0;34m.\u001b[0m\u001b[0mfit\u001b[0m\u001b[0;34m(\u001b[0m\u001b[0mX\u001b[0m\u001b[0;34m,\u001b[0m \u001b[0my\u001b[0m\u001b[0;34m,\u001b[0m \u001b[0msample_weight\u001b[0m\u001b[0;34m=\u001b[0m\u001b[0msample_weight\u001b[0m\u001b[0;34m,\u001b[0m \u001b[0mcheck_input\u001b[0m\u001b[0;34m=\u001b[0m\u001b[0;32mFalse\u001b[0m\u001b[0;34m)\u001b[0m\u001b[0;34m\u001b[0m\u001b[0m\n",
      "\u001b[0;32m~/anaconda3/lib/python3.6/site-packages/sklearn/tree/tree.py\u001b[0m in \u001b[0;36mfit\u001b[0;34m(self, X, y, sample_weight, check_input, X_idx_sorted)\u001b[0m\n\u001b[1;32m    788\u001b[0m             \u001b[0msample_weight\u001b[0m\u001b[0;34m=\u001b[0m\u001b[0msample_weight\u001b[0m\u001b[0;34m,\u001b[0m\u001b[0;34m\u001b[0m\u001b[0m\n\u001b[1;32m    789\u001b[0m             \u001b[0mcheck_input\u001b[0m\u001b[0;34m=\u001b[0m\u001b[0mcheck_input\u001b[0m\u001b[0;34m,\u001b[0m\u001b[0;34m\u001b[0m\u001b[0m\n\u001b[0;32m--> 790\u001b[0;31m             X_idx_sorted=X_idx_sorted)\n\u001b[0m\u001b[1;32m    791\u001b[0m         \u001b[0;32mreturn\u001b[0m \u001b[0mself\u001b[0m\u001b[0;34m\u001b[0m\u001b[0m\n\u001b[1;32m    792\u001b[0m \u001b[0;34m\u001b[0m\u001b[0m\n",
      "\u001b[0;32m~/anaconda3/lib/python3.6/site-packages/sklearn/tree/tree.py\u001b[0m in \u001b[0;36mfit\u001b[0;34m(self, X, y, sample_weight, check_input, X_idx_sorted)\u001b[0m\n\u001b[1;32m    360\u001b[0m                                            min_impurity_split)\n\u001b[1;32m    361\u001b[0m \u001b[0;34m\u001b[0m\u001b[0m\n\u001b[0;32m--> 362\u001b[0;31m         \u001b[0mbuilder\u001b[0m\u001b[0;34m.\u001b[0m\u001b[0mbuild\u001b[0m\u001b[0;34m(\u001b[0m\u001b[0mself\u001b[0m\u001b[0;34m.\u001b[0m\u001b[0mtree_\u001b[0m\u001b[0;34m,\u001b[0m \u001b[0mX\u001b[0m\u001b[0;34m,\u001b[0m \u001b[0my\u001b[0m\u001b[0;34m,\u001b[0m \u001b[0msample_weight\u001b[0m\u001b[0;34m,\u001b[0m \u001b[0mX_idx_sorted\u001b[0m\u001b[0;34m)\u001b[0m\u001b[0;34m\u001b[0m\u001b[0m\n\u001b[0m\u001b[1;32m    363\u001b[0m \u001b[0;34m\u001b[0m\u001b[0m\n\u001b[1;32m    364\u001b[0m         \u001b[0;32mif\u001b[0m \u001b[0mself\u001b[0m\u001b[0;34m.\u001b[0m\u001b[0mn_outputs_\u001b[0m \u001b[0;34m==\u001b[0m \u001b[0;36m1\u001b[0m\u001b[0;34m:\u001b[0m\u001b[0;34m\u001b[0m\u001b[0m\n",
      "\u001b[0;31mKeyboardInterrupt\u001b[0m: "
     ]
    }
   ],
   "source": [
    "recall_scores = []\n",
    "iterations = 100\n",
    "for i in range(iterations):\n",
    "    print(\"\\r\"+\"{:.2f}%\".format(i*100/iterations), end = \"\")\n",
    "    \n",
    "    #split train test class by class\n",
    "    all_train,all_test = splitTrainTest(oversampling)\n",
    "    \n",
    "    #balance the train set\n",
    "    all_train= balance(all_train)\n",
    "    \n",
    "    #format stuff\n",
    "    all_train.target= all_train.target.astype('int')\n",
    "    all_test.target= all_test.target.astype('int')\n",
    "\n",
    "    #train indices\n",
    "    trainIdx = all_train.index.get_level_values(\"ID\").unique()\n",
    "   \n",
    "    #remove originals that may have oversampled copies in train\n",
    "    all_test = all_test[~all_test.index.get_level_values(\"ID\").isin(trainIdx)]\n",
    "    \n",
    "    \n",
    "    clf = RandomForestClassifier(n_estimators=50,random_state=0, class_weight='balanced')\n",
    "    clf.fit(all_train[feats], all_train.target)\n",
    "#     print(type(all_test.target.unique()[0]))\n",
    "#     print(type(np.unique(clf.predict(all_test[feats]))[0]))\n",
    "    \n",
    "    recall_scores.append(recall_score(all_test.target,clf.predict(all_test[feats])))"
   ]
  },
  {
   "cell_type": "code",
   "execution_count": 153,
   "metadata": {},
   "outputs": [
    {
     "data": {
      "text/plain": [
       "Text(0.5,0,'Recall scores')"
      ]
     },
     "execution_count": 153,
     "metadata": {},
     "output_type": "execute_result"
    },
    {
     "data": {
      "image/png": "[encoded data removed]",
      "text/plain": [
       "<matplotlib.figure.Figure at 0x7fec2a794e80>"
      ]
     },
     "metadata": {},
     "output_type": "display_data"
    }
   ],
   "source": [
    "mean = np.mean(recall_scores)\n",
    "plt.hist(recall_scores,density=True,bins=10)\n",
    "plt.plot([mean,mean],[0,50],c='black',linestyle='--',label='mean={:.4f}'.format(mean))\n",
    "plt.legend()\n",
    "plt.title(\"Oversampling, N=100\")\n",
    "plt.xlabel('Recall scores')"
   ]
  },
  {
   "cell_type": "markdown",
   "metadata": {},
   "source": [
    "# WITH oversampling &  balancing test"
   ]
  },
  {
   "cell_type": "code",
   "execution_count": 10,
   "metadata": {},
   "outputs": [
    {
     "name": "stdout",
     "output_type": "stream",
     "text": [
      "(62152, 33)\n"
     ]
    }
   ],
   "source": [
    "oversampling = alldf.copy()\n",
    "# oversampling = noOversampling[noOversampling.index.get_level_values('copy_num')==0]\n",
    "\n",
    "oversampling = oversampling.sample(frac=1)\n",
    "\n",
    "\n",
    "\n",
    "oversampling.Class = list(map(lambda x: 'non-transient' if x=='non-transient' else 'transient', oversampling.Class))\n",
    "\n",
    "oversampling['target'] = list(map(lambda x: 1 if x=='transient' else 0, oversampling.Class))\n",
    "print(oversampling.shape)"
   ]
  },
  {
   "cell_type": "code",
   "execution_count": 12,
   "metadata": {},
   "outputs": [
    {
     "name": "stdout",
     "output_type": "stream",
     "text": [
      "0.00%0.08562028566843204\n",
      "3.33%0.08562028566843204\n",
      "6.67%0.08562028566843204\n",
      "10.00%0.08562028566843204\n",
      "13.33%0.08562028566843204\n",
      "16.67%0.08562028566843204\n",
      "20.00%0.08562028566843204\n",
      "23.33%0.08562028566843204\n",
      "26.67%0.08562028566843204\n",
      "30.00%0.08562028566843204\n",
      "33.33%0.08562028566843204\n",
      "36.67%0.08562028566843204\n",
      "40.00%0.08562028566843204\n",
      "43.33%0.08562028566843204\n",
      "46.67%0.08562028566843204\n"
     ]
    },
    {
     "ename": "KeyboardInterrupt",
     "evalue": "",
     "output_type": "error",
     "traceback": [
      "\u001b[0;31m---------------------------------------------------------------------------\u001b[0m",
      "\u001b[0;31mKeyboardInterrupt\u001b[0m                         Traceback (most recent call last)",
      "\u001b[0;32m<ipython-input-12-9a09d6315663>\u001b[0m in \u001b[0;36m<module>\u001b[0;34m()\u001b[0m\n\u001b[1;32m     30\u001b[0m \u001b[0;34m\u001b[0m\u001b[0m\n\u001b[1;32m     31\u001b[0m     \u001b[0mclf\u001b[0m \u001b[0;34m=\u001b[0m \u001b[0mRandomForestClassifier\u001b[0m\u001b[0;34m(\u001b[0m\u001b[0mn_estimators\u001b[0m\u001b[0;34m=\u001b[0m\u001b[0;36m50\u001b[0m\u001b[0;34m,\u001b[0m\u001b[0mrandom_state\u001b[0m\u001b[0;34m=\u001b[0m\u001b[0;36m0\u001b[0m\u001b[0;34m,\u001b[0m \u001b[0mclass_weight\u001b[0m\u001b[0;34m=\u001b[0m\u001b[0;34m'balanced'\u001b[0m\u001b[0;34m)\u001b[0m\u001b[0;34m\u001b[0m\u001b[0m\n\u001b[0;32m---> 32\u001b[0;31m     \u001b[0mclf\u001b[0m\u001b[0;34m.\u001b[0m\u001b[0mfit\u001b[0m\u001b[0;34m(\u001b[0m\u001b[0mall_train\u001b[0m\u001b[0;34m[\u001b[0m\u001b[0mfeats\u001b[0m\u001b[0;34m]\u001b[0m\u001b[0;34m,\u001b[0m \u001b[0mall_train\u001b[0m\u001b[0;34m.\u001b[0m\u001b[0mtarget\u001b[0m\u001b[0;34m)\u001b[0m\u001b[0;34m\u001b[0m\u001b[0m\n\u001b[0m\u001b[1;32m     33\u001b[0m \u001b[0;34m\u001b[0m\u001b[0m\n\u001b[1;32m     34\u001b[0m \u001b[0;31m#     print(type(all_test.target.unique()[0]))\u001b[0m\u001b[0;34m\u001b[0m\u001b[0;34m\u001b[0m\u001b[0m\n",
      "\u001b[0;32m~/anaconda3/lib/python3.6/site-packages/sklearn/ensemble/forest.py\u001b[0m in \u001b[0;36mfit\u001b[0;34m(self, X, y, sample_weight)\u001b[0m\n\u001b[1;32m    326\u001b[0m                     \u001b[0mt\u001b[0m\u001b[0;34m,\u001b[0m \u001b[0mself\u001b[0m\u001b[0;34m,\u001b[0m \u001b[0mX\u001b[0m\u001b[0;34m,\u001b[0m \u001b[0my\u001b[0m\u001b[0;34m,\u001b[0m \u001b[0msample_weight\u001b[0m\u001b[0;34m,\u001b[0m \u001b[0mi\u001b[0m\u001b[0;34m,\u001b[0m \u001b[0mlen\u001b[0m\u001b[0;34m(\u001b[0m\u001b[0mtrees\u001b[0m\u001b[0;34m)\u001b[0m\u001b[0;34m,\u001b[0m\u001b[0;34m\u001b[0m\u001b[0m\n\u001b[1;32m    327\u001b[0m                     verbose=self.verbose, class_weight=self.class_weight)\n\u001b[0;32m--> 328\u001b[0;31m                 for i, t in enumerate(trees))\n\u001b[0m\u001b[1;32m    329\u001b[0m \u001b[0;34m\u001b[0m\u001b[0m\n\u001b[1;32m    330\u001b[0m             \u001b[0;31m# Collect newly grown trees\u001b[0m\u001b[0;34m\u001b[0m\u001b[0;34m\u001b[0m\u001b[0m\n",
      "\u001b[0;32m~/anaconda3/lib/python3.6/site-packages/sklearn/externals/joblib/parallel.py\u001b[0m in \u001b[0;36m__call__\u001b[0;34m(self, iterable)\u001b[0m\n\u001b[1;32m    777\u001b[0m             \u001b[0;31m# was dispatched. In particular this covers the edge\u001b[0m\u001b[0;34m\u001b[0m\u001b[0;34m\u001b[0m\u001b[0m\n\u001b[1;32m    778\u001b[0m             \u001b[0;31m# case of Parallel used with an exhausted iterator.\u001b[0m\u001b[0;34m\u001b[0m\u001b[0;34m\u001b[0m\u001b[0m\n\u001b[0;32m--> 779\u001b[0;31m             \u001b[0;32mwhile\u001b[0m \u001b[0mself\u001b[0m\u001b[0;34m.\u001b[0m\u001b[0mdispatch_one_batch\u001b[0m\u001b[0;34m(\u001b[0m\u001b[0miterator\u001b[0m\u001b[0;34m)\u001b[0m\u001b[0;34m:\u001b[0m\u001b[0;34m\u001b[0m\u001b[0m\n\u001b[0m\u001b[1;32m    780\u001b[0m                 \u001b[0mself\u001b[0m\u001b[0;34m.\u001b[0m\u001b[0m_iterating\u001b[0m \u001b[0;34m=\u001b[0m \u001b[0;32mTrue\u001b[0m\u001b[0;34m\u001b[0m\u001b[0m\n\u001b[1;32m    781\u001b[0m             \u001b[0;32melse\u001b[0m\u001b[0;34m:\u001b[0m\u001b[0;34m\u001b[0m\u001b[0m\n",
      "\u001b[0;32m~/anaconda3/lib/python3.6/site-packages/sklearn/externals/joblib/parallel.py\u001b[0m in \u001b[0;36mdispatch_one_batch\u001b[0;34m(self, iterator)\u001b[0m\n\u001b[1;32m    623\u001b[0m                 \u001b[0;32mreturn\u001b[0m \u001b[0;32mFalse\u001b[0m\u001b[0;34m\u001b[0m\u001b[0m\n\u001b[1;32m    624\u001b[0m             \u001b[0;32melse\u001b[0m\u001b[0;34m:\u001b[0m\u001b[0;34m\u001b[0m\u001b[0m\n\u001b[0;32m--> 625\u001b[0;31m                 \u001b[0mself\u001b[0m\u001b[0;34m.\u001b[0m\u001b[0m_dispatch\u001b[0m\u001b[0;34m(\u001b[0m\u001b[0mtasks\u001b[0m\u001b[0;34m)\u001b[0m\u001b[0;34m\u001b[0m\u001b[0m\n\u001b[0m\u001b[1;32m    626\u001b[0m                 \u001b[0;32mreturn\u001b[0m \u001b[0;32mTrue\u001b[0m\u001b[0;34m\u001b[0m\u001b[0m\n\u001b[1;32m    627\u001b[0m \u001b[0;34m\u001b[0m\u001b[0m\n",
      "\u001b[0;32m~/anaconda3/lib/python3.6/site-packages/sklearn/externals/joblib/parallel.py\u001b[0m in \u001b[0;36m_dispatch\u001b[0;34m(self, batch)\u001b[0m\n\u001b[1;32m    586\u001b[0m         \u001b[0mdispatch_timestamp\u001b[0m \u001b[0;34m=\u001b[0m \u001b[0mtime\u001b[0m\u001b[0;34m.\u001b[0m\u001b[0mtime\u001b[0m\u001b[0;34m(\u001b[0m\u001b[0;34m)\u001b[0m\u001b[0;34m\u001b[0m\u001b[0m\n\u001b[1;32m    587\u001b[0m         \u001b[0mcb\u001b[0m \u001b[0;34m=\u001b[0m \u001b[0mBatchCompletionCallBack\u001b[0m\u001b[0;34m(\u001b[0m\u001b[0mdispatch_timestamp\u001b[0m\u001b[0;34m,\u001b[0m \u001b[0mlen\u001b[0m\u001b[0;34m(\u001b[0m\u001b[0mbatch\u001b[0m\u001b[0;34m)\u001b[0m\u001b[0;34m,\u001b[0m \u001b[0mself\u001b[0m\u001b[0;34m)\u001b[0m\u001b[0;34m\u001b[0m\u001b[0m\n\u001b[0;32m--> 588\u001b[0;31m         \u001b[0mjob\u001b[0m \u001b[0;34m=\u001b[0m \u001b[0mself\u001b[0m\u001b[0;34m.\u001b[0m\u001b[0m_backend\u001b[0m\u001b[0;34m.\u001b[0m\u001b[0mapply_async\u001b[0m\u001b[0;34m(\u001b[0m\u001b[0mbatch\u001b[0m\u001b[0;34m,\u001b[0m \u001b[0mcallback\u001b[0m\u001b[0;34m=\u001b[0m\u001b[0mcb\u001b[0m\u001b[0;34m)\u001b[0m\u001b[0;34m\u001b[0m\u001b[0m\n\u001b[0m\u001b[1;32m    589\u001b[0m         \u001b[0mself\u001b[0m\u001b[0;34m.\u001b[0m\u001b[0m_jobs\u001b[0m\u001b[0;34m.\u001b[0m\u001b[0mappend\u001b[0m\u001b[0;34m(\u001b[0m\u001b[0mjob\u001b[0m\u001b[0;34m)\u001b[0m\u001b[0;34m\u001b[0m\u001b[0m\n\u001b[1;32m    590\u001b[0m \u001b[0;34m\u001b[0m\u001b[0m\n",
      "\u001b[0;32m~/anaconda3/lib/python3.6/site-packages/sklearn/externals/joblib/_parallel_backends.py\u001b[0m in \u001b[0;36mapply_async\u001b[0;34m(self, func, callback)\u001b[0m\n\u001b[1;32m    109\u001b[0m     \u001b[0;32mdef\u001b[0m \u001b[0mapply_async\u001b[0m\u001b[0;34m(\u001b[0m\u001b[0mself\u001b[0m\u001b[0;34m,\u001b[0m \u001b[0mfunc\u001b[0m\u001b[0;34m,\u001b[0m \u001b[0mcallback\u001b[0m\u001b[0;34m=\u001b[0m\u001b[0;32mNone\u001b[0m\u001b[0;34m)\u001b[0m\u001b[0;34m:\u001b[0m\u001b[0;34m\u001b[0m\u001b[0m\n\u001b[1;32m    110\u001b[0m         \u001b[0;34m\"\"\"Schedule a func to be run\"\"\"\u001b[0m\u001b[0;34m\u001b[0m\u001b[0m\n\u001b[0;32m--> 111\u001b[0;31m         \u001b[0mresult\u001b[0m \u001b[0;34m=\u001b[0m \u001b[0mImmediateResult\u001b[0m\u001b[0;34m(\u001b[0m\u001b[0mfunc\u001b[0m\u001b[0;34m)\u001b[0m\u001b[0;34m\u001b[0m\u001b[0m\n\u001b[0m\u001b[1;32m    112\u001b[0m         \u001b[0;32mif\u001b[0m \u001b[0mcallback\u001b[0m\u001b[0;34m:\u001b[0m\u001b[0;34m\u001b[0m\u001b[0m\n\u001b[1;32m    113\u001b[0m             \u001b[0mcallback\u001b[0m\u001b[0;34m(\u001b[0m\u001b[0mresult\u001b[0m\u001b[0;34m)\u001b[0m\u001b[0;34m\u001b[0m\u001b[0m\n",
      "\u001b[0;32m~/anaconda3/lib/python3.6/site-packages/sklearn/externals/joblib/_parallel_backends.py\u001b[0m in \u001b[0;36m__init__\u001b[0;34m(self, batch)\u001b[0m\n\u001b[1;32m    330\u001b[0m         \u001b[0;31m# Don't delay the application, to avoid keeping the input\u001b[0m\u001b[0;34m\u001b[0m\u001b[0;34m\u001b[0m\u001b[0m\n\u001b[1;32m    331\u001b[0m         \u001b[0;31m# arguments in memory\u001b[0m\u001b[0;34m\u001b[0m\u001b[0;34m\u001b[0m\u001b[0m\n\u001b[0;32m--> 332\u001b[0;31m         \u001b[0mself\u001b[0m\u001b[0;34m.\u001b[0m\u001b[0mresults\u001b[0m \u001b[0;34m=\u001b[0m \u001b[0mbatch\u001b[0m\u001b[0;34m(\u001b[0m\u001b[0;34m)\u001b[0m\u001b[0;34m\u001b[0m\u001b[0m\n\u001b[0m\u001b[1;32m    333\u001b[0m \u001b[0;34m\u001b[0m\u001b[0m\n\u001b[1;32m    334\u001b[0m     \u001b[0;32mdef\u001b[0m \u001b[0mget\u001b[0m\u001b[0;34m(\u001b[0m\u001b[0mself\u001b[0m\u001b[0;34m)\u001b[0m\u001b[0;34m:\u001b[0m\u001b[0;34m\u001b[0m\u001b[0m\n",
      "\u001b[0;32m~/anaconda3/lib/python3.6/site-packages/sklearn/externals/joblib/parallel.py\u001b[0m in \u001b[0;36m__call__\u001b[0;34m(self)\u001b[0m\n\u001b[1;32m    129\u001b[0m \u001b[0;34m\u001b[0m\u001b[0m\n\u001b[1;32m    130\u001b[0m     \u001b[0;32mdef\u001b[0m \u001b[0m__call__\u001b[0m\u001b[0;34m(\u001b[0m\u001b[0mself\u001b[0m\u001b[0;34m)\u001b[0m\u001b[0;34m:\u001b[0m\u001b[0;34m\u001b[0m\u001b[0m\n\u001b[0;32m--> 131\u001b[0;31m         \u001b[0;32mreturn\u001b[0m \u001b[0;34m[\u001b[0m\u001b[0mfunc\u001b[0m\u001b[0;34m(\u001b[0m\u001b[0;34m*\u001b[0m\u001b[0margs\u001b[0m\u001b[0;34m,\u001b[0m \u001b[0;34m**\u001b[0m\u001b[0mkwargs\u001b[0m\u001b[0;34m)\u001b[0m \u001b[0;32mfor\u001b[0m \u001b[0mfunc\u001b[0m\u001b[0;34m,\u001b[0m \u001b[0margs\u001b[0m\u001b[0;34m,\u001b[0m \u001b[0mkwargs\u001b[0m \u001b[0;32min\u001b[0m \u001b[0mself\u001b[0m\u001b[0;34m.\u001b[0m\u001b[0mitems\u001b[0m\u001b[0;34m]\u001b[0m\u001b[0;34m\u001b[0m\u001b[0m\n\u001b[0m\u001b[1;32m    132\u001b[0m \u001b[0;34m\u001b[0m\u001b[0m\n\u001b[1;32m    133\u001b[0m     \u001b[0;32mdef\u001b[0m \u001b[0m__len__\u001b[0m\u001b[0;34m(\u001b[0m\u001b[0mself\u001b[0m\u001b[0;34m)\u001b[0m\u001b[0;34m:\u001b[0m\u001b[0;34m\u001b[0m\u001b[0m\n",
      "\u001b[0;32m~/anaconda3/lib/python3.6/site-packages/sklearn/externals/joblib/parallel.py\u001b[0m in \u001b[0;36m<listcomp>\u001b[0;34m(.0)\u001b[0m\n\u001b[1;32m    129\u001b[0m \u001b[0;34m\u001b[0m\u001b[0m\n\u001b[1;32m    130\u001b[0m     \u001b[0;32mdef\u001b[0m \u001b[0m__call__\u001b[0m\u001b[0;34m(\u001b[0m\u001b[0mself\u001b[0m\u001b[0;34m)\u001b[0m\u001b[0;34m:\u001b[0m\u001b[0;34m\u001b[0m\u001b[0m\n\u001b[0;32m--> 131\u001b[0;31m         \u001b[0;32mreturn\u001b[0m \u001b[0;34m[\u001b[0m\u001b[0mfunc\u001b[0m\u001b[0;34m(\u001b[0m\u001b[0;34m*\u001b[0m\u001b[0margs\u001b[0m\u001b[0;34m,\u001b[0m \u001b[0;34m**\u001b[0m\u001b[0mkwargs\u001b[0m\u001b[0;34m)\u001b[0m \u001b[0;32mfor\u001b[0m \u001b[0mfunc\u001b[0m\u001b[0;34m,\u001b[0m \u001b[0margs\u001b[0m\u001b[0;34m,\u001b[0m \u001b[0mkwargs\u001b[0m \u001b[0;32min\u001b[0m \u001b[0mself\u001b[0m\u001b[0;34m.\u001b[0m\u001b[0mitems\u001b[0m\u001b[0;34m]\u001b[0m\u001b[0;34m\u001b[0m\u001b[0m\n\u001b[0m\u001b[1;32m    132\u001b[0m \u001b[0;34m\u001b[0m\u001b[0m\n\u001b[1;32m    133\u001b[0m     \u001b[0;32mdef\u001b[0m \u001b[0m__len__\u001b[0m\u001b[0;34m(\u001b[0m\u001b[0mself\u001b[0m\u001b[0;34m)\u001b[0m\u001b[0;34m:\u001b[0m\u001b[0;34m\u001b[0m\u001b[0m\n",
      "\u001b[0;32m~/anaconda3/lib/python3.6/site-packages/sklearn/ensemble/forest.py\u001b[0m in \u001b[0;36m_parallel_build_trees\u001b[0;34m(tree, forest, X, y, sample_weight, tree_idx, n_trees, verbose, class_weight)\u001b[0m\n\u001b[1;32m    119\u001b[0m             \u001b[0mcurr_sample_weight\u001b[0m \u001b[0;34m*=\u001b[0m \u001b[0mcompute_sample_weight\u001b[0m\u001b[0;34m(\u001b[0m\u001b[0;34m'balanced'\u001b[0m\u001b[0;34m,\u001b[0m \u001b[0my\u001b[0m\u001b[0;34m,\u001b[0m \u001b[0mindices\u001b[0m\u001b[0;34m)\u001b[0m\u001b[0;34m\u001b[0m\u001b[0m\n\u001b[1;32m    120\u001b[0m \u001b[0;34m\u001b[0m\u001b[0m\n\u001b[0;32m--> 121\u001b[0;31m         \u001b[0mtree\u001b[0m\u001b[0;34m.\u001b[0m\u001b[0mfit\u001b[0m\u001b[0;34m(\u001b[0m\u001b[0mX\u001b[0m\u001b[0;34m,\u001b[0m \u001b[0my\u001b[0m\u001b[0;34m,\u001b[0m \u001b[0msample_weight\u001b[0m\u001b[0;34m=\u001b[0m\u001b[0mcurr_sample_weight\u001b[0m\u001b[0;34m,\u001b[0m \u001b[0mcheck_input\u001b[0m\u001b[0;34m=\u001b[0m\u001b[0;32mFalse\u001b[0m\u001b[0;34m)\u001b[0m\u001b[0;34m\u001b[0m\u001b[0m\n\u001b[0m\u001b[1;32m    122\u001b[0m     \u001b[0;32melse\u001b[0m\u001b[0;34m:\u001b[0m\u001b[0;34m\u001b[0m\u001b[0m\n\u001b[1;32m    123\u001b[0m         \u001b[0mtree\u001b[0m\u001b[0;34m.\u001b[0m\u001b[0mfit\u001b[0m\u001b[0;34m(\u001b[0m\u001b[0mX\u001b[0m\u001b[0;34m,\u001b[0m \u001b[0my\u001b[0m\u001b[0;34m,\u001b[0m \u001b[0msample_weight\u001b[0m\u001b[0;34m=\u001b[0m\u001b[0msample_weight\u001b[0m\u001b[0;34m,\u001b[0m \u001b[0mcheck_input\u001b[0m\u001b[0;34m=\u001b[0m\u001b[0;32mFalse\u001b[0m\u001b[0;34m)\u001b[0m\u001b[0;34m\u001b[0m\u001b[0m\n",
      "\u001b[0;32m~/anaconda3/lib/python3.6/site-packages/sklearn/tree/tree.py\u001b[0m in \u001b[0;36mfit\u001b[0;34m(self, X, y, sample_weight, check_input, X_idx_sorted)\u001b[0m\n\u001b[1;32m    788\u001b[0m             \u001b[0msample_weight\u001b[0m\u001b[0;34m=\u001b[0m\u001b[0msample_weight\u001b[0m\u001b[0;34m,\u001b[0m\u001b[0;34m\u001b[0m\u001b[0m\n\u001b[1;32m    789\u001b[0m             \u001b[0mcheck_input\u001b[0m\u001b[0;34m=\u001b[0m\u001b[0mcheck_input\u001b[0m\u001b[0;34m,\u001b[0m\u001b[0;34m\u001b[0m\u001b[0m\n\u001b[0;32m--> 790\u001b[0;31m             X_idx_sorted=X_idx_sorted)\n\u001b[0m\u001b[1;32m    791\u001b[0m         \u001b[0;32mreturn\u001b[0m \u001b[0mself\u001b[0m\u001b[0;34m\u001b[0m\u001b[0m\n\u001b[1;32m    792\u001b[0m \u001b[0;34m\u001b[0m\u001b[0m\n",
      "\u001b[0;32m~/anaconda3/lib/python3.6/site-packages/sklearn/tree/tree.py\u001b[0m in \u001b[0;36mfit\u001b[0;34m(self, X, y, sample_weight, check_input, X_idx_sorted)\u001b[0m\n\u001b[1;32m    360\u001b[0m                                            min_impurity_split)\n\u001b[1;32m    361\u001b[0m \u001b[0;34m\u001b[0m\u001b[0m\n\u001b[0;32m--> 362\u001b[0;31m         \u001b[0mbuilder\u001b[0m\u001b[0;34m.\u001b[0m\u001b[0mbuild\u001b[0m\u001b[0;34m(\u001b[0m\u001b[0mself\u001b[0m\u001b[0;34m.\u001b[0m\u001b[0mtree_\u001b[0m\u001b[0;34m,\u001b[0m \u001b[0mX\u001b[0m\u001b[0;34m,\u001b[0m \u001b[0my\u001b[0m\u001b[0;34m,\u001b[0m \u001b[0msample_weight\u001b[0m\u001b[0;34m,\u001b[0m \u001b[0mX_idx_sorted\u001b[0m\u001b[0;34m)\u001b[0m\u001b[0;34m\u001b[0m\u001b[0m\n\u001b[0m\u001b[1;32m    363\u001b[0m \u001b[0;34m\u001b[0m\u001b[0m\n\u001b[1;32m    364\u001b[0m         \u001b[0;32mif\u001b[0m \u001b[0mself\u001b[0m\u001b[0;34m.\u001b[0m\u001b[0mn_outputs_\u001b[0m \u001b[0;34m==\u001b[0m \u001b[0;36m1\u001b[0m\u001b[0;34m:\u001b[0m\u001b[0;34m\u001b[0m\u001b[0m\n",
      "\u001b[0;31mKeyboardInterrupt\u001b[0m: "
     ]
    }
   ],
   "source": [
    "recall_scores = []\n",
    "precision_scores= []\n",
    "iterations = 30\n",
    "for i in range(iterations):\n",
    "    print(\"\\r\"+\"{:.2f}%\".format(i*100/iterations), end = \"\")\n",
    "    \n",
    "    #split train test class by class\n",
    "    all_train,all_test = splitTrainTest(oversampling)\n",
    "    \n",
    "    #balance the train set\n",
    "    all_train= balance(all_train)\n",
    "    \n",
    "   \n",
    "\n",
    "    #train indices\n",
    "    trainIdx = all_train.index.get_level_values(\"ID\").unique()\n",
    "    \n",
    "    # remove oversamples from test\n",
    "    all_test = all_test[all_test.index.get_level_values('copy_num')==0]\n",
    "    #remove originals that may have oversampled copies in train\n",
    "    all_test = all_test[~all_test.index.get_level_values(\"ID\").isin(trainIdx)]\n",
    "    \n",
    "    #balance test\n",
    "    all_test= balance(all_test)\n",
    "    \n",
    "    #format stuff\n",
    "    all_train.target= all_train.target.astype('int')\n",
    "    all_test.target= all_test.target.astype('int')\n",
    "    print(len(all_test)/(len(all_test)+len(all_train)))\n",
    "    \n",
    "    clf = RandomForestClassifier(n_estimators=50,random_state=0, class_weight='balanced')\n",
    "    clf.fit(all_train[feats], all_train.target)\n",
    "\n",
    "#     print(type(all_test.target.unique()[0]))\n",
    "#     print(type(np.unique(clf.predict(all_test[feats]))[0]))\n",
    "    recall_scores.append(recall_score(all_test.target,clf.predict(all_test[feats]).astype(int)))\n",
    "    precision_scores.append(precision_score(all_test.target,clf.predict(all_test[feats]).astype(int)))"
   ]
  },
  {
   "cell_type": "code",
   "execution_count": 13,
   "metadata": {},
   "outputs": [
    {
     "name": "stdout",
     "output_type": "stream",
     "text": [
      "0.9287359227585279\n"
     ]
    },
    {
     "data": {
      "text/plain": [
       "Text(0.5,0,'Recall scores')"
      ]
     },
     "execution_count": 13,
     "metadata": {},
     "output_type": "execute_result"
    },
    {
     "data": {
      "image/png": "[encoded data removed]",
      "text/plain": [
       "<matplotlib.figure.Figure at 0x7f8fbac01cc0>"
      ]
     },
     "metadata": {},
     "output_type": "display_data"
    }
   ],
   "source": [
    "mean = np.mean(recall_scores)\n",
    "meanp = np.mean(precision_scores)\n",
    "print(meanp)\n",
    "plt.hist(recall_scores,density=True,bins=10)\n",
    "plt.plot([mean,mean],[0,50],c='black',linestyle='--',label='mean={:.4f}'.format(mean))\n",
    "plt.legend()\n",
    "plt.title(\"Oversampling, N={}\".format(int(len(recall_scores))))\n",
    "plt.xlabel('Recall scores')"
   ]
  },
  {
   "cell_type": "markdown",
   "metadata": {},
   "source": [
    "# WITHOUT oversampling &  balancing test"
   ]
  },
  {
   "cell_type": "code",
   "execution_count": 23,
   "metadata": {},
   "outputs": [
    {
     "name": "stdout",
     "output_type": "stream",
     "text": [
      "(62152, 32)\n",
      "(19462, 32)\n"
     ]
    }
   ],
   "source": [
    "oversampling = alldf.copy()\n",
    "print(oversampling.shape)\n",
    "oversampling = oversampling[oversampling.index.get_level_values('copy_num')==0]\n",
    "print(oversampling.shape)\n",
    "oversampling = oversampling.sample(frac=1)\n",
    "\n",
    "\n",
    "\n",
    "oversampling.Class = list(map(lambda x: 'non-transient' if x=='non-transient' else 'transient', oversampling.Class))\n",
    "\n",
    "oversampling['target'] = list(map(lambda x: 1 if x=='transient' else 0, oversampling.Class))\n"
   ]
  },
  {
   "cell_type": "code",
   "execution_count": 24,
   "metadata": {},
   "outputs": [
    {
     "name": "stdout",
     "output_type": "stream",
     "text": [
      "99.00%"
     ]
    }
   ],
   "source": [
    "recall_scores = []\n",
    "iterations = 100\n",
    "for i in range(iterations):\n",
    "    print(\"\\r\"+\"{:.2f}%\".format(i*100/iterations), end = \"\")\n",
    "    \n",
    "    #split train test class by class\n",
    "    all_train,all_test = splitTrainTest(oversampling)\n",
    "    \n",
    "    #balance the train set\n",
    "    all_train= balance(all_train)\n",
    "    \n",
    "   \n",
    "\n",
    "    #train indices\n",
    "    trainIdx = all_train.index.get_level_values(\"ID\").unique()\n",
    "   \n",
    "    #remove originals that may have oversampled copies in train\n",
    "    all_test = all_test[~all_test.index.get_level_values(\"ID\").isin(trainIdx)]\n",
    "    # remove oversamples from test\n",
    "    all_test = all_test[all_test.index.get_level_values('copy_num')==0]\n",
    "    \n",
    "    #balance test\n",
    "    all_test= balance(all_test)\n",
    "    \n",
    "    #format stuff\n",
    "    all_train.target= all_train.target.astype('int')\n",
    "    all_test.target= all_test.target.astype('int')\n",
    "    \n",
    "    \n",
    "    clf = RandomForestClassifier(n_estimators=50,random_state=0, class_weight='balanced')\n",
    "    clf.fit(all_train[feats], all_train.target)\n",
    "\n",
    "#     print(type(all_test.target.unique()[0]))\n",
    "#     print(type(np.unique(clf.predict(all_test[feats]))[0]))\n",
    "    recall_scores.append(recall_score(all_test.target,clf.predict(all_test[feats]).astype(int)))"
   ]
  },
  {
   "cell_type": "code",
   "execution_count": 25,
   "metadata": {},
   "outputs": [
    {
     "data": {
      "text/plain": [
       "Text(0.5,0,'Recall scores')"
      ]
     },
     "execution_count": 25,
     "metadata": {},
     "output_type": "execute_result"
    },
    {
     "data": {
      "image/png": "[encoded data removed]",
      "text/plain": [
       "<matplotlib.figure.Figure at 0x7f0355280a20>"
      ]
     },
     "metadata": {},
     "output_type": "display_data"
    }
   ],
   "source": [
    "mean = np.mean(recall_scores)\n",
    "plt.hist(recall_scores,density=True,bins=10)\n",
    "plt.plot([mean,mean],[0,50],c='black',linestyle='--',label='mean={:.4f}'.format(mean))\n",
    "plt.legend()\n",
    "plt.title(\"No-Oversampling, N=100\")\n",
    "plt.xlabel('Recall scores')"
   ]
  },
  {
   "cell_type": "markdown",
   "metadata": {},
   "source": [
    "# --------\n",
    "# With Grid Search"
   ]
  },
  {
   "cell_type": "markdown",
   "metadata": {},
   "source": [
    "## Oversampling"
   ]
  },
  {
   "cell_type": "code",
   "execution_count": 152,
   "metadata": {},
   "outputs": [],
   "source": [
    "def rf():\n",
    "    params = {\n",
    "        'n_estimators': [200, 700],\n",
    "        'max_features': ['auto', 'sqrt', 'log2']\n",
    "    }\n",
    "    return RandomForestClassifier(random_state=0, class_weight='balanced'), params\n",
    "def scorers():\n",
    "    scoring = {'accuracy': make_scorer(accuracy_score),\n",
    "               'precision': make_scorer(precision_score, average='weighted'),\n",
    "               'recall': make_scorer(recall_score, average='weighted'),\n",
    "               'f1_score': make_scorer(f1_score, average='weighted')\n",
    "               }\n",
    "    return scoring"
   ]
  },
  {
   "cell_type": "code",
   "execution_count": 153,
   "metadata": {},
   "outputs": [],
   "source": [
    "oversampling = alldf.copy()\n",
    "# oversampling = noOversampling[noOversampling.index.get_level_values('copy_num')==0]\n",
    "\n",
    "oversampling = oversampling.sample(frac=1)\n",
    "\n",
    "\n",
    "\n",
    "oversampling.Class = list(map(lambda x: 'non-transient' if x=='non-transient' else 'transient', oversampling.Class))\n",
    "\n",
    "oversampling['target'] = list(map(lambda x: 1 if x=='transient' else 0, oversampling.Class))"
   ]
  },
  {
   "cell_type": "code",
   "execution_count": 154,
   "metadata": {},
   "outputs": [
    {
     "name": "stdout",
     "output_type": "stream",
     "text": [
      "0.00%Fitting 2 folds for each of 6 candidates, totalling 12 fits\n",
      "[CV] max_features=auto, n_estimators=200 .............................\n",
      "[CV]  max_features=auto, n_estimators=200, accuracy=0.9181291681291681, precision=0.9184308586587974, recall=0.9181291681291681, f1_score=0.9181144081592351, total=   8.9s\n",
      "[Parallel(n_jobs=1)]: Done   1 out of   1 | elapsed:   10.3s remaining:    0.0s\n",
      "[CV] max_features=auto, n_estimators=200 .............................\n",
      "[CV]  max_features=auto, n_estimators=200, accuracy=0.916447252940144, precision=0.9166709440066145, recall=0.916447252940144, f1_score=0.9164360375481491, total=  10.5s\n",
      "[Parallel(n_jobs=1)]: Done   2 out of   2 | elapsed:   22.4s remaining:    0.0s\n",
      "[CV] max_features=auto, n_estimators=700 .............................\n",
      "[CV]  max_features=auto, n_estimators=700, accuracy=0.916988416988417, precision=0.9172475517027131, recall=0.916988416988417, f1_score=0.9169755262457403, total=  34.6s\n",
      "[Parallel(n_jobs=1)]: Done   3 out of   3 | elapsed:  1.0min remaining:    0.0s\n",
      "[CV] max_features=auto, n_estimators=700 .............................\n",
      "[CV]  max_features=auto, n_estimators=700, accuracy=0.9171493768650166, precision=0.9173734450713252, recall=0.9171493768650166, f1_score=0.9171382557200135, total=  32.1s\n",
      "[Parallel(n_jobs=1)]: Done   4 out of   4 | elapsed:  1.6min remaining:    0.0s\n",
      "[CV] max_features=sqrt, n_estimators=200 .............................\n",
      "[CV]  max_features=sqrt, n_estimators=200, accuracy=0.9181291681291681, precision=0.9184308586587974, recall=0.9181291681291681, f1_score=0.9181144081592351, total=   9.5s\n",
      "[Parallel(n_jobs=1)]: Done   5 out of   5 | elapsed:  1.8min remaining:    0.0s\n",
      "[CV] max_features=sqrt, n_estimators=200 .............................\n",
      "[CV]  max_features=sqrt, n_estimators=200, accuracy=0.916447252940144, precision=0.9166709440066145, recall=0.916447252940144, f1_score=0.9164360375481491, total=   9.4s\n",
      "[Parallel(n_jobs=1)]: Done   6 out of   6 | elapsed:  2.0min remaining:    0.0s\n",
      "[CV] max_features=sqrt, n_estimators=700 .............................\n",
      "[CV]  max_features=sqrt, n_estimators=700, accuracy=0.916988416988417, precision=0.9172475517027131, recall=0.916988416988417, f1_score=0.9169755262457403, total=  32.9s\n",
      "[Parallel(n_jobs=1)]: Done   7 out of   7 | elapsed:  2.6min remaining:    0.0s\n",
      "[CV] max_features=sqrt, n_estimators=700 .............................\n",
      "[CV]  max_features=sqrt, n_estimators=700, accuracy=0.9171493768650166, precision=0.9173734450713252, recall=0.9171493768650166, f1_score=0.9171382557200135, total=  33.3s\n",
      "[Parallel(n_jobs=1)]: Done   8 out of   8 | elapsed:  3.2min remaining:    0.0s\n",
      "[CV] max_features=log2, n_estimators=200 .............................\n",
      "[CV]  max_features=log2, n_estimators=200, accuracy=0.9177781677781678, precision=0.9180564110474781, recall=0.9177781677781678, f1_score=0.9177644845298828, total=   8.0s\n",
      "[Parallel(n_jobs=1)]: Done   9 out of   9 | elapsed:  3.4min remaining:    0.0s\n",
      "[CV] max_features=log2, n_estimators=200 .............................\n",
      "[CV]  max_features=log2, n_estimators=200, accuracy=0.9173249078462349, precision=0.9176067451637414, recall=0.9173249078462349, f1_score=0.9173109564083671, total=   8.3s\n",
      "[Parallel(n_jobs=1)]: Done  10 out of  10 | elapsed:  3.6min remaining:    0.0s\n",
      "[CV] max_features=log2, n_estimators=700 .............................\n",
      "[CV]  max_features=log2, n_estimators=700, accuracy=0.917953667953668, precision=0.9182320281073594, recall=0.917953667953668, f1_score=0.9179400139118894, total=  31.8s\n",
      "[Parallel(n_jobs=1)]: Done  11 out of  11 | elapsed:  4.1min remaining:    0.0s\n",
      "[CV] max_features=log2, n_estimators=700 .............................\n",
      "[CV]  max_features=log2, n_estimators=700, accuracy=0.9163594874495349, precision=0.916573076103555, recall=0.9163594874495349, f1_score=0.9163487648682257, total=  26.5s\n",
      "[Parallel(n_jobs=1)]: Done  12 out of  12 | elapsed:  4.7min remaining:    0.0s\n",
      "[Parallel(n_jobs=1)]: Done  12 out of  12 | elapsed:  4.7min finished\n"
     ]
    }
   ],
   "source": [
    "recall_scores = []\n",
    "iterations = 1\n",
    "for i in range(iterations):\n",
    "    print(\"\\r\"+\"{:.2f}%\".format(i*100/iterations), end = \"\")\n",
    "    \n",
    "    #split train test class by class\n",
    "    all_train,all_test = splitTrainTest(oversampling)\n",
    "    \n",
    "    #balance the train set\n",
    "    all_train= balance(all_train)\n",
    "    \n",
    "   \n",
    "\n",
    "    #train indices\n",
    "    trainIdx = all_train.index.get_level_values(\"ID\").unique()\n",
    "   \n",
    "    #remove originals that may have oversampled copies in train\n",
    "    all_test = all_test[~all_test.index.get_level_values(\"ID\").isin(trainIdx)]\n",
    "    \n",
    "    #balance test\n",
    "    all_test= balance(all_test)\n",
    "    \n",
    "    #format stuff\n",
    "    all_train.target= all_train.target.astype('int')\n",
    "    all_test.target= all_test.target.astype('int')\n",
    "    \n",
    "    model,params = rf()\n",
    "    grid_search = GridSearchCV(model, params, cv=StratifiedKFold(2), scoring=scorers(),\n",
    "                               refit='f1_score', return_train_score=True,verbose=100)\n",
    "    grid_search.fit(all_train[feats], all_train.target)\n",
    "    # Copy classifier\n",
    "    clf = grid_search\n",
    "    \n",
    "#     clf = RandomForestClassifier(n_estimators=200,random_state=0, class_weight='balanced')\n",
    "#     clf.fit(all_train[feats], all_train.target)\n",
    "\n",
    "#     print(type(all_test.target.unique()[0]))\n",
    "#     print(type(np.unique(clf.predict(all_test[feats]))[0]))\n",
    "#     recall_scores.append(recall_score(all_test.target,clf.predict(all_test[feats]).astype(int)))\n",
    "\n",
    "    scores = precision_recall_fscore_support(\n",
    "            all_test.target, clf.predict(all_test[feats]), average='weighted')\n",
    "#     print(scores)\n",
    "    recall_scores.append(scores)"
   ]
  },
  {
   "cell_type": "code",
   "execution_count": 155,
   "metadata": {},
   "outputs": [
    {
     "name": "stdout",
     "output_type": "stream",
     "text": [
      "[[0.91991167734523 0.9192996313849394 0.9192702142825526 None]]\n",
      "0.91991167734523\n",
      "0.9192996313849394\n",
      "0.9192702142825526\n"
     ]
    }
   ],
   "source": [
    "recall_scoresnp = np.array(recall_scores)\n",
    "# print(recall_scoresnp[:,1])\n",
    "print(recall_scoresnp)\n",
    "print(np.mean(recall_scoresnp[:,0]))\n",
    "print(np.mean(recall_scoresnp[:,1]))\n",
    "print(np.mean(recall_scoresnp[:,2]))"
   ]
  },
  {
   "cell_type": "code",
   "execution_count": 156,
   "metadata": {},
   "outputs": [],
   "source": [
    "importances = clf.best_estimator_.feature_importances_*100\n",
    "featsCopy = feats.copy()\n",
    "\n",
    "Y = list(importances)\n",
    "X = list(featsCopy)\n",
    "\n",
    "yx = list(zip(Y, X))\n",
    "\n",
    "yx.sort()\n",
    "# yx = yx[::-1]\n",
    "yx = yx[::-1]\n",
    "\n",
    "\n",
    "\n",
    "x_sorted = [x for y, x in yx]\n",
    "y_sorted = [y for y, x in yx]\n"
   ]
  },
  {
   "cell_type": "code",
   "execution_count": 157,
   "metadata": {},
   "outputs": [
    {
     "name": "stdout",
     "output_type": "stream",
     "text": [
      "['stetson_j', 'std', 'median_absolute_deviation', 'amplitude', 'poly2_t1', 'poly1_t1', 'skew', 'poly3_t1', 'small_kurtosis', 'poly4_t1', 'stetson_k', 'median_buffer_range_percentage', 'percent_amplitude', 'percent_difference_flux_percentile', 'poly3_t2', 'max_slope', 'poly4_t2', 'poly2_t2', 'beyond1st', 'kurtosis', 'pair_slope_trend', 'flux_percentile_ratio_mid35', 'flux_percentile_ratio_mid50', 'flux_percentile_ratio_mid65', 'flux_percentile_ratio_mid20', 'flux_percentile_ratio_mid80', 'pair_slope_trend_last_30', 'poly3_t3', 'poly4_t3', 'poly4_t4']\n"
     ]
    }
   ],
   "source": [
    "x_sorted = ['stetson_j', 'std', 'mad', 'amp', 'poly2_t1', 'poly1_t1', 'skew', 'poly3_t1', 'sk', 'poly4_t1', 'stetson_k', 'mbrp', 'p_amp', 'pdfp', 'poly3_t2', 'max_slope', 'poly4_t2', 'poly2_t2', 'beyond1st', 'kurtosis', 'pst', 'flux_percentile_ratio_mid35', 'flux_percentile_ratio_mid50', 'flux_percentile_ratio_mid65', 'flux_percentile_ratio_mid20', 'flux_percentile_ratio_mid80', 'pair_slope_trend_last_30', 'poly3_t3', 'poly4_t3', 'poly4_t4']"
   ]
  },
  {
   "cell_type": "code",
   "execution_count": 159,
   "metadata": {},
   "outputs": [
    {
     "name": "stdout",
     "output_type": "stream",
     "text": [
      "[15.72849733944256, 11.150070539446048, 8.42215072564238, 7.407351992416815, 4.845910426335853, 4.256691233036531, 3.6588195385861946, 3.651284109484555, 3.1326995064991046, 3.106528466430507, 2.94966028691206, 2.807060171422182, 2.74142508837281, 2.3787315295843894, 2.3707007227010957, 2.3690705255374684, 2.2312914235594685, 2.026957727222971, 1.8921768486054023, 1.8384820942862874, 1.7698026340513473, 1.389955090954588, 1.3259733015781356, 1.3027401774784904, 1.2313473679485951, 1.2167131860020388, 1.136730020215245, 0.7420409677231921, 0.4762804011863404, 0.4428565573373464]\n"
     ]
    }
   ],
   "source": [
    "print(y_sorted)"
   ]
  },
  {
   "cell_type": "markdown",
   "metadata": {},
   "source": [
    "[15.72849733944256, 11.150070539446048, 8.42215072564238, 7.407351992416815, 4.845910426335853, 4.256691233036531, 3.6588195385861946, 3.651284109484555, 3.1326995064991046, 3.106528466430507, 2.94966028691206, 2.807060171422182, 2.74142508837281, 2.3787315295843894, 2.3707007227010957, 2.3690705255374684, 2.2312914235594685, 2.026957727222971, 1.8921768486054023, 1.8384820942862874, 1.7698026340513473, 1.389955090954588, 1.3259733015781356, 1.3027401774784904, 1.2313473679485951, 1.2167131860020388, 1.136730020215245, 0.7420409677231921, 0.4762804011863404, 0.4428565573373464]"
   ]
  },
  {
   "cell_type": "code",
   "execution_count": null,
   "metadata": {},
   "outputs": [],
   "source": []
  },
  {
   "cell_type": "code",
   "execution_count": null,
   "metadata": {},
   "outputs": [],
   "source": []
  },
  {
   "cell_type": "code",
   "execution_count": 23,
   "metadata": {},
   "outputs": [
    {
     "data": {
      "text/plain": [
       "7596"
      ]
     },
     "execution_count": 23,
     "metadata": {},
     "output_type": "execute_result"
    }
   ],
   "source": [
    "len(all_test['target'])"
   ]
  },
  {
   "cell_type": "code",
   "execution_count": 24,
   "metadata": {},
   "outputs": [
    {
     "data": {
      "text/plain": [
       "3798"
      ]
     },
     "execution_count": 24,
     "metadata": {},
     "output_type": "execute_result"
    }
   ],
   "source": [
    "7596-sum(all_test['target'])"
   ]
  },
  {
   "cell_type": "code",
   "execution_count": 17,
   "metadata": {},
   "outputs": [],
   "source": [
    "from sklearn.metrics import confusion_matrix"
   ]
  },
  {
   "cell_type": "code",
   "execution_count": 158,
   "metadata": {},
   "outputs": [
    {
     "data": {
      "text/plain": [
       "array([[3564,  379],\n",
       "       [ 234, 3419]])"
      ]
     },
     "execution_count": 158,
     "metadata": {},
     "output_type": "execute_result"
    }
   ],
   "source": [
    "confusion_matrix(all_test.target, clf.predict(all_test[feats])).transpose()"
   ]
  },
  {
   "cell_type": "code",
   "execution_count": 34,
   "metadata": {},
   "outputs": [],
   "source": [
    "precisionNon = 3561/(3561+454)\n",
    "recallNon = 3561/(3561+237)\n",
    "precisionT = 3344/(3344+237)\n",
    "recallT = 3344/(3344+454)"
   ]
  },
  {
   "cell_type": "code",
   "execution_count": 39,
   "metadata": {},
   "outputs": [
    {
     "data": {
      "text/plain": [
       "0.880463401790416"
      ]
     },
     "execution_count": 39,
     "metadata": {},
     "output_type": "execute_result"
    }
   ],
   "source": [
    "recallT"
   ]
  },
  {
   "cell_type": "code",
   "execution_count": 40,
   "metadata": {},
   "outputs": [],
   "source": [
    "def fMeasure(precision,recall):\n",
    "    return 2*precision*recall/(precision+recall)"
   ]
  },
  {
   "cell_type": "code",
   "execution_count": 42,
   "metadata": {},
   "outputs": [
    {
     "data": {
      "text/plain": [
       "0.9063558747797805"
      ]
     },
     "execution_count": 42,
     "metadata": {},
     "output_type": "execute_result"
    }
   ],
   "source": [
    "fMeasure(precisionT,recallT)"
   ]
  },
  {
   "cell_type": "code",
   "execution_count": null,
   "metadata": {},
   "outputs": [],
   "source": []
  },
  {
   "cell_type": "code",
   "execution_count": null,
   "metadata": {},
   "outputs": [],
   "source": []
  },
  {
   "cell_type": "code",
   "execution_count": 59,
   "metadata": {},
   "outputs": [
    {
     "data": {
      "text/plain": [
       "Text(0.5,0,'Recall scores')"
      ]
     },
     "execution_count": 59,
     "metadata": {},
     "output_type": "execute_result"
    },
    {
     "data": {
      "image/png": "[encoded data removed]",
      "text/plain": [
       "<matplotlib.figure.Figure at 0x7f2eb70b4630>"
      ]
     },
     "metadata": {},
     "output_type": "display_data"
    }
   ],
   "source": [
    "mean = np.mean(recall_scoresnp[:,1])\n",
    "plt.hist(recall_scoresnp[:,1],density=True)\n",
    "plt.plot([mean,mean],[0,1750],c='black',linestyle='--',label='mean={:.4f}'.format(mean))\n",
    "plt.legend()\n",
    "plt.title(\"No-Oversampling, N=100\")\n",
    "plt.xlabel('Recall scores')"
   ]
  },
  {
   "cell_type": "markdown",
   "metadata": {},
   "source": [
    "## No-oversampling"
   ]
  },
  {
   "cell_type": "code",
   "execution_count": 43,
   "metadata": {},
   "outputs": [],
   "source": [
    "oversampling = alldf.copy()\n",
    "oversampling = oversampling[oversampling.index.get_level_values('copy_num')==0]\n",
    "\n",
    "oversampling = oversampling.sample(frac=1)\n",
    "\n",
    "\n",
    "\n",
    "oversampling.Class = list(map(lambda x: 'non-transient' if x=='non-transient' else 'transient', oversampling.Class))\n",
    "\n",
    "oversampling['target'] = list(map(lambda x: 1 if x=='transient' else 0, oversampling.Class))"
   ]
  },
  {
   "cell_type": "code",
   "execution_count": 45,
   "metadata": {},
   "outputs": [
    {
     "name": "stdout",
     "output_type": "stream",
     "text": [
      "0.00%Fitting 2 folds for each of 6 candidates, totalling 12 fits\n",
      "[CV] max_features=auto, n_estimators=200 .............................\n",
      "[CV]  max_features=auto, n_estimators=200, accuracy=0.8694565896314803, precision=0.8704764401080534, recall=0.8694565896314803, f1_score=0.8693666875273528, total=   2.4s\n",
      "[Parallel(n_jobs=1)]: Done   1 out of   1 | elapsed:    2.7s remaining:    0.0s\n",
      "[CV] max_features=auto, n_estimators=200 .............................\n",
      "[CV]  max_features=auto, n_estimators=200, accuracy=0.8707058088694566, precision=0.872464085114623, recall=0.8707058088694566, f1_score=0.8705530401034929, total=   2.1s\n",
      "[Parallel(n_jobs=1)]: Done   2 out of   2 | elapsed:    5.1s remaining:    0.0s\n",
      "[CV] max_features=auto, n_estimators=700 .............................\n",
      "[CV]  max_features=auto, n_estimators=700, accuracy=0.8707058088694566, precision=0.8715878076755973, recall=0.8707058088694566, f1_score=0.8706290403172918, total=   7.7s\n",
      "[Parallel(n_jobs=1)]: Done   3 out of   3 | elapsed:   14.8s remaining:    0.0s\n",
      "[CV] max_features=auto, n_estimators=700 .............................\n",
      "[CV]  max_features=auto, n_estimators=700, accuracy=0.8741411617738913, precision=0.8758198288861927, recall=0.8741411617738913, f1_score=0.874000461852948, total=   9.0s\n",
      "[Parallel(n_jobs=1)]: Done   4 out of   4 | elapsed:   24.9s remaining:    0.0s\n",
      "[CV] max_features=sqrt, n_estimators=200 .............................\n",
      "[CV]  max_features=sqrt, n_estimators=200, accuracy=0.8694565896314803, precision=0.8704764401080534, recall=0.8694565896314803, f1_score=0.8693666875273528, total=   2.1s\n",
      "[Parallel(n_jobs=1)]: Done   5 out of   5 | elapsed:   27.3s remaining:    0.0s\n",
      "[CV] max_features=sqrt, n_estimators=200 .............................\n",
      "[CV]  max_features=sqrt, n_estimators=200, accuracy=0.8707058088694566, precision=0.872464085114623, recall=0.8707058088694566, f1_score=0.8705530401034929, total=   2.1s\n",
      "[Parallel(n_jobs=1)]: Done   6 out of   6 | elapsed:   29.6s remaining:    0.0s\n",
      "[CV] max_features=sqrt, n_estimators=700 .............................\n",
      "[CV]  max_features=sqrt, n_estimators=700, accuracy=0.8707058088694566, precision=0.8715878076755973, recall=0.8707058088694566, f1_score=0.8706290403172918, total=   7.5s\n",
      "[Parallel(n_jobs=1)]: Done   7 out of   7 | elapsed:   38.5s remaining:    0.0s\n",
      "[CV] max_features=sqrt, n_estimators=700 .............................\n",
      "[CV]  max_features=sqrt, n_estimators=700, accuracy=0.8741411617738913, precision=0.8758198288861927, recall=0.8741411617738913, f1_score=0.874000461852948, total=   9.1s\n",
      "[Parallel(n_jobs=1)]: Done   8 out of   8 | elapsed:   48.8s remaining:    0.0s\n",
      "[CV] max_features=log2, n_estimators=200 .............................\n",
      "[CV]  max_features=log2, n_estimators=200, accuracy=0.8666458463460337, precision=0.867495909703778, recall=0.8666458463460337, f1_score=0.8665686855748705, total=   1.8s\n",
      "[Parallel(n_jobs=1)]: Done   9 out of   9 | elapsed:   50.9s remaining:    0.0s\n",
      "[CV] max_features=log2, n_estimators=200 .............................\n",
      "[CV]  max_features=log2, n_estimators=200, accuracy=0.8747657713928795, precision=0.8768477544487335, recall=0.8747657713928795, f1_score=0.8745925607524356, total=   2.0s\n",
      "[Parallel(n_jobs=1)]: Done  10 out of  10 | elapsed:   53.3s remaining:    0.0s\n",
      "[CV] max_features=log2, n_estimators=700 .............................\n",
      "[CV]  max_features=log2, n_estimators=700, accuracy=0.8675827607745159, precision=0.8682868044065183, recall=0.8675827607745159, f1_score=0.8675194459276746, total=   6.4s\n",
      "[Parallel(n_jobs=1)]: Done  11 out of  11 | elapsed:  1.0min remaining:    0.0s\n",
      "[CV] max_features=log2, n_estimators=700 .............................\n",
      "[CV]  max_features=log2, n_estimators=700, accuracy=0.8778888194878202, precision=0.879648574071461, recall=0.8778888194878202, f1_score=0.877747152283051, total=   6.2s\n",
      "[Parallel(n_jobs=1)]: Done  12 out of  12 | elapsed:  1.1min remaining:    0.0s\n",
      "[Parallel(n_jobs=1)]: Done  12 out of  12 | elapsed:  1.1min finished\n"
     ]
    }
   ],
   "source": [
    "recall_scores = []\n",
    "iterations = 1\n",
    "for i in range(iterations):\n",
    "    print(\"\\r\"+\"{:.2f}%\".format(i*100/iterations), end = \"\")\n",
    "    \n",
    "    #split train test class by class\n",
    "    all_train,all_test = splitTrainTest(oversampling)\n",
    "    \n",
    "    #balance the train set\n",
    "    all_train= balance(all_train)\n",
    "    \n",
    "   \n",
    "\n",
    "    #train indices\n",
    "    trainIdx = all_train.index.get_level_values(\"ID\").unique()\n",
    "   \n",
    "    #remove originals that may have oversampled copies in train\n",
    "    all_test = all_test[~all_test.index.get_level_values(\"ID\").isin(trainIdx)]\n",
    "    \n",
    "    #balance test\n",
    "    all_test= balance(all_test)\n",
    "    \n",
    "    #format stuff\n",
    "    all_train.target= all_train.target.astype('int')\n",
    "    all_test.target= all_test.target.astype('int')\n",
    "    \n",
    "    model,params = rf()\n",
    "    grid_search = GridSearchCV(model, params, cv=StratifiedKFold(2), scoring=scorers(),\n",
    "                               refit='f1_score', return_train_score=True,verbose=100)\n",
    "    grid_search.fit(all_train[feats], all_train.target)\n",
    "    # Copy classifier\n",
    "    clf = grid_search\n",
    "    \n",
    "#     clf = RandomForestClassifier(n_estimators=200,random_state=0, class_weight='balanced')\n",
    "#     clf.fit(all_train[feats], all_train.target)\n",
    "\n",
    "#     print(type(all_test.target.unique()[0]))\n",
    "#     print(type(np.unique(clf.predict(all_test[feats]))[0]))\n",
    "#     recall_scores.append(recall_score(all_test.target,clf.predict(all_test[feats]).astype(int)))\n",
    "\n",
    "    scores = precision_recall_fscore_support(\n",
    "            all_test.target, clf.predict(all_test[feats]), average='weighted')\n",
    "#     print(scores)\n",
    "    recall_scores.append(scores)"
   ]
  },
  {
   "cell_type": "code",
   "execution_count": 46,
   "metadata": {},
   "outputs": [
    {
     "data": {
      "text/plain": [
       "[(0.871063202964052, 0.8697282099343955, 0.8696109330836553, None)]"
      ]
     },
     "execution_count": 46,
     "metadata": {},
     "output_type": "execute_result"
    }
   ],
   "source": [
    "recall_scores"
   ]
  },
  {
   "cell_type": "code",
   "execution_count": 47,
   "metadata": {},
   "outputs": [
    {
     "data": {
      "text/plain": [
       "Text(0.5,0,'Recall scores')"
      ]
     },
     "execution_count": 47,
     "metadata": {},
     "output_type": "execute_result"
    },
    {
     "data": {
      "image/png": "[encoded data removed]",
      "text/plain": [
       "<matplotlib.figure.Figure at 0x7ff3a4781c88>"
      ]
     },
     "metadata": {},
     "output_type": "display_data"
    }
   ],
   "source": [
    "recall_scoresnp = np.array(recall_scores)\n",
    "mean = np.mean(recall_scoresnp[:,1])\n",
    "plt.hist(recall_scoresnp[:,1],density=True)\n",
    "plt.plot([mean,mean],[0,1750],c='black',linestyle='--',label='mean={:.4f}'.format(mean))\n",
    "plt.legend()\n",
    "plt.title(\"No-Oversampling, N=100\")\n",
    "plt.xlabel('Recall scores')"
   ]
  },
  {
   "cell_type": "markdown",
   "metadata": {},
   "source": [
    "# 8-Class clasification"
   ]
  },
  {
   "cell_type": "markdown",
   "metadata": {},
   "source": [
    "## No oversampling"
   ]
  },
  {
   "cell_type": "code",
   "execution_count": 18,
   "metadata": {},
   "outputs": [],
   "source": [
    "labels = ['SN', 'CV', 'AGN', 'HPM', 'Blazar', 'Flare']\n",
    "tran8 = tran.copy()\n",
    "tran8.loc[~tran8.Class.isin(labels), ['Class']] = 'Other'\n",
    "ntran8 = ntran.copy()\n",
    "\n",
    "\n"
   ]
  },
  {
   "cell_type": "code",
   "execution_count": 24,
   "metadata": {},
   "outputs": [],
   "source": [
    "all8 = pd.concat([tran8,ntran8])\n",
    "\n",
    "def manualFact(lab):\n",
    "    labels = ['SN', 'CV', 'AGN', 'HPM', 'Blazar', 'Flare','Other','non-transient']\n",
    "    return labels.index(lab)\n",
    "\n",
    "all8['target'] = list(map(lambda x: manualFact(x),all8['Class']))\n",
    "\n",
    "\n",
    "oversampling = all8.copy()\n",
    "oversampling = oversampling[oversampling.index.get_level_values('copy_num')==0]\n",
    "\n",
    "oversampling = oversampling.sample(frac=1)\n",
    "\n",
    "# oversampling.Class = list(map(lambda x: 'non-transient' if x=='non-transient' else 'transient', oversampling.Class))\n",
    "\n",
    "# oversampling['target'] = list(map(lambda x: 1 if x=='transient' else 0, oversampling.Class))"
   ]
  },
  {
   "cell_type": "code",
   "execution_count": 27,
   "metadata": {},
   "outputs": [
    {
     "name": "stdout",
     "output_type": "stream",
     "text": [
      "99.00%"
     ]
    }
   ],
   "source": [
    "recall_scores = []\n",
    "iterations = 100\n",
    "for i in range(iterations):\n",
    "    print(\"\\r\"+\"{:.2f}%\".format(i*100/iterations), end = \"\")\n",
    "    \n",
    "    #split train test class by class\n",
    "    all_train,all_test = splitTrainTest(oversampling)\n",
    "    \n",
    "    #balance the train set\n",
    "    all_train= balance(all_train)\n",
    "    \n",
    "   \n",
    "\n",
    "    #train indices\n",
    "    trainIdx = all_train.index.get_level_values(\"ID\").unique()\n",
    "   \n",
    "    #remove originals that may have oversampled copies in train\n",
    "    all_test = all_test[~all_test.index.get_level_values(\"ID\").isin(trainIdx)]\n",
    "    # remove oversamples from test\n",
    "    all_test = all_test[all_test.index.get_level_values('copy_num')==0]\n",
    "    \n",
    "    #balance test\n",
    "    all_test= balance(all_test)\n",
    "    \n",
    "    #format stuff\n",
    "    all_train.target= all_train.target.astype('int')\n",
    "    all_test.target= all_test.target.astype('int')\n",
    "    \n",
    "    \n",
    "    clf = RandomForestClassifier(n_estimators=50,random_state=0, class_weight='balanced')\n",
    "    clf.fit(all_train[feats], all_train.target)\n",
    "\n",
    "#     print(type(all_test.target.unique()[0]))\n",
    "#     print(type(np.unique(clf.predict(all_test[feats]))[0]))\n",
    "    recall_scores.append(recall_score(all_test.target,clf.predict(all_test[feats]).astype(int),average='weighted'))"
   ]
  },
  {
   "cell_type": "code",
   "execution_count": 28,
   "metadata": {},
   "outputs": [
    {
     "data": {
      "text/plain": [
       "Text(0.5,0,'Recall scores')"
      ]
     },
     "execution_count": 28,
     "metadata": {},
     "output_type": "execute_result"
    },
    {
     "data": {
      "image/png": "[encoded data removed]",
      "text/plain": [
       "<matplotlib.figure.Figure at 0x7f2eb7290ba8>"
      ]
     },
     "metadata": {},
     "output_type": "display_data"
    }
   ],
   "source": [
    "mean = np.mean(recall_scores)\n",
    "plt.hist(recall_scores,density=True,bins=10)\n",
    "plt.plot([mean,mean],[0,50],c='black',linestyle='--',label='mean={:.4f}'.format(mean))\n",
    "plt.legend()\n",
    "plt.title(\"No-oversampling, N={}, 8-Class\".format(int(len(recall_scores))))\n",
    "plt.xlabel('Recall scores')"
   ]
  },
  {
   "cell_type": "markdown",
   "metadata": {},
   "source": [
    "## with oversampling"
   ]
  },
  {
   "cell_type": "code",
   "execution_count": 49,
   "metadata": {},
   "outputs": [],
   "source": [
    "labels = ['SN', 'CV', 'AGN', 'HPM', 'Blazar', 'Flare']\n",
    "tran8 = tran.copy()\n",
    "tran8.loc[~tran8.Class.isin(labels), ['Class']] = 'Other'\n",
    "ntran8 = ntran.copy()\n",
    "\n",
    "\n"
   ]
  },
  {
   "cell_type": "code",
   "execution_count": 50,
   "metadata": {},
   "outputs": [],
   "source": [
    "all8 = pd.concat([tran8,ntran8])"
   ]
  },
  {
   "cell_type": "code",
   "execution_count": 51,
   "metadata": {},
   "outputs": [],
   "source": [
    "def manualFact(lab):\n",
    "    labels = ['SN', 'CV', 'AGN', 'HPM', 'Blazar', 'Flare','Other','non-transient']\n",
    "    return labels.index(lab)"
   ]
  },
  {
   "cell_type": "code",
   "execution_count": 52,
   "metadata": {},
   "outputs": [],
   "source": [
    "all8['target'] = list(map(lambda x: manualFact(x),all8['Class']))"
   ]
  },
  {
   "cell_type": "code",
   "execution_count": 53,
   "metadata": {},
   "outputs": [],
   "source": [
    "oversampling = all8.copy()\n",
    "# oversampling = oversampling[oversampling.index.get_level_values('copy_num')==0]\n",
    "\n",
    "oversampling = oversampling.sample(frac=1)\n",
    "\n",
    "# oversampling.Class = list(map(lambda x: 'non-transient' if x=='non-transient' else 'transient', oversampling.Class))\n",
    "\n",
    "# oversampling['target'] = list(map(lambda x: 1 if x=='transient' else 0, oversampling.Class))"
   ]
  },
  {
   "cell_type": "code",
   "execution_count": 54,
   "metadata": {},
   "outputs": [
    {
     "name": "stdout",
     "output_type": "stream",
     "text": [
      "6.00%"
     ]
    },
    {
     "ename": "KeyboardInterrupt",
     "evalue": "",
     "output_type": "error",
     "traceback": [
      "\u001b[0;31m---------------------------------------------------------------------------\u001b[0m",
      "\u001b[0;31mKeyboardInterrupt\u001b[0m                         Traceback (most recent call last)",
      "\u001b[0;32m<ipython-input-54-ef6d9e03e690>\u001b[0m in \u001b[0;36m<module>\u001b[0;34m()\u001b[0m\n\u001b[1;32m     30\u001b[0m \u001b[0;34m\u001b[0m\u001b[0m\n\u001b[1;32m     31\u001b[0m     \u001b[0mclf\u001b[0m \u001b[0;34m=\u001b[0m \u001b[0mRandomForestClassifier\u001b[0m\u001b[0;34m(\u001b[0m\u001b[0mn_estimators\u001b[0m\u001b[0;34m=\u001b[0m\u001b[0;36m50\u001b[0m\u001b[0;34m,\u001b[0m\u001b[0mrandom_state\u001b[0m\u001b[0;34m=\u001b[0m\u001b[0;36m0\u001b[0m\u001b[0;34m,\u001b[0m \u001b[0mclass_weight\u001b[0m\u001b[0;34m=\u001b[0m\u001b[0;34m'balanced'\u001b[0m\u001b[0;34m)\u001b[0m\u001b[0;34m\u001b[0m\u001b[0m\n\u001b[0;32m---> 32\u001b[0;31m     \u001b[0mclf\u001b[0m\u001b[0;34m.\u001b[0m\u001b[0mfit\u001b[0m\u001b[0;34m(\u001b[0m\u001b[0mall_train\u001b[0m\u001b[0;34m[\u001b[0m\u001b[0mfeats\u001b[0m\u001b[0;34m]\u001b[0m\u001b[0;34m,\u001b[0m \u001b[0mall_train\u001b[0m\u001b[0;34m.\u001b[0m\u001b[0mtarget\u001b[0m\u001b[0;34m)\u001b[0m\u001b[0;34m\u001b[0m\u001b[0m\n\u001b[0m\u001b[1;32m     33\u001b[0m \u001b[0;34m\u001b[0m\u001b[0m\n\u001b[1;32m     34\u001b[0m \u001b[0;31m#     print(type(all_test.target.unique()[0]))\u001b[0m\u001b[0;34m\u001b[0m\u001b[0;34m\u001b[0m\u001b[0m\n",
      "\u001b[0;32m~/anaconda3/lib/python3.6/site-packages/sklearn/ensemble/forest.py\u001b[0m in \u001b[0;36mfit\u001b[0;34m(self, X, y, sample_weight)\u001b[0m\n\u001b[1;32m    326\u001b[0m                     \u001b[0mt\u001b[0m\u001b[0;34m,\u001b[0m \u001b[0mself\u001b[0m\u001b[0;34m,\u001b[0m \u001b[0mX\u001b[0m\u001b[0;34m,\u001b[0m \u001b[0my\u001b[0m\u001b[0;34m,\u001b[0m \u001b[0msample_weight\u001b[0m\u001b[0;34m,\u001b[0m \u001b[0mi\u001b[0m\u001b[0;34m,\u001b[0m \u001b[0mlen\u001b[0m\u001b[0;34m(\u001b[0m\u001b[0mtrees\u001b[0m\u001b[0;34m)\u001b[0m\u001b[0;34m,\u001b[0m\u001b[0;34m\u001b[0m\u001b[0m\n\u001b[1;32m    327\u001b[0m                     verbose=self.verbose, class_weight=self.class_weight)\n\u001b[0;32m--> 328\u001b[0;31m                 for i, t in enumerate(trees))\n\u001b[0m\u001b[1;32m    329\u001b[0m \u001b[0;34m\u001b[0m\u001b[0m\n\u001b[1;32m    330\u001b[0m             \u001b[0;31m# Collect newly grown trees\u001b[0m\u001b[0;34m\u001b[0m\u001b[0;34m\u001b[0m\u001b[0m\n",
      "\u001b[0;32m~/anaconda3/lib/python3.6/site-packages/sklearn/externals/joblib/parallel.py\u001b[0m in \u001b[0;36m__call__\u001b[0;34m(self, iterable)\u001b[0m\n\u001b[1;32m    777\u001b[0m             \u001b[0;31m# was dispatched. In particular this covers the edge\u001b[0m\u001b[0;34m\u001b[0m\u001b[0;34m\u001b[0m\u001b[0m\n\u001b[1;32m    778\u001b[0m             \u001b[0;31m# case of Parallel used with an exhausted iterator.\u001b[0m\u001b[0;34m\u001b[0m\u001b[0;34m\u001b[0m\u001b[0m\n\u001b[0;32m--> 779\u001b[0;31m             \u001b[0;32mwhile\u001b[0m \u001b[0mself\u001b[0m\u001b[0;34m.\u001b[0m\u001b[0mdispatch_one_batch\u001b[0m\u001b[0;34m(\u001b[0m\u001b[0miterator\u001b[0m\u001b[0;34m)\u001b[0m\u001b[0;34m:\u001b[0m\u001b[0;34m\u001b[0m\u001b[0m\n\u001b[0m\u001b[1;32m    780\u001b[0m                 \u001b[0mself\u001b[0m\u001b[0;34m.\u001b[0m\u001b[0m_iterating\u001b[0m \u001b[0;34m=\u001b[0m \u001b[0;32mTrue\u001b[0m\u001b[0;34m\u001b[0m\u001b[0m\n\u001b[1;32m    781\u001b[0m             \u001b[0;32melse\u001b[0m\u001b[0;34m:\u001b[0m\u001b[0;34m\u001b[0m\u001b[0m\n",
      "\u001b[0;32m~/anaconda3/lib/python3.6/site-packages/sklearn/externals/joblib/parallel.py\u001b[0m in \u001b[0;36mdispatch_one_batch\u001b[0;34m(self, iterator)\u001b[0m\n\u001b[1;32m    623\u001b[0m                 \u001b[0;32mreturn\u001b[0m \u001b[0;32mFalse\u001b[0m\u001b[0;34m\u001b[0m\u001b[0m\n\u001b[1;32m    624\u001b[0m             \u001b[0;32melse\u001b[0m\u001b[0;34m:\u001b[0m\u001b[0;34m\u001b[0m\u001b[0m\n\u001b[0;32m--> 625\u001b[0;31m                 \u001b[0mself\u001b[0m\u001b[0;34m.\u001b[0m\u001b[0m_dispatch\u001b[0m\u001b[0;34m(\u001b[0m\u001b[0mtasks\u001b[0m\u001b[0;34m)\u001b[0m\u001b[0;34m\u001b[0m\u001b[0m\n\u001b[0m\u001b[1;32m    626\u001b[0m                 \u001b[0;32mreturn\u001b[0m \u001b[0;32mTrue\u001b[0m\u001b[0;34m\u001b[0m\u001b[0m\n\u001b[1;32m    627\u001b[0m \u001b[0;34m\u001b[0m\u001b[0m\n",
      "\u001b[0;32m~/anaconda3/lib/python3.6/site-packages/sklearn/externals/joblib/parallel.py\u001b[0m in \u001b[0;36m_dispatch\u001b[0;34m(self, batch)\u001b[0m\n\u001b[1;32m    586\u001b[0m         \u001b[0mdispatch_timestamp\u001b[0m \u001b[0;34m=\u001b[0m \u001b[0mtime\u001b[0m\u001b[0;34m.\u001b[0m\u001b[0mtime\u001b[0m\u001b[0;34m(\u001b[0m\u001b[0;34m)\u001b[0m\u001b[0;34m\u001b[0m\u001b[0m\n\u001b[1;32m    587\u001b[0m         \u001b[0mcb\u001b[0m \u001b[0;34m=\u001b[0m \u001b[0mBatchCompletionCallBack\u001b[0m\u001b[0;34m(\u001b[0m\u001b[0mdispatch_timestamp\u001b[0m\u001b[0;34m,\u001b[0m \u001b[0mlen\u001b[0m\u001b[0;34m(\u001b[0m\u001b[0mbatch\u001b[0m\u001b[0;34m)\u001b[0m\u001b[0;34m,\u001b[0m \u001b[0mself\u001b[0m\u001b[0;34m)\u001b[0m\u001b[0;34m\u001b[0m\u001b[0m\n\u001b[0;32m--> 588\u001b[0;31m         \u001b[0mjob\u001b[0m \u001b[0;34m=\u001b[0m \u001b[0mself\u001b[0m\u001b[0;34m.\u001b[0m\u001b[0m_backend\u001b[0m\u001b[0;34m.\u001b[0m\u001b[0mapply_async\u001b[0m\u001b[0;34m(\u001b[0m\u001b[0mbatch\u001b[0m\u001b[0;34m,\u001b[0m \u001b[0mcallback\u001b[0m\u001b[0;34m=\u001b[0m\u001b[0mcb\u001b[0m\u001b[0;34m)\u001b[0m\u001b[0;34m\u001b[0m\u001b[0m\n\u001b[0m\u001b[1;32m    589\u001b[0m         \u001b[0mself\u001b[0m\u001b[0;34m.\u001b[0m\u001b[0m_jobs\u001b[0m\u001b[0;34m.\u001b[0m\u001b[0mappend\u001b[0m\u001b[0;34m(\u001b[0m\u001b[0mjob\u001b[0m\u001b[0;34m)\u001b[0m\u001b[0;34m\u001b[0m\u001b[0m\n\u001b[1;32m    590\u001b[0m \u001b[0;34m\u001b[0m\u001b[0m\n",
      "\u001b[0;32m~/anaconda3/lib/python3.6/site-packages/sklearn/externals/joblib/_parallel_backends.py\u001b[0m in \u001b[0;36mapply_async\u001b[0;34m(self, func, callback)\u001b[0m\n\u001b[1;32m    109\u001b[0m     \u001b[0;32mdef\u001b[0m \u001b[0mapply_async\u001b[0m\u001b[0;34m(\u001b[0m\u001b[0mself\u001b[0m\u001b[0;34m,\u001b[0m \u001b[0mfunc\u001b[0m\u001b[0;34m,\u001b[0m \u001b[0mcallback\u001b[0m\u001b[0;34m=\u001b[0m\u001b[0;32mNone\u001b[0m\u001b[0;34m)\u001b[0m\u001b[0;34m:\u001b[0m\u001b[0;34m\u001b[0m\u001b[0m\n\u001b[1;32m    110\u001b[0m         \u001b[0;34m\"\"\"Schedule a func to be run\"\"\"\u001b[0m\u001b[0;34m\u001b[0m\u001b[0m\n\u001b[0;32m--> 111\u001b[0;31m         \u001b[0mresult\u001b[0m \u001b[0;34m=\u001b[0m \u001b[0mImmediateResult\u001b[0m\u001b[0;34m(\u001b[0m\u001b[0mfunc\u001b[0m\u001b[0;34m)\u001b[0m\u001b[0;34m\u001b[0m\u001b[0m\n\u001b[0m\u001b[1;32m    112\u001b[0m         \u001b[0;32mif\u001b[0m \u001b[0mcallback\u001b[0m\u001b[0;34m:\u001b[0m\u001b[0;34m\u001b[0m\u001b[0m\n\u001b[1;32m    113\u001b[0m             \u001b[0mcallback\u001b[0m\u001b[0;34m(\u001b[0m\u001b[0mresult\u001b[0m\u001b[0;34m)\u001b[0m\u001b[0;34m\u001b[0m\u001b[0m\n",
      "\u001b[0;32m~/anaconda3/lib/python3.6/site-packages/sklearn/externals/joblib/_parallel_backends.py\u001b[0m in \u001b[0;36m__init__\u001b[0;34m(self, batch)\u001b[0m\n\u001b[1;32m    330\u001b[0m         \u001b[0;31m# Don't delay the application, to avoid keeping the input\u001b[0m\u001b[0;34m\u001b[0m\u001b[0;34m\u001b[0m\u001b[0m\n\u001b[1;32m    331\u001b[0m         \u001b[0;31m# arguments in memory\u001b[0m\u001b[0;34m\u001b[0m\u001b[0;34m\u001b[0m\u001b[0m\n\u001b[0;32m--> 332\u001b[0;31m         \u001b[0mself\u001b[0m\u001b[0;34m.\u001b[0m\u001b[0mresults\u001b[0m \u001b[0;34m=\u001b[0m \u001b[0mbatch\u001b[0m\u001b[0;34m(\u001b[0m\u001b[0;34m)\u001b[0m\u001b[0;34m\u001b[0m\u001b[0m\n\u001b[0m\u001b[1;32m    333\u001b[0m \u001b[0;34m\u001b[0m\u001b[0m\n\u001b[1;32m    334\u001b[0m     \u001b[0;32mdef\u001b[0m \u001b[0mget\u001b[0m\u001b[0;34m(\u001b[0m\u001b[0mself\u001b[0m\u001b[0;34m)\u001b[0m\u001b[0;34m:\u001b[0m\u001b[0;34m\u001b[0m\u001b[0m\n",
      "\u001b[0;32m~/anaconda3/lib/python3.6/site-packages/sklearn/externals/joblib/parallel.py\u001b[0m in \u001b[0;36m__call__\u001b[0;34m(self)\u001b[0m\n\u001b[1;32m    129\u001b[0m \u001b[0;34m\u001b[0m\u001b[0m\n\u001b[1;32m    130\u001b[0m     \u001b[0;32mdef\u001b[0m \u001b[0m__call__\u001b[0m\u001b[0;34m(\u001b[0m\u001b[0mself\u001b[0m\u001b[0;34m)\u001b[0m\u001b[0;34m:\u001b[0m\u001b[0;34m\u001b[0m\u001b[0m\n\u001b[0;32m--> 131\u001b[0;31m         \u001b[0;32mreturn\u001b[0m \u001b[0;34m[\u001b[0m\u001b[0mfunc\u001b[0m\u001b[0;34m(\u001b[0m\u001b[0;34m*\u001b[0m\u001b[0margs\u001b[0m\u001b[0;34m,\u001b[0m \u001b[0;34m**\u001b[0m\u001b[0mkwargs\u001b[0m\u001b[0;34m)\u001b[0m \u001b[0;32mfor\u001b[0m \u001b[0mfunc\u001b[0m\u001b[0;34m,\u001b[0m \u001b[0margs\u001b[0m\u001b[0;34m,\u001b[0m \u001b[0mkwargs\u001b[0m \u001b[0;32min\u001b[0m \u001b[0mself\u001b[0m\u001b[0;34m.\u001b[0m\u001b[0mitems\u001b[0m\u001b[0;34m]\u001b[0m\u001b[0;34m\u001b[0m\u001b[0m\n\u001b[0m\u001b[1;32m    132\u001b[0m \u001b[0;34m\u001b[0m\u001b[0m\n\u001b[1;32m    133\u001b[0m     \u001b[0;32mdef\u001b[0m \u001b[0m__len__\u001b[0m\u001b[0;34m(\u001b[0m\u001b[0mself\u001b[0m\u001b[0;34m)\u001b[0m\u001b[0;34m:\u001b[0m\u001b[0;34m\u001b[0m\u001b[0m\n",
      "\u001b[0;32m~/anaconda3/lib/python3.6/site-packages/sklearn/externals/joblib/parallel.py\u001b[0m in \u001b[0;36m<listcomp>\u001b[0;34m(.0)\u001b[0m\n\u001b[1;32m    129\u001b[0m \u001b[0;34m\u001b[0m\u001b[0m\n\u001b[1;32m    130\u001b[0m     \u001b[0;32mdef\u001b[0m \u001b[0m__call__\u001b[0m\u001b[0;34m(\u001b[0m\u001b[0mself\u001b[0m\u001b[0;34m)\u001b[0m\u001b[0;34m:\u001b[0m\u001b[0;34m\u001b[0m\u001b[0m\n\u001b[0;32m--> 131\u001b[0;31m         \u001b[0;32mreturn\u001b[0m \u001b[0;34m[\u001b[0m\u001b[0mfunc\u001b[0m\u001b[0;34m(\u001b[0m\u001b[0;34m*\u001b[0m\u001b[0margs\u001b[0m\u001b[0;34m,\u001b[0m \u001b[0;34m**\u001b[0m\u001b[0mkwargs\u001b[0m\u001b[0;34m)\u001b[0m \u001b[0;32mfor\u001b[0m \u001b[0mfunc\u001b[0m\u001b[0;34m,\u001b[0m \u001b[0margs\u001b[0m\u001b[0;34m,\u001b[0m \u001b[0mkwargs\u001b[0m \u001b[0;32min\u001b[0m \u001b[0mself\u001b[0m\u001b[0;34m.\u001b[0m\u001b[0mitems\u001b[0m\u001b[0;34m]\u001b[0m\u001b[0;34m\u001b[0m\u001b[0m\n\u001b[0m\u001b[1;32m    132\u001b[0m \u001b[0;34m\u001b[0m\u001b[0m\n\u001b[1;32m    133\u001b[0m     \u001b[0;32mdef\u001b[0m \u001b[0m__len__\u001b[0m\u001b[0;34m(\u001b[0m\u001b[0mself\u001b[0m\u001b[0;34m)\u001b[0m\u001b[0;34m:\u001b[0m\u001b[0;34m\u001b[0m\u001b[0m\n",
      "\u001b[0;32m~/anaconda3/lib/python3.6/site-packages/sklearn/ensemble/forest.py\u001b[0m in \u001b[0;36m_parallel_build_trees\u001b[0;34m(tree, forest, X, y, sample_weight, tree_idx, n_trees, verbose, class_weight)\u001b[0m\n\u001b[1;32m    119\u001b[0m             \u001b[0mcurr_sample_weight\u001b[0m \u001b[0;34m*=\u001b[0m \u001b[0mcompute_sample_weight\u001b[0m\u001b[0;34m(\u001b[0m\u001b[0;34m'balanced'\u001b[0m\u001b[0;34m,\u001b[0m \u001b[0my\u001b[0m\u001b[0;34m,\u001b[0m \u001b[0mindices\u001b[0m\u001b[0;34m)\u001b[0m\u001b[0;34m\u001b[0m\u001b[0m\n\u001b[1;32m    120\u001b[0m \u001b[0;34m\u001b[0m\u001b[0m\n\u001b[0;32m--> 121\u001b[0;31m         \u001b[0mtree\u001b[0m\u001b[0;34m.\u001b[0m\u001b[0mfit\u001b[0m\u001b[0;34m(\u001b[0m\u001b[0mX\u001b[0m\u001b[0;34m,\u001b[0m \u001b[0my\u001b[0m\u001b[0;34m,\u001b[0m \u001b[0msample_weight\u001b[0m\u001b[0;34m=\u001b[0m\u001b[0mcurr_sample_weight\u001b[0m\u001b[0;34m,\u001b[0m \u001b[0mcheck_input\u001b[0m\u001b[0;34m=\u001b[0m\u001b[0;32mFalse\u001b[0m\u001b[0;34m)\u001b[0m\u001b[0;34m\u001b[0m\u001b[0m\n\u001b[0m\u001b[1;32m    122\u001b[0m     \u001b[0;32melse\u001b[0m\u001b[0;34m:\u001b[0m\u001b[0;34m\u001b[0m\u001b[0m\n\u001b[1;32m    123\u001b[0m         \u001b[0mtree\u001b[0m\u001b[0;34m.\u001b[0m\u001b[0mfit\u001b[0m\u001b[0;34m(\u001b[0m\u001b[0mX\u001b[0m\u001b[0;34m,\u001b[0m \u001b[0my\u001b[0m\u001b[0;34m,\u001b[0m \u001b[0msample_weight\u001b[0m\u001b[0;34m=\u001b[0m\u001b[0msample_weight\u001b[0m\u001b[0;34m,\u001b[0m \u001b[0mcheck_input\u001b[0m\u001b[0;34m=\u001b[0m\u001b[0;32mFalse\u001b[0m\u001b[0;34m)\u001b[0m\u001b[0;34m\u001b[0m\u001b[0m\n",
      "\u001b[0;32m~/anaconda3/lib/python3.6/site-packages/sklearn/tree/tree.py\u001b[0m in \u001b[0;36mfit\u001b[0;34m(self, X, y, sample_weight, check_input, X_idx_sorted)\u001b[0m\n\u001b[1;32m    788\u001b[0m             \u001b[0msample_weight\u001b[0m\u001b[0;34m=\u001b[0m\u001b[0msample_weight\u001b[0m\u001b[0;34m,\u001b[0m\u001b[0;34m\u001b[0m\u001b[0m\n\u001b[1;32m    789\u001b[0m             \u001b[0mcheck_input\u001b[0m\u001b[0;34m=\u001b[0m\u001b[0mcheck_input\u001b[0m\u001b[0;34m,\u001b[0m\u001b[0;34m\u001b[0m\u001b[0m\n\u001b[0;32m--> 790\u001b[0;31m             X_idx_sorted=X_idx_sorted)\n\u001b[0m\u001b[1;32m    791\u001b[0m         \u001b[0;32mreturn\u001b[0m \u001b[0mself\u001b[0m\u001b[0;34m\u001b[0m\u001b[0m\n\u001b[1;32m    792\u001b[0m \u001b[0;34m\u001b[0m\u001b[0m\n",
      "\u001b[0;32m~/anaconda3/lib/python3.6/site-packages/sklearn/tree/tree.py\u001b[0m in \u001b[0;36mfit\u001b[0;34m(self, X, y, sample_weight, check_input, X_idx_sorted)\u001b[0m\n\u001b[1;32m    360\u001b[0m                                            min_impurity_split)\n\u001b[1;32m    361\u001b[0m \u001b[0;34m\u001b[0m\u001b[0m\n\u001b[0;32m--> 362\u001b[0;31m         \u001b[0mbuilder\u001b[0m\u001b[0;34m.\u001b[0m\u001b[0mbuild\u001b[0m\u001b[0;34m(\u001b[0m\u001b[0mself\u001b[0m\u001b[0;34m.\u001b[0m\u001b[0mtree_\u001b[0m\u001b[0;34m,\u001b[0m \u001b[0mX\u001b[0m\u001b[0;34m,\u001b[0m \u001b[0my\u001b[0m\u001b[0;34m,\u001b[0m \u001b[0msample_weight\u001b[0m\u001b[0;34m,\u001b[0m \u001b[0mX_idx_sorted\u001b[0m\u001b[0;34m)\u001b[0m\u001b[0;34m\u001b[0m\u001b[0m\n\u001b[0m\u001b[1;32m    363\u001b[0m \u001b[0;34m\u001b[0m\u001b[0m\n\u001b[1;32m    364\u001b[0m         \u001b[0;32mif\u001b[0m \u001b[0mself\u001b[0m\u001b[0;34m.\u001b[0m\u001b[0mn_outputs_\u001b[0m \u001b[0;34m==\u001b[0m \u001b[0;36m1\u001b[0m\u001b[0;34m:\u001b[0m\u001b[0;34m\u001b[0m\u001b[0m\n",
      "\u001b[0;31mKeyboardInterrupt\u001b[0m: "
     ]
    }
   ],
   "source": [
    "recall_scores = []\n",
    "precision_scores = []\n",
    "iterations = 100\n",
    "for i in range(iterations):\n",
    "    print(\"\\r\"+\"{:.2f}%\".format(i*100/iterations), end = \"\")\n",
    "    \n",
    "    #split train test class by class\n",
    "    all_train,all_test = splitTrainTest(oversampling)\n",
    "    \n",
    "    #balance the train set\n",
    "    all_train= balance(all_train)\n",
    "    \n",
    "   \n",
    "\n",
    "    #train indices\n",
    "    trainIdx = all_train.index.get_level_values(\"ID\").unique()\n",
    "   \n",
    "    #remove originals that may have oversampled copies in train\n",
    "    all_test = all_test[~all_test.index.get_level_values(\"ID\").isin(trainIdx)]\n",
    "    # remove oversamples from test\n",
    "    all_test = all_test[all_test.index.get_level_values('copy_num')==0]\n",
    "    \n",
    "    #balance test\n",
    "    all_test= balance(all_test)\n",
    "    \n",
    "    #format stuff\n",
    "    all_train.target= all_train.target.astype('int')\n",
    "    all_test.target= all_test.target.astype('int')\n",
    "    \n",
    "    \n",
    "    clf = RandomForestClassifier(n_estimators=50,random_state=0, class_weight='balanced')\n",
    "    clf.fit(all_train[feats], all_train.target)\n",
    "\n",
    "#     print(type(all_test.target.unique()[0]))\n",
    "#     print(type(np.unique(clf.predict(all_test[feats]))[0]))\n",
    "    recall_scores.append(recall_score(all_test.target,clf.predict(all_test[feats]).astype(int),average='weighted'))\n",
    "    precision_scores.append(precision_score(all_test.target,clf.predict(all_test[feats]).astype(int),average='weighted'))"
   ]
  },
  {
   "cell_type": "code",
   "execution_count": 21,
   "metadata": {},
   "outputs": [
    {
     "name": "stdout",
     "output_type": "stream",
     "text": [
      "0.6400805824636893\n"
     ]
    },
    {
     "data": {
      "text/plain": [
       "Text(0.5,0,'Recall scores')"
      ]
     },
     "execution_count": 21,
     "metadata": {},
     "output_type": "execute_result"
    },
    {
     "data": {
      "image/png": "[encoded data removed]",
      "text/plain": [
       "<matplotlib.figure.Figure at 0x7f8fbaa15c18>"
      ]
     },
     "metadata": {},
     "output_type": "display_data"
    }
   ],
   "source": [
    "mean = np.mean(recall_scores)\n",
    "meanp = np.mean(precision_scores)\n",
    "print(meanp)\n",
    "plt.hist(recall_scores,density=True,bins=10)\n",
    "plt.plot([mean,mean],[0,50],c='black',linestyle='--',label='mean={:.4f}'.format(mean))\n",
    "plt.legend()\n",
    "plt.title(\"Oversampling, N={}, 8-Class\".format(int(len(recall_scores))))\n",
    "plt.xlabel('Recall scores')"
   ]
  },
  {
   "cell_type": "markdown",
   "metadata": {},
   "source": [
    "# With grid-search"
   ]
  },
  {
   "cell_type": "markdown",
   "metadata": {},
   "source": [
    "## no-oversampling"
   ]
  },
  {
   "cell_type": "code",
   "execution_count": 19,
   "metadata": {},
   "outputs": [],
   "source": [
    "labels = ['SN', 'CV', 'AGN', 'HPM', 'Blazar', 'Flare']\n",
    "tran8 = tran.copy()\n",
    "tran8.loc[~tran8.Class.isin(labels), ['Class']] = 'Other'\n",
    "ntran8 = ntran.copy()\n",
    "\n",
    "\n",
    "\n",
    "\n",
    "all8 = pd.concat([tran8,ntran8])\n",
    "\n",
    "def manualFact(lab):\n",
    "    labels = ['SN', 'CV', 'AGN', 'HPM', 'Blazar', 'Flare','Other','non-transient']\n",
    "    return labels.index(lab)\n",
    "\n",
    "all8['target'] = list(map(lambda x: manualFact(x),all8['Class']))\n",
    "\n",
    "\n",
    "oversampling = all8.copy()\n",
    "oversampling = oversampling[oversampling.index.get_level_values('copy_num')==0]\n",
    "\n",
    "oversampling = oversampling.sample(frac=1)\n",
    "\n",
    "# oversampling.Class = list(map(lambda x: 'non-transient' if x=='non-transient' else 'transient', oversampling.Class))\n",
    "\n",
    "# oversampling['target'] = list(map(lambda x: 1 if x=='transient' else 0, oversampling.Class))"
   ]
  },
  {
   "cell_type": "code",
   "execution_count": 20,
   "metadata": {},
   "outputs": [
    {
     "name": "stdout",
     "output_type": "stream",
     "text": [
      "0.00%Fitting 2 folds for each of 6 candidates, totalling 12 fits\n",
      "[CV] max_features=auto, n_estimators=200 .............................\n",
      "[CV]  max_features=auto, n_estimators=200, accuracy=0.5961538461538461, precision=0.5942342426798449, recall=0.5961538461538461, f1_score=0.5902553640543882, total=   0.6s\n",
      "[Parallel(n_jobs=1)]: Done   1 out of   1 | elapsed:    0.8s remaining:    0.0s\n",
      "[CV] max_features=auto, n_estimators=200 .............................\n",
      "[CV]  max_features=auto, n_estimators=200, accuracy=0.5961538461538461, precision=0.5961648575943373, recall=0.5961538461538461, f1_score=0.5908199362056352, total=   0.5s\n",
      "[Parallel(n_jobs=1)]: Done   2 out of   2 | elapsed:    1.5s remaining:    0.0s\n",
      "[CV] max_features=auto, n_estimators=700 .............................\n",
      "[CV]  max_features=auto, n_estimators=700, accuracy=0.5833333333333334, precision=0.5845230475887748, recall=0.5833333333333334, f1_score=0.5791802413633167, total=   1.7s\n",
      "[Parallel(n_jobs=1)]: Done   3 out of   3 | elapsed:    3.5s remaining:    0.0s\n",
      "[CV] max_features=auto, n_estimators=700 .............................\n",
      "[CV]  max_features=auto, n_estimators=700, accuracy=0.5993589743589743, precision=0.6003912155645258, recall=0.5993589743589743, f1_score=0.5943836929387717, total=   1.8s\n",
      "[Parallel(n_jobs=1)]: Done   4 out of   4 | elapsed:    5.6s remaining:    0.0s\n",
      "[CV] max_features=sqrt, n_estimators=200 .............................\n",
      "[CV]  max_features=sqrt, n_estimators=200, accuracy=0.5961538461538461, precision=0.5942342426798449, recall=0.5961538461538461, f1_score=0.5902553640543882, total=   0.7s\n",
      "[Parallel(n_jobs=1)]: Done   5 out of   5 | elapsed:    6.4s remaining:    0.0s\n",
      "[CV] max_features=sqrt, n_estimators=200 .............................\n",
      "[CV]  max_features=sqrt, n_estimators=200, accuracy=0.5961538461538461, precision=0.5961648575943373, recall=0.5961538461538461, f1_score=0.5908199362056352, total=   0.5s\n",
      "[Parallel(n_jobs=1)]: Done   6 out of   6 | elapsed:    7.0s remaining:    0.0s\n",
      "[CV] max_features=sqrt, n_estimators=700 .............................\n",
      "[CV]  max_features=sqrt, n_estimators=700, accuracy=0.5833333333333334, precision=0.5845230475887748, recall=0.5833333333333334, f1_score=0.5791802413633167, total=   1.9s\n",
      "[Parallel(n_jobs=1)]: Done   7 out of   7 | elapsed:    9.2s remaining:    0.0s\n",
      "[CV] max_features=sqrt, n_estimators=700 .............................\n",
      "[CV]  max_features=sqrt, n_estimators=700, accuracy=0.5993589743589743, precision=0.6003912155645258, recall=0.5993589743589743, f1_score=0.5943836929387717, total=   1.8s\n",
      "[Parallel(n_jobs=1)]: Done   8 out of   8 | elapsed:   11.4s remaining:    0.0s\n",
      "[CV] max_features=log2, n_estimators=200 .............................\n",
      "[CV]  max_features=log2, n_estimators=200, accuracy=0.5753205128205128, precision=0.573721031680484, recall=0.5753205128205128, f1_score=0.569720210459973, total=   0.5s\n",
      "[Parallel(n_jobs=1)]: Done   9 out of   9 | elapsed:   11.9s remaining:    0.0s\n",
      "[CV] max_features=log2, n_estimators=200 .............................\n",
      "[CV]  max_features=log2, n_estimators=200, accuracy=0.5817307692307693, precision=0.5788208937249886, recall=0.5817307692307693, f1_score=0.5749894856018191, total=   0.5s\n",
      "[Parallel(n_jobs=1)]: Done  10 out of  10 | elapsed:   12.5s remaining:    0.0s\n",
      "[CV] max_features=log2, n_estimators=700 .............................\n",
      "[CV]  max_features=log2, n_estimators=700, accuracy=0.5881410256410257, precision=0.5915907767548509, recall=0.5881410256410257, f1_score=0.5842592512231131, total=   1.6s\n",
      "[Parallel(n_jobs=1)]: Done  11 out of  11 | elapsed:   14.4s remaining:    0.0s\n",
      "[CV] max_features=log2, n_estimators=700 .............................\n",
      "[CV]  max_features=log2, n_estimators=700, accuracy=0.5913461538461539, precision=0.5897892665200706, recall=0.5913461538461539, f1_score=0.5847818446376031, total=   1.9s\n",
      "[Parallel(n_jobs=1)]: Done  12 out of  12 | elapsed:   16.8s remaining:    0.0s\n",
      "[Parallel(n_jobs=1)]: Done  12 out of  12 | elapsed:   16.8s finished\n",
      "20.00%Fitting 2 folds for each of 6 candidates, totalling 12 fits\n",
      "[CV] max_features=auto, n_estimators=200 .............................\n",
      "[CV]  max_features=auto, n_estimators=200, accuracy=0.5785256410256411, precision=0.5772948813398849, recall=0.5785256410256411, f1_score=0.5745410440349394, total=   0.5s\n",
      "[Parallel(n_jobs=1)]: Done   1 out of   1 | elapsed:    0.6s remaining:    0.0s\n",
      "[CV] max_features=auto, n_estimators=200 .............................\n",
      "[CV]  max_features=auto, n_estimators=200, accuracy=0.5977564102564102, precision=0.5938011024760323, recall=0.5977564102564102, f1_score=0.5905701849392619, total=   0.6s\n",
      "[Parallel(n_jobs=1)]: Done   2 out of   2 | elapsed:    1.3s remaining:    0.0s\n",
      "[CV] max_features=auto, n_estimators=700 .............................\n",
      "[CV]  max_features=auto, n_estimators=700, accuracy=0.5913461538461539, precision=0.5917685078575712, recall=0.5913461538461539, f1_score=0.5884200683544665, total=   2.1s\n",
      "[Parallel(n_jobs=1)]: Done   3 out of   3 | elapsed:    3.8s remaining:    0.0s\n",
      "[CV] max_features=auto, n_estimators=700 .............................\n",
      "[CV]  max_features=auto, n_estimators=700, accuracy=0.6121794871794872, precision=0.6100640113397078, recall=0.6121794871794872, f1_score=0.6057034507561252, total=   2.0s\n",
      "[Parallel(n_jobs=1)]: Done   4 out of   4 | elapsed:    6.1s remaining:    0.0s\n",
      "[CV] max_features=sqrt, n_estimators=200 .............................\n",
      "[CV]  max_features=sqrt, n_estimators=200, accuracy=0.5785256410256411, precision=0.5772948813398849, recall=0.5785256410256411, f1_score=0.5745410440349394, total=   0.6s\n",
      "[Parallel(n_jobs=1)]: Done   5 out of   5 | elapsed:    6.8s remaining:    0.0s\n",
      "[CV] max_features=sqrt, n_estimators=200 .............................\n",
      "[CV]  max_features=sqrt, n_estimators=200, accuracy=0.5977564102564102, precision=0.5938011024760323, recall=0.5977564102564102, f1_score=0.5905701849392619, total=   0.6s\n",
      "[Parallel(n_jobs=1)]: Done   6 out of   6 | elapsed:    7.5s remaining:    0.0s\n",
      "[CV] max_features=sqrt, n_estimators=700 .............................\n",
      "[CV]  max_features=sqrt, n_estimators=700, accuracy=0.5913461538461539, precision=0.5917685078575712, recall=0.5913461538461539, f1_score=0.5884200683544665, total=   1.8s\n",
      "[Parallel(n_jobs=1)]: Done   7 out of   7 | elapsed:    9.7s remaining:    0.0s\n",
      "[CV] max_features=sqrt, n_estimators=700 .............................\n",
      "[CV]  max_features=sqrt, n_estimators=700, accuracy=0.6121794871794872, precision=0.6100640113397078, recall=0.6121794871794872, f1_score=0.6057034507561252, total=   2.0s\n",
      "[Parallel(n_jobs=1)]: Done   8 out of   8 | elapsed:   12.0s remaining:    0.0s\n",
      "[CV] max_features=log2, n_estimators=200 .............................\n",
      "[CV]  max_features=log2, n_estimators=200, accuracy=0.5785256410256411, precision=0.5791547520944322, recall=0.5785256410256411, f1_score=0.5768602130001748, total=   0.5s\n",
      "[Parallel(n_jobs=1)]: Done   9 out of   9 | elapsed:   12.6s remaining:    0.0s\n",
      "[CV] max_features=log2, n_estimators=200 .............................\n",
      "[CV]  max_features=log2, n_estimators=200, accuracy=0.5993589743589743, precision=0.5979491238901772, recall=0.5993589743589743, f1_score=0.5927581315116225, total=   0.5s\n",
      "[Parallel(n_jobs=1)]: Done  10 out of  10 | elapsed:   13.3s remaining:    0.0s\n",
      "[CV] max_features=log2, n_estimators=700 .............................\n",
      "[CV]  max_features=log2, n_estimators=700, accuracy=0.5785256410256411, precision=0.576324565527946, recall=0.5785256410256411, f1_score=0.5755030311023702, total=   1.8s\n",
      "[Parallel(n_jobs=1)]: Done  11 out of  11 | elapsed:   15.5s remaining:    0.0s\n",
      "[CV] max_features=log2, n_estimators=700 .............................\n",
      "[CV]  max_features=log2, n_estimators=700, accuracy=0.6073717948717948, precision=0.6044047828462366, recall=0.6073717948717948, f1_score=0.6010168796923125, total=   2.0s\n",
      "[Parallel(n_jobs=1)]: Done  12 out of  12 | elapsed:   17.8s remaining:    0.0s\n",
      "[Parallel(n_jobs=1)]: Done  12 out of  12 | elapsed:   17.8s finished\n",
      "40.00%Fitting 2 folds for each of 6 candidates, totalling 12 fits\n",
      "[CV] max_features=auto, n_estimators=200 .............................\n",
      "[CV]  max_features=auto, n_estimators=200, accuracy=0.5993589743589743, precision=0.59105636955909, recall=0.5993589743589743, f1_score=0.5918973739640259, total=   0.5s\n",
      "[Parallel(n_jobs=1)]: Done   1 out of   1 | elapsed:    0.6s remaining:    0.0s\n",
      "[CV] max_features=auto, n_estimators=200 .............................\n",
      "[CV]  max_features=auto, n_estimators=200, accuracy=0.6025641025641025, precision=0.5996899965590531, recall=0.6025641025641025, f1_score=0.5986032650759546, total=   0.5s\n",
      "[Parallel(n_jobs=1)]: Done   2 out of   2 | elapsed:    1.2s remaining:    0.0s\n",
      "[CV] max_features=auto, n_estimators=700 .............................\n",
      "[CV]  max_features=auto, n_estimators=700, accuracy=0.5977564102564102, precision=0.5893989431402594, recall=0.5977564102564102, f1_score=0.5905082996824801, total=   1.7s\n",
      "[Parallel(n_jobs=1)]: Done   3 out of   3 | elapsed:    3.2s remaining:    0.0s\n",
      "[CV] max_features=auto, n_estimators=700 .............................\n",
      "[CV]  max_features=auto, n_estimators=700, accuracy=0.5993589743589743, precision=0.5966227566339706, recall=0.5993589743589743, f1_score=0.5954754597977959, total=   1.9s\n",
      "[Parallel(n_jobs=1)]: Done   4 out of   4 | elapsed:    5.4s remaining:    0.0s\n",
      "[CV] max_features=sqrt, n_estimators=200 .............................\n",
      "[CV]  max_features=sqrt, n_estimators=200, accuracy=0.5993589743589743, precision=0.59105636955909, recall=0.5993589743589743, f1_score=0.5918973739640259, total=   0.5s\n",
      "[Parallel(n_jobs=1)]: Done   5 out of   5 | elapsed:    6.1s remaining:    0.0s\n",
      "[CV] max_features=sqrt, n_estimators=200 .............................\n",
      "[CV]  max_features=sqrt, n_estimators=200, accuracy=0.6025641025641025, precision=0.5996899965590531, recall=0.6025641025641025, f1_score=0.5986032650759546, total=   0.5s\n",
      "[Parallel(n_jobs=1)]: Done   6 out of   6 | elapsed:    6.7s remaining:    0.0s\n",
      "[CV] max_features=sqrt, n_estimators=700 .............................\n",
      "[CV]  max_features=sqrt, n_estimators=700, accuracy=0.5977564102564102, precision=0.5893989431402594, recall=0.5977564102564102, f1_score=0.5905082996824801, total=   1.8s\n",
      "[Parallel(n_jobs=1)]: Done   7 out of   7 | elapsed:    8.8s remaining:    0.0s\n",
      "[CV] max_features=sqrt, n_estimators=700 .............................\n",
      "[CV]  max_features=sqrt, n_estimators=700, accuracy=0.5993589743589743, precision=0.5966227566339706, recall=0.5993589743589743, f1_score=0.5954754597977959, total=   1.9s\n",
      "[Parallel(n_jobs=1)]: Done   8 out of   8 | elapsed:   11.1s remaining:    0.0s\n",
      "[CV] max_features=log2, n_estimators=200 .............................\n",
      "[CV]  max_features=log2, n_estimators=200, accuracy=0.5817307692307693, precision=0.5711818210052807, recall=0.5817307692307693, f1_score=0.5736163145632885, total=   0.5s\n",
      "[Parallel(n_jobs=1)]: Done   9 out of   9 | elapsed:   11.7s remaining:    0.0s\n",
      "[CV] max_features=log2, n_estimators=200 .............................\n",
      "[CV]  max_features=log2, n_estimators=200, accuracy=0.6169871794871795, precision=0.6140380199302959, recall=0.6169871794871795, f1_score=0.612315405745222, total=   0.5s\n",
      "[Parallel(n_jobs=1)]: Done  10 out of  10 | elapsed:   12.2s remaining:    0.0s\n",
      "[CV] max_features=log2, n_estimators=700 .............................\n",
      "[CV]  max_features=log2, n_estimators=700, accuracy=0.5865384615384616, precision=0.5733479535490057, recall=0.5865384615384616, f1_score=0.5768840299050291, total=   1.8s\n",
      "[Parallel(n_jobs=1)]: Done  11 out of  11 | elapsed:   14.4s remaining:    0.0s\n",
      "[CV] max_features=log2, n_estimators=700 .............................\n",
      "[CV]  max_features=log2, n_estimators=700, accuracy=0.6057692307692307, precision=0.603369276245424, recall=0.6057692307692307, f1_score=0.6015997223699296, total=   1.8s\n",
      "[Parallel(n_jobs=1)]: Done  12 out of  12 | elapsed:   16.6s remaining:    0.0s\n",
      "[Parallel(n_jobs=1)]: Done  12 out of  12 | elapsed:   16.6s finished\n",
      "60.00%Fitting 2 folds for each of 6 candidates, totalling 12 fits\n",
      "[CV] max_features=auto, n_estimators=200 .............................\n",
      "[CV]  max_features=auto, n_estimators=200, accuracy=0.5400641025641025, precision=0.5282368069130313, recall=0.5400641025641025, f1_score=0.5302070067847677, total=   0.5s\n",
      "[Parallel(n_jobs=1)]: Done   1 out of   1 | elapsed:    0.6s remaining:    0.0s\n",
      "[CV] max_features=auto, n_estimators=200 .............................\n",
      "[CV]  max_features=auto, n_estimators=200, accuracy=0.6041666666666666, precision=0.6056940251972298, recall=0.6041666666666666, f1_score=0.6034166340150517, total=   0.5s\n",
      "[Parallel(n_jobs=1)]: Done   2 out of   2 | elapsed:    1.2s remaining:    0.0s\n",
      "[CV] max_features=auto, n_estimators=700 .............................\n",
      "[CV]  max_features=auto, n_estimators=700, accuracy=0.5432692307692307, precision=0.5313187241819965, recall=0.5432692307692307, f1_score=0.5327419503688898, total=   1.9s\n",
      "[Parallel(n_jobs=1)]: Done   3 out of   3 | elapsed:    3.5s remaining:    0.0s\n",
      "[CV] max_features=auto, n_estimators=700 .............................\n",
      "[CV]  max_features=auto, n_estimators=700, accuracy=0.5993589743589743, precision=0.5975935333726655, recall=0.5993589743589743, f1_score=0.5973384667285047, total=   2.2s\n",
      "[Parallel(n_jobs=1)]: Done   4 out of   4 | elapsed:    6.1s remaining:    0.0s\n",
      "[CV] max_features=sqrt, n_estimators=200 .............................\n",
      "[CV]  max_features=sqrt, n_estimators=200, accuracy=0.5400641025641025, precision=0.5282368069130313, recall=0.5400641025641025, f1_score=0.5302070067847677, total=   0.5s\n",
      "[Parallel(n_jobs=1)]: Done   5 out of   5 | elapsed:    6.7s remaining:    0.0s\n",
      "[CV] max_features=sqrt, n_estimators=200 .............................\n",
      "[CV]  max_features=sqrt, n_estimators=200, accuracy=0.6041666666666666, precision=0.6056940251972298, recall=0.6041666666666666, f1_score=0.6034166340150517, total=   0.7s\n",
      "[Parallel(n_jobs=1)]: Done   6 out of   6 | elapsed:    7.5s remaining:    0.0s\n",
      "[CV] max_features=sqrt, n_estimators=700 .............................\n",
      "[CV]  max_features=sqrt, n_estimators=700, accuracy=0.5432692307692307, precision=0.5313187241819965, recall=0.5432692307692307, f1_score=0.5327419503688898, total=   1.8s\n",
      "[Parallel(n_jobs=1)]: Done   7 out of   7 | elapsed:    9.7s remaining:    0.0s\n",
      "[CV] max_features=sqrt, n_estimators=700 .............................\n",
      "[CV]  max_features=sqrt, n_estimators=700, accuracy=0.5993589743589743, precision=0.5975935333726655, recall=0.5993589743589743, f1_score=0.5973384667285047, total=   1.8s\n",
      "[Parallel(n_jobs=1)]: Done   8 out of   8 | elapsed:   11.8s remaining:    0.0s\n",
      "[CV] max_features=log2, n_estimators=200 .............................\n",
      "[CV]  max_features=log2, n_estimators=200, accuracy=0.5384615384615384, precision=0.5247040544960839, recall=0.5384615384615384, f1_score=0.5267229121514007, total=   0.6s\n",
      "[Parallel(n_jobs=1)]: Done   9 out of   9 | elapsed:   12.5s remaining:    0.0s\n",
      "[CV] max_features=log2, n_estimators=200 .............................\n",
      "[CV]  max_features=log2, n_estimators=200, accuracy=0.594551282051282, precision=0.5926759027874915, recall=0.594551282051282, f1_score=0.5921870588634147, total=   0.5s\n",
      "[Parallel(n_jobs=1)]: Done  10 out of  10 | elapsed:   13.1s remaining:    0.0s\n",
      "[CV] max_features=log2, n_estimators=700 .............................\n",
      "[CV]  max_features=log2, n_estimators=700, accuracy=0.5368589743589743, precision=0.5226944594828048, recall=0.5368589743589743, f1_score=0.5241271363206428, total=   1.7s\n",
      "[Parallel(n_jobs=1)]: Done  11 out of  11 | elapsed:   15.1s remaining:    0.0s\n",
      "[CV] max_features=log2, n_estimators=700 .............................\n",
      "[CV]  max_features=log2, n_estimators=700, accuracy=0.5961538461538461, precision=0.5961313652318304, recall=0.5961538461538461, f1_score=0.5949007454990513, total=   1.7s\n",
      "[Parallel(n_jobs=1)]: Done  12 out of  12 | elapsed:   17.2s remaining:    0.0s\n",
      "[Parallel(n_jobs=1)]: Done  12 out of  12 | elapsed:   17.2s finished\n",
      "80.00%Fitting 2 folds for each of 6 candidates, totalling 12 fits\n",
      "[CV] max_features=auto, n_estimators=200 .............................\n",
      "[CV]  max_features=auto, n_estimators=200, accuracy=0.6009615384615384, precision=0.5896129651240878, recall=0.6009615384615384, f1_score=0.5908105663898425, total=   0.6s\n",
      "[Parallel(n_jobs=1)]: Done   1 out of   1 | elapsed:    0.7s remaining:    0.0s\n",
      "[CV] max_features=auto, n_estimators=200 .............................\n",
      "[CV]  max_features=auto, n_estimators=200, accuracy=0.5801282051282052, precision=0.57875456707202, recall=0.5801282051282052, f1_score=0.578994366752839, total=   0.5s\n",
      "[Parallel(n_jobs=1)]: Done   2 out of   2 | elapsed:    1.3s remaining:    0.0s\n",
      "[CV] max_features=auto, n_estimators=700 .............................\n",
      "[CV]  max_features=auto, n_estimators=700, accuracy=0.6009615384615384, precision=0.5939490303563352, recall=0.6009615384615384, f1_score=0.5935548831719085, total=   1.7s\n",
      "[Parallel(n_jobs=1)]: Done   3 out of   3 | elapsed:    3.3s remaining:    0.0s\n",
      "[CV] max_features=auto, n_estimators=700 .............................\n",
      "[CV]  max_features=auto, n_estimators=700, accuracy=0.5817307692307693, precision=0.5765498057867953, recall=0.5817307692307693, f1_score=0.5788673273674719, total=   1.8s\n",
      "[Parallel(n_jobs=1)]: Done   4 out of   4 | elapsed:    5.5s remaining:    0.0s\n",
      "[CV] max_features=sqrt, n_estimators=200 .............................\n",
      "[CV]  max_features=sqrt, n_estimators=200, accuracy=0.6009615384615384, precision=0.5896129651240878, recall=0.6009615384615384, f1_score=0.5908105663898425, total=   0.7s\n",
      "[Parallel(n_jobs=1)]: Done   5 out of   5 | elapsed:    6.4s remaining:    0.0s\n",
      "[CV] max_features=sqrt, n_estimators=200 .............................\n",
      "[CV]  max_features=sqrt, n_estimators=200, accuracy=0.5801282051282052, precision=0.57875456707202, recall=0.5801282051282052, f1_score=0.578994366752839, total=   0.7s\n",
      "[Parallel(n_jobs=1)]: Done   6 out of   6 | elapsed:    7.2s remaining:    0.0s\n",
      "[CV] max_features=sqrt, n_estimators=700 .............................\n",
      "[CV]  max_features=sqrt, n_estimators=700, accuracy=0.6009615384615384, precision=0.5939490303563352, recall=0.6009615384615384, f1_score=0.5935548831719085, total=   1.7s\n",
      "[Parallel(n_jobs=1)]: Done   7 out of   7 | elapsed:    9.2s remaining:    0.0s\n",
      "[CV] max_features=sqrt, n_estimators=700 .............................\n",
      "[CV]  max_features=sqrt, n_estimators=700, accuracy=0.5817307692307693, precision=0.5765498057867953, recall=0.5817307692307693, f1_score=0.5788673273674719, total=   1.7s\n",
      "[Parallel(n_jobs=1)]: Done   8 out of   8 | elapsed:   11.3s remaining:    0.0s\n",
      "[CV] max_features=log2, n_estimators=200 .............................\n",
      "[CV]  max_features=log2, n_estimators=200, accuracy=0.5961538461538461, precision=0.588769833766666, recall=0.5961538461538461, f1_score=0.5878809728723997, total=   0.6s\n",
      "[Parallel(n_jobs=1)]: Done   9 out of   9 | elapsed:   12.0s remaining:    0.0s\n",
      "[CV] max_features=log2, n_estimators=200 .............................\n",
      "[CV]  max_features=log2, n_estimators=200, accuracy=0.5769230769230769, precision=0.5700776730050422, recall=0.5769230769230769, f1_score=0.5730887959120867, total=   0.5s\n",
      "[Parallel(n_jobs=1)]: Done  10 out of  10 | elapsed:   12.5s remaining:    0.0s\n",
      "[CV] max_features=log2, n_estimators=700 .............................\n",
      "[CV]  max_features=log2, n_estimators=700, accuracy=0.6025641025641025, precision=0.5962734891145416, recall=0.6025641025641025, f1_score=0.5948273178599396, total=   1.6s\n",
      "[Parallel(n_jobs=1)]: Done  11 out of  11 | elapsed:   14.5s remaining:    0.0s\n",
      "[CV] max_features=log2, n_estimators=700 .............................\n",
      "[CV]  max_features=log2, n_estimators=700, accuracy=0.5833333333333334, precision=0.578147285096365, recall=0.5833333333333334, f1_score=0.5805188985748392, total=   1.7s\n",
      "[Parallel(n_jobs=1)]: Done  12 out of  12 | elapsed:   16.5s remaining:    0.0s\n",
      "[Parallel(n_jobs=1)]: Done  12 out of  12 | elapsed:   16.5s finished\n"
     ]
    }
   ],
   "source": [
    "recall_scores = []\n",
    "iterations = 5\n",
    "for i in range(iterations):\n",
    "    print(\"\\r\"+\"{:.2f}%\".format(i*100/iterations), end = \"\")\n",
    "    \n",
    "    #split train test class by class\n",
    "    all_train,all_test = splitTrainTest(oversampling)\n",
    "    \n",
    "    #balance the train set\n",
    "    all_train= balance(all_train)\n",
    "    \n",
    "   \n",
    "\n",
    "    #train indices\n",
    "    trainIdx = all_train.index.get_level_values(\"ID\").unique()\n",
    "   \n",
    "    #remove originals that may have oversampled copies in train\n",
    "    all_test = all_test[~all_test.index.get_level_values(\"ID\").isin(trainIdx)]\n",
    "    \n",
    "    #balance test\n",
    "    all_test= balance(all_test)\n",
    "    \n",
    "    #format stuff\n",
    "    all_train.target= all_train.target.astype('int')\n",
    "    all_test.target= all_test.target.astype('int')\n",
    "    \n",
    "    model,params = rf()\n",
    "    grid_search = GridSearchCV(model, params, cv=StratifiedKFold(2), scoring=scorers(),\n",
    "                               refit='f1_score', return_train_score=True,verbose=100)\n",
    "    grid_search.fit(all_train[feats], all_train.target)\n",
    "    # Copy classifier\n",
    "    clf = grid_search\n",
    "    \n",
    "#     clf = RandomForestClassifier(n_estimators=200,random_state=0, class_weight='balanced')\n",
    "#     clf.fit(all_train[feats], all_train.target)\n",
    "\n",
    "#     print(type(all_test.target.unique()[0]))\n",
    "#     print(type(np.unique(clf.predict(all_test[feats]))[0]))\n",
    "#     recall_scores.append(recall_score(all_test.target,clf.predict(all_test[feats]).astype(int)))\n",
    "\n",
    "    scores = precision_recall_fscore_support(\n",
    "            all_test.target, clf.predict(all_test[feats]), average='weighted')\n",
    "#     print(scores)\n",
    "    recall_scores.append(scores)"
   ]
  },
  {
   "cell_type": "code",
   "execution_count": 21,
   "metadata": {},
   "outputs": [
    {
     "name": "stdout",
     "output_type": "stream",
     "text": [
      "[[0.592263094810602 0.5955882352941176 0.5896059460321981 None]\n",
      " [0.6280630397278087 0.6323529411764706 0.6289673068900327 None]\n",
      " [0.5912164424911183 0.5931372549019608 0.5892434848349312 None]\n",
      " [0.6239535559367974 0.6299019607843137 0.6232546848460983 None]\n",
      " [0.5918652156063229 0.5955882352941176 0.589796685468214 None]]\n",
      "0.6054722697145298\n",
      "0.6093137254901961\n",
      "0.6041736216142948\n"
     ]
    }
   ],
   "source": [
    "recall_scoresnp = np.array(recall_scores)\n",
    "# print(recall_scoresnp[:,1])\n",
    "print(recall_scoresnp)\n",
    "print(np.mean(recall_scoresnp[:,0]))\n",
    "print(np.mean(recall_scoresnp[:,1]))\n",
    "print(np.mean(recall_scoresnp[:,2]))"
   ]
  },
  {
   "cell_type": "code",
   "execution_count": 76,
   "metadata": {},
   "outputs": [
    {
     "data": {
      "text/plain": [
       "Text(0.5,0,'Recall scores')"
      ]
     },
     "execution_count": 76,
     "metadata": {},
     "output_type": "execute_result"
    },
    {
     "data": {
      "image/png": "[encoded data removed]",
      "text/plain": [
       "<matplotlib.figure.Figure at 0x7f2eb8b6e0f0>"
      ]
     },
     "metadata": {},
     "output_type": "display_data"
    }
   ],
   "source": [
    "recall_scoresnp = np.array(recall_scores)\n",
    "mean = np.mean(recall_scoresnp[:,1])\n",
    "plt.hist(recall_scoresnp[:,1],density=True)\n",
    "plt.plot([mean,mean],[0,1750],c='black',linestyle='--',label='mean={:.4f}'.format(mean))\n",
    "plt.legend()\n",
    "plt.title(\"No-Oversampling, N=100\")\n",
    "plt.xlabel('Recall scores')"
   ]
  },
  {
   "cell_type": "markdown",
   "metadata": {},
   "source": [
    "## With oversampling"
   ]
  },
  {
   "cell_type": "code",
   "execution_count": 55,
   "metadata": {},
   "outputs": [],
   "source": [
    "labels = ['SN', 'CV', 'AGN', 'HPM', 'Blazar', 'Flare']\n",
    "tran8 = tran.copy()\n",
    "tran8.loc[~tran8.Class.isin(labels), ['Class']] = 'Other'\n",
    "ntran8 = ntran.copy()\n",
    "\n",
    "\n",
    "\n",
    "\n",
    "all8 = pd.concat([tran8,ntran8])\n",
    "\n",
    "def manualFact(lab):\n",
    "    labels = ['SN', 'CV', 'AGN', 'HPM', 'Blazar', 'Flare','Other','non-transient']\n",
    "    return labels.index(lab)\n",
    "\n",
    "all8['target'] = list(map(lambda x: manualFact(x),all8['Class']))\n",
    "\n",
    "\n",
    "oversampling = all8.copy()\n",
    "# oversampling = oversampling[oversampling.index.get_level_values('copy_num')==0]\n",
    "\n",
    "oversampling = oversampling.sample(frac=1)\n",
    "\n",
    "# oversampling.Class = list(map(lambda x: 'non-transient' if x=='non-transient' else 'transient', oversampling.Class))\n",
    "\n",
    "# oversampling['target'] = list(map(lambda x: 1 if x=='transient' else 0, oversampling.Class))"
   ]
  },
  {
   "cell_type": "code",
   "execution_count": 56,
   "metadata": {},
   "outputs": [
    {
     "name": "stdout",
     "output_type": "stream",
     "text": [
      "0.00%Fitting 2 folds for each of 6 candidates, totalling 12 fits\n",
      "[CV] max_features=auto, n_estimators=200 .............................\n",
      "[CV]  max_features=auto, n_estimators=200, accuracy=0.7773892773892774, precision=0.7758281260858412, recall=0.7773892773892774, f1_score=0.7756763747488248, total=   5.2s\n",
      "[Parallel(n_jobs=1)]: Done   1 out of   1 | elapsed:    6.1s remaining:    0.0s\n",
      "[CV] max_features=auto, n_estimators=200 .............................\n",
      "[CV]  max_features=auto, n_estimators=200, accuracy=0.7797202797202797, precision=0.7790182837725214, recall=0.7797202797202797, f1_score=0.7779637118391869, total=   5.5s\n",
      "[Parallel(n_jobs=1)]: Done   2 out of   2 | elapsed:   12.6s remaining:    0.0s\n",
      "[CV] max_features=auto, n_estimators=700 .............................\n",
      "[CV]  max_features=auto, n_estimators=700, accuracy=0.7839452214452215, precision=0.7826772441646038, recall=0.7839452214452215, f1_score=0.7824298743495136, total=  20.9s\n",
      "[Parallel(n_jobs=1)]: Done   3 out of   3 | elapsed:   37.8s remaining:    0.0s\n",
      "[CV] max_features=auto, n_estimators=700 .............................\n",
      "[CV]  max_features=auto, n_estimators=700, accuracy=0.7840909090909091, precision=0.7835314153436533, recall=0.7840909090909091, f1_score=0.7824360137979353, total=  21.5s\n",
      "[Parallel(n_jobs=1)]: Done   4 out of   4 | elapsed:  1.1min remaining:    0.0s\n",
      "[CV] max_features=sqrt, n_estimators=200 .............................\n",
      "[CV]  max_features=sqrt, n_estimators=200, accuracy=0.7773892773892774, precision=0.7758281260858412, recall=0.7773892773892774, f1_score=0.7756763747488248, total=   5.2s\n",
      "[Parallel(n_jobs=1)]: Done   5 out of   5 | elapsed:  1.2min remaining:    0.0s\n",
      "[CV] max_features=sqrt, n_estimators=200 .............................\n",
      "[CV]  max_features=sqrt, n_estimators=200, accuracy=0.7797202797202797, precision=0.7790182837725214, recall=0.7797202797202797, f1_score=0.7779637118391869, total=   5.2s\n",
      "[Parallel(n_jobs=1)]: Done   6 out of   6 | elapsed:  1.3min remaining:    0.0s\n",
      "[CV] max_features=sqrt, n_estimators=700 .............................\n",
      "[CV]  max_features=sqrt, n_estimators=700, accuracy=0.7839452214452215, precision=0.7826772441646038, recall=0.7839452214452215, f1_score=0.7824298743495136, total=  18.5s\n",
      "[Parallel(n_jobs=1)]: Done   7 out of   7 | elapsed:  1.6min remaining:    0.0s\n",
      "[CV] max_features=sqrt, n_estimators=700 .............................\n",
      "[CV]  max_features=sqrt, n_estimators=700, accuracy=0.7840909090909091, precision=0.7835314153436533, recall=0.7840909090909091, f1_score=0.7824360137979353, total=  18.5s\n",
      "[Parallel(n_jobs=1)]: Done   8 out of   8 | elapsed:  2.0min remaining:    0.0s\n",
      "[CV] max_features=log2, n_estimators=200 .............................\n",
      "[CV]  max_features=log2, n_estimators=200, accuracy=0.7830710955710956, precision=0.7821886282560506, recall=0.7830710955710956, f1_score=0.7817429281520522, total=   4.5s\n",
      "[Parallel(n_jobs=1)]: Done   9 out of   9 | elapsed:  2.1min remaining:    0.0s\n",
      "[CV] max_features=log2, n_estimators=200 .............................\n",
      "[CV]  max_features=log2, n_estimators=200, accuracy=0.7763694638694638, precision=0.7755044168036256, recall=0.7763694638694638, f1_score=0.7745738308147443, total=   4.5s\n",
      "[Parallel(n_jobs=1)]: Done  10 out of  10 | elapsed:  2.1min remaining:    0.0s\n",
      "[CV] max_features=log2, n_estimators=700 .............................\n",
      "[CV]  max_features=log2, n_estimators=700, accuracy=0.7808857808857809, precision=0.7796595343869547, recall=0.7808857808857809, f1_score=0.7793835419139385, total=  17.3s\n",
      "[Parallel(n_jobs=1)]: Done  11 out of  11 | elapsed:  2.5min remaining:    0.0s\n",
      "[CV] max_features=log2, n_estimators=700 .............................\n",
      "[CV]  max_features=log2, n_estimators=700, accuracy=0.7805944055944056, precision=0.7801003905733105, recall=0.7805944055944056, f1_score=0.7790797507298959, total=  16.6s\n",
      "[Parallel(n_jobs=1)]: Done  12 out of  12 | elapsed:  2.8min remaining:    0.0s\n",
      "[Parallel(n_jobs=1)]: Done  12 out of  12 | elapsed:  2.8min finished\n",
      "['-', '-', '-', '-', '-', '-', '-', '-', '-', '-', '-', '-', '-', '-', '-', '-', '-', '-', '-', '-', '-', '-', '-', '-', '-', '-', '-', '-', '-', '-']\n",
      "(0.6687374895890404, 0.6671122994652406, 0.6652714080526803, None)\n",
      "['-', '-', '-', '-', '-', '-', '-', '-', '-', '-', '-', '-', '-', '-', '-', '-', '-', '-', '-', '-', '-', '-', '-', '-', '-', '-', '-', '-', '-', '-']\n"
     ]
    }
   ],
   "source": [
    "recall_scores = []\n",
    "iterations = 1\n",
    "for i in range(iterations):\n",
    "    print(\"\\r\"+\"{:.2f}%\".format(i*100/iterations), end = \"\")\n",
    "    \n",
    "    #split train test class by class\n",
    "    all_train,all_test = splitTrainTest(oversampling)\n",
    "    \n",
    "    #balance the train set\n",
    "    all_train= balance(all_train)\n",
    "    \n",
    "   \n",
    "\n",
    "    #train indices\n",
    "    trainIdx = all_train.index.get_level_values(\"ID\").unique()\n",
    "   \n",
    "    #remove originals that may have oversampled copies in train\n",
    "    all_test = all_test[~all_test.index.get_level_values(\"ID\").isin(trainIdx)]\n",
    "    \n",
    "    #balance test\n",
    "    all_test= balance(all_test)\n",
    "    \n",
    "    #format stuff\n",
    "    all_train.target= all_train.target.astype('int')\n",
    "    all_test.target= all_test.target.astype('int')\n",
    "    \n",
    "    model,params = rf()\n",
    "    grid_search = GridSearchCV(model, params, cv=StratifiedKFold(2), scoring=scorers(),\n",
    "                               refit='f1_score', return_train_score=True,verbose=100)\n",
    "    grid_search.fit(all_train[feats], all_train.target)\n",
    "    # Copy classifier\n",
    "    clf = grid_search\n",
    "    \n",
    "#     clf = RandomForestClassifier(n_estimators=200,random_state=0, class_weight='balanced')\n",
    "#     clf.fit(all_train[feats], all_train.target)\n",
    "\n",
    "#     print(type(all_test.target.unique()[0]))\n",
    "#     print(type(np.unique(clf.predict(all_test[feats]))[0]))\n",
    "#     recall_scores.append(recall_score(all_test.target,clf.predict(all_test[feats]).astype(int)))\n",
    "\n",
    "    scores = precision_recall_fscore_support(\n",
    "            all_test.target, clf.predict(all_test[feats]), average='weighted')\n",
    "    print(['-']*30)\n",
    "    print(scores)\n",
    "    print(['-']*30)\n",
    "    \n",
    "#     print(scores)\n",
    "    recall_scores.append(scores)"
   ]
  },
  {
   "cell_type": "code",
   "execution_count": 57,
   "metadata": {},
   "outputs": [
    {
     "data": {
      "text/plain": [
       "[(0.6687374895890404, 0.6671122994652406, 0.6652714080526803, None)]"
      ]
     },
     "execution_count": 57,
     "metadata": {},
     "output_type": "execute_result"
    }
   ],
   "source": [
    "recall_scores"
   ]
  },
  {
   "cell_type": "code",
   "execution_count": 58,
   "metadata": {},
   "outputs": [
    {
     "name": "stdout",
     "output_type": "stream",
     "text": [
      "[[299  64   7   0  89  21  75  15]\n",
      " [ 42 387   0   0  38  18  53   2]\n",
      " [ 14  16 423   3  58   4  65   6]\n",
      " [  5   5   0 498   0   4  10  30]\n",
      " [ 24  27  44   0 290   9  37   0]\n",
      " [ 43   8  18   1  13 392  35  34]\n",
      " [ 84  46  48   3  71  24 253  22]\n",
      " [ 50   8  21  56   2  89  33 452]]\n"
     ]
    }
   ],
   "source": [
    "confMatr = confusion_matrix(all_test.target, clf.predict(all_test[feats])).transpose()\n",
    "print(confMatr)\n",
    "# 'SN', 'CV', 'AGN', 'HPM', 'Blazar', 'Flare','Other','non-transient']"
   ]
  },
  {
   "cell_type": "code",
   "execution_count": 59,
   "metadata": {},
   "outputs": [
    {
     "name": "stdout",
     "output_type": "stream",
     "text": [
      "[299  64   7   0  89  21  75  15]\n"
     ]
    }
   ],
   "source": [
    "print(confMatr[0,:])"
   ]
  },
  {
   "cell_type": "code",
   "execution_count": 61,
   "metadata": {},
   "outputs": [],
   "source": [
    "newMatr = []\n",
    "for i in range(len(confMatr)):\n",
    "    prec = confMatr[i][i]/(sum(confMatr[i,:]))\n",
    "    rec = confMatr[i][i]/(sum(confMatr[:,i]))\n",
    "    newMatr.append([prec,rec,fMeasure(prec,rec),sum(confMatr[:,i])])"
   ]
  },
  {
   "cell_type": "code",
   "execution_count": 62,
   "metadata": {},
   "outputs": [
    {
     "data": {
      "text/plain": [
       "[[0.5245614035087719, 0.5329768270944741, 0.5287356321839081, 561],\n",
       " [0.7166666666666667, 0.6898395721925134, 0.7029972752043597, 561],\n",
       " [0.7181663837011885, 0.7540106951871658, 0.7356521739130435, 561],\n",
       " [0.9021739130434783, 0.8877005347593583, 0.894878706199461, 561],\n",
       " [0.6728538283062645, 0.5169340463458111, 0.5846774193548387, 561],\n",
       " [0.7205882352941176, 0.6987522281639929, 0.7095022624434388, 561],\n",
       " [0.4591651542649728, 0.45098039215686275, 0.4550359712230216, 561],\n",
       " [0.6357243319268636, 0.8057040998217468, 0.7106918238993712, 561]]"
      ]
     },
     "execution_count": 62,
     "metadata": {},
     "output_type": "execute_result"
    }
   ],
   "source": [
    "newMatr"
   ]
  },
  {
   "cell_type": "code",
   "execution_count": 63,
   "metadata": {},
   "outputs": [
    {
     "data": {
      "text/plain": [
       "4488"
      ]
     },
     "execution_count": 63,
     "metadata": {},
     "output_type": "execute_result"
    }
   ],
   "source": [
    "561*8"
   ]
  },
  {
   "cell_type": "code",
   "execution_count": null,
   "metadata": {},
   "outputs": [],
   "source": [
    "prin(recall_scores[:,0])"
   ]
  },
  {
   "cell_type": "code",
   "execution_count": 79,
   "metadata": {},
   "outputs": [
    {
     "data": {
      "text/plain": [
       "Text(0.5,0,'Recall scores')"
      ]
     },
     "execution_count": 79,
     "metadata": {},
     "output_type": "execute_result"
    },
    {
     "data": {
      "image/png": "[encoded data removed]",
      "text/plain": [
       "<matplotlib.figure.Figure at 0x7f2eb8b3d198>"
      ]
     },
     "metadata": {},
     "output_type": "display_data"
    }
   ],
   "source": [
    "recall_scoresnp = np.array(recall_scores)\n",
    "mean = np.mean(recall_scoresnp[:,1])\n",
    "plt.hist(recall_scoresnp[:,1],density=True)\n",
    "plt.plot([mean,mean],[0,1750],c='black',linestyle='--',label='mean={:.4f}'.format(mean))\n",
    "plt.legend()\n",
    "plt.title(\"No-Oversampling, N=100\")\n",
    "plt.xlabel('Recall scores')"
   ]
  },
  {
   "cell_type": "code",
   "execution_count": 137,
   "metadata": {},
   "outputs": [],
   "source": [
    "importances = clf.best_estimator_.feature_importances_*100\n",
    "featsCopy = feats.copy()\n",
    "\n",
    "Y = list(importances)\n",
    "X = list(featsCopy)\n",
    "\n",
    "yx = list(zip(Y, X))\n",
    "\n",
    "yx.sort()\n",
    "# yx = yx[::-1]\n",
    "yx = yx[::-1]\n",
    "\n",
    "\n",
    "\n",
    "x_sorted = [x for y, x in yx]\n",
    "y_sorted = [y for y, x in yx]\n"
   ]
  },
  {
   "cell_type": "code",
   "execution_count": 142,
   "metadata": {},
   "outputs": [],
   "source": [
    "x_sorted= ['stetson_j', 'sk', 'std', 'mad', 'poly2_t1', 'amp', 'p_amp', 'poly1_t1', 'pdfp', 'stetson_k', 'poly3_t1', 'max_slope', 'skew', 'poly4_t1', 'mbrp', 'kurtosis', 'fpr35', 'fpr20', 'fpr50', 'poly4_t2', 'beyond1st', 'pst_last30', 'fpr65', 'fpr80', 'pst', 'poly3_t2', 'poly2_t2', 'poly4_t3', 'poly3_t3', 'poly4_t4']"
   ]
  },
  {
   "cell_type": "code",
   "execution_count": 151,
   "metadata": {},
   "outputs": [
    {
     "name": "stdout",
     "output_type": "stream",
     "text": [
      "[8.574116054977369, 7.366270440695763, 6.476563826087944, 6.157664438852631, 5.230425155871289, 5.18984007523864, 5.161951278916753, 4.902587796617194, 4.134958419379865, 3.8187012190017944, 3.4155000480668183, 3.3741302109976696, 3.3210996926979384, 3.184676409056053, 2.8377083989278984, 2.6536311793252394, 2.5202381312336155, 2.4435521502026814, 2.3318983179279775, 2.2124406004339603, 2.166664465046709, 2.1359716376155022, 2.1214341656023183, 1.9046675235163644, 1.8876588414451996, 1.8849228519350014, 1.4587838553582608, 0.5014180032146563, 0.33831492357990944, 0.2922098881769914]\n"
     ]
    }
   ],
   "source": [
    "print(y_sorted)"
   ]
  },
  {
   "cell_type": "markdown",
   "metadata": {},
   "source": [
    "\n",
    "[8.574116054977369, 7.366270440695763, 6.476563826087944, 6.157664438852631, 5.230425155871289, 5.18984007523864, 5.161951278916753, 4.902587796617194, 4.134958419379865, 3.8187012190017944, 3.4155000480668183, 3.3741302109976696, 3.3210996926979384, 3.184676409056053, 2.8377083989278984, 2.6536311793252394, 2.5202381312336155, 2.4435521502026814, 2.3318983179279775, 2.2124406004339603, 2.166664465046709, 2.1359716376155022, 2.1214341656023183, 1.9046675235163644, 1.8876588414451996, 1.8849228519350014, 1.4587838553582608, 0.5014180032146563, 0.33831492357990944, 0.2922098881769914]"
   ]
  },
  {
   "cell_type": "code",
   "execution_count": 149,
   "metadata": {},
   "outputs": [
    {
     "name": "stderr",
     "output_type": "stream",
     "text": [
      "/home/mauro/anaconda3/lib/python3.6/site-packages/matplotlib/font_manager.py:1320: UserWarning: findfont: Font family ['Times New Roman'] not found. Falling back to DejaVu Sans\n",
      "  (prop.get_family(), self.defaultFamily[fontext]))\n"
     ]
    },
    {
     "data": {
      "image/png": "[encoded data removed]",
      "text/plain": [
       "<matplotlib.figure.Figure at 0x7ff39dcf9978>"
      ]
     },
     "metadata": {},
     "output_type": "display_data"
    }
   ],
   "source": [
    "# from matplotlib.font_manager import FontProperties\n",
    "# font = FontProperties()\n",
    "# font.set_family('sans-serif')\n",
    "# font.set_style('normal')\n",
    "\n",
    "plt.rcParams[\"font.family\"] = \"Times New Roman\"\n",
    "fig = plt.figure(figsize=(14,8))\n",
    "plt.gcf().subplots_adjust(bottom=0.15)\n",
    "plt.bar(np.arange(len(y_sorted)), y_sorted,edgecolor='black',color='#008000')\n",
    "plt.xticks(np.arange(len(y_sorted)), x_sorted,rotation='vertical')\n",
    "plt.xlabel('Features')\n",
    "plt.ylabel('Feature importance(%)')\n",
    "plt.title(\"8-Class Classification\")\n",
    "plt.savefig(\"8clasFeatImportance.pdf\")"
   ]
  },
  {
   "cell_type": "code",
   "execution_count": null,
   "metadata": {},
   "outputs": [],
   "source": []
  }
 ],
 "metadata": {
  "kernelspec": {
   "display_name": "Python 3",
   "language": "python",
   "name": "python3"
  },
  "language_info": {
   "codemirror_mode": {
    "name": "ipython",
    "version": 3
   },
   "file_extension": ".py",
   "mimetype": "text/x-python",
   "name": "python",
   "nbconvert_exporter": "python",
   "pygments_lexer": "ipython3",
   "version": "3.6.4"
  }
 },
 "nbformat": 4,
 "nbformat_minor": 2
}
